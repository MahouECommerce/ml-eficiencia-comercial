{
 "cells": [
  {
   "cell_type": "markdown",
   "metadata": {
    "application/vnd.databricks.v1+cell": {
     "cellMetadata": {
      "byteLimit": 2048000,
      "rowLimit": 10000
     },
     "inputWidgets": {},
     "nuid": "ddc8cd92-ba72-4fab-9b6a-1516a8785833",
     "showTitle": false,
     "title": ""
    }
   },
   "source": [
    "# Análisis descriptivo"
   ]
  },
  {
   "cell_type": "markdown",
   "metadata": {},
   "source": [
    "Imports\n"
   ]
  },
  {
   "cell_type": "code",
   "execution_count": 2,
   "metadata": {},
   "outputs": [],
   "source": [
    "import pandas as pd"
   ]
  },
  {
   "cell_type": "markdown",
   "metadata": {},
   "source": [
    "Carga de datos"
   ]
  },
  {
   "cell_type": "code",
   "execution_count": 3,
   "metadata": {},
   "outputs": [],
   "source": [
    "\n",
    "path = r'C:\\Users\\ctrujils\\order_detail_sorted_cluster.parquet'\n",
    "order_detail_sorted= pd.read_parquet(path)"
   ]
  },
  {
   "cell_type": "code",
   "execution_count": 77,
   "metadata": {},
   "outputs": [
    {
     "data": {
      "text/html": [
       "<div>\n",
       "<style scoped>\n",
       "    .dataframe tbody tr th:only-of-type {\n",
       "        vertical-align: middle;\n",
       "    }\n",
       "\n",
       "    .dataframe tbody tr th {\n",
       "        vertical-align: top;\n",
       "    }\n",
       "\n",
       "    .dataframe thead th {\n",
       "        text-align: right;\n",
       "    }\n",
       "</style>\n",
       "<table border=\"1\" class=\"dataframe\">\n",
       "  <thead>\n",
       "    <tr style=\"text-align: right;\">\n",
       "      <th>Origin</th>\n",
       "      <th>OFFLINE</th>\n",
       "      <th>Online</th>\n",
       "    </tr>\n",
       "    <tr>\n",
       "      <th>NameDistributor</th>\n",
       "      <th></th>\n",
       "      <th></th>\n",
       "    </tr>\n",
       "  </thead>\n",
       "  <tbody>\n",
       "    <tr>\n",
       "      <th>Bebicer</th>\n",
       "      <td>5,439,529.71</td>\n",
       "      <td>25,611.15</td>\n",
       "    </tr>\n",
       "    <tr>\n",
       "      <th>Ceres</th>\n",
       "      <td>13,192,922.44</td>\n",
       "      <td>NaN</td>\n",
       "    </tr>\n",
       "    <tr>\n",
       "      <th>Voldis Baleares</th>\n",
       "      <td>NaN</td>\n",
       "      <td>1,850,482.35</td>\n",
       "    </tr>\n",
       "    <tr>\n",
       "      <th>Voldis Coruña</th>\n",
       "      <td>9,283,093.66</td>\n",
       "      <td>843,816.33</td>\n",
       "    </tr>\n",
       "    <tr>\n",
       "      <th>Voldis Granada</th>\n",
       "      <td>27,248,345.83</td>\n",
       "      <td>2,458,670.21</td>\n",
       "    </tr>\n",
       "    <tr>\n",
       "      <th>Voldis Madrid</th>\n",
       "      <td>57,662,859.90</td>\n",
       "      <td>3,893,637.30</td>\n",
       "    </tr>\n",
       "    <tr>\n",
       "      <th>Voldis Murcia</th>\n",
       "      <td>221,970.85</td>\n",
       "      <td>1,170,011.37</td>\n",
       "    </tr>\n",
       "    <tr>\n",
       "      <th>Voldis Valencia</th>\n",
       "      <td>13,623,363.96</td>\n",
       "      <td>2,325,648.43</td>\n",
       "    </tr>\n",
       "  </tbody>\n",
       "</table>\n",
       "</div>"
      ],
      "text/plain": [
       "Origin                OFFLINE       Online\n",
       "NameDistributor                           \n",
       "Bebicer          5,439,529.71    25,611.15\n",
       "Ceres           13,192,922.44          NaN\n",
       "Voldis Baleares           NaN 1,850,482.35\n",
       "Voldis Coruña    9,283,093.66   843,816.33\n",
       "Voldis Granada  27,248,345.83 2,458,670.21\n",
       "Voldis Madrid   57,662,859.90 3,893,637.30\n",
       "Voldis Murcia      221,970.85 1,170,011.37\n",
       "Voldis Valencia 13,623,363.96 2,325,648.43"
      ]
     },
     "execution_count": 77,
     "metadata": {},
     "output_type": "execute_result"
    }
   ],
   "source": [
    "pd.options.display.float_format ='{:,.2f}'.format\n",
    "order_detail_sorted.pivot_table(index='NameDistributor', columns='Origin', values='Sellout', aggfunc='sum')"
   ]
  },
  {
   "cell_type": "code",
   "execution_count": 4,
   "metadata": {},
   "outputs": [],
   "source": [
    "maestro_cliente_path = r'C:\\Users\\ctrujils\\maestro_clientes_12UM_cluster.parquet'\n",
    "maestro_clientes = pd.read_parquet(maestro_cliente_path)"
   ]
  },
  {
   "cell_type": "code",
   "execution_count": 5,
   "metadata": {},
   "outputs": [
    {
     "data": {
      "text/plain": [
       "(689818, 24)"
      ]
     },
     "execution_count": 5,
     "metadata": {},
     "output_type": "execute_result"
    }
   ],
   "source": [
    "order_detail_sorted.shape"
   ]
  },
  {
   "cell_type": "markdown",
   "metadata": {},
   "source": [
    "### Filtros aplicados"
   ]
  },
  {
   "cell_type": "code",
   "execution_count": 6,
   "metadata": {
    "application/vnd.databricks.v1+cell": {
     "cellMetadata": {
      "byteLimit": 2048000,
      "rowLimit": 10000
     },
     "inputWidgets": {},
     "nuid": "7e8b1291-3724-4738-8bd6-9248fbed6e66",
     "showTitle": false,
     "title": ""
    }
   },
   "outputs": [],
   "source": [
    "order_detail_sorted=order_detail_sorted[order_detail_sorted['Sellout']>0]"
   ]
  },
  {
   "cell_type": "markdown",
   "metadata": {},
   "source": [
    "## Análisis general segmentación, sellout, cupones"
   ]
  },
  {
   "cell_type": "markdown",
   "metadata": {},
   "source": [
    "Puntos de venta totales en muestra"
   ]
  },
  {
   "cell_type": "code",
   "execution_count": 7,
   "metadata": {},
   "outputs": [
    {
     "data": {
      "text/plain": [
       "20994"
      ]
     },
     "execution_count": 7,
     "metadata": {},
     "output_type": "execute_result"
    }
   ],
   "source": [
    "order_detail_sorted['PointOfSaleId'].nunique()"
   ]
  },
  {
   "cell_type": "markdown",
   "metadata": {},
   "source": [
    "Puntos de venta por cluster"
   ]
  },
  {
   "cell_type": "markdown",
   "metadata": {},
   "source": [
    "* Cluster -1 : clientes inactivos\n",
    "* Cluster 0 :  clientes regulares\n",
    "* Cluster 1 : clientes esporádicos\n",
    "* Cluster 2 : clientes premiun\n",
    "* No Clusterizado"
   ]
  },
  {
   "cell_type": "code",
   "execution_count": 8,
   "metadata": {},
   "outputs": [],
   "source": [
    "maestro_clientes['Cluster']=maestro_clientes['Cluster'].fillna('No Cluster')\n",
    "order_detail_sorted['Cluster']=order_detail_sorted['Cluster'].fillna('No Cluster')"
   ]
  },
  {
   "cell_type": "code",
   "execution_count": 9,
   "metadata": {},
   "outputs": [
    {
     "data": {
      "text/html": [
       "<div>\n",
       "<style scoped>\n",
       "    .dataframe tbody tr th:only-of-type {\n",
       "        vertical-align: middle;\n",
       "    }\n",
       "\n",
       "    .dataframe tbody tr th {\n",
       "        vertical-align: top;\n",
       "    }\n",
       "\n",
       "    .dataframe thead th {\n",
       "        text-align: right;\n",
       "    }\n",
       "</style>\n",
       "<table border=\"1\" class=\"dataframe\">\n",
       "  <thead>\n",
       "    <tr style=\"text-align: right;\">\n",
       "      <th></th>\n",
       "      <th>Cluster</th>\n",
       "      <th>Count</th>\n",
       "    </tr>\n",
       "  </thead>\n",
       "  <tbody>\n",
       "    <tr>\n",
       "      <th>0</th>\n",
       "      <td>-1.0</td>\n",
       "      <td>1979</td>\n",
       "    </tr>\n",
       "    <tr>\n",
       "      <th>1</th>\n",
       "      <td>0.0</td>\n",
       "      <td>4545</td>\n",
       "    </tr>\n",
       "    <tr>\n",
       "      <th>2</th>\n",
       "      <td>1.0</td>\n",
       "      <td>5070</td>\n",
       "    </tr>\n",
       "    <tr>\n",
       "      <th>3</th>\n",
       "      <td>2.0</td>\n",
       "      <td>2286</td>\n",
       "    </tr>\n",
       "    <tr>\n",
       "      <th>4</th>\n",
       "      <td>No Cluster</td>\n",
       "      <td>9809</td>\n",
       "    </tr>\n",
       "  </tbody>\n",
       "</table>\n",
       "</div>"
      ],
      "text/plain": [
       "      Cluster  Count\n",
       "0        -1.0   1979\n",
       "1         0.0   4545\n",
       "2         1.0   5070\n",
       "3         2.0   2286\n",
       "4  No Cluster   9809"
      ]
     },
     "execution_count": 9,
     "metadata": {},
     "output_type": "execute_result"
    }
   ],
   "source": [
    "pdv_por_cluster = maestro_clientes.groupby('Cluster').size().reset_index(name='Count')\n",
    "\n",
    "pdv_por_cluster"
   ]
  },
  {
   "cell_type": "code",
   "execution_count": 10,
   "metadata": {},
   "outputs": [
    {
     "data": {
      "text/html": [
       "<div>\n",
       "<style scoped>\n",
       "    .dataframe tbody tr th:only-of-type {\n",
       "        vertical-align: middle;\n",
       "    }\n",
       "\n",
       "    .dataframe tbody tr th {\n",
       "        vertical-align: top;\n",
       "    }\n",
       "\n",
       "    .dataframe thead th {\n",
       "        text-align: right;\n",
       "    }\n",
       "</style>\n",
       "<table border=\"1\" class=\"dataframe\">\n",
       "  <thead>\n",
       "    <tr style=\"text-align: right;\">\n",
       "      <th></th>\n",
       "      <th>abc</th>\n",
       "      <th>Count</th>\n",
       "    </tr>\n",
       "  </thead>\n",
       "  <tbody>\n",
       "    <tr>\n",
       "      <th>0</th>\n",
       "      <td>A</td>\n",
       "      <td>2075</td>\n",
       "    </tr>\n",
       "    <tr>\n",
       "      <th>1</th>\n",
       "      <td>B</td>\n",
       "      <td>4153</td>\n",
       "    </tr>\n",
       "    <tr>\n",
       "      <th>2</th>\n",
       "      <td>C</td>\n",
       "      <td>6211</td>\n",
       "    </tr>\n",
       "    <tr>\n",
       "      <th>3</th>\n",
       "      <td>D</td>\n",
       "      <td>8156</td>\n",
       "    </tr>\n",
       "  </tbody>\n",
       "</table>\n",
       "</div>"
      ],
      "text/plain": [
       "  abc  Count\n",
       "0   A   2075\n",
       "1   B   4153\n",
       "2   C   6211\n",
       "3   D   8156"
      ]
     },
     "execution_count": 10,
     "metadata": {},
     "output_type": "execute_result"
    }
   ],
   "source": [
    "pdv_por_facturacion = maestro_clientes.groupby('abc').size().reset_index(name='Count')\n",
    "\n",
    "pdv_por_facturacion"
   ]
  },
  {
   "cell_type": "markdown",
   "metadata": {},
   "source": [
    "OFFLINE/ONLINE"
   ]
  },
  {
   "cell_type": "code",
   "execution_count": 11,
   "metadata": {},
   "outputs": [],
   "source": [
    "# Eliminar duplicados para quedarnos solo con una fila única por cada 'PointOfSaleId'\n",
    "order_detail_sorted_unique= order_detail_sorted.drop_duplicates(subset='PointOfSaleId', keep='first')\n",
    "\n",
    "# # Mostrar el resultado para confirmar que solo quedan los puntos de venta únicos\n",
    "# print(f\"Total de puntos de venta únicos: {order_detail_sorted_unique['PointOfSaleId'].nunique()}\")\n"
   ]
  },
  {
   "cell_type": "code",
   "execution_count": 12,
   "metadata": {},
   "outputs": [
    {
     "data": {
      "text/html": [
       "<div>\n",
       "<style scoped>\n",
       "    .dataframe tbody tr th:only-of-type {\n",
       "        vertical-align: middle;\n",
       "    }\n",
       "\n",
       "    .dataframe tbody tr th {\n",
       "        vertical-align: top;\n",
       "    }\n",
       "\n",
       "    .dataframe thead th {\n",
       "        text-align: right;\n",
       "    }\n",
       "</style>\n",
       "<table border=\"1\" class=\"dataframe\">\n",
       "  <thead>\n",
       "    <tr style=\"text-align: right;\">\n",
       "      <th></th>\n",
       "      <th>Origin</th>\n",
       "      <th>Count</th>\n",
       "    </tr>\n",
       "  </thead>\n",
       "  <tbody>\n",
       "    <tr>\n",
       "      <th>0</th>\n",
       "      <td>OFFLINE</td>\n",
       "      <td>18108</td>\n",
       "    </tr>\n",
       "    <tr>\n",
       "      <th>1</th>\n",
       "      <td>Online</td>\n",
       "      <td>2886</td>\n",
       "    </tr>\n",
       "  </tbody>\n",
       "</table>\n",
       "</div>"
      ],
      "text/plain": [
       "    Origin  Count\n",
       "0  OFFLINE  18108\n",
       "1   Online   2886"
      ]
     },
     "execution_count": 12,
     "metadata": {},
     "output_type": "execute_result"
    }
   ],
   "source": [
    "\n",
    "pdv_por_Origen= order_detail_sorted_unique.groupby('Origin').size().reset_index(name='Count')   ### CAMBIAR\n",
    "pdv_por_Origen"
   ]
  },
  {
   "cell_type": "code",
   "execution_count": 66,
   "metadata": {},
   "outputs": [
    {
     "data": {
      "text/plain": [
       "Origin\n",
       "OFFLINE    229.846088\n",
       "Online     301.171271\n",
       "Name: Sellout, dtype: float64"
      ]
     },
     "execution_count": 66,
     "metadata": {},
     "output_type": "execute_result"
    }
   ],
   "source": [
    "sellout_origen = order_detail_sorted.groupby('Origin')['Sellout'].mean()\n",
    "sellout_origen"
   ]
  },
  {
   "cell_type": "code",
   "execution_count": 13,
   "metadata": {},
   "outputs": [
    {
     "data": {
      "text/html": [
       "<div>\n",
       "<style scoped>\n",
       "    .dataframe tbody tr th:only-of-type {\n",
       "        vertical-align: middle;\n",
       "    }\n",
       "\n",
       "    .dataframe tbody tr th {\n",
       "        vertical-align: top;\n",
       "    }\n",
       "\n",
       "    .dataframe thead th {\n",
       "        text-align: right;\n",
       "    }\n",
       "</style>\n",
       "<table border=\"1\" class=\"dataframe\">\n",
       "  <thead>\n",
       "    <tr style=\"text-align: right;\">\n",
       "      <th></th>\n",
       "      <th>Cluster</th>\n",
       "      <th>Origin</th>\n",
       "      <th>Count</th>\n",
       "    </tr>\n",
       "  </thead>\n",
       "  <tbody>\n",
       "    <tr>\n",
       "      <th>0</th>\n",
       "      <td>-1.0</td>\n",
       "      <td>OFFLINE</td>\n",
       "      <td>1015</td>\n",
       "    </tr>\n",
       "    <tr>\n",
       "      <th>1</th>\n",
       "      <td>0.0</td>\n",
       "      <td>OFFLINE</td>\n",
       "      <td>3879</td>\n",
       "    </tr>\n",
       "    <tr>\n",
       "      <th>2</th>\n",
       "      <td>1.0</td>\n",
       "      <td>OFFLINE</td>\n",
       "      <td>2416</td>\n",
       "    </tr>\n",
       "    <tr>\n",
       "      <th>3</th>\n",
       "      <td>2.0</td>\n",
       "      <td>OFFLINE</td>\n",
       "      <td>2192</td>\n",
       "    </tr>\n",
       "    <tr>\n",
       "      <th>4</th>\n",
       "      <td>No Cluster</td>\n",
       "      <td>OFFLINE</td>\n",
       "      <td>8606</td>\n",
       "    </tr>\n",
       "    <tr>\n",
       "      <th>5</th>\n",
       "      <td>No Cluster</td>\n",
       "      <td>Online</td>\n",
       "      <td>2886</td>\n",
       "    </tr>\n",
       "  </tbody>\n",
       "</table>\n",
       "</div>"
      ],
      "text/plain": [
       "      Cluster   Origin  Count\n",
       "0        -1.0  OFFLINE   1015\n",
       "1         0.0  OFFLINE   3879\n",
       "2         1.0  OFFLINE   2416\n",
       "3         2.0  OFFLINE   2192\n",
       "4  No Cluster  OFFLINE   8606\n",
       "5  No Cluster   Online   2886"
      ]
     },
     "execution_count": 13,
     "metadata": {},
     "output_type": "execute_result"
    }
   ],
   "source": [
    "pdvs_por_cluster_origin = order_detail_sorted_unique.groupby(['Cluster', 'Origin'])['PointOfSaleId'].nunique().reset_index(name='Count')\n",
    "\n",
    "# Mostrar el resultado\n",
    "pdvs_por_cluster_origin   ### revisar"
   ]
  },
  {
   "cell_type": "markdown",
   "metadata": {},
   "source": [
    "Sellout media € / cluster"
   ]
  },
  {
   "cell_type": "code",
   "execution_count": 14,
   "metadata": {},
   "outputs": [
    {
     "data": {
      "text/html": [
       "<div>\n",
       "<style scoped>\n",
       "    .dataframe tbody tr th:only-of-type {\n",
       "        vertical-align: middle;\n",
       "    }\n",
       "\n",
       "    .dataframe tbody tr th {\n",
       "        vertical-align: top;\n",
       "    }\n",
       "\n",
       "    .dataframe thead th {\n",
       "        text-align: right;\n",
       "    }\n",
       "</style>\n",
       "<table border=\"1\" class=\"dataframe\">\n",
       "  <thead>\n",
       "    <tr style=\"text-align: right;\">\n",
       "      <th></th>\n",
       "      <th>Cluster</th>\n",
       "      <th>Average_Sellout</th>\n",
       "    </tr>\n",
       "  </thead>\n",
       "  <tbody>\n",
       "    <tr>\n",
       "      <th>0</th>\n",
       "      <td>-1.0</td>\n",
       "      <td>240.312034</td>\n",
       "    </tr>\n",
       "    <tr>\n",
       "      <th>1</th>\n",
       "      <td>0.0</td>\n",
       "      <td>139.354499</td>\n",
       "    </tr>\n",
       "    <tr>\n",
       "      <th>2</th>\n",
       "      <td>1.0</td>\n",
       "      <td>197.061014</td>\n",
       "    </tr>\n",
       "    <tr>\n",
       "      <th>3</th>\n",
       "      <td>2.0</td>\n",
       "      <td>343.188568</td>\n",
       "    </tr>\n",
       "    <tr>\n",
       "      <th>4</th>\n",
       "      <td>No Cluster</td>\n",
       "      <td>201.463906</td>\n",
       "    </tr>\n",
       "  </tbody>\n",
       "</table>\n",
       "</div>"
      ],
      "text/plain": [
       "      Cluster  Average_Sellout\n",
       "0        -1.0       240.312034\n",
       "1         0.0       139.354499\n",
       "2         1.0       197.061014\n",
       "3         2.0       343.188568\n",
       "4  No Cluster       201.463906"
      ]
     },
     "execution_count": 14,
     "metadata": {},
     "output_type": "execute_result"
    }
   ],
   "source": [
    "# Agrupar por 'Cluster' y calcular la media de 'Sellout'\n",
    "sellout_media_por_cluster = order_detail_sorted.groupby('Cluster')['Sellout'].mean().reset_index(name='Average_Sellout')\n",
    "\n",
    "# Mostrar el resultado\n",
    "sellout_media_por_cluster\n"
   ]
  },
  {
   "cell_type": "markdown",
   "metadata": {},
   "source": [
    "Uso de Cupones/ Compras totales por Tipologia %"
   ]
  },
  {
   "cell_type": "code",
   "execution_count": 15,
   "metadata": {},
   "outputs": [
    {
     "data": {
      "text/plain": [
       "array([None, 'BIENVENIDA20', 'SEGUNDOPEDIDO15%', 'TERCERPEDIDO15E',\n",
       "       'CUARTOPEDIDO10E', 'Bienvenida20', 'Segundopedido15%', 'Final10E',\n",
       "       'Voldis15%', 'Mereces15', 'FINAL10E', 'MERECES15', 'VOLDIS15%',\n",
       "       'HAPPY10', 'HISTORIAS10', 'Final10e', 'Mereces15 ',\n",
       "       'BIENVENIDA20%7E', 'VOLDIS15E', 'CERVEZA15', 'BIENVENIDA20%PT',\n",
       "       'VOLDIS10E', 'BiENVENIDA20', 'SANPATRICIO15', 'PASCUA15',\n",
       "       'Primavera20', 'Verano15', 'Bar10', 'BAR10', 'REGRESO20',\n",
       "       'CALABAZA20', 'PRIMAVERA20E', 'VOlDIS15%', 'Regreso20',\n",
       "       'voldis15%', 'ene-10', 'CUPIDO20', 'Final10', 'VERANO15',\n",
       "       'Cerveza15', 'Voldis15e', 'Happy10', 'Historias10',\n",
       "       'REGALO20J7PD5', 'Calabaza20', 'FINAL10', 'REGALO20E2UWI',\n",
       "       'FINAL10EG3SR', 'BAR10 ', 'REGRESO20 ', 'bienvenida20',\n",
       "       'cerveza15', 'PRIMAVERA20', 'NAVIBAR20', 'bar10', 'voldis15E',\n",
       "       'VUELVE10', 'AÑONUEVO15', 'voldis15e', 'CALABAZA20 ', 'Voldis15E',\n",
       "       'VOLDIS15e', 'calabaza20', 'happy10', 'BAR10ZDN4QPD1L7N6',\n",
       "       'SANPATRICIO15E', 'REGALO20N1L67', 'REGALO20LTY5V', 'Voldis10e',\n",
       "       'VOLDIs15%', 'AÑONUEVO156ORLN', 'NAVIBAR20TSMLA', 'VOLdIS10E',\n",
       "       'Sanpatricio15', 'Sanpatricio15e', 'NAVIDAD20',\n",
       "       'PRIMAVERA20E58Q5N', 'Regreso20 ', 'voldis10e', 'mereces15',\n",
       "       'primavera20', 'Cupido20', 'Pascua15', 'Sanpatricio15E',\n",
       "       'Primavera20E', 'AÑONUEVO150J8YT', 'REGALO20WLPG3', 'Voldis15e ',\n",
       "       'Primavera20e', 'Bienvenida20 ', 'FINAL10EX0GY2A', 'verano15',\n",
       "       'Regalo20q50a7', 'Voldis10E', 'FINAL10E ', 'regreso20',\n",
       "       'REGRESO20BWR92AFU8H', 'REGALO20NX7P0', 'BIENVENIDA20%BZ',\n",
       "       'Regresó20', 'Calabaza20 ', 'VOlDIS15%TXM', 'sanpatricio15e',\n",
       "       'final10', 'Añonuevo15', 'Navibar20', 'primavera20E',\n",
       "       'CORONAGRATIS', 'VoLDIS15E', 'AÑONUEVO1577BMO',\n",
       "       'BIENVENIDA20%XV4A', 'REGALO20LHVUU', 'BIENVENIDA20DTO',\n",
       "       'Bienvenida20dto', 'BIENVENIDA20dto', 'PRIMAVERA20EME0XE',\n",
       "       'VOlDIS15E', 'añonuevo15', 'BIENVENIDA20DTO ', 'PRIMAVERA20E462DA',\n",
       "       'PRIMAVERA20EILCG6', 'bienvenida20dto', 'sanpatricio15',\n",
       "       'VOLDIS10e', 'final10e', 'mereceS15', 'HAPPY10 ', 'primavera20e',\n",
       "       'Bienvenida20dto ', 'FInal10E', 'VOldis15%', 'MERECES15IS2MJ',\n",
       "       'NAVIBAR20 ', 'FINAL10EEUWBU0', 'NaviBar20', 'ANONUEVO15',\n",
       "       'FINAL10EVXL997', 'FINAL10E2X4KMG', 'Pascua20', 'historias10',\n",
       "       'PASCUA20', 'Primavera20lyk6e5', 'PASCUA20JT5SY3', 'mereces15 ',\n",
       "       'MERECES15UBF7J', 'Mereces15TNW98', 'PASCUA20TZC95Y',\n",
       "       'Primavera20k7k1tk', 'Verano15 ', 'PRIMAVERA20E ', 'REGALO20SKQEV',\n",
       "       'CUPIDO20 ', 'Vuelve10', 'HISTORIAS10LGX24', 'PASCUA20BXU294',\n",
       "       'FINAL10EQRKW13', 'SANPATRICIO15E0GUO', 'REGALO20NGQ7S',\n",
       "       'Primavera20 ', 'Final10E0XM75A', 'pascua203M3XC7',\n",
       "       'SANPATRiCIO15E', 'sanpatricio15E', 'Sanpatricio15E8U7H',\n",
       "       'PASCUA20GBNR41', 'FINAL10EVIQZEB', 'Coronagratis',\n",
       "       'PRIMAVERA20EZQIB9', 'Navidad20', 'PASCUA20HTL4ZJ', 'CUpiDO20',\n",
       "       'VERANO15 ', 'SANPATRICIO15 ', 'VOLDIS106QVGN', 'SANPATRICIO15E ',\n",
       "       'MERECES15 ', 'pascua20', 'Mereces15whiag', 'FINAL10EGU0D7V',\n",
       "       'SanPatricio15e', 'Mereces15ujafr', 'Pascua20ezuzvl',\n",
       "       'Pascua206bnz42', 'Mereces15at9ou', 'PRIMAVERA20EZLENB',\n",
       "       'PRIMAVERA20EBFG3S', 'SAnpatricio15E', 'FINAL10E7MWH',\n",
       "       'REGALO20GKR48', 'CERVEZA1508I3B10KUO', 'Primavera20M9CDWP',\n",
       "       'Historias1095lw2', 'HISTORIAS101M03W', 'REGALO20R4KIH',\n",
       "       'Sanpatricio15e6ing', 'voldis10E', 'SANPATRICIO15EFDJX',\n",
       "       'Final10E ', 'PASCUA20GBF1XD', 'CERVEZA15A77OCTAJNK',\n",
       "       'REGALO20PGCJG', 'REGALO20SJ28L', 'REGALO20RY7M8',\n",
       "       'Pascua20116RYB', 'FINAL10EG38BTO', 'Pascua20ba7fzj', 'FINAL10 ',\n",
       "       'Cerveza15 ', 'Mereces15BKS7T', 'Mereces15bnevn',\n",
       "       'Primavera20m4akc8', 'SANPATRICIO15ORVU', 'Sanpatricio15E  ',\n",
       "       'cupido20', 'BLACKFRIDAY20OA', 'PASCUA20F60037', 'FINAL10e',\n",
       "       'MERECES155D2GD', 'FINAL10ECDPS', 'SanPatricio15', 'FINAl10',\n",
       "       'FINAL10E1XJV2J', 'Mereces15EUEJG', 'Sanpatricio15eiol2',\n",
       "       'Ańonuevo15482c5', 'PASCUA20FUOPE5', 'PRIMAVERA20EFPWR0',\n",
       "       'PASCUA205APN4P', 'PASCUA20RHVKQ4', 'FINAl10E',\n",
       "       'Descuento E-commerce PASCUA20', 'Mereces1599fxq',\n",
       "       'PASCUA209VMO4N', 'VOLDIS15Q1U2M', 'navibar20', 'HISTORIAS106XU6S',\n",
       "       'VOLDIS15IMF2J', 'PASCUA20OSZQVI', 'PASCUA20QFSSJW', 'NAViBar20',\n",
       "       'HISTORIAS10DPMCQ', 'final10E', 'PASCUA20D1N2L', 'PASCUA20UY91EY',\n",
       "       'MERECES15GQSED', 'Cuponcupido20', 'Happy10 ', 'HISTORIAS10 ',\n",
       "       'PASCUA2095QPUE', 'HISTORIAS10FL96X', 'HISTORIAS10USXMH',\n",
       "       'REGRESO20FU2306F2JC', 'HAPPY10JKNU4CQXTE3S',\n",
       "       'Happy106SHC9Y0TZJ4S', 'MERECES15QP721', 'MERECES15F75B7',\n",
       "       'REGRESO20J4GEEHEBQH', 'BIENVENIDA20%JR4Z', 'Historias10 ',\n",
       "       'REGALO205ODOX', 'REGALO20FOJPO', 'Primavera20E ',\n",
       "       'VERANO15KPY2EB1P1A', 'historias10FGJ4I', 'REGALO20FOGV6',\n",
       "       'FINAL10EWCBL', 'Anonuevo15', 'VOLDIS155A8L5', 'AÑoNUEVO15',\n",
       "       'NAViBAR20', 'HISTORIAS10I3E2X', 'pascua15', 'SanPatricio15E',\n",
       "       'Historias10Lserx', 'Historias10BICU1', 'Pascua20LUDLWI',\n",
       "       'Añonuevo15v1tax', 'HISTORIAS109VYFE', 'PASCUA20WJATCE',\n",
       "       'Final10EW8UQRB', 'CERVEZA150QUVQ7797G', 'REGRESO20T6B2JAKXJX',\n",
       "       'CERVEZA15EZ0OGH4J33', 'REGRESO20A6UUEAJPDS',\n",
       "       'REGRESO20ZB4XK4RBNP', 'PASCUA20X4WVW8', 'VERANO15PMD8DBP40U',\n",
       "       'Voldıs15e', 'VOLDIS15M5JXO', 'Final10ez5euog', 'PASCUA20UCYQ1Z',\n",
       "       'HISTORIAS10DDIUM', 'BIENVENIDA20%XB95', 'AñoNUEVO15', 'verano15 ',\n",
       "       'HISTORIAS10W9DFZ', 'PASCUA2046J3Z6', 'FINAL10EHQPB', 'FiNAL10E',\n",
       "       'fINAL10', 'BIENVENIDA20%39', 'Navibar20 ', 'BIENVENIDA20%T5NR',\n",
       "       'NAVIBAR20JDS5W', 'NAVIBAR20AXP7X', 'PRIMAVera20E',\n",
       "       'VOLDIS15EEQQP8', 'VOLDIS102MHNC', 'FINAL10A362D7YKZ81U',\n",
       "       'CeRVEZA15', 'HiSTORIAS10', 'PRIMAVERA20ECIEQM', 'FINAL10EPSG9',\n",
       "       'FINAL10EY9026C', 'FINAL10EETWO', 'HISTORIAS108P4TQ',\n",
       "       'VERANO156YTAQ10GK5', 'HISTORIAS10K6ENK', 'VOLDIS15%7SY',\n",
       "       'HAPPY10PVCDU', 'PRIMAVERA20 ', 'MERECES15QDCPA', 'BARROJA',\n",
       "       'Historias10xo7ry', 'Sanpatricio15ermad', 'SANPATRICIO15EV4UGA',\n",
       "       'Sanpatricio15e9fm1b', 'Regalo207f8nm', 'REGALO20TD80R',\n",
       "       'REGALO20C14WZ', 'REGALO20HIKLK', 'REGALO206JMX2',\n",
       "       'HISTORIAS10TUZYF', 'MERECES159JTQQ', 'PASCUA20Q2GTR3', 'Bar10 ',\n",
       "       'CUPONENERO10', 'REGALO20VK0HW', 'VOLDIS15EPB8NG',\n",
       "       'NAVIBAR20N13TT', 'PRIMAVERA20e', 'CALABAZA20N4K1H',\n",
       "       'NAVIBAR20J24U6', 'REGALO20L1A8Q', 'REGALO206FVKL',\n",
       "       'Sanpatricio15E ', 'REGALO203VRGO', 'Regalo20F44YU',\n",
       "       'NAVIBAR20AHQO1', 'FINAL10EXXNOOP', 'AÑONUEVO154WXIJ',\n",
       "       'PRIMAVERA20CJ11LI', 'VOLDIS15L3KMH',\n",
       "       'Descuento E-commerce MERECES15', 'VOLDIS150Y9F4', 'FALLAS15',\n",
       "       'AŃoNUEVO15', 'Fallas15', 'VOLDIS155GR6O', 'VOLDIS15BURHE',\n",
       "       'Final10ev64htd', 'Final10e2s5fl5', 'Mereces15953OM',\n",
       "       'VOLDIS153W1LV', 'VERANO15UOBGGZ5K0D', 'REGALO20NZ2HK',\n",
       "       'BIENVENIDA20%', 'AÑonuevo15', 'VOLDIS15DRM3K', 'VOLDIS15URBQ6',\n",
       "       'REGALO20EFRXC', 'vuelve10', 'VOLDIS15PZBZA', 'VOLDIS15HC6Z8',\n",
       "       'PASCUA15SWAGOVBXYV', 'PRIMAVERA20XT4CH7', 'BIENVENIDA20%ME7R',\n",
       "       'BIENVENIDA20 ', 'VOLDIS15INFWT', 'PRimavera20', 'VOLDIS15MR0WE',\n",
       "       'BIENVENIDA20%H1N8', 'REGALO20AN4YB', 'fallas15', 'VOLDIS15XATPH',\n",
       "       'REGALO20M64F4', 'VOLDIS15PYBHH', 'REGALO20LBEVA', 'VOLDIS150SJMM',\n",
       "       'VOLDIS1546FFE', 'VOLDIS15EXW338', 'VOLDIS10GAEJW',\n",
       "       'REGALO20XJKXX', 'VOLDIS15NT4P8', 'REGALO204TRLL', 'VOLDIS15NXG8W',\n",
       "       'VOLDIS15OZ83K', 'BIENVENIDA20%07', 'FINAL10EJ2V1LR',\n",
       "       'HAPPY10NHI2KCS67ZWT', 'anonuevo15', 'VOLDIS15W9OD0', 'CERVEZA15 ',\n",
       "       'VOLDIS15DMWON', 'BIENVENIDA20%BGGU', 'Historias10PMFT6',\n",
       "       'PRIMAVERA20EOPSSW', 'REGALO20IV4T5', 'REGALO20GLMSI',\n",
       "       'VOLDIS15YGAK3', 'BIENVENIDA20%NURF', 'VOLDIS15%2F5',\n",
       "       'VOLDIS100E398', 'FINAL10EVFI7', 'VOLDIS15FSAMP', 'VOLDIS150K7FC',\n",
       "       'FINAL10E5yjqys', 'VOLDIS15H6R0O', 'REGALO20ALWS0',\n",
       "       'REGALO20H7S4C', 'REGALO20DYP7Q', 'VOLDIS1509C4H', 'FALLAS15 ',\n",
       "       'PRIMAVERA20MJ8763', 'FINal10', 'HIstorias10', 'FINAL10ECH64'],\n",
       "      dtype=object)"
      ]
     },
     "execution_count": 15,
     "metadata": {},
     "output_type": "execute_result"
    }
   ],
   "source": [
    "order_detail_sorted['CouponCode'].unique()"
   ]
  },
  {
   "cell_type": "code",
   "execution_count": 16,
   "metadata": {},
   "outputs": [
    {
     "data": {
      "text/html": [
       "<div>\n",
       "<style scoped>\n",
       "    .dataframe tbody tr th:only-of-type {\n",
       "        vertical-align: middle;\n",
       "    }\n",
       "\n",
       "    .dataframe tbody tr th {\n",
       "        vertical-align: top;\n",
       "    }\n",
       "\n",
       "    .dataframe thead th {\n",
       "        text-align: right;\n",
       "    }\n",
       "</style>\n",
       "<table border=\"1\" class=\"dataframe\">\n",
       "  <thead>\n",
       "    <tr style=\"text-align: right;\">\n",
       "      <th></th>\n",
       "      <th>tipologia</th>\n",
       "      <th>Coupon_Usage_Rate</th>\n",
       "    </tr>\n",
       "  </thead>\n",
       "  <tbody>\n",
       "    <tr>\n",
       "      <th>0</th>\n",
       "      <td>Bar Tradicional</td>\n",
       "      <td>14.091026</td>\n",
       "    </tr>\n",
       "    <tr>\n",
       "      <th>1</th>\n",
       "      <td>Cervecería</td>\n",
       "      <td>9.554347</td>\n",
       "    </tr>\n",
       "    <tr>\n",
       "      <th>2</th>\n",
       "      <td>Discoteca</td>\n",
       "      <td>8.251086</td>\n",
       "    </tr>\n",
       "    <tr>\n",
       "      <th>3</th>\n",
       "      <td>Establecimiento de Tapeo</td>\n",
       "      <td>9.295430</td>\n",
       "    </tr>\n",
       "    <tr>\n",
       "      <th>4</th>\n",
       "      <td>No Segmentado</td>\n",
       "      <td>0.310417</td>\n",
       "    </tr>\n",
       "    <tr>\n",
       "      <th>5</th>\n",
       "      <td>Noche Temprana</td>\n",
       "      <td>11.289564</td>\n",
       "    </tr>\n",
       "    <tr>\n",
       "      <th>6</th>\n",
       "      <td>Pastelería/Cafetería/Panadería</td>\n",
       "      <td>12.824343</td>\n",
       "    </tr>\n",
       "    <tr>\n",
       "      <th>7</th>\n",
       "      <td>Restaurante</td>\n",
       "      <td>9.914970</td>\n",
       "    </tr>\n",
       "    <tr>\n",
       "      <th>8</th>\n",
       "      <td>Restaurante de Imagen</td>\n",
       "      <td>5.338884</td>\n",
       "    </tr>\n",
       "    <tr>\n",
       "      <th>9</th>\n",
       "      <td>Restaurante de Imagen con Tapeo</td>\n",
       "      <td>6.039308</td>\n",
       "    </tr>\n",
       "    <tr>\n",
       "      <th>10</th>\n",
       "      <td>Tap room</td>\n",
       "      <td>19.018405</td>\n",
       "    </tr>\n",
       "  </tbody>\n",
       "</table>\n",
       "</div>"
      ],
      "text/plain": [
       "                          tipologia  Coupon_Usage_Rate\n",
       "0                   Bar Tradicional          14.091026\n",
       "1                        Cervecería           9.554347\n",
       "2                         Discoteca           8.251086\n",
       "3          Establecimiento de Tapeo           9.295430\n",
       "4                     No Segmentado           0.310417\n",
       "5                    Noche Temprana          11.289564\n",
       "6    Pastelería/Cafetería/Panadería          12.824343\n",
       "7                       Restaurante           9.914970\n",
       "8             Restaurante de Imagen           5.338884\n",
       "9   Restaurante de Imagen con Tapeo           6.039308\n",
       "10                         Tap room          19.018405"
      ]
     },
     "execution_count": 16,
     "metadata": {},
     "output_type": "execute_result"
    }
   ],
   "source": [
    "order_detail_sorted['HasCoupon'] = order_detail_sorted.apply(\n",
    "    lambda row: 1 if (row['CouponDiscountAmt'] > 0 or row['CouponDiscountPct'] > 0) else 0,\n",
    "    axis=1\n",
    ")\n",
    "\n",
    "\n",
    "# Agrupar por 'Cluster' y calcular el promedio de 'HasCoupon' (esto nos dará el porcentaje de uso de cupones)\n",
    "uso_cupones_por_cluster = order_detail_sorted.groupby('tipologia')['HasCoupon'].mean().reset_index(name='Coupon_Usage_Rate')\n",
    "\n",
    "# Convertir a porcentaje\n",
    "uso_cupones_por_cluster['Coupon_Usage_Rate'] = uso_cupones_por_cluster['Coupon_Usage_Rate'] * 100\n",
    "\n",
    "# Mostrar el resultado\n",
    "uso_cupones_por_cluster"
   ]
  },
  {
   "cell_type": "markdown",
   "metadata": {},
   "source": [
    "### Uso de cupon/compras totales"
   ]
  },
  {
   "cell_type": "code",
   "execution_count": 70,
   "metadata": {},
   "outputs": [
    {
     "name": "stderr",
     "output_type": "stream",
     "text": [
      "C:\\Users\\ctrujils\\AppData\\Local\\Temp\\ipykernel_23228\\2803478393.py:11: FutureWarning: A value is trying to be set on a copy of a DataFrame or Series through chained assignment using an inplace method.\n",
      "The behavior will change in pandas 3.0. This inplace method will never work because the intermediate object on which we are setting values always behaves as a copy.\n",
      "\n",
      "For example, when doing 'df[col].method(value, inplace=True)', try using 'df.method({col: value}, inplace=True)' or df[col] = df[col].method(value) instead, to perform the operation inplace on the original object.\n",
      "\n",
      "\n",
      "  pctg_coupon_used['PctgCouponUsed'].fillna(0, inplace=True)\n"
     ]
    },
    {
     "data": {
      "text/html": [
       "<div>\n",
       "<style scoped>\n",
       "    .dataframe tbody tr th:only-of-type {\n",
       "        vertical-align: middle;\n",
       "    }\n",
       "\n",
       "    .dataframe tbody tr th {\n",
       "        vertical-align: top;\n",
       "    }\n",
       "\n",
       "    .dataframe thead th {\n",
       "        text-align: right;\n",
       "    }\n",
       "</style>\n",
       "<table border=\"1\" class=\"dataframe\">\n",
       "  <thead>\n",
       "    <tr style=\"text-align: right;\">\n",
       "      <th></th>\n",
       "      <th>PointOfSaleId</th>\n",
       "      <th>PctgCouponUsed</th>\n",
       "    </tr>\n",
       "  </thead>\n",
       "  <tbody>\n",
       "    <tr>\n",
       "      <th>0</th>\n",
       "      <td>00001</td>\n",
       "      <td>0.000000</td>\n",
       "    </tr>\n",
       "    <tr>\n",
       "      <th>1</th>\n",
       "      <td>00011</td>\n",
       "      <td>0.000000</td>\n",
       "    </tr>\n",
       "    <tr>\n",
       "      <th>2</th>\n",
       "      <td>00017</td>\n",
       "      <td>0.000000</td>\n",
       "    </tr>\n",
       "    <tr>\n",
       "      <th>3</th>\n",
       "      <td>00025</td>\n",
       "      <td>0.000000</td>\n",
       "    </tr>\n",
       "    <tr>\n",
       "      <th>4</th>\n",
       "      <td>00042</td>\n",
       "      <td>0.000000</td>\n",
       "    </tr>\n",
       "    <tr>\n",
       "      <th>...</th>\n",
       "      <td>...</td>\n",
       "      <td>...</td>\n",
       "    </tr>\n",
       "    <tr>\n",
       "      <th>20989</th>\n",
       "      <td>MS0787</td>\n",
       "      <td>100.000000</td>\n",
       "    </tr>\n",
       "    <tr>\n",
       "      <th>20990</th>\n",
       "      <td>c08599</td>\n",
       "      <td>37.499256</td>\n",
       "    </tr>\n",
       "    <tr>\n",
       "      <th>20991</th>\n",
       "      <td>c09165</td>\n",
       "      <td>100.000000</td>\n",
       "    </tr>\n",
       "    <tr>\n",
       "      <th>20992</th>\n",
       "      <td>c09210</td>\n",
       "      <td>14.658503</td>\n",
       "    </tr>\n",
       "    <tr>\n",
       "      <th>20993</th>\n",
       "      <td>cli0030230</td>\n",
       "      <td>49.872835</td>\n",
       "    </tr>\n",
       "  </tbody>\n",
       "</table>\n",
       "<p>20994 rows × 2 columns</p>\n",
       "</div>"
      ],
      "text/plain": [
       "      PointOfSaleId  PctgCouponUsed\n",
       "0             00001        0.000000\n",
       "1             00011        0.000000\n",
       "2             00017        0.000000\n",
       "3             00025        0.000000\n",
       "4             00042        0.000000\n",
       "...             ...             ...\n",
       "20989        MS0787      100.000000\n",
       "20990        c08599       37.499256\n",
       "20991        c09165      100.000000\n",
       "20992        c09210       14.658503\n",
       "20993    cli0030230       49.872835\n",
       "\n",
       "[20994 rows x 2 columns]"
      ]
     },
     "execution_count": 70,
     "metadata": {},
     "output_type": "execute_result"
    }
   ],
   "source": [
    "sales_coupon = order_detail_sorted[order_detail_sorted['HasCoupon'] == 1].groupby('PointOfSaleId')['Sellout'].sum()\n",
    "\n",
    "# Calcular las ventas totales por PointOfSaleId\n",
    "total_sales = order_detail_sorted.groupby('PointOfSaleId')['Sellout'].sum()\n",
    "\n",
    "pctg_coupon_used = (sales_coupon / total_sales) * 100\n",
    "\n",
    "pctg_coupon_used = pctg_coupon_used.reset_index(name='PctgCouponUsed')\n",
    "\n",
    "# Rellenar los valores NaN con 0 para aquellos puntos de venta que no usaron cupones\n",
    "pctg_coupon_used['PctgCouponUsed'].fillna(0, inplace=True)\n",
    "pctg_coupon_used\n"
   ]
  },
  {
   "cell_type": "code",
   "execution_count": 68,
   "metadata": {},
   "outputs": [],
   "source": [
    "# Crear un diccionario para mapear 'PointOfSaleId' con 'PctgCouponUsed'\n",
    "pctg_coupon_used_dict = pctg_coupon_used.set_index('PointOfSaleId')['PctgCouponUsed'].to_dict()\n",
    "\n",
    "# Asignar el porcentaje de uso de cupones a cada 'PointOfSaleId' en order_detail_sorted usando .map()\n",
    "order_detail_sorted['PctgCouponUsed'] = order_detail_sorted['PointOfSaleId'].map(pctg_coupon_used_dict)"
   ]
  },
  {
   "cell_type": "markdown",
   "metadata": {
    "application/vnd.databricks.v1+cell": {
     "cellMetadata": {
      "byteLimit": 2048000,
      "rowLimit": 10000
     },
     "inputWidgets": {},
     "nuid": "22f44daa-1c35-49d5-82ed-64a227a326a9",
     "showTitle": false,
     "title": ""
    }
   },
   "source": [
    "PDVs con % de uso de cupones >60\n"
   ]
  },
  {
   "cell_type": "code",
   "execution_count": 19,
   "metadata": {
    "application/vnd.databricks.v1+cell": {
     "cellMetadata": {
      "byteLimit": 2048000,
      "rowLimit": 10000
     },
     "inputWidgets": {},
     "nuid": "7a7bdea3-e200-40a6-9457-5f95d6225ace",
     "showTitle": false,
     "title": ""
    }
   },
   "outputs": [
    {
     "name": "stdout",
     "output_type": "stream",
     "text": [
      "PDV 100005: 96.61% de uso de cupones en compras totales.\n",
      "PDV 10012: 100.00% de uso de cupones en compras totales.\n",
      "PDV 100131: 100.00% de uso de cupones en compras totales.\n",
      "PDV 100141: 79.59% de uso de cupones en compras totales.\n",
      "PDV 100150: 100.00% de uso de cupones en compras totales.\n",
      "PDV 100152: 100.00% de uso de cupones en compras totales.\n",
      "PDV 100154: 100.00% de uso de cupones en compras totales.\n",
      "PDV 100182: 100.00% de uso de cupones en compras totales.\n",
      "PDV 100185: 100.00% de uso de cupones en compras totales.\n",
      "PDV 100190: 96.77% de uso de cupones en compras totales.\n",
      "PDV 100232: 100.00% de uso de cupones en compras totales.\n",
      "PDV 100252: 100.00% de uso de cupones en compras totales.\n",
      "PDV 100275: 100.00% de uso de cupones en compras totales.\n",
      "PDV 100336: 78.53% de uso de cupones en compras totales.\n",
      "PDV 100341: 91.50% de uso de cupones en compras totales.\n",
      "PDV 100349: 91.39% de uso de cupones en compras totales.\n",
      "PDV 100353: 100.00% de uso de cupones en compras totales.\n",
      "PDV 100357: 80.50% de uso de cupones en compras totales.\n",
      "PDV 100365: 75.01% de uso de cupones en compras totales.\n",
      "PDV 100383: 100.00% de uso de cupones en compras totales.\n",
      "PDV 100390: 83.94% de uso de cupones en compras totales.\n",
      "PDV 100396: 100.00% de uso de cupones en compras totales.\n",
      "PDV 1004: 94.59% de uso de cupones en compras totales.\n",
      "PDV 100421: 84.87% de uso de cupones en compras totales.\n",
      "PDV 100456: 100.00% de uso de cupones en compras totales.\n",
      "PDV 100467: 86.80% de uso de cupones en compras totales.\n",
      "PDV 100516: 61.60% de uso de cupones en compras totales.\n",
      "PDV 100520: 100.00% de uso de cupones en compras totales.\n",
      "PDV 100530: 100.00% de uso de cupones en compras totales.\n",
      "PDV 100564: 100.00% de uso de cupones en compras totales.\n",
      "PDV 100610: 100.00% de uso de cupones en compras totales.\n",
      "PDV 100612: 96.80% de uso de cupones en compras totales.\n",
      "PDV 100616: 100.00% de uso de cupones en compras totales.\n",
      "PDV 100618: 68.71% de uso de cupones en compras totales.\n",
      "PDV 100627: 79.27% de uso de cupones en compras totales.\n",
      "PDV 100630: 100.00% de uso de cupones en compras totales.\n",
      "PDV 100638: 89.87% de uso de cupones en compras totales.\n",
      "PDV 100647: 100.00% de uso de cupones en compras totales.\n",
      "PDV 100662: 100.00% de uso de cupones en compras totales.\n",
      "PDV 100695: 100.00% de uso de cupones en compras totales.\n",
      "PDV 100725: 92.68% de uso de cupones en compras totales.\n",
      "PDV 100726: 83.92% de uso de cupones en compras totales.\n",
      "PDV 100731: 100.00% de uso de cupones en compras totales.\n",
      "PDV 100762: 95.29% de uso de cupones en compras totales.\n",
      "PDV 100767: 88.66% de uso de cupones en compras totales.\n",
      "PDV 100782: 100.00% de uso de cupones en compras totales.\n",
      "PDV 100790: 100.00% de uso de cupones en compras totales.\n",
      "PDV 100803: 84.54% de uso de cupones en compras totales.\n",
      "PDV 100804: 94.10% de uso de cupones en compras totales.\n",
      "PDV 100807: 80.57% de uso de cupones en compras totales.\n",
      "PDV 100839: 100.00% de uso de cupones en compras totales.\n",
      "PDV 100870: 100.00% de uso de cupones en compras totales.\n",
      "PDV 100906: 75.36% de uso de cupones en compras totales.\n",
      "PDV 100907: 73.90% de uso de cupones en compras totales.\n",
      "PDV 100987: 93.78% de uso de cupones en compras totales.\n",
      "PDV 100992: 100.00% de uso de cupones en compras totales.\n",
      "PDV 101002: 73.13% de uso de cupones en compras totales.\n",
      "PDV 101016: 100.00% de uso de cupones en compras totales.\n",
      "PDV 101024: 96.77% de uso de cupones en compras totales.\n",
      "PDV 101025: 85.00% de uso de cupones en compras totales.\n",
      "PDV 101042: 100.00% de uso de cupones en compras totales.\n",
      "PDV 101046: 100.00% de uso de cupones en compras totales.\n",
      "PDV 101049: 76.48% de uso de cupones en compras totales.\n",
      "PDV 101053: 100.00% de uso de cupones en compras totales.\n",
      "PDV 101059: 100.00% de uso de cupones en compras totales.\n",
      "PDV 101063: 82.22% de uso de cupones en compras totales.\n",
      "PDV 101099: 87.57% de uso de cupones en compras totales.\n",
      "PDV 101109: 66.33% de uso de cupones en compras totales.\n",
      "PDV 101129: 100.00% de uso de cupones en compras totales.\n",
      "PDV 101133: 84.69% de uso de cupones en compras totales.\n",
      "PDV 101137: 100.00% de uso de cupones en compras totales.\n",
      "PDV 101142: 67.78% de uso de cupones en compras totales.\n",
      "PDV 101148: 70.69% de uso de cupones en compras totales.\n",
      "PDV 101150: 100.00% de uso de cupones en compras totales.\n",
      "PDV 101152: 100.00% de uso de cupones en compras totales.\n",
      "PDV 101165: 88.10% de uso de cupones en compras totales.\n",
      "PDV 101172: 100.00% de uso de cupones en compras totales.\n",
      "PDV 101189: 75.72% de uso de cupones en compras totales.\n",
      "PDV 101198: 100.00% de uso de cupones en compras totales.\n",
      "PDV 101209: 100.00% de uso de cupones en compras totales.\n",
      "PDV 101213: 94.06% de uso de cupones en compras totales.\n",
      "PDV 101226: 86.36% de uso de cupones en compras totales.\n",
      "PDV 101238: 100.00% de uso de cupones en compras totales.\n",
      "PDV 101241: 100.00% de uso de cupones en compras totales.\n",
      "PDV 101244: 100.00% de uso de cupones en compras totales.\n",
      "PDV 101263: 85.63% de uso de cupones en compras totales.\n",
      "PDV 101275: 83.54% de uso de cupones en compras totales.\n",
      "PDV 101280: 74.50% de uso de cupones en compras totales.\n",
      "PDV 101293: 100.00% de uso de cupones en compras totales.\n",
      "PDV 101301: 100.00% de uso de cupones en compras totales.\n",
      "PDV 101302: 67.33% de uso de cupones en compras totales.\n",
      "PDV 101306: 100.00% de uso de cupones en compras totales.\n",
      "PDV 101323: 100.00% de uso de cupones en compras totales.\n",
      "PDV 101326: 100.00% de uso de cupones en compras totales.\n",
      "PDV 101339: 100.00% de uso de cupones en compras totales.\n",
      "PDV 101340: 100.00% de uso de cupones en compras totales.\n",
      "PDV 101347: 100.00% de uso de cupones en compras totales.\n",
      "PDV 101353: 70.41% de uso de cupones en compras totales.\n",
      "PDV 101368: 78.91% de uso de cupones en compras totales.\n",
      "PDV 101375: 100.00% de uso de cupones en compras totales.\n",
      "PDV 101382: 97.60% de uso de cupones en compras totales.\n",
      "PDV 101398: 70.24% de uso de cupones en compras totales.\n",
      "PDV 101411: 100.00% de uso de cupones en compras totales.\n",
      "PDV 101418: 100.00% de uso de cupones en compras totales.\n",
      "PDV 101421: 100.00% de uso de cupones en compras totales.\n",
      "PDV 101435: 100.00% de uso de cupones en compras totales.\n",
      "PDV 101437: 100.00% de uso de cupones en compras totales.\n",
      "PDV 101477: 100.00% de uso de cupones en compras totales.\n",
      "PDV 101493: 94.23% de uso de cupones en compras totales.\n",
      "PDV 101516: 100.00% de uso de cupones en compras totales.\n",
      "PDV 101520: 100.00% de uso de cupones en compras totales.\n",
      "PDV 101527: 100.00% de uso de cupones en compras totales.\n",
      "PDV 101534: 100.00% de uso de cupones en compras totales.\n",
      "PDV 101543: 89.41% de uso de cupones en compras totales.\n",
      "PDV 101556: 97.58% de uso de cupones en compras totales.\n",
      "PDV 101558: 100.00% de uso de cupones en compras totales.\n",
      "PDV 101562: 72.03% de uso de cupones en compras totales.\n",
      "PDV 101585: 100.00% de uso de cupones en compras totales.\n",
      "PDV 101589: 100.00% de uso de cupones en compras totales.\n",
      "PDV 101591: 91.60% de uso de cupones en compras totales.\n",
      "PDV 101595: 100.00% de uso de cupones en compras totales.\n",
      "PDV 101599: 100.00% de uso de cupones en compras totales.\n",
      "PDV 101606: 100.00% de uso de cupones en compras totales.\n",
      "PDV 101620: 62.63% de uso de cupones en compras totales.\n",
      "PDV 101625: 100.00% de uso de cupones en compras totales.\n",
      "PDV 101631: 84.25% de uso de cupones en compras totales.\n",
      "PDV 101651: 100.00% de uso de cupones en compras totales.\n",
      "PDV 101661: 91.98% de uso de cupones en compras totales.\n",
      "PDV 101686: 100.00% de uso de cupones en compras totales.\n",
      "PDV 101702: 77.11% de uso de cupones en compras totales.\n",
      "PDV 101710: 100.00% de uso de cupones en compras totales.\n",
      "PDV 101712: 100.00% de uso de cupones en compras totales.\n",
      "PDV 101724: 100.00% de uso de cupones en compras totales.\n",
      "PDV 101729: 88.40% de uso de cupones en compras totales.\n",
      "PDV 101733: 100.00% de uso de cupones en compras totales.\n",
      "PDV 101736: 100.00% de uso de cupones en compras totales.\n",
      "PDV 101744: 100.00% de uso de cupones en compras totales.\n",
      "PDV 101746: 100.00% de uso de cupones en compras totales.\n",
      "PDV 101747: 100.00% de uso de cupones en compras totales.\n",
      "PDV 101751: 75.49% de uso de cupones en compras totales.\n",
      "PDV 101758: 100.00% de uso de cupones en compras totales.\n",
      "PDV 101765: 91.70% de uso de cupones en compras totales.\n",
      "PDV 101773: 76.62% de uso de cupones en compras totales.\n",
      "PDV 101775: 100.00% de uso de cupones en compras totales.\n",
      "PDV 101781: 100.00% de uso de cupones en compras totales.\n",
      "PDV 101783: 85.85% de uso de cupones en compras totales.\n",
      "PDV 101792: 100.00% de uso de cupones en compras totales.\n",
      "PDV 101811: 100.00% de uso de cupones en compras totales.\n",
      "PDV 101815: 100.00% de uso de cupones en compras totales.\n",
      "PDV 101816: 90.37% de uso de cupones en compras totales.\n",
      "PDV 101819: 100.00% de uso de cupones en compras totales.\n",
      "PDV 101823: 100.00% de uso de cupones en compras totales.\n",
      "PDV 101828: 100.00% de uso de cupones en compras totales.\n",
      "PDV 101842: 100.00% de uso de cupones en compras totales.\n",
      "PDV 101850: 100.00% de uso de cupones en compras totales.\n",
      "PDV 101859: 100.00% de uso de cupones en compras totales.\n",
      "PDV 101866: 100.00% de uso de cupones en compras totales.\n",
      "PDV 10187: 80.46% de uso de cupones en compras totales.\n",
      "PDV 101873: 100.00% de uso de cupones en compras totales.\n",
      "PDV 101874: 65.61% de uso de cupones en compras totales.\n",
      "PDV 101882: 100.00% de uso de cupones en compras totales.\n",
      "PDV 101897: 100.00% de uso de cupones en compras totales.\n",
      "PDV 101904: 100.00% de uso de cupones en compras totales.\n",
      "PDV 101905: 88.29% de uso de cupones en compras totales.\n",
      "PDV 101908: 100.00% de uso de cupones en compras totales.\n",
      "PDV 101912: 100.00% de uso de cupones en compras totales.\n",
      "PDV 101917: 100.00% de uso de cupones en compras totales.\n",
      "PDV 101919: 100.00% de uso de cupones en compras totales.\n",
      "PDV 101921: 93.54% de uso de cupones en compras totales.\n",
      "PDV 101928: 100.00% de uso de cupones en compras totales.\n",
      "PDV 101931: 100.00% de uso de cupones en compras totales.\n",
      "PDV 101935: 100.00% de uso de cupones en compras totales.\n",
      "PDV 101940: 100.00% de uso de cupones en compras totales.\n",
      "PDV 101955: 100.00% de uso de cupones en compras totales.\n",
      "PDV 101962: 92.39% de uso de cupones en compras totales.\n",
      "PDV 101964: 70.14% de uso de cupones en compras totales.\n",
      "PDV 101972: 100.00% de uso de cupones en compras totales.\n",
      "PDV 101975: 100.00% de uso de cupones en compras totales.\n",
      "PDV 101981: 100.00% de uso de cupones en compras totales.\n",
      "PDV 101985: 100.00% de uso de cupones en compras totales.\n",
      "PDV 101989: 100.00% de uso de cupones en compras totales.\n",
      "PDV 102004: 100.00% de uso de cupones en compras totales.\n",
      "PDV 102011: 100.00% de uso de cupones en compras totales.\n",
      "PDV 102022: 75.28% de uso de cupones en compras totales.\n",
      "PDV 102045: 100.00% de uso de cupones en compras totales.\n",
      "PDV 102053: 84.57% de uso de cupones en compras totales.\n",
      "PDV 102054: 100.00% de uso de cupones en compras totales.\n",
      "PDV 102064: 100.00% de uso de cupones en compras totales.\n",
      "PDV 102074: 100.00% de uso de cupones en compras totales.\n",
      "PDV 102075: 100.00% de uso de cupones en compras totales.\n",
      "PDV 102077: 100.00% de uso de cupones en compras totales.\n",
      "PDV 102170: 100.00% de uso de cupones en compras totales.\n",
      "PDV 102174: 100.00% de uso de cupones en compras totales.\n",
      "PDV 102180: 100.00% de uso de cupones en compras totales.\n",
      "PDV 102200: 100.00% de uso de cupones en compras totales.\n",
      "PDV 102226: 100.00% de uso de cupones en compras totales.\n",
      "PDV 102232: 85.32% de uso de cupones en compras totales.\n",
      "PDV 102252: 100.00% de uso de cupones en compras totales.\n",
      "PDV 103485: 100.00% de uso de cupones en compras totales.\n",
      "PDV 1036: 70.52% de uso de cupones en compras totales.\n",
      "PDV 103887: 78.84% de uso de cupones en compras totales.\n",
      "PDV 103922: 100.00% de uso de cupones en compras totales.\n",
      "PDV 10404: 76.34% de uso de cupones en compras totales.\n",
      "PDV 104102: 100.00% de uso de cupones en compras totales.\n",
      "PDV 104251: 100.00% de uso de cupones en compras totales.\n",
      "PDV 104398: 100.00% de uso de cupones en compras totales.\n",
      "PDV 104411: 100.00% de uso de cupones en compras totales.\n",
      "PDV 104746: 84.79% de uso de cupones en compras totales.\n",
      "PDV 104766: 100.00% de uso de cupones en compras totales.\n",
      "PDV 104900: 73.50% de uso de cupones en compras totales.\n",
      "PDV 105018: 69.59% de uso de cupones en compras totales.\n",
      "PDV 105082: 100.00% de uso de cupones en compras totales.\n",
      "PDV 1051: 61.25% de uso de cupones en compras totales.\n",
      "PDV 105298: 100.00% de uso de cupones en compras totales.\n",
      "PDV 10559: 100.00% de uso de cupones en compras totales.\n",
      "PDV 105824: 100.00% de uso de cupones en compras totales.\n",
      "PDV 105940: 100.00% de uso de cupones en compras totales.\n",
      "PDV 10621: 100.00% de uso de cupones en compras totales.\n",
      "PDV 106331: 100.00% de uso de cupones en compras totales.\n",
      "PDV 106545: 100.00% de uso de cupones en compras totales.\n",
      "PDV 106664: 89.22% de uso de cupones en compras totales.\n",
      "PDV 106897: 68.03% de uso de cupones en compras totales.\n",
      "PDV 10700: 100.00% de uso de cupones en compras totales.\n",
      "PDV 107704: 100.00% de uso de cupones en compras totales.\n",
      "PDV 108512: 100.00% de uso de cupones en compras totales.\n",
      "PDV 109836: 100.00% de uso de cupones en compras totales.\n",
      "PDV 109839: 100.00% de uso de cupones en compras totales.\n",
      "PDV 110109: 100.00% de uso de cupones en compras totales.\n",
      "PDV 110220: 100.00% de uso de cupones en compras totales.\n",
      "PDV 11029: 100.00% de uso de cupones en compras totales.\n",
      "PDV 110311: 100.00% de uso de cupones en compras totales.\n",
      "PDV 110363: 100.00% de uso de cupones en compras totales.\n",
      "PDV 111302: 100.00% de uso de cupones en compras totales.\n",
      "PDV 111522: 100.00% de uso de cupones en compras totales.\n",
      "PDV 11177: 100.00% de uso de cupones en compras totales.\n",
      "PDV 111934: 100.00% de uso de cupones en compras totales.\n",
      "PDV 112418: 100.00% de uso de cupones en compras totales.\n",
      "PDV 113092: 100.00% de uso de cupones en compras totales.\n",
      "PDV 113299: 63.13% de uso de cupones en compras totales.\n",
      "PDV 113370: 61.19% de uso de cupones en compras totales.\n",
      "PDV 113701: 100.00% de uso de cupones en compras totales.\n",
      "PDV 113839: 68.84% de uso de cupones en compras totales.\n",
      "PDV 113985: 100.00% de uso de cupones en compras totales.\n",
      "PDV 114548: 100.00% de uso de cupones en compras totales.\n",
      "PDV 114654: 100.00% de uso de cupones en compras totales.\n",
      "PDV 114767: 100.00% de uso de cupones en compras totales.\n",
      "PDV 114889: 100.00% de uso de cupones en compras totales.\n",
      "PDV 114986: 100.00% de uso de cupones en compras totales.\n",
      "PDV 114993: 63.14% de uso de cupones en compras totales.\n",
      "PDV 115044: 100.00% de uso de cupones en compras totales.\n",
      "PDV 115097: 100.00% de uso de cupones en compras totales.\n",
      "PDV 115113: 100.00% de uso de cupones en compras totales.\n",
      "PDV 115255: 100.00% de uso de cupones en compras totales.\n",
      "PDV 115344: 100.00% de uso de cupones en compras totales.\n",
      "PDV 115440: 82.24% de uso de cupones en compras totales.\n",
      "PDV 115774: 77.07% de uso de cupones en compras totales.\n",
      "PDV 115794: 100.00% de uso de cupones en compras totales.\n",
      "PDV 115891: 100.00% de uso de cupones en compras totales.\n",
      "PDV 115921: 100.00% de uso de cupones en compras totales.\n",
      "PDV 115947: 93.85% de uso de cupones en compras totales.\n",
      "PDV 115974: 100.00% de uso de cupones en compras totales.\n",
      "PDV 115985: 100.00% de uso de cupones en compras totales.\n",
      "PDV 116039: 100.00% de uso de cupones en compras totales.\n",
      "PDV 116050: 100.00% de uso de cupones en compras totales.\n",
      "PDV 116079: 75.15% de uso de cupones en compras totales.\n",
      "PDV 116359: 75.30% de uso de cupones en compras totales.\n",
      "PDV 116559: 66.87% de uso de cupones en compras totales.\n",
      "PDV 116691: 67.78% de uso de cupones en compras totales.\n",
      "PDV 116692: 100.00% de uso de cupones en compras totales.\n",
      "PDV 116761: 77.27% de uso de cupones en compras totales.\n",
      "PDV 1168: 100.00% de uso de cupones en compras totales.\n",
      "PDV 117174: 100.00% de uso de cupones en compras totales.\n",
      "PDV 1173: 92.99% de uso de cupones en compras totales.\n",
      "PDV 117501: 100.00% de uso de cupones en compras totales.\n",
      "PDV 117649: 100.00% de uso de cupones en compras totales.\n",
      "PDV 117760: 100.00% de uso de cupones en compras totales.\n",
      "PDV 118308: 100.00% de uso de cupones en compras totales.\n",
      "PDV 118327: 100.00% de uso de cupones en compras totales.\n",
      "PDV 12099: 100.00% de uso de cupones en compras totales.\n",
      "PDV 12105: 100.00% de uso de cupones en compras totales.\n",
      "PDV 12158: 100.00% de uso de cupones en compras totales.\n",
      "PDV 12266: 100.00% de uso de cupones en compras totales.\n",
      "PDV 1229: 93.32% de uso de cupones en compras totales.\n",
      "PDV 12644: 92.86% de uso de cupones en compras totales.\n",
      "PDV 1274: 100.00% de uso de cupones en compras totales.\n",
      "PDV 1278: 100.00% de uso de cupones en compras totales.\n",
      "PDV 1281: 67.29% de uso de cupones en compras totales.\n",
      "PDV 12848: 79.30% de uso de cupones en compras totales.\n",
      "PDV 12860: 95.85% de uso de cupones en compras totales.\n",
      "PDV 131: 88.80% de uso de cupones en compras totales.\n",
      "PDV 13140: 100.00% de uso de cupones en compras totales.\n",
      "PDV 13148: 100.00% de uso de cupones en compras totales.\n",
      "PDV 13167: 65.83% de uso de cupones en compras totales.\n",
      "PDV 13213: 100.00% de uso de cupones en compras totales.\n",
      "PDV 13250: 100.00% de uso de cupones en compras totales.\n",
      "PDV 13449: 100.00% de uso de cupones en compras totales.\n",
      "PDV 1354: 64.20% de uso de cupones en compras totales.\n",
      "PDV 1358: 100.00% de uso de cupones en compras totales.\n",
      "PDV 13608: 100.00% de uso de cupones en compras totales.\n",
      "PDV 1361: 100.00% de uso de cupones en compras totales.\n",
      "PDV 13713: 100.00% de uso de cupones en compras totales.\n",
      "PDV 13731: 100.00% de uso de cupones en compras totales.\n",
      "PDV 13796: 100.00% de uso de cupones en compras totales.\n",
      "PDV 13854: 100.00% de uso de cupones en compras totales.\n",
      "PDV 13928: 89.88% de uso de cupones en compras totales.\n",
      "PDV 1397: 92.25% de uso de cupones en compras totales.\n",
      "PDV 1406: 68.60% de uso de cupones en compras totales.\n",
      "PDV 14102: 100.00% de uso de cupones en compras totales.\n",
      "PDV 14110: 100.00% de uso de cupones en compras totales.\n",
      "PDV 14111: 100.00% de uso de cupones en compras totales.\n",
      "PDV 1414: 100.00% de uso de cupones en compras totales.\n",
      "PDV 14141: 83.99% de uso de cupones en compras totales.\n",
      "PDV 14153: 93.69% de uso de cupones en compras totales.\n",
      "PDV 1432: 100.00% de uso de cupones en compras totales.\n",
      "PDV 14684: 100.00% de uso de cupones en compras totales.\n",
      "PDV 14806: 100.00% de uso de cupones en compras totales.\n",
      "PDV 1506: 91.69% de uso de cupones en compras totales.\n",
      "PDV 15315: 76.28% de uso de cupones en compras totales.\n",
      "PDV 1533: 100.00% de uso de cupones en compras totales.\n",
      "PDV 15374: 68.69% de uso de cupones en compras totales.\n",
      "PDV 1543: 100.00% de uso de cupones en compras totales.\n",
      "PDV 15574: 100.00% de uso de cupones en compras totales.\n",
      "PDV 1579: 100.00% de uso de cupones en compras totales.\n",
      "PDV 1581: 100.00% de uso de cupones en compras totales.\n",
      "PDV 1583: 100.00% de uso de cupones en compras totales.\n",
      "PDV 16063: 100.00% de uso de cupones en compras totales.\n",
      "PDV 1611: 100.00% de uso de cupones en compras totales.\n",
      "PDV 1639: 88.93% de uso de cupones en compras totales.\n",
      "PDV 1640: 100.00% de uso de cupones en compras totales.\n",
      "PDV 16442: 100.00% de uso de cupones en compras totales.\n",
      "PDV 1651: 85.89% de uso de cupones en compras totales.\n",
      "PDV 16572: 100.00% de uso de cupones en compras totales.\n",
      "PDV 16704: 100.00% de uso de cupones en compras totales.\n",
      "PDV 16742: 100.00% de uso de cupones en compras totales.\n",
      "PDV 16782: 97.45% de uso de cupones en compras totales.\n",
      "PDV 16821H: 100.00% de uso de cupones en compras totales.\n",
      "PDV 16915: 100.00% de uso de cupones en compras totales.\n",
      "PDV 1696: 100.00% de uso de cupones en compras totales.\n",
      "PDV 17000H: 76.28% de uso de cupones en compras totales.\n",
      "PDV 1707: 100.00% de uso de cupones en compras totales.\n",
      "PDV 1709: 100.00% de uso de cupones en compras totales.\n",
      "PDV 17126: 100.00% de uso de cupones en compras totales.\n",
      "PDV 17203: 100.00% de uso de cupones en compras totales.\n",
      "PDV 1723: 100.00% de uso de cupones en compras totales.\n",
      "PDV 1724: 100.00% de uso de cupones en compras totales.\n",
      "PDV 17251: 100.00% de uso de cupones en compras totales.\n",
      "PDV 1734: 86.65% de uso de cupones en compras totales.\n",
      "PDV 1740: 100.00% de uso de cupones en compras totales.\n",
      "PDV 17443: 100.00% de uso de cupones en compras totales.\n",
      "PDV 1747: 68.22% de uso de cupones en compras totales.\n",
      "PDV 1752: 100.00% de uso de cupones en compras totales.\n",
      "PDV 1753: 78.23% de uso de cupones en compras totales.\n",
      "PDV 1778: 100.00% de uso de cupones en compras totales.\n",
      "PDV 1789: 100.00% de uso de cupones en compras totales.\n",
      "PDV 18397: 100.00% de uso de cupones en compras totales.\n",
      "PDV 1880: 69.64% de uso de cupones en compras totales.\n",
      "PDV 18880: 92.93% de uso de cupones en compras totales.\n",
      "PDV 1900: 75.16% de uso de cupones en compras totales.\n",
      "PDV 1904: 100.00% de uso de cupones en compras totales.\n",
      "PDV 1907: 60.85% de uso de cupones en compras totales.\n",
      "PDV 1913: 88.51% de uso de cupones en compras totales.\n",
      "PDV 1922: 100.00% de uso de cupones en compras totales.\n",
      "PDV 19240: 95.30% de uso de cupones en compras totales.\n",
      "PDV 1934: 100.00% de uso de cupones en compras totales.\n",
      "PDV 19364: 74.62% de uso de cupones en compras totales.\n",
      "PDV 19577: 83.41% de uso de cupones en compras totales.\n",
      "PDV 19802: 100.00% de uso de cupones en compras totales.\n",
      "PDV 19932: 100.00% de uso de cupones en compras totales.\n",
      "PDV 200077: 100.00% de uso de cupones en compras totales.\n",
      "PDV 200111: 100.00% de uso de cupones en compras totales.\n",
      "PDV 20015: 100.00% de uso de cupones en compras totales.\n",
      "PDV 200220: 100.00% de uso de cupones en compras totales.\n",
      "PDV 200355: 100.00% de uso de cupones en compras totales.\n",
      "PDV 200436: 67.23% de uso de cupones en compras totales.\n",
      "PDV 200474: 67.35% de uso de cupones en compras totales.\n",
      "PDV 200477: 100.00% de uso de cupones en compras totales.\n",
      "PDV 200607: 70.22% de uso de cupones en compras totales.\n",
      "PDV 200630: 62.64% de uso de cupones en compras totales.\n",
      "PDV 200667: 100.00% de uso de cupones en compras totales.\n",
      "PDV 200728: 76.84% de uso de cupones en compras totales.\n",
      "PDV 200778: 100.00% de uso de cupones en compras totales.\n",
      "PDV 200780: 86.97% de uso de cupones en compras totales.\n",
      "PDV 200818: 100.00% de uso de cupones en compras totales.\n",
      "PDV 200823: 78.26% de uso de cupones en compras totales.\n",
      "PDV 200889: 100.00% de uso de cupones en compras totales.\n",
      "PDV 200890: 100.00% de uso de cupones en compras totales.\n",
      "PDV 200903: 100.00% de uso de cupones en compras totales.\n",
      "PDV 200922: 87.41% de uso de cupones en compras totales.\n",
      "PDV 200947: 60.34% de uso de cupones en compras totales.\n",
      "PDV 200979: 100.00% de uso de cupones en compras totales.\n",
      "PDV 20291: 100.00% de uso de cupones en compras totales.\n",
      "PDV 20362: 100.00% de uso de cupones en compras totales.\n",
      "PDV 20371: 79.21% de uso de cupones en compras totales.\n",
      "PDV 20417: 68.63% de uso de cupones en compras totales.\n",
      "PDV 20421: 100.00% de uso de cupones en compras totales.\n",
      "PDV 205: 100.00% de uso de cupones en compras totales.\n",
      "PDV 20907: 100.00% de uso de cupones en compras totales.\n",
      "PDV 21153: 100.00% de uso de cupones en compras totales.\n",
      "PDV 21172: 70.87% de uso de cupones en compras totales.\n",
      "PDV 21391: 100.00% de uso de cupones en compras totales.\n",
      "PDV 21492: 100.00% de uso de cupones en compras totales.\n",
      "PDV 21494: 90.45% de uso de cupones en compras totales.\n",
      "PDV 21495: 91.50% de uso de cupones en compras totales.\n",
      "PDV 21497: 89.77% de uso de cupones en compras totales.\n",
      "PDV 21647: 100.00% de uso de cupones en compras totales.\n",
      "PDV 22557: 100.00% de uso de cupones en compras totales.\n",
      "PDV 22643: 100.00% de uso de cupones en compras totales.\n",
      "PDV 22656: 100.00% de uso de cupones en compras totales.\n",
      "PDV 22757: 86.94% de uso de cupones en compras totales.\n",
      "PDV 23919: 80.96% de uso de cupones en compras totales.\n",
      "PDV 23934: 100.00% de uso de cupones en compras totales.\n",
      "PDV 23976: 94.60% de uso de cupones en compras totales.\n",
      "PDV 23978: 89.46% de uso de cupones en compras totales.\n",
      "PDV 2486: 100.00% de uso de cupones en compras totales.\n",
      "PDV 25002: 72.34% de uso de cupones en compras totales.\n",
      "PDV 2532: 100.00% de uso de cupones en compras totales.\n",
      "PDV 25424: 100.00% de uso de cupones en compras totales.\n",
      "PDV 25496: 100.00% de uso de cupones en compras totales.\n",
      "PDV 25981: 100.00% de uso de cupones en compras totales.\n",
      "PDV 26179: 100.00% de uso de cupones en compras totales.\n",
      "PDV 26222: 100.00% de uso de cupones en compras totales.\n",
      "PDV 26227: 100.00% de uso de cupones en compras totales.\n",
      "PDV 26911: 91.88% de uso de cupones en compras totales.\n",
      "PDV 272: 100.00% de uso de cupones en compras totales.\n",
      "PDV 27471: 86.64% de uso de cupones en compras totales.\n",
      "PDV 27497: 100.00% de uso de cupones en compras totales.\n",
      "PDV 27602: 100.00% de uso de cupones en compras totales.\n",
      "PDV 27704: 100.00% de uso de cupones en compras totales.\n",
      "PDV 28156: 100.00% de uso de cupones en compras totales.\n",
      "PDV 28238: 87.90% de uso de cupones en compras totales.\n",
      "PDV 28275: 78.02% de uso de cupones en compras totales.\n",
      "PDV 28362: 73.37% de uso de cupones en compras totales.\n",
      "PDV 28683: 86.68% de uso de cupones en compras totales.\n",
      "PDV 28802: 95.45% de uso de cupones en compras totales.\n",
      "PDV 28856: 87.39% de uso de cupones en compras totales.\n",
      "PDV 28928: 100.00% de uso de cupones en compras totales.\n",
      "PDV 29045: 100.00% de uso de cupones en compras totales.\n",
      "PDV 29052: 100.00% de uso de cupones en compras totales.\n",
      "PDV 29149: 70.81% de uso de cupones en compras totales.\n",
      "PDV 29217: 100.00% de uso de cupones en compras totales.\n",
      "PDV 29353: 86.05% de uso de cupones en compras totales.\n",
      "PDV 29393: 100.00% de uso de cupones en compras totales.\n",
      "PDV 29458: 71.94% de uso de cupones en compras totales.\n",
      "PDV 29844: 91.47% de uso de cupones en compras totales.\n",
      "PDV 29896: 100.00% de uso de cupones en compras totales.\n",
      "PDV 299: 100.00% de uso de cupones en compras totales.\n",
      "PDV 30002: 73.25% de uso de cupones en compras totales.\n",
      "PDV 30011: 94.96% de uso de cupones en compras totales.\n",
      "PDV 30026: 78.95% de uso de cupones en compras totales.\n",
      "PDV 30031: 91.93% de uso de cupones en compras totales.\n",
      "PDV 30038: 64.78% de uso de cupones en compras totales.\n",
      "PDV 30047: 100.00% de uso de cupones en compras totales.\n",
      "PDV 30048: 100.00% de uso de cupones en compras totales.\n",
      "PDV 30051: 67.99% de uso de cupones en compras totales.\n",
      "PDV 30116: 100.00% de uso de cupones en compras totales.\n",
      "PDV 30133: 88.68% de uso de cupones en compras totales.\n",
      "PDV 30208: 68.85% de uso de cupones en compras totales.\n",
      "PDV 30210: 80.13% de uso de cupones en compras totales.\n",
      "PDV 30233: 100.00% de uso de cupones en compras totales.\n",
      "PDV 30235: 100.00% de uso de cupones en compras totales.\n",
      "PDV 30238: 95.38% de uso de cupones en compras totales.\n",
      "PDV 30347: 100.00% de uso de cupones en compras totales.\n",
      "PDV 30351: 100.00% de uso de cupones en compras totales.\n",
      "PDV 30394: 100.00% de uso de cupones en compras totales.\n",
      "PDV 30462: 100.00% de uso de cupones en compras totales.\n",
      "PDV 30487: 100.00% de uso de cupones en compras totales.\n",
      "PDV 30497: 100.00% de uso de cupones en compras totales.\n",
      "PDV 30524: 100.00% de uso de cupones en compras totales.\n",
      "PDV 30562: 75.12% de uso de cupones en compras totales.\n",
      "PDV 30579: 100.00% de uso de cupones en compras totales.\n",
      "PDV 30638: 100.00% de uso de cupones en compras totales.\n",
      "PDV 30647: 100.00% de uso de cupones en compras totales.\n",
      "PDV 30719: 88.54% de uso de cupones en compras totales.\n",
      "PDV 30760: 68.39% de uso de cupones en compras totales.\n",
      "PDV 30795: 100.00% de uso de cupones en compras totales.\n",
      "PDV 30920: 62.26% de uso de cupones en compras totales.\n",
      "PDV 30968: 100.00% de uso de cupones en compras totales.\n",
      "PDV 31277: 100.00% de uso de cupones en compras totales.\n",
      "PDV 31361: 100.00% de uso de cupones en compras totales.\n",
      "PDV 31477: 100.00% de uso de cupones en compras totales.\n",
      "PDV 31489: 74.61% de uso de cupones en compras totales.\n",
      "PDV 31589: 100.00% de uso de cupones en compras totales.\n",
      "PDV 3225: 80.12% de uso de cupones en compras totales.\n",
      "PDV 3295: 100.00% de uso de cupones en compras totales.\n",
      "PDV 33107: 69.82% de uso de cupones en compras totales.\n",
      "PDV 3330: 95.21% de uso de cupones en compras totales.\n",
      "PDV 33558: 67.44% de uso de cupones en compras totales.\n",
      "PDV 34038: 69.30% de uso de cupones en compras totales.\n",
      "PDV 34211: 100.00% de uso de cupones en compras totales.\n",
      "PDV 3446: 100.00% de uso de cupones en compras totales.\n",
      "PDV 3476: 90.12% de uso de cupones en compras totales.\n",
      "PDV 350: 74.16% de uso de cupones en compras totales.\n",
      "PDV 36843: 96.91% de uso de cupones en compras totales.\n",
      "PDV 3879: 100.00% de uso de cupones en compras totales.\n",
      "PDV 39007: 100.00% de uso de cupones en compras totales.\n",
      "PDV 40013: 100.00% de uso de cupones en compras totales.\n",
      "PDV 40019: 100.00% de uso de cupones en compras totales.\n",
      "PDV 40036: 63.44% de uso de cupones en compras totales.\n",
      "PDV 40061: 100.00% de uso de cupones en compras totales.\n",
      "PDV 40087: 96.33% de uso de cupones en compras totales.\n",
      "PDV 40103: 100.00% de uso de cupones en compras totales.\n",
      "PDV 40253: 100.00% de uso de cupones en compras totales.\n",
      "PDV 4030: 100.00% de uso de cupones en compras totales.\n",
      "PDV 40323: 100.00% de uso de cupones en compras totales.\n",
      "PDV 40346: 100.00% de uso de cupones en compras totales.\n",
      "PDV 40390: 100.00% de uso de cupones en compras totales.\n",
      "PDV 4042: 100.00% de uso de cupones en compras totales.\n",
      "PDV 40434: 100.00% de uso de cupones en compras totales.\n",
      "PDV 40472: 100.00% de uso de cupones en compras totales.\n",
      "PDV 40499: 71.90% de uso de cupones en compras totales.\n",
      "PDV 405: 100.00% de uso de cupones en compras totales.\n",
      "PDV 40506: 62.69% de uso de cupones en compras totales.\n",
      "PDV 4051: 100.00% de uso de cupones en compras totales.\n",
      "PDV 40526: 100.00% de uso de cupones en compras totales.\n",
      "PDV 40541: 79.04% de uso de cupones en compras totales.\n",
      "PDV 4104: 100.00% de uso de cupones en compras totales.\n",
      "PDV 417: 100.00% de uso de cupones en compras totales.\n",
      "PDV 4249: 100.00% de uso de cupones en compras totales.\n",
      "PDV 44511: 100.00% de uso de cupones en compras totales.\n",
      "PDV 44564: 64.47% de uso de cupones en compras totales.\n",
      "PDV 44577: 64.58% de uso de cupones en compras totales.\n",
      "PDV 44579: 66.91% de uso de cupones en compras totales.\n",
      "PDV 450: 100.00% de uso de cupones en compras totales.\n",
      "PDV 48017: 100.00% de uso de cupones en compras totales.\n",
      "PDV 4835: 88.52% de uso de cupones en compras totales.\n",
      "PDV 511: 78.96% de uso de cupones en compras totales.\n",
      "PDV 51825: 100.00% de uso de cupones en compras totales.\n",
      "PDV 5345: 77.94% de uso de cupones en compras totales.\n",
      "PDV 54: 96.26% de uso de cupones en compras totales.\n",
      "PDV 601: 94.30% de uso de cupones en compras totales.\n",
      "PDV 618: 100.00% de uso de cupones en compras totales.\n",
      "PDV 619: 100.00% de uso de cupones en compras totales.\n",
      "PDV 628: 66.56% de uso de cupones en compras totales.\n",
      "PDV 6733: 100.00% de uso de cupones en compras totales.\n",
      "PDV 6779: 100.00% de uso de cupones en compras totales.\n",
      "PDV 679: 82.44% de uso de cupones en compras totales.\n",
      "PDV 6853: 100.00% de uso de cupones en compras totales.\n",
      "PDV 6891: 100.00% de uso de cupones en compras totales.\n",
      "PDV 6892: 100.00% de uso de cupones en compras totales.\n",
      "PDV 70062: 100.00% de uso de cupones en compras totales.\n",
      "PDV 70659: 100.00% de uso de cupones en compras totales.\n",
      "PDV 70756: 100.00% de uso de cupones en compras totales.\n",
      "PDV 71050: 70.75% de uso de cupones en compras totales.\n",
      "PDV 71399: 83.07% de uso de cupones en compras totales.\n",
      "PDV 71455: 100.00% de uso de cupones en compras totales.\n",
      "PDV 71724: 66.23% de uso de cupones en compras totales.\n",
      "PDV 72125: 95.09% de uso de cupones en compras totales.\n",
      "PDV 73: 100.00% de uso de cupones en compras totales.\n",
      "PDV 73024H: 100.00% de uso de cupones en compras totales.\n",
      "PDV 73074: 100.00% de uso de cupones en compras totales.\n",
      "PDV 73092: 66.29% de uso de cupones en compras totales.\n",
      "PDV 73269: 100.00% de uso de cupones en compras totales.\n",
      "PDV 73716: 60.71% de uso de cupones en compras totales.\n",
      "PDV 746: 71.96% de uso de cupones en compras totales.\n",
      "PDV 7581: 69.69% de uso de cupones en compras totales.\n",
      "PDV 76049: 100.00% de uso de cupones en compras totales.\n",
      "PDV 7627: 100.00% de uso de cupones en compras totales.\n",
      "PDV 76345: 80.35% de uso de cupones en compras totales.\n",
      "PDV 77204: 96.34% de uso de cupones en compras totales.\n",
      "PDV 77279: 100.00% de uso de cupones en compras totales.\n",
      "PDV 774: 83.77% de uso de cupones en compras totales.\n",
      "PDV 77554: 90.72% de uso de cupones en compras totales.\n",
      "PDV 77687: 74.77% de uso de cupones en compras totales.\n",
      "PDV 77760: 100.00% de uso de cupones en compras totales.\n",
      "PDV 7802: 96.46% de uso de cupones en compras totales.\n",
      "PDV 7853: 100.00% de uso de cupones en compras totales.\n",
      "PDV 7855: 100.00% de uso de cupones en compras totales.\n",
      "PDV 78761: 63.94% de uso de cupones en compras totales.\n",
      "PDV 78842: 98.44% de uso de cupones en compras totales.\n",
      "PDV 79067: 69.53% de uso de cupones en compras totales.\n",
      "PDV 79458: 100.00% de uso de cupones en compras totales.\n",
      "PDV 79463: 94.26% de uso de cupones en compras totales.\n",
      "PDV 79774: 92.98% de uso de cupones en compras totales.\n",
      "PDV 79947: 65.90% de uso de cupones en compras totales.\n",
      "PDV 80110: 67.08% de uso de cupones en compras totales.\n",
      "PDV 80534: 100.00% de uso de cupones en compras totales.\n",
      "PDV 80699: 100.00% de uso de cupones en compras totales.\n",
      "PDV 80820: 89.51% de uso de cupones en compras totales.\n",
      "PDV 81204: 67.39% de uso de cupones en compras totales.\n",
      "PDV 81232: 100.00% de uso de cupones en compras totales.\n",
      "PDV 82033: 100.00% de uso de cupones en compras totales.\n",
      "PDV 82097: 100.00% de uso de cupones en compras totales.\n",
      "PDV 82133: 100.00% de uso de cupones en compras totales.\n",
      "PDV 823: 60.09% de uso de cupones en compras totales.\n",
      "PDV 82465: 79.44% de uso de cupones en compras totales.\n",
      "PDV 8251: 100.00% de uso de cupones en compras totales.\n",
      "PDV 82621: 100.00% de uso de cupones en compras totales.\n",
      "PDV 82757: 100.00% de uso de cupones en compras totales.\n",
      "PDV 8325: 100.00% de uso de cupones en compras totales.\n",
      "PDV 840: 100.00% de uso de cupones en compras totales.\n",
      "PDV 85053: 60.26% de uso de cupones en compras totales.\n",
      "PDV 8521: 100.00% de uso de cupones en compras totales.\n",
      "PDV 85262: 100.00% de uso de cupones en compras totales.\n",
      "PDV 854: 100.00% de uso de cupones en compras totales.\n",
      "PDV 86788: 100.00% de uso de cupones en compras totales.\n",
      "PDV 8694: 100.00% de uso de cupones en compras totales.\n",
      "PDV 87: 100.00% de uso de cupones en compras totales.\n",
      "PDV 870: 100.00% de uso de cupones en compras totales.\n",
      "PDV 87033: 100.00% de uso de cupones en compras totales.\n",
      "PDV 88004: 100.00% de uso de cupones en compras totales.\n",
      "PDV 88017: 100.00% de uso de cupones en compras totales.\n",
      "PDV 88031: 100.00% de uso de cupones en compras totales.\n",
      "PDV 8884: 100.00% de uso de cupones en compras totales.\n",
      "PDV 89111: 75.44% de uso de cupones en compras totales.\n",
      "PDV 90026: 70.56% de uso de cupones en compras totales.\n",
      "PDV 90028: 100.00% de uso de cupones en compras totales.\n",
      "PDV 90058: 100.00% de uso de cupones en compras totales.\n",
      "PDV 90074: 100.00% de uso de cupones en compras totales.\n",
      "PDV 90111: 100.00% de uso de cupones en compras totales.\n",
      "PDV 90133: 100.00% de uso de cupones en compras totales.\n",
      "PDV 90154: 100.00% de uso de cupones en compras totales.\n",
      "PDV 90167: 100.00% de uso de cupones en compras totales.\n",
      "PDV 90191: 95.15% de uso de cupones en compras totales.\n",
      "PDV 90357: 100.00% de uso de cupones en compras totales.\n",
      "PDV 90358: 84.97% de uso de cupones en compras totales.\n",
      "PDV 90382: 100.00% de uso de cupones en compras totales.\n",
      "PDV 90394: 100.00% de uso de cupones en compras totales.\n",
      "PDV 90400: 100.00% de uso de cupones en compras totales.\n",
      "PDV 90412: 100.00% de uso de cupones en compras totales.\n",
      "PDV 90421: 90.71% de uso de cupones en compras totales.\n",
      "PDV 90426: 100.00% de uso de cupones en compras totales.\n",
      "PDV 90430: 95.15% de uso de cupones en compras totales.\n",
      "PDV 90444: 75.59% de uso de cupones en compras totales.\n",
      "PDV 90460: 100.00% de uso de cupones en compras totales.\n",
      "PDV 90486: 94.59% de uso de cupones en compras totales.\n",
      "PDV 90538: 100.00% de uso de cupones en compras totales.\n",
      "PDV 90594: 93.78% de uso de cupones en compras totales.\n",
      "PDV 90614: 100.00% de uso de cupones en compras totales.\n",
      "PDV 90624: 100.00% de uso de cupones en compras totales.\n",
      "PDV 90669: 100.00% de uso de cupones en compras totales.\n",
      "PDV 90671: 100.00% de uso de cupones en compras totales.\n",
      "PDV 90711: 89.11% de uso de cupones en compras totales.\n",
      "PDV 90750: 100.00% de uso de cupones en compras totales.\n",
      "PDV 90788: 80.51% de uso de cupones en compras totales.\n",
      "PDV 90820: 76.64% de uso de cupones en compras totales.\n",
      "PDV 90856: 100.00% de uso de cupones en compras totales.\n",
      "PDV 90892: 100.00% de uso de cupones en compras totales.\n",
      "PDV 90902: 100.00% de uso de cupones en compras totales.\n",
      "PDV 90903: 90.93% de uso de cupones en compras totales.\n",
      "PDV 90909: 100.00% de uso de cupones en compras totales.\n",
      "PDV 90914: 100.00% de uso de cupones en compras totales.\n",
      "PDV 91070: 67.77% de uso de cupones en compras totales.\n",
      "PDV 91176: 97.39% de uso de cupones en compras totales.\n",
      "PDV 91178: 87.24% de uso de cupones en compras totales.\n",
      "PDV 91200: 100.00% de uso de cupones en compras totales.\n",
      "PDV 91221: 100.00% de uso de cupones en compras totales.\n",
      "PDV 91243: 100.00% de uso de cupones en compras totales.\n",
      "PDV 91306: 95.46% de uso de cupones en compras totales.\n",
      "PDV 91342: 100.00% de uso de cupones en compras totales.\n",
      "PDV 91354: 100.00% de uso de cupones en compras totales.\n",
      "PDV 91397: 100.00% de uso de cupones en compras totales.\n",
      "PDV 91412: 100.00% de uso de cupones en compras totales.\n",
      "PDV 91425: 100.00% de uso de cupones en compras totales.\n",
      "PDV 91430: 97.10% de uso de cupones en compras totales.\n",
      "PDV 91438: 100.00% de uso de cupones en compras totales.\n",
      "PDV 91500: 100.00% de uso de cupones en compras totales.\n",
      "PDV 91515: 100.00% de uso de cupones en compras totales.\n",
      "PDV 91544: 92.13% de uso de cupones en compras totales.\n",
      "PDV 970: 100.00% de uso de cupones en compras totales.\n",
      "PDV 979: 99.74% de uso de cupones en compras totales.\n",
      "PDV 983: 64.07% de uso de cupones en compras totales.\n",
      "PDV 99901636: 71.35% de uso de cupones en compras totales.\n",
      "PDV C00275: 100.00% de uso de cupones en compras totales.\n",
      "PDV C00276: 80.81% de uso de cupones en compras totales.\n",
      "PDV C00382: 100.00% de uso de cupones en compras totales.\n",
      "PDV C00433: 100.00% de uso de cupones en compras totales.\n",
      "PDV C00582: 86.82% de uso de cupones en compras totales.\n",
      "PDV C00606: 100.00% de uso de cupones en compras totales.\n",
      "PDV C00697: 91.19% de uso de cupones en compras totales.\n",
      "PDV C00748: 87.16% de uso de cupones en compras totales.\n",
      "PDV C00766: 78.80% de uso de cupones en compras totales.\n",
      "PDV C00767: 79.19% de uso de cupones en compras totales.\n",
      "PDV C00783: 100.00% de uso de cupones en compras totales.\n",
      "PDV C00847: 73.32% de uso de cupones en compras totales.\n",
      "PDV C00979: 71.30% de uso de cupones en compras totales.\n",
      "PDV C01082: 100.00% de uso de cupones en compras totales.\n",
      "PDV C01096: 100.00% de uso de cupones en compras totales.\n",
      "PDV C01153: 77.51% de uso de cupones en compras totales.\n",
      "PDV C01172: 72.06% de uso de cupones en compras totales.\n",
      "PDV C01178: 77.06% de uso de cupones en compras totales.\n",
      "PDV C01300: 98.22% de uso de cupones en compras totales.\n",
      "PDV C01464: 100.00% de uso de cupones en compras totales.\n",
      "PDV C01595: 65.68% de uso de cupones en compras totales.\n",
      "PDV C01687: 100.00% de uso de cupones en compras totales.\n",
      "PDV C01709: 75.57% de uso de cupones en compras totales.\n",
      "PDV C01730: 100.00% de uso de cupones en compras totales.\n",
      "PDV C01759: 62.48% de uso de cupones en compras totales.\n",
      "PDV C01818: 76.01% de uso de cupones en compras totales.\n",
      "PDV C01962: 67.24% de uso de cupones en compras totales.\n",
      "PDV C02073: 100.00% de uso de cupones en compras totales.\n",
      "PDV C02094: 100.00% de uso de cupones en compras totales.\n",
      "PDV C02166: 100.00% de uso de cupones en compras totales.\n",
      "PDV C02268: 100.00% de uso de cupones en compras totales.\n",
      "PDV C02373: 100.00% de uso de cupones en compras totales.\n",
      "PDV C02383: 100.00% de uso de cupones en compras totales.\n",
      "PDV C02458: 100.00% de uso de cupones en compras totales.\n",
      "PDV C02504: 100.00% de uso de cupones en compras totales.\n",
      "PDV C02548: 100.00% de uso de cupones en compras totales.\n",
      "PDV C02601: 89.53% de uso de cupones en compras totales.\n",
      "PDV C02679: 67.16% de uso de cupones en compras totales.\n",
      "PDV C02795: 100.00% de uso de cupones en compras totales.\n",
      "PDV C02823: 65.42% de uso de cupones en compras totales.\n",
      "PDV C02892: 100.00% de uso de cupones en compras totales.\n",
      "PDV C02926: 73.30% de uso de cupones en compras totales.\n",
      "PDV C02939: 100.00% de uso de cupones en compras totales.\n",
      "PDV C02944: 71.43% de uso de cupones en compras totales.\n",
      "PDV C02980: 100.00% de uso de cupones en compras totales.\n",
      "PDV C02983: 62.80% de uso de cupones en compras totales.\n",
      "PDV C02984: 100.00% de uso de cupones en compras totales.\n",
      "PDV C02986: 99.40% de uso de cupones en compras totales.\n",
      "PDV C03107: 72.67% de uso de cupones en compras totales.\n",
      "PDV C03127: 100.00% de uso de cupones en compras totales.\n",
      "PDV C03137: 100.00% de uso de cupones en compras totales.\n",
      "PDV C03160: 100.00% de uso de cupones en compras totales.\n",
      "PDV C03168: 90.91% de uso de cupones en compras totales.\n",
      "PDV C03189: 75.75% de uso de cupones en compras totales.\n",
      "PDV C03313: 85.81% de uso de cupones en compras totales.\n",
      "PDV C03460: 100.00% de uso de cupones en compras totales.\n",
      "PDV C03571: 66.35% de uso de cupones en compras totales.\n",
      "PDV C03573: 64.97% de uso de cupones en compras totales.\n",
      "PDV C03612: 100.00% de uso de cupones en compras totales.\n",
      "PDV C03645: 100.00% de uso de cupones en compras totales.\n",
      "PDV C03722: 100.00% de uso de cupones en compras totales.\n",
      "PDV C03746: 72.59% de uso de cupones en compras totales.\n",
      "PDV C03780: 90.49% de uso de cupones en compras totales.\n",
      "PDV C03802: 100.00% de uso de cupones en compras totales.\n",
      "PDV C03821: 100.00% de uso de cupones en compras totales.\n",
      "PDV C03826: 81.74% de uso de cupones en compras totales.\n",
      "PDV C03840: 100.00% de uso de cupones en compras totales.\n",
      "PDV C03858: 87.87% de uso de cupones en compras totales.\n",
      "PDV C03864: 100.00% de uso de cupones en compras totales.\n",
      "PDV C03866: 75.84% de uso de cupones en compras totales.\n",
      "PDV C03898: 100.00% de uso de cupones en compras totales.\n",
      "PDV C03899: 100.00% de uso de cupones en compras totales.\n",
      "PDV C03932: 82.95% de uso de cupones en compras totales.\n",
      "PDV C03975: 100.00% de uso de cupones en compras totales.\n",
      "PDV C03987: 71.42% de uso de cupones en compras totales.\n",
      "PDV C04020: 100.00% de uso de cupones en compras totales.\n",
      "PDV C04031: 100.00% de uso de cupones en compras totales.\n",
      "PDV C04053: 100.00% de uso de cupones en compras totales.\n",
      "PDV C04055: 100.00% de uso de cupones en compras totales.\n",
      "PDV C04086: 100.00% de uso de cupones en compras totales.\n",
      "PDV C04099: 100.00% de uso de cupones en compras totales.\n",
      "PDV C04135: 100.00% de uso de cupones en compras totales.\n",
      "PDV C04205: 100.00% de uso de cupones en compras totales.\n",
      "PDV C04216: 100.00% de uso de cupones en compras totales.\n",
      "PDV C04217: 70.77% de uso de cupones en compras totales.\n",
      "PDV C04251: 100.00% de uso de cupones en compras totales.\n",
      "PDV C04352: 100.00% de uso de cupones en compras totales.\n",
      "PDV C04359: 78.99% de uso de cupones en compras totales.\n",
      "PDV C04432: 100.00% de uso de cupones en compras totales.\n",
      "PDV C04433: 78.59% de uso de cupones en compras totales.\n",
      "PDV C04505: 100.00% de uso de cupones en compras totales.\n",
      "PDV C04518: 100.00% de uso de cupones en compras totales.\n",
      "PDV C04546: 100.00% de uso de cupones en compras totales.\n",
      "PDV C04618: 100.00% de uso de cupones en compras totales.\n",
      "PDV C04735: 100.00% de uso de cupones en compras totales.\n",
      "PDV C04749: 64.73% de uso de cupones en compras totales.\n",
      "PDV C04778: 75.72% de uso de cupones en compras totales.\n",
      "PDV C04779: 66.01% de uso de cupones en compras totales.\n",
      "PDV C04795: 100.00% de uso de cupones en compras totales.\n",
      "PDV C04893: 100.00% de uso de cupones en compras totales.\n",
      "PDV C04902: 100.00% de uso de cupones en compras totales.\n",
      "PDV C04920: 86.25% de uso de cupones en compras totales.\n",
      "PDV C04942: 100.00% de uso de cupones en compras totales.\n",
      "PDV C04959: 92.43% de uso de cupones en compras totales.\n",
      "PDV C04974: 100.00% de uso de cupones en compras totales.\n",
      "PDV C05006: 100.00% de uso de cupones en compras totales.\n",
      "PDV C05042: 100.00% de uso de cupones en compras totales.\n",
      "PDV C05077: 100.00% de uso de cupones en compras totales.\n",
      "PDV C05093: 95.97% de uso de cupones en compras totales.\n",
      "PDV C05115: 100.00% de uso de cupones en compras totales.\n",
      "PDV C05132: 87.39% de uso de cupones en compras totales.\n",
      "PDV C05136: 100.00% de uso de cupones en compras totales.\n",
      "PDV C05175: 83.90% de uso de cupones en compras totales.\n",
      "PDV C05223: 100.00% de uso de cupones en compras totales.\n",
      "PDV C05225: 100.00% de uso de cupones en compras totales.\n",
      "PDV C05228: 90.34% de uso de cupones en compras totales.\n",
      "PDV C05236: 100.00% de uso de cupones en compras totales.\n",
      "PDV C05267: 100.00% de uso de cupones en compras totales.\n",
      "PDV C05367: 100.00% de uso de cupones en compras totales.\n",
      "PDV C05446: 60.58% de uso de cupones en compras totales.\n",
      "PDV C05457: 100.00% de uso de cupones en compras totales.\n",
      "PDV C05572: 66.74% de uso de cupones en compras totales.\n",
      "PDV C05621: 100.00% de uso de cupones en compras totales.\n",
      "PDV C05638: 78.59% de uso de cupones en compras totales.\n",
      "PDV C05739: 100.00% de uso de cupones en compras totales.\n",
      "PDV C05912: 76.74% de uso de cupones en compras totales.\n",
      "PDV C05918: 100.00% de uso de cupones en compras totales.\n",
      "PDV C05953: 97.39% de uso de cupones en compras totales.\n",
      "PDV C05954: 85.34% de uso de cupones en compras totales.\n",
      "PDV C05956: 100.00% de uso de cupones en compras totales.\n",
      "PDV C05976: 66.72% de uso de cupones en compras totales.\n",
      "PDV C06046: 67.39% de uso de cupones en compras totales.\n",
      "PDV C06048: 63.21% de uso de cupones en compras totales.\n",
      "PDV C06049: 100.00% de uso de cupones en compras totales.\n",
      "PDV C06051: 100.00% de uso de cupones en compras totales.\n",
      "PDV C06081: 78.90% de uso de cupones en compras totales.\n",
      "PDV C06093: 100.00% de uso de cupones en compras totales.\n",
      "PDV C06100: 90.53% de uso de cupones en compras totales.\n",
      "PDV C06126: 100.00% de uso de cupones en compras totales.\n",
      "PDV C06136: 100.00% de uso de cupones en compras totales.\n",
      "PDV C06152: 68.71% de uso de cupones en compras totales.\n",
      "PDV C06153: 100.00% de uso de cupones en compras totales.\n",
      "PDV C06174: 100.00% de uso de cupones en compras totales.\n",
      "PDV C06175: 100.00% de uso de cupones en compras totales.\n",
      "PDV C06176: 100.00% de uso de cupones en compras totales.\n",
      "PDV C06186: 73.35% de uso de cupones en compras totales.\n",
      "PDV C06189: 100.00% de uso de cupones en compras totales.\n",
      "PDV C06200: 100.00% de uso de cupones en compras totales.\n",
      "PDV C06204: 100.00% de uso de cupones en compras totales.\n",
      "PDV C06254: 100.00% de uso de cupones en compras totales.\n",
      "PDV C06267: 100.00% de uso de cupones en compras totales.\n",
      "PDV C06319: 78.00% de uso de cupones en compras totales.\n",
      "PDV C06365: 89.40% de uso de cupones en compras totales.\n",
      "PDV C06369: 100.00% de uso de cupones en compras totales.\n",
      "PDV C06400: 70.52% de uso de cupones en compras totales.\n",
      "PDV C06403: 80.34% de uso de cupones en compras totales.\n",
      "PDV C06407: 85.04% de uso de cupones en compras totales.\n",
      "PDV C06471: 100.00% de uso de cupones en compras totales.\n",
      "PDV C06473: 60.94% de uso de cupones en compras totales.\n",
      "PDV C06479: 60.86% de uso de cupones en compras totales.\n",
      "PDV C06509: 100.00% de uso de cupones en compras totales.\n",
      "PDV C06518: 75.73% de uso de cupones en compras totales.\n",
      "PDV C06581: 100.00% de uso de cupones en compras totales.\n",
      "PDV C06586: 100.00% de uso de cupones en compras totales.\n",
      "PDV C06598: 69.85% de uso de cupones en compras totales.\n",
      "PDV C06630: 64.53% de uso de cupones en compras totales.\n",
      "PDV C06633: 67.28% de uso de cupones en compras totales.\n",
      "PDV C06641: 100.00% de uso de cupones en compras totales.\n",
      "PDV C06653: 72.36% de uso de cupones en compras totales.\n",
      "PDV C06684: 76.23% de uso de cupones en compras totales.\n",
      "PDV C06704: 100.00% de uso de cupones en compras totales.\n",
      "PDV C06729: 100.00% de uso de cupones en compras totales.\n",
      "PDV C06732: 83.18% de uso de cupones en compras totales.\n",
      "PDV C06767: 65.17% de uso de cupones en compras totales.\n",
      "PDV C06787: 70.96% de uso de cupones en compras totales.\n",
      "PDV C06800: 84.45% de uso de cupones en compras totales.\n",
      "PDV C06828: 100.00% de uso de cupones en compras totales.\n",
      "PDV C06862: 100.00% de uso de cupones en compras totales.\n",
      "PDV C06893: 100.00% de uso de cupones en compras totales.\n",
      "PDV C06928: 100.00% de uso de cupones en compras totales.\n",
      "PDV C06946: 91.33% de uso de cupones en compras totales.\n",
      "PDV C06960: 81.86% de uso de cupones en compras totales.\n",
      "PDV C06983: 80.09% de uso de cupones en compras totales.\n",
      "PDV C06998: 100.00% de uso de cupones en compras totales.\n",
      "PDV C07011: 100.00% de uso de cupones en compras totales.\n",
      "PDV C07038: 100.00% de uso de cupones en compras totales.\n",
      "PDV C07057: 100.00% de uso de cupones en compras totales.\n",
      "PDV C07128: 92.38% de uso de cupones en compras totales.\n",
      "PDV C07144: 100.00% de uso de cupones en compras totales.\n",
      "PDV C07151: 100.00% de uso de cupones en compras totales.\n",
      "PDV C07158: 100.00% de uso de cupones en compras totales.\n",
      "PDV C07208: 100.00% de uso de cupones en compras totales.\n",
      "PDV C07239: 76.98% de uso de cupones en compras totales.\n",
      "PDV C07260: 82.07% de uso de cupones en compras totales.\n",
      "PDV C07274: 100.00% de uso de cupones en compras totales.\n",
      "PDV C07299: 100.00% de uso de cupones en compras totales.\n",
      "PDV C07418: 83.39% de uso de cupones en compras totales.\n",
      "PDV C07445: 100.00% de uso de cupones en compras totales.\n",
      "PDV C07459: 76.77% de uso de cupones en compras totales.\n",
      "PDV C07461: 100.00% de uso de cupones en compras totales.\n",
      "PDV C07471: 100.00% de uso de cupones en compras totales.\n",
      "PDV C07494: 76.56% de uso de cupones en compras totales.\n",
      "PDV C07504: 100.00% de uso de cupones en compras totales.\n",
      "PDV C07520: 100.00% de uso de cupones en compras totales.\n",
      "PDV C07577: 100.00% de uso de cupones en compras totales.\n",
      "PDV C07588: 100.00% de uso de cupones en compras totales.\n",
      "PDV C07607: 100.00% de uso de cupones en compras totales.\n",
      "PDV C07615: 100.00% de uso de cupones en compras totales.\n",
      "PDV C07637: 78.03% de uso de cupones en compras totales.\n",
      "PDV C07641: 100.00% de uso de cupones en compras totales.\n",
      "PDV C07665: 90.83% de uso de cupones en compras totales.\n",
      "PDV C07674: 100.00% de uso de cupones en compras totales.\n",
      "PDV C07675: 100.00% de uso de cupones en compras totales.\n",
      "PDV C07683: 64.41% de uso de cupones en compras totales.\n",
      "PDV C07719: 100.00% de uso de cupones en compras totales.\n",
      "PDV C07749: 70.04% de uso de cupones en compras totales.\n",
      "PDV C07778: 100.00% de uso de cupones en compras totales.\n",
      "PDV C07783: 82.63% de uso de cupones en compras totales.\n",
      "PDV C07810: 100.00% de uso de cupones en compras totales.\n",
      "PDV C07890: 100.00% de uso de cupones en compras totales.\n",
      "PDV C07943: 63.49% de uso de cupones en compras totales.\n",
      "PDV C07950: 68.22% de uso de cupones en compras totales.\n",
      "PDV C07972: 100.00% de uso de cupones en compras totales.\n",
      "PDV C07982: 100.00% de uso de cupones en compras totales.\n",
      "PDV C08021: 100.00% de uso de cupones en compras totales.\n",
      "PDV C08026: 100.00% de uso de cupones en compras totales.\n",
      "PDV C08062: 79.83% de uso de cupones en compras totales.\n",
      "PDV C08065: 89.90% de uso de cupones en compras totales.\n",
      "PDV C08066: 60.55% de uso de cupones en compras totales.\n",
      "PDV C08074: 66.52% de uso de cupones en compras totales.\n",
      "PDV C08109: 95.33% de uso de cupones en compras totales.\n",
      "PDV C08114: 100.00% de uso de cupones en compras totales.\n",
      "PDV C08125: 100.00% de uso de cupones en compras totales.\n",
      "PDV C08128: 70.03% de uso de cupones en compras totales.\n",
      "PDV C08132: 100.00% de uso de cupones en compras totales.\n",
      "PDV C08140: 100.00% de uso de cupones en compras totales.\n",
      "PDV C08163: 73.39% de uso de cupones en compras totales.\n",
      "PDV C08225: 100.00% de uso de cupones en compras totales.\n",
      "PDV C08233: 100.00% de uso de cupones en compras totales.\n",
      "PDV C08251: 94.41% de uso de cupones en compras totales.\n",
      "PDV C08308: 100.00% de uso de cupones en compras totales.\n",
      "PDV C08312: 62.01% de uso de cupones en compras totales.\n",
      "PDV C08322: 60.52% de uso de cupones en compras totales.\n",
      "PDV C08346: 100.00% de uso de cupones en compras totales.\n",
      "PDV C08371: 70.99% de uso de cupones en compras totales.\n",
      "PDV C08378: 62.79% de uso de cupones en compras totales.\n",
      "PDV C08389: 100.00% de uso de cupones en compras totales.\n",
      "PDV C08394: 100.00% de uso de cupones en compras totales.\n",
      "PDV C08396: 89.87% de uso de cupones en compras totales.\n",
      "PDV C08412: 100.00% de uso de cupones en compras totales.\n",
      "PDV C08413: 95.06% de uso de cupones en compras totales.\n",
      "PDV C08414: 100.00% de uso de cupones en compras totales.\n",
      "PDV C08417: 67.73% de uso de cupones en compras totales.\n",
      "PDV C08418: 100.00% de uso de cupones en compras totales.\n",
      "PDV C08419: 79.24% de uso de cupones en compras totales.\n",
      "PDV C08421: 82.16% de uso de cupones en compras totales.\n",
      "PDV C08425: 100.00% de uso de cupones en compras totales.\n",
      "PDV C08432: 100.00% de uso de cupones en compras totales.\n",
      "PDV C08436: 100.00% de uso de cupones en compras totales.\n",
      "PDV C08448: 66.28% de uso de cupones en compras totales.\n",
      "PDV C08451: 78.23% de uso de cupones en compras totales.\n",
      "PDV C08457: 80.79% de uso de cupones en compras totales.\n",
      "PDV C08466: 77.33% de uso de cupones en compras totales.\n",
      "PDV C08472: 100.00% de uso de cupones en compras totales.\n",
      "PDV C08479: 100.00% de uso de cupones en compras totales.\n",
      "PDV C08497: 100.00% de uso de cupones en compras totales.\n",
      "PDV C08509: 100.00% de uso de cupones en compras totales.\n",
      "PDV C08517: 100.00% de uso de cupones en compras totales.\n",
      "PDV C08543: 89.46% de uso de cupones en compras totales.\n",
      "PDV C08544: 83.35% de uso de cupones en compras totales.\n",
      "PDV C08546: 70.01% de uso de cupones en compras totales.\n",
      "PDV C08559: 100.00% de uso de cupones en compras totales.\n",
      "PDV C08569: 100.00% de uso de cupones en compras totales.\n",
      "PDV C08602: 100.00% de uso de cupones en compras totales.\n",
      "PDV C08604: 100.00% de uso de cupones en compras totales.\n",
      "PDV C08617: 100.00% de uso de cupones en compras totales.\n",
      "PDV C08621: 84.89% de uso de cupones en compras totales.\n",
      "PDV C08631: 100.00% de uso de cupones en compras totales.\n",
      "PDV C08633: 87.65% de uso de cupones en compras totales.\n",
      "PDV C08679: 100.00% de uso de cupones en compras totales.\n",
      "PDV C08693: 100.00% de uso de cupones en compras totales.\n",
      "PDV C08694: 76.93% de uso de cupones en compras totales.\n",
      "PDV C08723: 100.00% de uso de cupones en compras totales.\n",
      "PDV C08783: 97.27% de uso de cupones en compras totales.\n",
      "PDV C08791: 69.15% de uso de cupones en compras totales.\n",
      "PDV C08800: 100.00% de uso de cupones en compras totales.\n",
      "PDV C08807: 95.68% de uso de cupones en compras totales.\n",
      "PDV C08813: 100.00% de uso de cupones en compras totales.\n",
      "PDV C08822: 100.00% de uso de cupones en compras totales.\n",
      "PDV C08827: 80.33% de uso de cupones en compras totales.\n",
      "PDV C08853: 62.96% de uso de cupones en compras totales.\n",
      "PDV C08876: 100.00% de uso de cupones en compras totales.\n",
      "PDV C08877: 100.00% de uso de cupones en compras totales.\n",
      "PDV C08884: 70.54% de uso de cupones en compras totales.\n",
      "PDV C08921: 100.00% de uso de cupones en compras totales.\n",
      "PDV C08928: 100.00% de uso de cupones en compras totales.\n",
      "PDV C08937: 100.00% de uso de cupones en compras totales.\n",
      "PDV C08966: 75.98% de uso de cupones en compras totales.\n",
      "PDV C08967: 96.96% de uso de cupones en compras totales.\n",
      "PDV C09008: 100.00% de uso de cupones en compras totales.\n",
      "PDV C09024: 71.06% de uso de cupones en compras totales.\n",
      "PDV C09037: 71.53% de uso de cupones en compras totales.\n",
      "PDV C09050: 70.86% de uso de cupones en compras totales.\n",
      "PDV C09061: 100.00% de uso de cupones en compras totales.\n",
      "PDV C09069: 78.33% de uso de cupones en compras totales.\n",
      "PDV C09072: 100.00% de uso de cupones en compras totales.\n",
      "PDV C09085: 100.00% de uso de cupones en compras totales.\n",
      "PDV C09087: 63.55% de uso de cupones en compras totales.\n",
      "PDV C09095: 72.87% de uso de cupones en compras totales.\n",
      "PDV C09116: 100.00% de uso de cupones en compras totales.\n",
      "PDV C09135: 100.00% de uso de cupones en compras totales.\n",
      "PDV C09153: 100.00% de uso de cupones en compras totales.\n",
      "PDV C09173: 100.00% de uso de cupones en compras totales.\n",
      "PDV C09183: 100.00% de uso de cupones en compras totales.\n",
      "PDV C09194: 90.65% de uso de cupones en compras totales.\n",
      "PDV C09197: 100.00% de uso de cupones en compras totales.\n",
      "PDV C09211: 61.46% de uso de cupones en compras totales.\n",
      "PDV C09219: 100.00% de uso de cupones en compras totales.\n",
      "PDV C09221: 100.00% de uso de cupones en compras totales.\n",
      "PDV C09227: 86.72% de uso de cupones en compras totales.\n",
      "PDV C09257: 100.00% de uso de cupones en compras totales.\n",
      "PDV C09264: 100.00% de uso de cupones en compras totales.\n",
      "PDV C09272: 100.00% de uso de cupones en compras totales.\n",
      "PDV C09273: 100.00% de uso de cupones en compras totales.\n",
      "PDV C09278: 63.21% de uso de cupones en compras totales.\n",
      "PDV C09285: 100.00% de uso de cupones en compras totales.\n",
      "PDV C09291: 66.74% de uso de cupones en compras totales.\n",
      "PDV C09294: 100.00% de uso de cupones en compras totales.\n",
      "PDV C09296: 100.00% de uso de cupones en compras totales.\n",
      "PDV C09297: 100.00% de uso de cupones en compras totales.\n",
      "PDV C09336: 66.92% de uso de cupones en compras totales.\n",
      "PDV C09343: 100.00% de uso de cupones en compras totales.\n",
      "PDV C09352: 86.54% de uso de cupones en compras totales.\n",
      "PDV C09359: 100.00% de uso de cupones en compras totales.\n",
      "PDV C09366: 100.00% de uso de cupones en compras totales.\n",
      "PDV C09374: 85.75% de uso de cupones en compras totales.\n",
      "PDV C09399: 100.00% de uso de cupones en compras totales.\n",
      "PDV C09416: 67.54% de uso de cupones en compras totales.\n",
      "PDV C09462: 100.00% de uso de cupones en compras totales.\n",
      "PDV C09464: 100.00% de uso de cupones en compras totales.\n",
      "PDV C09465: 100.00% de uso de cupones en compras totales.\n",
      "PDV C09489: 64.13% de uso de cupones en compras totales.\n",
      "PDV C09490: 60.97% de uso de cupones en compras totales.\n",
      "PDV C09494: 88.26% de uso de cupones en compras totales.\n",
      "PDV C09506: 91.57% de uso de cupones en compras totales.\n",
      "PDV C09531: 63.41% de uso de cupones en compras totales.\n",
      "PDV C09536: 100.00% de uso de cupones en compras totales.\n",
      "PDV C09559: 67.60% de uso de cupones en compras totales.\n",
      "PDV C09573: 100.00% de uso de cupones en compras totales.\n",
      "PDV C09582: 64.89% de uso de cupones en compras totales.\n",
      "PDV C09596: 100.00% de uso de cupones en compras totales.\n",
      "PDV C09622: 100.00% de uso de cupones en compras totales.\n",
      "PDV C09623: 100.00% de uso de cupones en compras totales.\n",
      "PDV C09630: 100.00% de uso de cupones en compras totales.\n",
      "PDV C09638: 77.64% de uso de cupones en compras totales.\n",
      "PDV C09650: 83.61% de uso de cupones en compras totales.\n",
      "PDV C09665: 100.00% de uso de cupones en compras totales.\n",
      "PDV C09697: 100.00% de uso de cupones en compras totales.\n",
      "PDV C09735: 100.00% de uso de cupones en compras totales.\n",
      "PDV C09742: 100.00% de uso de cupones en compras totales.\n",
      "PDV C09770: 100.00% de uso de cupones en compras totales.\n",
      "PDV C09779: 100.00% de uso de cupones en compras totales.\n",
      "PDV C09811: 100.00% de uso de cupones en compras totales.\n",
      "PDV C09838: 80.11% de uso de cupones en compras totales.\n",
      "PDV C09864: 84.94% de uso de cupones en compras totales.\n",
      "PDV C09879: 60.97% de uso de cupones en compras totales.\n",
      "PDV C09893: 100.00% de uso de cupones en compras totales.\n",
      "PDV C09910: 94.14% de uso de cupones en compras totales.\n",
      "PDV C09945: 100.00% de uso de cupones en compras totales.\n",
      "PDV C09950: 87.18% de uso de cupones en compras totales.\n",
      "PDV C09955: 83.29% de uso de cupones en compras totales.\n",
      "PDV C09960: 100.00% de uso de cupones en compras totales.\n",
      "PDV C09968: 69.58% de uso de cupones en compras totales.\n",
      "PDV C09978: 100.00% de uso de cupones en compras totales.\n",
      "PDV C09986: 79.96% de uso de cupones en compras totales.\n",
      "PDV C09987: 90.80% de uso de cupones en compras totales.\n",
      "PDV C10013: 72.94% de uso de cupones en compras totales.\n",
      "PDV C10015: 100.00% de uso de cupones en compras totales.\n",
      "PDV C10017: 100.00% de uso de cupones en compras totales.\n",
      "PDV C10019: 100.00% de uso de cupones en compras totales.\n",
      "PDV C10024: 72.16% de uso de cupones en compras totales.\n",
      "PDV C10035: 100.00% de uso de cupones en compras totales.\n",
      "PDV C10038: 100.00% de uso de cupones en compras totales.\n",
      "PDV C10040: 100.00% de uso de cupones en compras totales.\n",
      "PDV C10045: 100.00% de uso de cupones en compras totales.\n",
      "PDV C10047: 100.00% de uso de cupones en compras totales.\n",
      "PDV C10054: 100.00% de uso de cupones en compras totales.\n",
      "PDV C10057: 100.00% de uso de cupones en compras totales.\n",
      "PDV C10060: 100.00% de uso de cupones en compras totales.\n",
      "PDV C10074: 92.76% de uso de cupones en compras totales.\n",
      "PDV C10078: 91.51% de uso de cupones en compras totales.\n",
      "PDV C10079: 81.59% de uso de cupones en compras totales.\n",
      "PDV C10093: 91.67% de uso de cupones en compras totales.\n",
      "PDV C10094: 100.00% de uso de cupones en compras totales.\n",
      "PDV C10109: 100.00% de uso de cupones en compras totales.\n",
      "PDV C10112: 100.00% de uso de cupones en compras totales.\n",
      "PDV C10119: 100.00% de uso de cupones en compras totales.\n",
      "PDV C10142: 100.00% de uso de cupones en compras totales.\n",
      "PDV C10151: 100.00% de uso de cupones en compras totales.\n",
      "PDV C10152: 100.00% de uso de cupones en compras totales.\n",
      "PDV C10156: 63.96% de uso de cupones en compras totales.\n",
      "PDV C10180: 85.60% de uso de cupones en compras totales.\n",
      "PDV C10257: 100.00% de uso de cupones en compras totales.\n",
      "PDV C10258: 87.39% de uso de cupones en compras totales.\n",
      "PDV C10294: 100.00% de uso de cupones en compras totales.\n",
      "PDV C10297: 90.64% de uso de cupones en compras totales.\n",
      "PDV C10299: 79.24% de uso de cupones en compras totales.\n",
      "PDV C10300: 100.00% de uso de cupones en compras totales.\n",
      "PDV C10302: 83.19% de uso de cupones en compras totales.\n",
      "PDV C10312: 100.00% de uso de cupones en compras totales.\n",
      "PDV C10330: 100.00% de uso de cupones en compras totales.\n",
      "PDV C10363: 100.00% de uso de cupones en compras totales.\n",
      "PDV C10371: 84.03% de uso de cupones en compras totales.\n",
      "PDV C10382: 100.00% de uso de cupones en compras totales.\n",
      "PDV C10387: 100.00% de uso de cupones en compras totales.\n",
      "PDV C10400: 65.46% de uso de cupones en compras totales.\n",
      "PDV C10403: 100.00% de uso de cupones en compras totales.\n",
      "PDV C10409: 100.00% de uso de cupones en compras totales.\n",
      "PDV C10412: 100.00% de uso de cupones en compras totales.\n",
      "PDV C10415: 100.00% de uso de cupones en compras totales.\n",
      "PDV C10419: 69.55% de uso de cupones en compras totales.\n",
      "PDV C10424: 100.00% de uso de cupones en compras totales.\n",
      "PDV C10472: 100.00% de uso de cupones en compras totales.\n",
      "PDV C10477: 100.00% de uso de cupones en compras totales.\n",
      "PDV C10538: 70.96% de uso de cupones en compras totales.\n",
      "PDV C10544: 100.00% de uso de cupones en compras totales.\n",
      "PDV C10557: 100.00% de uso de cupones en compras totales.\n",
      "PDV C10572: 72.45% de uso de cupones en compras totales.\n",
      "PDV C10641: 100.00% de uso de cupones en compras totales.\n",
      "PDV C10675: 74.39% de uso de cupones en compras totales.\n",
      "PDV C10676: 100.00% de uso de cupones en compras totales.\n",
      "PDV C10679: 77.35% de uso de cupones en compras totales.\n",
      "PDV C10735: 100.00% de uso de cupones en compras totales.\n",
      "PDV C10748: 100.00% de uso de cupones en compras totales.\n",
      "PDV C10764: 83.57% de uso de cupones en compras totales.\n",
      "PDV C10765: 100.00% de uso de cupones en compras totales.\n",
      "PDV C10768: 75.30% de uso de cupones en compras totales.\n",
      "PDV C10783: 100.00% de uso de cupones en compras totales.\n",
      "PDV C10802: 71.93% de uso de cupones en compras totales.\n",
      "PDV C10812: 61.01% de uso de cupones en compras totales.\n",
      "PDV C10825: 100.00% de uso de cupones en compras totales.\n",
      "PDV C10826: 100.00% de uso de cupones en compras totales.\n",
      "PDV C10836: 100.00% de uso de cupones en compras totales.\n",
      "PDV C10843: 100.00% de uso de cupones en compras totales.\n",
      "PDV C10856: 74.73% de uso de cupones en compras totales.\n",
      "PDV C10864: 100.00% de uso de cupones en compras totales.\n",
      "PDV C10879: 71.16% de uso de cupones en compras totales.\n",
      "PDV C10920: 100.00% de uso de cupones en compras totales.\n",
      "PDV C10924: 100.00% de uso de cupones en compras totales.\n",
      "PDV C10953: 65.57% de uso de cupones en compras totales.\n",
      "PDV C10965: 100.00% de uso de cupones en compras totales.\n",
      "PDV C10977: 100.00% de uso de cupones en compras totales.\n",
      "PDV C10995: 100.00% de uso de cupones en compras totales.\n",
      "PDV C10998: 100.00% de uso de cupones en compras totales.\n",
      "PDV C11064: 100.00% de uso de cupones en compras totales.\n",
      "PDV C11071: 100.00% de uso de cupones en compras totales.\n",
      "PDV C11180: 64.94% de uso de cupones en compras totales.\n",
      "PDV CLI0019123: 60.78% de uso de cupones en compras totales.\n",
      "PDV CLI0019179: 60.38% de uso de cupones en compras totales.\n",
      "PDV CLI0019566: 70.36% de uso de cupones en compras totales.\n",
      "PDV CLI0019987: 88.92% de uso de cupones en compras totales.\n",
      "PDV CLI0020260: 60.79% de uso de cupones en compras totales.\n",
      "PDV CLI0020427: 73.92% de uso de cupones en compras totales.\n",
      "PDV CLI0020482: 69.70% de uso de cupones en compras totales.\n",
      "PDV CLI0020625: 65.88% de uso de cupones en compras totales.\n",
      "PDV CLI0020820: 71.51% de uso de cupones en compras totales.\n",
      "PDV CLI0020822: 94.90% de uso de cupones en compras totales.\n",
      "PDV CLI0020845: 76.49% de uso de cupones en compras totales.\n",
      "PDV CLI0020970: 88.12% de uso de cupones en compras totales.\n",
      "PDV CLI0020972: 90.18% de uso de cupones en compras totales.\n",
      "PDV CLI0021232: 64.39% de uso de cupones en compras totales.\n",
      "PDV CLI0021248: 63.05% de uso de cupones en compras totales.\n",
      "PDV CLI0021457: 71.33% de uso de cupones en compras totales.\n",
      "PDV CLI0021573: 75.92% de uso de cupones en compras totales.\n",
      "PDV CLI0021720: 66.58% de uso de cupones en compras totales.\n",
      "PDV CLI0021812: 61.45% de uso de cupones en compras totales.\n",
      "PDV CLI0021821: 73.04% de uso de cupones en compras totales.\n",
      "PDV CLI0022123: 66.42% de uso de cupones en compras totales.\n",
      "PDV CLI0022438: 62.12% de uso de cupones en compras totales.\n",
      "PDV CLI0022477: 63.30% de uso de cupones en compras totales.\n",
      "PDV CLI0022655: 84.74% de uso de cupones en compras totales.\n",
      "PDV CLI0022755: 93.77% de uso de cupones en compras totales.\n",
      "PDV CLI0022788: 60.34% de uso de cupones en compras totales.\n",
      "PDV CLI0022793: 73.06% de uso de cupones en compras totales.\n",
      "PDV CLI0022880: 63.59% de uso de cupones en compras totales.\n",
      "PDV CLI0022926: 61.01% de uso de cupones en compras totales.\n",
      "PDV CLI0022985: 64.70% de uso de cupones en compras totales.\n",
      "PDV CLI0022990: 66.42% de uso de cupones en compras totales.\n",
      "PDV CLI0023033: 72.34% de uso de cupones en compras totales.\n",
      "PDV CLI0023144: 94.60% de uso de cupones en compras totales.\n",
      "PDV CLI0023146: 89.96% de uso de cupones en compras totales.\n",
      "PDV CLI0023166: 62.46% de uso de cupones en compras totales.\n",
      "PDV CLI0023180: 100.00% de uso de cupones en compras totales.\n",
      "PDV CLI0023181: 90.11% de uso de cupones en compras totales.\n",
      "PDV CLI0023187: 87.01% de uso de cupones en compras totales.\n",
      "PDV CLI0023196: 65.44% de uso de cupones en compras totales.\n",
      "PDV CLI0023206: 82.11% de uso de cupones en compras totales.\n",
      "PDV CLI0023220: 85.42% de uso de cupones en compras totales.\n",
      "PDV CLI0023245: 63.38% de uso de cupones en compras totales.\n",
      "PDV CLI0023250: 85.33% de uso de cupones en compras totales.\n",
      "PDV CLI0023258: 63.53% de uso de cupones en compras totales.\n",
      "PDV CLI0023266: 100.00% de uso de cupones en compras totales.\n",
      "PDV CLI0023300: 67.28% de uso de cupones en compras totales.\n",
      "PDV CLI0023316: 83.23% de uso de cupones en compras totales.\n",
      "PDV CLI0023338: 63.28% de uso de cupones en compras totales.\n",
      "PDV CLI0023394: 85.90% de uso de cupones en compras totales.\n",
      "PDV CLI0023397: 63.68% de uso de cupones en compras totales.\n",
      "PDV CLI0023420: 61.89% de uso de cupones en compras totales.\n",
      "PDV CLI0023433: 62.12% de uso de cupones en compras totales.\n",
      "PDV CLI0023463: 84.33% de uso de cupones en compras totales.\n",
      "PDV CLI0023479: 94.16% de uso de cupones en compras totales.\n",
      "PDV CLI0023506: 72.83% de uso de cupones en compras totales.\n",
      "PDV CLI0023513: 60.64% de uso de cupones en compras totales.\n",
      "PDV CLI0023520: 62.99% de uso de cupones en compras totales.\n",
      "PDV CLI0023529: 66.19% de uso de cupones en compras totales.\n",
      "PDV CLI0023568: 63.65% de uso de cupones en compras totales.\n",
      "PDV CLI0023632: 66.16% de uso de cupones en compras totales.\n",
      "PDV CLI0023676: 63.11% de uso de cupones en compras totales.\n",
      "PDV CLI0023770: 86.79% de uso de cupones en compras totales.\n",
      "PDV CLI0023826: 75.17% de uso de cupones en compras totales.\n",
      "PDV CLI0023916: 69.90% de uso de cupones en compras totales.\n",
      "PDV CLI0024080: 79.25% de uso de cupones en compras totales.\n",
      "PDV CLI0024115: 61.13% de uso de cupones en compras totales.\n",
      "PDV CLI0024316: 81.73% de uso de cupones en compras totales.\n",
      "PDV CLI0024378: 93.73% de uso de cupones en compras totales.\n",
      "PDV CLI0024443: 75.19% de uso de cupones en compras totales.\n",
      "PDV CLI0024875: 99.10% de uso de cupones en compras totales.\n",
      "PDV CLI0024931: 89.46% de uso de cupones en compras totales.\n",
      "PDV CLI0025011: 64.55% de uso de cupones en compras totales.\n",
      "PDV CLI0025137: 61.73% de uso de cupones en compras totales.\n",
      "PDV CLI0025210: 67.03% de uso de cupones en compras totales.\n",
      "PDV CLI0025298: 83.93% de uso de cupones en compras totales.\n",
      "PDV CLI0025369: 76.98% de uso de cupones en compras totales.\n",
      "PDV CLI0025773: 100.00% de uso de cupones en compras totales.\n",
      "PDV CLI0025785: 82.65% de uso de cupones en compras totales.\n",
      "PDV CLI0025835: 67.73% de uso de cupones en compras totales.\n",
      "PDV CLI0026016: 98.69% de uso de cupones en compras totales.\n",
      "PDV CLI0026152: 86.58% de uso de cupones en compras totales.\n",
      "PDV CLI0026195: 100.00% de uso de cupones en compras totales.\n",
      "PDV CLI0026508: 67.67% de uso de cupones en compras totales.\n",
      "PDV CLI0026511: 75.15% de uso de cupones en compras totales.\n",
      "PDV CLI0026802: 84.10% de uso de cupones en compras totales.\n",
      "PDV CLI0026808: 68.11% de uso de cupones en compras totales.\n",
      "PDV CLI0027054: 77.66% de uso de cupones en compras totales.\n",
      "PDV CLI0027074: 81.46% de uso de cupones en compras totales.\n",
      "PDV CLI0027085: 100.00% de uso de cupones en compras totales.\n",
      "PDV CLI0027130: 67.47% de uso de cupones en compras totales.\n",
      "PDV CLI0027233: 86.32% de uso de cupones en compras totales.\n",
      "PDV CLI0027235: 70.18% de uso de cupones en compras totales.\n",
      "PDV CLI0027269: 61.81% de uso de cupones en compras totales.\n",
      "PDV CLI0027371: 76.43% de uso de cupones en compras totales.\n",
      "PDV CLI0027768: 76.89% de uso de cupones en compras totales.\n",
      "PDV CLI0027936: 62.32% de uso de cupones en compras totales.\n",
      "PDV CLI0027959: 62.46% de uso de cupones en compras totales.\n",
      "PDV CLI0027980: 61.10% de uso de cupones en compras totales.\n",
      "PDV CLI0028000: 69.81% de uso de cupones en compras totales.\n",
      "PDV CLI0028316: 90.97% de uso de cupones en compras totales.\n",
      "PDV CLI0028649: 64.83% de uso de cupones en compras totales.\n",
      "PDV CLI0029388: 100.00% de uso de cupones en compras totales.\n",
      "PDV CLI0030061: 100.00% de uso de cupones en compras totales.\n",
      "PDV CLI0030827: 81.70% de uso de cupones en compras totales.\n",
      "PDV CLI0030828: 80.20% de uso de cupones en compras totales.\n",
      "PDV CLI0032319: 67.06% de uso de cupones en compras totales.\n",
      "PDV CLI0032380: 85.04% de uso de cupones en compras totales.\n",
      "PDV CLI0032462: 100.00% de uso de cupones en compras totales.\n",
      "PDV CLI0032556: 70.77% de uso de cupones en compras totales.\n",
      "PDV CLI0034185: 82.32% de uso de cupones en compras totales.\n",
      "PDV CLI0034713: 60.82% de uso de cupones en compras totales.\n",
      "PDV CLI0036693: 100.00% de uso de cupones en compras totales.\n",
      "PDV CLI0036705: 100.00% de uso de cupones en compras totales.\n",
      "PDV CLI0036723: 95.74% de uso de cupones en compras totales.\n",
      "PDV CLI0036735: 62.26% de uso de cupones en compras totales.\n",
      "PDV CLI0036750: 78.89% de uso de cupones en compras totales.\n",
      "PDV CLI0036757: 100.00% de uso de cupones en compras totales.\n",
      "PDV CLI0036788: 87.90% de uso de cupones en compras totales.\n",
      "PDV CLI0036792: 100.00% de uso de cupones en compras totales.\n",
      "PDV CLI0036802: 74.13% de uso de cupones en compras totales.\n",
      "PDV CLI0036804: 82.54% de uso de cupones en compras totales.\n",
      "PDV CLI0036814: 76.93% de uso de cupones en compras totales.\n",
      "PDV CLI0036815: 80.90% de uso de cupones en compras totales.\n",
      "PDV CLI0036831: 100.00% de uso de cupones en compras totales.\n",
      "PDV CLI0036870: 97.19% de uso de cupones en compras totales.\n",
      "PDV CLI0036878: 79.85% de uso de cupones en compras totales.\n",
      "PDV CLI0036888: 73.84% de uso de cupones en compras totales.\n",
      "PDV CLI0036933: 100.00% de uso de cupones en compras totales.\n",
      "PDV CLI0037070: 65.61% de uso de cupones en compras totales.\n",
      "PDV CLI0037072: 100.00% de uso de cupones en compras totales.\n",
      "PDV CLI0037078: 94.68% de uso de cupones en compras totales.\n",
      "PDV CLI0037080: 69.61% de uso de cupones en compras totales.\n",
      "PDV CLI0037094: 98.03% de uso de cupones en compras totales.\n",
      "PDV CLI0037105: 73.85% de uso de cupones en compras totales.\n",
      "PDV CLI0037112: 100.00% de uso de cupones en compras totales.\n",
      "PDV CLI0037161: 73.65% de uso de cupones en compras totales.\n",
      "PDV CLI0037165: 89.22% de uso de cupones en compras totales.\n",
      "PDV CLI0037178: 61.47% de uso de cupones en compras totales.\n",
      "PDV CLI0037203: 100.00% de uso de cupones en compras totales.\n",
      "PDV CLI0037223: 97.29% de uso de cupones en compras totales.\n",
      "PDV CLI0037277: 79.40% de uso de cupones en compras totales.\n",
      "PDV CLI0037293: 87.65% de uso de cupones en compras totales.\n",
      "PDV CLI0037336: 64.31% de uso de cupones en compras totales.\n",
      "PDV CLI0037372: 67.46% de uso de cupones en compras totales.\n",
      "PDV CLI0037419: 100.00% de uso de cupones en compras totales.\n",
      "PDV CLI0037454: 79.92% de uso de cupones en compras totales.\n",
      "PDV CLI0037483: 61.61% de uso de cupones en compras totales.\n",
      "PDV CLI0037487: 100.00% de uso de cupones en compras totales.\n",
      "PDV CLI0037493: 85.18% de uso de cupones en compras totales.\n",
      "PDV CLI0037497: 70.49% de uso de cupones en compras totales.\n",
      "PDV CLI0037504: 65.56% de uso de cupones en compras totales.\n",
      "PDV CLI0037560: 63.96% de uso de cupones en compras totales.\n",
      "PDV CLI0037568: 76.66% de uso de cupones en compras totales.\n",
      "PDV CLI0037574: 63.86% de uso de cupones en compras totales.\n",
      "PDV CLI0037577: 100.00% de uso de cupones en compras totales.\n",
      "PDV CLI0037584: 93.59% de uso de cupones en compras totales.\n",
      "PDV CLI0037591: 62.68% de uso de cupones en compras totales.\n",
      "PDV CLI0037602: 74.51% de uso de cupones en compras totales.\n",
      "PDV CLI0037606: 64.62% de uso de cupones en compras totales.\n",
      "PDV CLI0037629: 100.00% de uso de cupones en compras totales.\n",
      "PDV CLI0037634: 81.95% de uso de cupones en compras totales.\n",
      "PDV CLI0037643: 100.00% de uso de cupones en compras totales.\n",
      "PDV CLI0037667: 71.23% de uso de cupones en compras totales.\n",
      "PDV CLI0037804: 72.60% de uso de cupones en compras totales.\n",
      "PDV CLI0037805: 86.53% de uso de cupones en compras totales.\n",
      "PDV CLI0037831: 64.47% de uso de cupones en compras totales.\n",
      "PDV CLI0037847: 75.53% de uso de cupones en compras totales.\n",
      "PDV CLI0037851: 62.81% de uso de cupones en compras totales.\n",
      "PDV CLI0037864: 62.25% de uso de cupones en compras totales.\n",
      "PDV CLI0037883: 100.00% de uso de cupones en compras totales.\n",
      "PDV CLI0037903: 71.92% de uso de cupones en compras totales.\n",
      "PDV CLI0037909: 63.29% de uso de cupones en compras totales.\n",
      "PDV CLI0037916: 100.00% de uso de cupones en compras totales.\n",
      "PDV CLI0037939: 100.00% de uso de cupones en compras totales.\n",
      "PDV CLI0037962: 100.00% de uso de cupones en compras totales.\n",
      "PDV CLI0037964: 64.18% de uso de cupones en compras totales.\n",
      "PDV CLI0037972: 90.98% de uso de cupones en compras totales.\n",
      "PDV CLI0038109: 87.94% de uso de cupones en compras totales.\n",
      "PDV CLI0038120: 89.20% de uso de cupones en compras totales.\n",
      "PDV CLI0038121: 100.00% de uso de cupones en compras totales.\n",
      "PDV CLI0038135: 100.00% de uso de cupones en compras totales.\n",
      "PDV CLI0038232: 81.76% de uso de cupones en compras totales.\n",
      "PDV CLI0038239: 65.02% de uso de cupones en compras totales.\n",
      "PDV CLI0038247: 100.00% de uso de cupones en compras totales.\n",
      "PDV CLI0038305: 75.85% de uso de cupones en compras totales.\n",
      "PDV CLI0038309: 65.54% de uso de cupones en compras totales.\n",
      "PDV CLI0038316: 70.35% de uso de cupones en compras totales.\n",
      "PDV CLI0038356: 77.43% de uso de cupones en compras totales.\n",
      "PDV CLI0038389: 71.14% de uso de cupones en compras totales.\n",
      "PDV CLI0038394: 64.01% de uso de cupones en compras totales.\n",
      "PDV CLI0038399: 61.27% de uso de cupones en compras totales.\n",
      "PDV CLI0038543: 79.78% de uso de cupones en compras totales.\n",
      "PDV CLI0038585: 64.47% de uso de cupones en compras totales.\n",
      "PDV CLI0038647: 68.47% de uso de cupones en compras totales.\n",
      "PDV CLI0038657: 67.84% de uso de cupones en compras totales.\n",
      "PDV CLI0038661: 86.00% de uso de cupones en compras totales.\n",
      "PDV CLI0038690: 62.04% de uso de cupones en compras totales.\n",
      "PDV CLI0038703: 75.96% de uso de cupones en compras totales.\n",
      "PDV CLI0038705: 93.85% de uso de cupones en compras totales.\n",
      "PDV CLI0038735: 82.21% de uso de cupones en compras totales.\n",
      "PDV CLI0038831: 91.10% de uso de cupones en compras totales.\n",
      "PDV CLI0038868: 96.38% de uso de cupones en compras totales.\n",
      "PDV CLI0038888: 94.94% de uso de cupones en compras totales.\n",
      "PDV CLI0038913: 94.96% de uso de cupones en compras totales.\n",
      "PDV CLI0038919: 62.72% de uso de cupones en compras totales.\n",
      "PDV CLI0038943: 80.80% de uso de cupones en compras totales.\n",
      "PDV CLI0038944: 63.71% de uso de cupones en compras totales.\n",
      "PDV CLI0038960: 100.00% de uso de cupones en compras totales.\n",
      "PDV CLI0038966: 75.42% de uso de cupones en compras totales.\n",
      "PDV CLI0039027: 93.08% de uso de cupones en compras totales.\n",
      "PDV CLI0039082: 64.45% de uso de cupones en compras totales.\n",
      "PDV CLI0039139: 100.00% de uso de cupones en compras totales.\n",
      "PDV CLI0039161: 70.47% de uso de cupones en compras totales.\n",
      "PDV CLI0039168: 80.50% de uso de cupones en compras totales.\n",
      "PDV CLI0039181: 100.00% de uso de cupones en compras totales.\n",
      "PDV CLI0039184: 100.00% de uso de cupones en compras totales.\n",
      "PDV CLI0039186: 100.00% de uso de cupones en compras totales.\n",
      "PDV CLI0039229: 74.32% de uso de cupones en compras totales.\n",
      "PDV CLI0039268: 72.09% de uso de cupones en compras totales.\n",
      "PDV CLI0039270: 100.00% de uso de cupones en compras totales.\n",
      "PDV CLI0039288: 100.00% de uso de cupones en compras totales.\n",
      "PDV CLI0039296: 86.25% de uso de cupones en compras totales.\n",
      "PDV CLI0039317: 100.00% de uso de cupones en compras totales.\n",
      "PDV CLI0039336: 66.56% de uso de cupones en compras totales.\n",
      "PDV CLI0039365: 100.00% de uso de cupones en compras totales.\n",
      "PDV CLI0039369: 82.98% de uso de cupones en compras totales.\n",
      "PDV CLI0039396: 72.05% de uso de cupones en compras totales.\n",
      "PDV CLI0039426: 71.95% de uso de cupones en compras totales.\n",
      "PDV CLI0039457: 66.18% de uso de cupones en compras totales.\n",
      "PDV CLI0039459: 100.00% de uso de cupones en compras totales.\n",
      "PDV CLI0039477: 63.24% de uso de cupones en compras totales.\n",
      "PDV CLI0039496: 96.35% de uso de cupones en compras totales.\n",
      "PDV CLI0039498: 76.63% de uso de cupones en compras totales.\n",
      "PDV CLI0039527: 97.18% de uso de cupones en compras totales.\n",
      "PDV CLI0039546: 100.00% de uso de cupones en compras totales.\n",
      "PDV CLI0039547: 75.47% de uso de cupones en compras totales.\n",
      "PDV CLI0039551: 92.78% de uso de cupones en compras totales.\n",
      "PDV CLI0039604: 61.28% de uso de cupones en compras totales.\n",
      "PDV CLI0039616: 63.23% de uso de cupones en compras totales.\n",
      "PDV CLI0039674: 62.05% de uso de cupones en compras totales.\n",
      "PDV CLI0039675: 72.35% de uso de cupones en compras totales.\n",
      "PDV CLI0039733: 66.43% de uso de cupones en compras totales.\n",
      "PDV CLI0039750: 100.00% de uso de cupones en compras totales.\n",
      "PDV CLI0039756: 100.00% de uso de cupones en compras totales.\n",
      "PDV CLI0039859: 70.05% de uso de cupones en compras totales.\n",
      "PDV CLI0039885: 73.91% de uso de cupones en compras totales.\n",
      "PDV CLI0039897: 100.00% de uso de cupones en compras totales.\n",
      "PDV CLI0039935: 100.00% de uso de cupones en compras totales.\n",
      "PDV CLI0039946: 65.22% de uso de cupones en compras totales.\n",
      "PDV CLI0039949: 73.71% de uso de cupones en compras totales.\n",
      "PDV CLI0039968: 100.00% de uso de cupones en compras totales.\n",
      "PDV CLI0039974: 60.69% de uso de cupones en compras totales.\n",
      "PDV CLI0040019: 62.92% de uso de cupones en compras totales.\n",
      "PDV CLI0040056: 74.37% de uso de cupones en compras totales.\n",
      "PDV CLI0040113: 72.89% de uso de cupones en compras totales.\n",
      "PDV CLI0040131: 61.54% de uso de cupones en compras totales.\n",
      "PDV CLI0040157: 92.80% de uso de cupones en compras totales.\n",
      "PDV CLI0040192: 100.00% de uso de cupones en compras totales.\n",
      "PDV CLI0040208: 68.89% de uso de cupones en compras totales.\n",
      "PDV CLI0040213: 64.71% de uso de cupones en compras totales.\n",
      "PDV CLI0040216: 95.25% de uso de cupones en compras totales.\n",
      "PDV CLI0040229: 69.36% de uso de cupones en compras totales.\n",
      "PDV CLI0040249: 71.28% de uso de cupones en compras totales.\n",
      "PDV CLI0040282: 100.00% de uso de cupones en compras totales.\n",
      "PDV CLI0040293: 65.25% de uso de cupones en compras totales.\n",
      "PDV CLI0040301: 100.00% de uso de cupones en compras totales.\n",
      "PDV CLI0040404: 100.00% de uso de cupones en compras totales.\n",
      "PDV CLI0040442: 100.00% de uso de cupones en compras totales.\n",
      "PDV CLI0040455: 100.00% de uso de cupones en compras totales.\n",
      "PDV CLI0040456: 100.00% de uso de cupones en compras totales.\n",
      "PDV CLI0040465: 86.88% de uso de cupones en compras totales.\n",
      "PDV CLI0040468: 84.81% de uso de cupones en compras totales.\n",
      "PDV CLI0040479: 67.51% de uso de cupones en compras totales.\n",
      "PDV CLI0040534: 60.99% de uso de cupones en compras totales.\n",
      "PDV CLI0040535: 100.00% de uso de cupones en compras totales.\n",
      "PDV CLI0040553: 60.69% de uso de cupones en compras totales.\n",
      "PDV CLI0040567: 92.97% de uso de cupones en compras totales.\n",
      "PDV CLI0040591: 79.96% de uso de cupones en compras totales.\n",
      "PDV CLI0040666: 62.26% de uso de cupones en compras totales.\n",
      "PDV CLI0040683: 100.00% de uso de cupones en compras totales.\n",
      "PDV CLI0040710: 69.59% de uso de cupones en compras totales.\n",
      "PDV CLI0040728: 100.00% de uso de cupones en compras totales.\n",
      "PDV CLI0040752: 63.60% de uso de cupones en compras totales.\n",
      "PDV CLI0040793: 68.98% de uso de cupones en compras totales.\n",
      "PDV CLI0040805: 74.50% de uso de cupones en compras totales.\n",
      "PDV CLI0040874: 71.60% de uso de cupones en compras totales.\n",
      "PDV CLI0040907: 100.00% de uso de cupones en compras totales.\n",
      "PDV CLI0040928: 100.00% de uso de cupones en compras totales.\n",
      "PDV CLI0040937: 100.00% de uso de cupones en compras totales.\n",
      "PDV CLI0041051: 100.00% de uso de cupones en compras totales.\n",
      "PDV CLI0041059: 66.40% de uso de cupones en compras totales.\n",
      "PDV CLI0041060: 100.00% de uso de cupones en compras totales.\n",
      "PDV CLI0041089: 100.00% de uso de cupones en compras totales.\n",
      "PDV CLI0041097: 99.23% de uso de cupones en compras totales.\n",
      "PDV CLI0041100: 100.00% de uso de cupones en compras totales.\n",
      "PDV CLI0041101: 100.00% de uso de cupones en compras totales.\n",
      "PDV CLI0041204: 100.00% de uso de cupones en compras totales.\n",
      "PDV CLI0041247: 65.76% de uso de cupones en compras totales.\n",
      "PDV CLI0041264: 60.62% de uso de cupones en compras totales.\n",
      "PDV CLI0041356: 81.23% de uso de cupones en compras totales.\n",
      "PDV CLI0041382: 100.00% de uso de cupones en compras totales.\n",
      "PDV CLI0041400: 100.00% de uso de cupones en compras totales.\n",
      "PDV CLI0041453: 100.00% de uso de cupones en compras totales.\n",
      "PDV CLI0041477: 100.00% de uso de cupones en compras totales.\n",
      "PDV CLI0041489: 100.00% de uso de cupones en compras totales.\n",
      "PDV CLI0041524: 89.32% de uso de cupones en compras totales.\n",
      "PDV CLI0041535: 79.04% de uso de cupones en compras totales.\n",
      "PDV CLI0041564: 80.13% de uso de cupones en compras totales.\n",
      "PDV CLI0041573: 77.49% de uso de cupones en compras totales.\n",
      "PDV CLI0041580: 64.05% de uso de cupones en compras totales.\n",
      "PDV CLI0041599: 74.93% de uso de cupones en compras totales.\n",
      "PDV CLI0041633: 78.66% de uso de cupones en compras totales.\n",
      "PDV CLI0041711: 64.21% de uso de cupones en compras totales.\n",
      "PDV CLI0041727: 97.37% de uso de cupones en compras totales.\n",
      "PDV CLI0041771: 85.55% de uso de cupones en compras totales.\n",
      "PDV CLI0041772: 100.00% de uso de cupones en compras totales.\n",
      "PDV CLI0041777: 78.33% de uso de cupones en compras totales.\n",
      "PDV CLI0041795: 93.77% de uso de cupones en compras totales.\n",
      "PDV CLI0041805: 95.03% de uso de cupones en compras totales.\n",
      "PDV CLI0041833: 98.71% de uso de cupones en compras totales.\n",
      "PDV CLI0041868: 100.00% de uso de cupones en compras totales.\n",
      "PDV CLI0041878: 100.00% de uso de cupones en compras totales.\n",
      "PDV CLI0041888: 76.56% de uso de cupones en compras totales.\n",
      "PDV CLI0041895: 73.72% de uso de cupones en compras totales.\n",
      "PDV CLI0041944: 96.82% de uso de cupones en compras totales.\n",
      "PDV CLI0041946: 100.00% de uso de cupones en compras totales.\n",
      "PDV CLI0041960: 66.52% de uso de cupones en compras totales.\n",
      "PDV CLI0041968: 100.00% de uso de cupones en compras totales.\n",
      "PDV CLI0042024: 100.00% de uso de cupones en compras totales.\n",
      "PDV CLI0042028: 100.00% de uso de cupones en compras totales.\n",
      "PDV CLI0042042: 100.00% de uso de cupones en compras totales.\n",
      "PDV CLI0042051: 72.85% de uso de cupones en compras totales.\n",
      "PDV CLI0042075: 67.57% de uso de cupones en compras totales.\n",
      "PDV CLI0042077: 100.00% de uso de cupones en compras totales.\n",
      "PDV CLI0042084: 91.07% de uso de cupones en compras totales.\n",
      "PDV CLI0042105: 100.00% de uso de cupones en compras totales.\n",
      "PDV CLI0042119: 75.89% de uso de cupones en compras totales.\n",
      "PDV CLI0042154: 67.28% de uso de cupones en compras totales.\n",
      "PDV CLI0042269: 100.00% de uso de cupones en compras totales.\n",
      "PDV CLI0042287: 88.87% de uso de cupones en compras totales.\n",
      "PDV CLI0042289: 100.00% de uso de cupones en compras totales.\n",
      "PDV CLI0042315: 65.66% de uso de cupones en compras totales.\n",
      "PDV CLI0042329: 100.00% de uso de cupones en compras totales.\n",
      "PDV CLI0042338: 62.37% de uso de cupones en compras totales.\n",
      "PDV CLI0042340: 100.00% de uso de cupones en compras totales.\n",
      "PDV CLI0042347: 72.73% de uso de cupones en compras totales.\n",
      "PDV CLI0042395: 76.69% de uso de cupones en compras totales.\n",
      "PDV CLI0042403: 100.00% de uso de cupones en compras totales.\n",
      "PDV CLI0042409: 100.00% de uso de cupones en compras totales.\n",
      "PDV CLI0042414: 100.00% de uso de cupones en compras totales.\n",
      "PDV CLI0042422: 100.00% de uso de cupones en compras totales.\n",
      "PDV CLI0042465: 100.00% de uso de cupones en compras totales.\n",
      "PDV CLI0042483: 100.00% de uso de cupones en compras totales.\n",
      "PDV CLI0042516: 80.00% de uso de cupones en compras totales.\n",
      "PDV CLI0042552: 63.21% de uso de cupones en compras totales.\n",
      "PDV CLI0042561: 77.82% de uso de cupones en compras totales.\n",
      "PDV CLI0042568: 63.62% de uso de cupones en compras totales.\n",
      "PDV CLI0042774: 100.00% de uso de cupones en compras totales.\n",
      "PDV CLI0042836: 100.00% de uso de cupones en compras totales.\n",
      "PDV CLI0043370: 78.46% de uso de cupones en compras totales.\n",
      "PDV CLI0043486: 67.57% de uso de cupones en compras totales.\n",
      "PDV CLI0043857: 85.95% de uso de cupones en compras totales.\n",
      "PDV CLI0048637: 70.79% de uso de cupones en compras totales.\n",
      "PDV CLI0048776: 62.23% de uso de cupones en compras totales.\n",
      "PDV CLI0050746: 65.39% de uso de cupones en compras totales.\n",
      "PDV DI000006: 100.00% de uso de cupones en compras totales.\n",
      "PDV DI000017: 100.00% de uso de cupones en compras totales.\n",
      "PDV DI000039: 100.00% de uso de cupones en compras totales.\n",
      "PDV DI000051: 100.00% de uso de cupones en compras totales.\n",
      "PDV DI000082: 100.00% de uso de cupones en compras totales.\n",
      "PDV DI000088: 84.83% de uso de cupones en compras totales.\n",
      "PDV DI000092: 100.00% de uso de cupones en compras totales.\n",
      "PDV DI000095: 100.00% de uso de cupones en compras totales.\n",
      "PDV DI552023: 100.00% de uso de cupones en compras totales.\n",
      "PDV DI552035: 100.00% de uso de cupones en compras totales.\n",
      "PDV DI63017: 100.00% de uso de cupones en compras totales.\n",
      "PDV DI631004: 100.00% de uso de cupones en compras totales.\n",
      "PDV DI631042: 100.00% de uso de cupones en compras totales.\n",
      "PDV DI631055: 100.00% de uso de cupones en compras totales.\n",
      "PDV DI631091: 100.00% de uso de cupones en compras totales.\n",
      "PDV DI631124: 100.00% de uso de cupones en compras totales.\n",
      "PDV DI631128: 100.00% de uso de cupones en compras totales.\n",
      "PDV DI631131: 100.00% de uso de cupones en compras totales.\n",
      "PDV DI631164: 100.00% de uso de cupones en compras totales.\n",
      "PDV DI631174: 100.00% de uso de cupones en compras totales.\n",
      "PDV DI631177: 100.00% de uso de cupones en compras totales.\n",
      "PDV DI631194: 100.00% de uso de cupones en compras totales.\n",
      "PDV DI631208: 100.00% de uso de cupones en compras totales.\n",
      "PDV DI631254: 100.00% de uso de cupones en compras totales.\n",
      "PDV DI631296: 100.00% de uso de cupones en compras totales.\n",
      "PDV DI631302: 100.00% de uso de cupones en compras totales.\n",
      "PDV DI631306: 100.00% de uso de cupones en compras totales.\n",
      "PDV DI631359: 65.90% de uso de cupones en compras totales.\n",
      "PDV DI631440: 100.00% de uso de cupones en compras totales.\n",
      "PDV DI631467: 100.00% de uso de cupones en compras totales.\n",
      "PDV F003394: 100.00% de uso de cupones en compras totales.\n",
      "PDV M10007: 72.58% de uso de cupones en compras totales.\n",
      "PDV M10009: 100.00% de uso de cupones en compras totales.\n",
      "PDV M10340: 100.00% de uso de cupones en compras totales.\n",
      "PDV M10435: 100.00% de uso de cupones en compras totales.\n",
      "PDV M10501: 97.54% de uso de cupones en compras totales.\n",
      "PDV M10533: 100.00% de uso de cupones en compras totales.\n",
      "PDV M10538: 100.00% de uso de cupones en compras totales.\n",
      "PDV M10952: 100.00% de uso de cupones en compras totales.\n",
      "PDV M20389: 100.00% de uso de cupones en compras totales.\n",
      "PDV M20760: 100.00% de uso de cupones en compras totales.\n",
      "PDV M20912: 100.00% de uso de cupones en compras totales.\n",
      "PDV M21417: 100.00% de uso de cupones en compras totales.\n",
      "PDV M22015: 100.00% de uso de cupones en compras totales.\n",
      "PDV M22719: 100.00% de uso de cupones en compras totales.\n",
      "PDV M22724: 88.14% de uso de cupones en compras totales.\n",
      "PDV M22740: 100.00% de uso de cupones en compras totales.\n",
      "PDV M23055: 100.00% de uso de cupones en compras totales.\n",
      "PDV M23067: 77.92% de uso de cupones en compras totales.\n",
      "PDV M23292: 100.00% de uso de cupones en compras totales.\n",
      "PDV M28255: 100.00% de uso de cupones en compras totales.\n",
      "PDV M28870: 100.00% de uso de cupones en compras totales.\n",
      "PDV MS0020: 100.00% de uso de cupones en compras totales.\n",
      "PDV MS0032: 100.00% de uso de cupones en compras totales.\n",
      "PDV MS0081: 100.00% de uso de cupones en compras totales.\n",
      "PDV MS0171: 100.00% de uso de cupones en compras totales.\n",
      "PDV MS0383: 100.00% de uso de cupones en compras totales.\n",
      "PDV MS0404: 100.00% de uso de cupones en compras totales.\n",
      "PDV MS0468: 100.00% de uso de cupones en compras totales.\n",
      "PDV MS0545: 100.00% de uso de cupones en compras totales.\n",
      "PDV MS0787: 100.00% de uso de cupones en compras totales.\n",
      "PDV c09165: 100.00% de uso de cupones en compras totales.\n",
      "Total de puntos de venta con más del 60% de uso de cupones: 1546\n"
     ]
    }
   ],
   "source": [
    "# Definir el contador antes del bucle\n",
    "contador = 0\n",
    "\n",
    "\n",
    "for pdv_id, porcentaje in pctg_coupon_used_dict.items():\n",
    "    \n",
    "    try:\n",
    "        porcentaje = float(porcentaje)\n",
    "    except ValueError:\n",
    "        continue  \n",
    "\n",
    "    if porcentaje > 60.0:\n",
    "        contador += 1\n",
    "        # Imprimir el resultado, si es necesario\n",
    "        print(f\"PDV {pdv_id}: {porcentaje:.2f}% de uso de cupones en compras totales.\")\n",
    "\n",
    "\n",
    "print(f\"Total de puntos de venta con más del 60% de uso de cupones: {contador}\")\n"
   ]
  },
  {
   "cell_type": "code",
   "execution_count": 74,
   "metadata": {},
   "outputs": [
    {
     "data": {
      "text/plain": [
       "Origin\n",
       "Online    7651\n",
       "Name: count, dtype: int64"
      ]
     },
     "execution_count": 74,
     "metadata": {},
     "output_type": "execute_result"
    }
   ],
   "source": [
    "order_detail_sorted[order_detail_sorted['NameDistributor']=='Voldis Baleares']['Origin'].value_counts()"
   ]
  },
  {
   "cell_type": "markdown",
   "metadata": {
    "application/vnd.databricks.v1+cell": {
     "cellMetadata": {
      "byteLimit": 2048000,
      "rowLimit": 10000
     },
     "inputWidgets": {},
     "nuid": "09996864-b39c-4a46-990d-d5473e916d8f",
     "showTitle": false,
     "title": ""
    }
   },
   "source": [
    "###Análisis cupones"
   ]
  },
  {
   "cell_type": "markdown",
   "metadata": {
    "application/vnd.databricks.v1+cell": {
     "cellMetadata": {
      "byteLimit": 2048000,
      "rowLimit": 10000
     },
     "inputWidgets": {},
     "nuid": "9003bdc5-4ab1-4d22-8abe-9e07ebda634e",
     "showTitle": false,
     "title": ""
    }
   },
   "source": [
    "Cupon máximo"
   ]
  },
  {
   "cell_type": "code",
   "execution_count": 20,
   "metadata": {
    "application/vnd.databricks.v1+cell": {
     "cellMetadata": {
      "byteLimit": 2048000,
      "rowLimit": 10000
     },
     "inputWidgets": {},
     "nuid": "b286d92c-d1bb-4ddd-9b78-6778acc36417",
     "showTitle": false,
     "title": ""
    }
   },
   "outputs": [],
   "source": [
    "order_detail_sorted['CouponDiscountAmt'] = pd.to_numeric(order_detail_sorted['CouponDiscountAmt'], errors='coerce').fillna(0)\n",
    "kpis_por_pdv_promo = order_detail_sorted.groupby(['PointOfSaleId', 'CouponCode']).agg(\n",
    "    impacto_promociones=pd.NamedAgg(column='CouponDiscountAmt', aggfunc='sum'), #impacto monetario por cupones aplicados por PDV\n",
    "    # total_productos_comprados=pd.NamedAgg(column='Amount', aggfunc='sum') # total de la cantidad de productos comprados por cada PDV\n",
    ").reset_index()"
   ]
  },
  {
   "cell_type": "code",
   "execution_count": 21,
   "metadata": {
    "application/vnd.databricks.v1+cell": {
     "cellMetadata": {
      "byteLimit": 2048000,
      "rowLimit": 10000
     },
     "inputWidgets": {},
     "nuid": "7a0d589d-e45a-466b-a326-a62731f5d104",
     "showTitle": false,
     "title": ""
    }
   },
   "outputs": [
    {
     "data": {
      "text/html": [
       "<div>\n",
       "<style scoped>\n",
       "    .dataframe tbody tr th:only-of-type {\n",
       "        vertical-align: middle;\n",
       "    }\n",
       "\n",
       "    .dataframe tbody tr th {\n",
       "        vertical-align: top;\n",
       "    }\n",
       "\n",
       "    .dataframe thead th {\n",
       "        text-align: right;\n",
       "    }\n",
       "</style>\n",
       "<table border=\"1\" class=\"dataframe\">\n",
       "  <thead>\n",
       "    <tr style=\"text-align: right;\">\n",
       "      <th></th>\n",
       "      <th>PointOfSaleId</th>\n",
       "      <th>CouponCode</th>\n",
       "      <th>impacto_promociones</th>\n",
       "    </tr>\n",
       "  </thead>\n",
       "  <tbody>\n",
       "    <tr>\n",
       "      <th>4066</th>\n",
       "      <td>C05681</td>\n",
       "      <td>REGRESO20</td>\n",
       "      <td>399.670013</td>\n",
       "    </tr>\n",
       "    <tr>\n",
       "      <th>2889</th>\n",
       "      <td>81204</td>\n",
       "      <td>REGRESO20</td>\n",
       "      <td>356.899994</td>\n",
       "    </tr>\n",
       "    <tr>\n",
       "      <th>10007</th>\n",
       "      <td>CLI0026803</td>\n",
       "      <td>Regreso20</td>\n",
       "      <td>348.000000</td>\n",
       "    </tr>\n",
       "    <tr>\n",
       "      <th>4594</th>\n",
       "      <td>C08251</td>\n",
       "      <td>Regreso20</td>\n",
       "      <td>329.609985</td>\n",
       "    </tr>\n",
       "    <tr>\n",
       "      <th>9735</th>\n",
       "      <td>CLI0026381</td>\n",
       "      <td>REGRESO20</td>\n",
       "      <td>328.799988</td>\n",
       "    </tr>\n",
       "    <tr>\n",
       "      <th>5493</th>\n",
       "      <td>C10302</td>\n",
       "      <td>Regreso20</td>\n",
       "      <td>325.500000</td>\n",
       "    </tr>\n",
       "    <tr>\n",
       "      <th>12155</th>\n",
       "      <td>CLI0029258</td>\n",
       "      <td>Regreso20</td>\n",
       "      <td>260.000000</td>\n",
       "    </tr>\n",
       "    <tr>\n",
       "      <th>1176</th>\n",
       "      <td>102232</td>\n",
       "      <td>Mereces15</td>\n",
       "      <td>225.000000</td>\n",
       "    </tr>\n",
       "    <tr>\n",
       "      <th>10472</th>\n",
       "      <td>CLI0027298</td>\n",
       "      <td>REGRESO20</td>\n",
       "      <td>220.000000</td>\n",
       "    </tr>\n",
       "    <tr>\n",
       "      <th>16251</th>\n",
       "      <td>CLI0034240</td>\n",
       "      <td>REGRESO20</td>\n",
       "      <td>201.500000</td>\n",
       "    </tr>\n",
       "    <tr>\n",
       "      <th>11326</th>\n",
       "      <td>CLI0028111</td>\n",
       "      <td>Bar10</td>\n",
       "      <td>200.000000</td>\n",
       "    </tr>\n",
       "    <tr>\n",
       "      <th>8696</th>\n",
       "      <td>CLI0025389</td>\n",
       "      <td>ene-10</td>\n",
       "      <td>200.000000</td>\n",
       "    </tr>\n",
       "    <tr>\n",
       "      <th>6011</th>\n",
       "      <td>CLI0020482</td>\n",
       "      <td>HAPPY10</td>\n",
       "      <td>200.000000</td>\n",
       "    </tr>\n",
       "    <tr>\n",
       "      <th>13354</th>\n",
       "      <td>CLI0030260</td>\n",
       "      <td>Happy10</td>\n",
       "      <td>200.000000</td>\n",
       "    </tr>\n",
       "    <tr>\n",
       "      <th>14537</th>\n",
       "      <td>CLI0031608</td>\n",
       "      <td>BAR10</td>\n",
       "      <td>200.000000</td>\n",
       "    </tr>\n",
       "    <tr>\n",
       "      <th>12447</th>\n",
       "      <td>CLI0029751</td>\n",
       "      <td>BAR10</td>\n",
       "      <td>200.000000</td>\n",
       "    </tr>\n",
       "    <tr>\n",
       "      <th>13216</th>\n",
       "      <td>CLI0030084</td>\n",
       "      <td>BAR10</td>\n",
       "      <td>200.000000</td>\n",
       "    </tr>\n",
       "    <tr>\n",
       "      <th>1827</th>\n",
       "      <td>1789</td>\n",
       "      <td>HAPPY10</td>\n",
       "      <td>200.000000</td>\n",
       "    </tr>\n",
       "    <tr>\n",
       "      <th>8717</th>\n",
       "      <td>CLI0025430</td>\n",
       "      <td>BAR10</td>\n",
       "      <td>200.000000</td>\n",
       "    </tr>\n",
       "    <tr>\n",
       "      <th>12215</th>\n",
       "      <td>CLI0029349</td>\n",
       "      <td>BAR10</td>\n",
       "      <td>200.000000</td>\n",
       "    </tr>\n",
       "    <tr>\n",
       "      <th>16412</th>\n",
       "      <td>CLI0034477</td>\n",
       "      <td>HAPPY10</td>\n",
       "      <td>200.000000</td>\n",
       "    </tr>\n",
       "    <tr>\n",
       "      <th>7586</th>\n",
       "      <td>CLI0024385</td>\n",
       "      <td>ene-10</td>\n",
       "      <td>200.000000</td>\n",
       "    </tr>\n",
       "    <tr>\n",
       "      <th>1587</th>\n",
       "      <td>13686</td>\n",
       "      <td>BAR10</td>\n",
       "      <td>200.000000</td>\n",
       "    </tr>\n",
       "    <tr>\n",
       "      <th>12655</th>\n",
       "      <td>CLI0029840</td>\n",
       "      <td>BAR10</td>\n",
       "      <td>200.000000</td>\n",
       "    </tr>\n",
       "    <tr>\n",
       "      <th>14635</th>\n",
       "      <td>CLI0031721</td>\n",
       "      <td>HAPPY10</td>\n",
       "      <td>200.000000</td>\n",
       "    </tr>\n",
       "    <tr>\n",
       "      <th>174</th>\n",
       "      <td>100530</td>\n",
       "      <td>CUPONENERO10</td>\n",
       "      <td>200.000000</td>\n",
       "    </tr>\n",
       "    <tr>\n",
       "      <th>734</th>\n",
       "      <td>101493</td>\n",
       "      <td>HAPPY10</td>\n",
       "      <td>200.000000</td>\n",
       "    </tr>\n",
       "    <tr>\n",
       "      <th>12221</th>\n",
       "      <td>CLI0029349</td>\n",
       "      <td>HAPPY10</td>\n",
       "      <td>200.000000</td>\n",
       "    </tr>\n",
       "    <tr>\n",
       "      <th>2054</th>\n",
       "      <td>23978</td>\n",
       "      <td>HAPPY10</td>\n",
       "      <td>200.000000</td>\n",
       "    </tr>\n",
       "    <tr>\n",
       "      <th>495</th>\n",
       "      <td>101165</td>\n",
       "      <td>HAPPY10</td>\n",
       "      <td>200.000000</td>\n",
       "    </tr>\n",
       "  </tbody>\n",
       "</table>\n",
       "</div>"
      ],
      "text/plain": [
       "      PointOfSaleId    CouponCode  impacto_promociones\n",
       "4066         C05681     REGRESO20           399.670013\n",
       "2889          81204     REGRESO20           356.899994\n",
       "10007    CLI0026803     Regreso20           348.000000\n",
       "4594         C08251     Regreso20           329.609985\n",
       "9735     CLI0026381     REGRESO20           328.799988\n",
       "5493         C10302     Regreso20           325.500000\n",
       "12155    CLI0029258     Regreso20           260.000000\n",
       "1176         102232     Mereces15           225.000000\n",
       "10472    CLI0027298    REGRESO20            220.000000\n",
       "16251    CLI0034240     REGRESO20           201.500000\n",
       "11326    CLI0028111         Bar10           200.000000\n",
       "8696     CLI0025389        ene-10           200.000000\n",
       "6011     CLI0020482       HAPPY10           200.000000\n",
       "13354    CLI0030260       Happy10           200.000000\n",
       "14537    CLI0031608         BAR10           200.000000\n",
       "12447    CLI0029751         BAR10           200.000000\n",
       "13216    CLI0030084         BAR10           200.000000\n",
       "1827           1789       HAPPY10           200.000000\n",
       "8717     CLI0025430         BAR10           200.000000\n",
       "12215    CLI0029349         BAR10           200.000000\n",
       "16412    CLI0034477       HAPPY10           200.000000\n",
       "7586     CLI0024385        ene-10           200.000000\n",
       "1587          13686         BAR10           200.000000\n",
       "12655    CLI0029840         BAR10           200.000000\n",
       "14635    CLI0031721       HAPPY10           200.000000\n",
       "174          100530  CUPONENERO10           200.000000\n",
       "734          101493       HAPPY10           200.000000\n",
       "12221    CLI0029349       HAPPY10           200.000000\n",
       "2054          23978       HAPPY10           200.000000\n",
       "495          101165       HAPPY10           200.000000"
      ]
     },
     "execution_count": 21,
     "metadata": {},
     "output_type": "execute_result"
    }
   ],
   "source": [
    "kpis_por_pdv_promo.sort_values('impacto_promociones',ascending=False).head(30)"
   ]
  },
  {
   "cell_type": "markdown",
   "metadata": {},
   "source": [
    "-------------------------------------"
   ]
  },
  {
   "cell_type": "markdown",
   "metadata": {},
   "source": [
    "Sellout medio por tipologia de cupon"
   ]
  },
  {
   "cell_type": "code",
   "execution_count": 67,
   "metadata": {},
   "outputs": [
    {
     "data": {
      "text/plain": [
       "Coupon_type\n",
       "Fijo          337.448869\n",
       "NoCupon       230.870983\n",
       "Porcentual    303.970800\n",
       "Name: Sellout, dtype: float64"
      ]
     },
     "execution_count": 67,
     "metadata": {},
     "output_type": "execute_result"
    }
   ],
   "source": [
    "sellout_promedio_por_cupon = order_detail_sorted.groupby('Coupon_type')['Sellout'].mean()\n",
    "sellout_promedio_por_cupon"
   ]
  },
  {
   "cell_type": "markdown",
   "metadata": {
    "application/vnd.databricks.v1+cell": {
     "cellMetadata": {
      "byteLimit": 2048000,
      "rowLimit": 10000
     },
     "inputWidgets": {},
     "nuid": "8f74ef18-ec07-4ebd-9307-a7243e8add77",
     "showTitle": false,
     "title": ""
    }
   },
   "source": [
    "### PDVs dormidos en la plataforma\n"
   ]
  },
  {
   "cell_type": "code",
   "execution_count": 22,
   "metadata": {
    "application/vnd.databricks.v1+cell": {
     "cellMetadata": {
      "byteLimit": 2048000,
      "rowLimit": 10000
     },
     "inputWidgets": {},
     "nuid": "3b078d0f-134c-491d-bbfb-86ffc046d344",
     "showTitle": false,
     "title": ""
    }
   },
   "outputs": [],
   "source": [
    "# order_detail_sorted=order_detail_sorted[order_detail_sorted['OrderDate']<'29-07-2024']"
   ]
  },
  {
   "cell_type": "code",
   "execution_count": 23,
   "metadata": {
    "application/vnd.databricks.v1+cell": {
     "cellMetadata": {
      "byteLimit": 2048000,
      "rowLimit": 10000
     },
     "inputWidgets": {},
     "nuid": "07e2a3cb-f578-4446-8997-5a28e9ec227a",
     "showTitle": false,
     "title": ""
    }
   },
   "outputs": [],
   "source": [
    "last_order_dates = order_detail_sorted.groupby(['PointOfSaleId', 'NameDistributor'])['OrderDate'].max().reset_index()\n",
    "last_order_dates.columns = ['PointOfSaleId','NameDistributor', 'LastOrderDate']\n"
   ]
  },
  {
   "cell_type": "code",
   "execution_count": 24,
   "metadata": {
    "application/vnd.databricks.v1+cell": {
     "cellMetadata": {
      "byteLimit": 2048000,
      "rowLimit": 10000
     },
     "inputWidgets": {},
     "nuid": "6a58ada9-44ab-41fa-a631-c5317c50579d",
     "showTitle": false,
     "title": ""
    }
   },
   "outputs": [],
   "source": [
    "online_orders = order_detail_sorted[order_detail_sorted['Origin'] == 'Online']\n",
    "last_online_order_dates = online_orders.groupby(['PointOfSaleId', 'NameDistributor'])['OrderDate'].max().reset_index()\n",
    "last_online_order_dates.columns = ['PointOfSaleId', 'NameDistributor', 'LastOnlineOrderDate']"
   ]
  },
  {
   "cell_type": "code",
   "execution_count": 25,
   "metadata": {
    "application/vnd.databricks.v1+cell": {
     "cellMetadata": {
      "byteLimit": 2048000,
      "rowLimit": 10000
     },
     "inputWidgets": {},
     "nuid": "d642e7e5-a130-4c5c-be9e-7172976ad043",
     "showTitle": false,
     "title": ""
    }
   },
   "outputs": [],
   "source": [
    "last_order_dates_general = pd.merge(last_order_dates, last_online_order_dates, on=['PointOfSaleId',  'NameDistributor'], how='left')"
   ]
  },
  {
   "cell_type": "code",
   "execution_count": 26,
   "metadata": {
    "application/vnd.databricks.v1+cell": {
     "cellMetadata": {
      "byteLimit": 2048000,
      "rowLimit": 10000
     },
     "inputWidgets": {},
     "nuid": "d2e01d04-a837-4217-b84a-c0c89e785e67",
     "showTitle": false,
     "title": ""
    }
   },
   "outputs": [],
   "source": [
    "last_order_dates_general['DaysBetweenLastOrderAndLastOnline'] = (last_order_dates_general['LastOrderDate'] - last_order_dates_general['LastOnlineOrderDate']).dt.days"
   ]
  },
  {
   "cell_type": "code",
   "execution_count": 27,
   "metadata": {
    "application/vnd.databricks.v1+cell": {
     "cellMetadata": {
      "byteLimit": 2048000,
      "rowLimit": 10000
     },
     "inputWidgets": {},
     "nuid": "fb3636bb-756d-4260-9dcd-bf2cafa77f7f",
     "showTitle": false,
     "title": ""
    }
   },
   "outputs": [],
   "source": [
    "last_order_dates_general=last_order_dates_general.dropna()"
   ]
  },
  {
   "cell_type": "code",
   "execution_count": 28,
   "metadata": {
    "application/vnd.databricks.v1+cell": {
     "cellMetadata": {
      "byteLimit": 2048000,
      "rowLimit": 10000
     },
     "inputWidgets": {},
     "nuid": "55a0b5e4-a4b7-4620-9135-bc53dc5d3ba9",
     "showTitle": false,
     "title": ""
    }
   },
   "outputs": [],
   "source": [
    "last_order_dates_general=last_order_dates_general.sort_values(by='DaysBetweenLastOrderAndLastOnline', ascending=False)"
   ]
  },
  {
   "cell_type": "markdown",
   "metadata": {
    "application/vnd.databricks.v1+cell": {
     "cellMetadata": {},
     "inputWidgets": {},
     "nuid": "9dd90aee-143e-4fd0-a5ae-f7a152272113",
     "showTitle": false,
     "title": ""
    }
   },
   "source": [
    "Aplico filtro de > 50 días entre compras considero dormido en la plataforma"
   ]
  },
  {
   "cell_type": "code",
   "execution_count": 29,
   "metadata": {
    "application/vnd.databricks.v1+cell": {
     "cellMetadata": {
      "byteLimit": 2048000,
      "rowLimit": 10000
     },
     "inputWidgets": {},
     "nuid": "25f087f7-6265-4800-80e7-9f0a84ab18d1",
     "showTitle": false,
     "title": ""
    }
   },
   "outputs": [
    {
     "data": {
      "text/html": [
       "<div>\n",
       "<style scoped>\n",
       "    .dataframe tbody tr th:only-of-type {\n",
       "        vertical-align: middle;\n",
       "    }\n",
       "\n",
       "    .dataframe tbody tr th {\n",
       "        vertical-align: top;\n",
       "    }\n",
       "\n",
       "    .dataframe thead th {\n",
       "        text-align: right;\n",
       "    }\n",
       "</style>\n",
       "<table border=\"1\" class=\"dataframe\">\n",
       "  <thead>\n",
       "    <tr style=\"text-align: right;\">\n",
       "      <th></th>\n",
       "      <th>PointOfSaleId</th>\n",
       "      <th>NameDistributor</th>\n",
       "      <th>LastOrderDate</th>\n",
       "      <th>LastOnlineOrderDate</th>\n",
       "      <th>DaysBetweenLastOrderAndLastOnline</th>\n",
       "    </tr>\n",
       "  </thead>\n",
       "  <tbody>\n",
       "    <tr>\n",
       "      <th>15651</th>\n",
       "      <td>CLI0037791</td>\n",
       "      <td>Voldis Valencia</td>\n",
       "      <td>2024-07-11</td>\n",
       "      <td>2023-01-04</td>\n",
       "      <td>554.0</td>\n",
       "    </tr>\n",
       "    <tr>\n",
       "      <th>15502</th>\n",
       "      <td>CLI0037573</td>\n",
       "      <td>Voldis Valencia</td>\n",
       "      <td>2024-07-10</td>\n",
       "      <td>2023-01-03</td>\n",
       "      <td>554.0</td>\n",
       "    </tr>\n",
       "    <tr>\n",
       "      <th>16133</th>\n",
       "      <td>CLI0038603</td>\n",
       "      <td>Voldis Valencia</td>\n",
       "      <td>2024-07-03</td>\n",
       "      <td>2023-01-03</td>\n",
       "      <td>547.0</td>\n",
       "    </tr>\n",
       "    <tr>\n",
       "      <th>17313</th>\n",
       "      <td>CLI0040998</td>\n",
       "      <td>Voldis Valencia</td>\n",
       "      <td>2024-06-26</td>\n",
       "      <td>2023-01-03</td>\n",
       "      <td>540.0</td>\n",
       "    </tr>\n",
       "    <tr>\n",
       "      <th>16124</th>\n",
       "      <td>CLI0038587</td>\n",
       "      <td>Voldis Valencia</td>\n",
       "      <td>2024-07-05</td>\n",
       "      <td>2023-01-12</td>\n",
       "      <td>540.0</td>\n",
       "    </tr>\n",
       "    <tr>\n",
       "      <th>...</th>\n",
       "      <td>...</td>\n",
       "      <td>...</td>\n",
       "      <td>...</td>\n",
       "      <td>...</td>\n",
       "      <td>...</td>\n",
       "    </tr>\n",
       "    <tr>\n",
       "      <th>11131</th>\n",
       "      <td>CLI0029281</td>\n",
       "      <td>Voldis Madrid</td>\n",
       "      <td>2024-05-30</td>\n",
       "      <td>2024-04-08</td>\n",
       "      <td>52.0</td>\n",
       "    </tr>\n",
       "    <tr>\n",
       "      <th>10609</th>\n",
       "      <td>CLI0027942</td>\n",
       "      <td>Voldis Granada</td>\n",
       "      <td>2024-07-11</td>\n",
       "      <td>2024-05-21</td>\n",
       "      <td>51.0</td>\n",
       "    </tr>\n",
       "    <tr>\n",
       "      <th>8495</th>\n",
       "      <td>CLI0024677</td>\n",
       "      <td>Voldis Granada</td>\n",
       "      <td>2024-07-10</td>\n",
       "      <td>2024-05-20</td>\n",
       "      <td>51.0</td>\n",
       "    </tr>\n",
       "    <tr>\n",
       "      <th>8606</th>\n",
       "      <td>CLI0024875</td>\n",
       "      <td>Voldis Granada</td>\n",
       "      <td>2023-11-08</td>\n",
       "      <td>2023-09-18</td>\n",
       "      <td>51.0</td>\n",
       "    </tr>\n",
       "    <tr>\n",
       "      <th>16322</th>\n",
       "      <td>CLI0038950</td>\n",
       "      <td>Voldis Valencia</td>\n",
       "      <td>2023-12-28</td>\n",
       "      <td>2023-11-07</td>\n",
       "      <td>51.0</td>\n",
       "    </tr>\n",
       "  </tbody>\n",
       "</table>\n",
       "<p>1497 rows × 5 columns</p>\n",
       "</div>"
      ],
      "text/plain": [
       "      PointOfSaleId  NameDistributor LastOrderDate LastOnlineOrderDate  \\\n",
       "15651    CLI0037791  Voldis Valencia    2024-07-11          2023-01-04   \n",
       "15502    CLI0037573  Voldis Valencia    2024-07-10          2023-01-03   \n",
       "16133    CLI0038603  Voldis Valencia    2024-07-03          2023-01-03   \n",
       "17313    CLI0040998  Voldis Valencia    2024-06-26          2023-01-03   \n",
       "16124    CLI0038587  Voldis Valencia    2024-07-05          2023-01-12   \n",
       "...             ...              ...           ...                 ...   \n",
       "11131    CLI0029281    Voldis Madrid    2024-05-30          2024-04-08   \n",
       "10609    CLI0027942   Voldis Granada    2024-07-11          2024-05-21   \n",
       "8495     CLI0024677   Voldis Granada    2024-07-10          2024-05-20   \n",
       "8606     CLI0024875   Voldis Granada    2023-11-08          2023-09-18   \n",
       "16322    CLI0038950  Voldis Valencia    2023-12-28          2023-11-07   \n",
       "\n",
       "       DaysBetweenLastOrderAndLastOnline  \n",
       "15651                              554.0  \n",
       "15502                              554.0  \n",
       "16133                              547.0  \n",
       "17313                              540.0  \n",
       "16124                              540.0  \n",
       "...                                  ...  \n",
       "11131                               52.0  \n",
       "10609                               51.0  \n",
       "8495                                51.0  \n",
       "8606                                51.0  \n",
       "16322                               51.0  \n",
       "\n",
       "[1497 rows x 5 columns]"
      ]
     },
     "execution_count": 29,
     "metadata": {},
     "output_type": "execute_result"
    }
   ],
   "source": [
    "last_orders_dates_general=last_order_dates_general[last_order_dates_general['DaysBetweenLastOrderAndLastOnline']>50]\n",
    "last_orders_dates_general"
   ]
  },
  {
   "cell_type": "code",
   "execution_count": 30,
   "metadata": {
    "application/vnd.databricks.v1+cell": {
     "cellMetadata": {
      "byteLimit": 2048000,
      "rowLimit": 10000
     },
     "inputWidgets": {},
     "nuid": "c9df5c0a-2b6a-4e12-835b-838608265d6b",
     "showTitle": false,
     "title": ""
    }
   },
   "outputs": [],
   "source": [
    "pdvs_unicos = last_orders_dates_general['PointOfSaleId'].unique()\n",
    "\n",
    "lista_pdvs = pdvs_unicos.tolist()"
   ]
  },
  {
   "cell_type": "code",
   "execution_count": 31,
   "metadata": {
    "application/vnd.databricks.v1+cell": {
     "cellMetadata": {
      "byteLimit": 2048000,
      "rowLimit": 10000
     },
     "inputWidgets": {},
     "nuid": "89357957-c874-48ac-8df6-887df1998bc7",
     "showTitle": false,
     "title": ""
    }
   },
   "outputs": [],
   "source": [
    "df_filtered = order_detail_sorted[order_detail_sorted['PointOfSaleId'].isin(lista_pdvs)]"
   ]
  },
  {
   "cell_type": "code",
   "execution_count": 32,
   "metadata": {
    "application/vnd.databricks.v1+cell": {
     "cellMetadata": {
      "byteLimit": 2048000,
      "rowLimit": 10000
     },
     "inputWidgets": {},
     "nuid": "7935f9e4-e1cc-4fdd-b18e-7220ab8ef29a",
     "showTitle": false,
     "title": ""
    }
   },
   "outputs": [],
   "source": [
    "df_online = df_filtered[df_filtered['Origin'] == 'Online']\n",
    "sellout_online = df_online['Sellout'].sum()"
   ]
  },
  {
   "cell_type": "code",
   "execution_count": 33,
   "metadata": {
    "application/vnd.databricks.v1+cell": {
     "cellMetadata": {
      "byteLimit": 2048000,
      "rowLimit": 10000
     },
     "inputWidgets": {},
     "nuid": "17777933-c604-4e8e-8031-a706480de0a1",
     "showTitle": false,
     "title": ""
    }
   },
   "outputs": [],
   "source": [
    "sellout_online_df = df_online.groupby('PointOfSaleId').agg({\n",
    "    'Sellout': 'sum',\n",
    "    'Code':'count'\n",
    "}).reset_index()"
   ]
  },
  {
   "cell_type": "code",
   "execution_count": 34,
   "metadata": {
    "application/vnd.databricks.v1+cell": {
     "cellMetadata": {
      "byteLimit": 2048000,
      "rowLimit": 10000
     },
     "inputWidgets": {},
     "nuid": "b4efa0d2-0633-4478-b3f4-902754ad587c",
     "showTitle": false,
     "title": ""
    }
   },
   "outputs": [],
   "source": [
    "grouped_df = df_filtered.groupby('PointOfSaleId').agg({\n",
    "    'CouponDiscountAmt': 'sum',\n",
    "}).reset_index()"
   ]
  },
  {
   "cell_type": "code",
   "execution_count": 35,
   "metadata": {
    "application/vnd.databricks.v1+cell": {
     "cellMetadata": {
      "byteLimit": 2048000,
      "rowLimit": 10000
     },
     "inputWidgets": {},
     "nuid": "08bb3f8a-219b-4af0-a309-97653b22f5e2",
     "showTitle": false,
     "title": ""
    }
   },
   "outputs": [],
   "source": [
    "merged_df = pd.merge(sellout_online_df, grouped_df, on='PointOfSaleId', how='left')\n"
   ]
  },
  {
   "cell_type": "code",
   "execution_count": 36,
   "metadata": {
    "application/vnd.databricks.v1+cell": {
     "cellMetadata": {
      "byteLimit": 2048000,
      "rowLimit": 10000
     },
     "inputWidgets": {},
     "nuid": "4ddeab19-ca74-46d7-88aa-6bd33839ad95",
     "showTitle": false,
     "title": ""
    }
   },
   "outputs": [],
   "source": [
    "def filter_coupons(coupons):\n",
    "    return [coupon for coupon in coupons if coupon is not None]\n",
    "\n",
    "# Obtener cupones únicos usados por cada PDV y filtrar los None/NaN\n",
    "df_filtered = df_filtered.groupby('PointOfSaleId')['CouponCode'].apply(lambda x: filter_coupons(x.unique())).reset_index()\n",
    "df_filtered.columns = ['PointOfSaleId', 'UniqueCoupons']\n",
    "\n",
    "# Calcular el número de cupones únicos por PDV excluyendo None/NaN\n",
    "df_filtered['NumberOfUniqueCoupons'] = df_filtered['UniqueCoupons'].apply(len)\n"
   ]
  },
  {
   "cell_type": "code",
   "execution_count": 37,
   "metadata": {
    "application/vnd.databricks.v1+cell": {
     "cellMetadata": {
      "byteLimit": 2048000,
      "rowLimit": 10000
     },
     "inputWidgets": {},
     "nuid": "b82e7cbd-5e94-4a33-a1ee-3f728b24f991",
     "showTitle": false,
     "title": ""
    }
   },
   "outputs": [],
   "source": [
    "merged_df = pd.merge(df_filtered, merged_df[['PointOfSaleId', 'CouponDiscountAmt','Sellout']], on='PointOfSaleId', how='left')"
   ]
  },
  {
   "cell_type": "markdown",
   "metadata": {
    "application/vnd.databricks.v1+cell": {
     "cellMetadata": {},
     "inputWidgets": {},
     "nuid": "3407e3cb-db53-41ff-a298-9d0ec2327952",
     "showTitle": false,
     "title": ""
    }
   },
   "source": [
    "#### Cantidad de cupones, impacto y sellout de pdvs dormidos"
   ]
  },
  {
   "cell_type": "code",
   "execution_count": 38,
   "metadata": {
    "application/vnd.databricks.v1+cell": {
     "cellMetadata": {
      "byteLimit": 2048000,
      "rowLimit": 10000
     },
     "inputWidgets": {},
     "nuid": "59718be4-10a2-4fe2-ae46-0be404a984a2",
     "showTitle": false,
     "title": ""
    }
   },
   "outputs": [
    {
     "data": {
      "text/html": [
       "<div>\n",
       "<style scoped>\n",
       "    .dataframe tbody tr th:only-of-type {\n",
       "        vertical-align: middle;\n",
       "    }\n",
       "\n",
       "    .dataframe tbody tr th {\n",
       "        vertical-align: top;\n",
       "    }\n",
       "\n",
       "    .dataframe thead th {\n",
       "        text-align: right;\n",
       "    }\n",
       "</style>\n",
       "<table border=\"1\" class=\"dataframe\">\n",
       "  <thead>\n",
       "    <tr style=\"text-align: right;\">\n",
       "      <th></th>\n",
       "      <th>PointOfSaleId</th>\n",
       "      <th>UniqueCoupons</th>\n",
       "      <th>NumberOfUniqueCoupons</th>\n",
       "      <th>CouponDiscountAmt</th>\n",
       "      <th>Sellout</th>\n",
       "    </tr>\n",
       "  </thead>\n",
       "  <tbody>\n",
       "    <tr>\n",
       "      <th>0</th>\n",
       "      <td>CLI0018925</td>\n",
       "      <td>[Calabaza20, Happy10]</td>\n",
       "      <td>2</td>\n",
       "      <td>42.049999</td>\n",
       "      <td>398.909988</td>\n",
       "    </tr>\n",
       "    <tr>\n",
       "      <th>1</th>\n",
       "      <td>CLI0019003</td>\n",
       "      <td>[BIENVENIDA20DTO]</td>\n",
       "      <td>1</td>\n",
       "      <td>64.629997</td>\n",
       "      <td>326.240013</td>\n",
       "    </tr>\n",
       "    <tr>\n",
       "      <th>2</th>\n",
       "      <td>CLI0019035</td>\n",
       "      <td>[BIENVENIDA20DTO, VOLDIS15%, Voldis15e, Bar10,...</td>\n",
       "      <td>6</td>\n",
       "      <td>186.590000</td>\n",
       "      <td>2061.780018</td>\n",
       "    </tr>\n",
       "    <tr>\n",
       "      <th>3</th>\n",
       "      <td>CLI0019040</td>\n",
       "      <td>[BIENVENIDA20DTO, HAPPY10]</td>\n",
       "      <td>2</td>\n",
       "      <td>13.610000</td>\n",
       "      <td>72.029999</td>\n",
       "    </tr>\n",
       "    <tr>\n",
       "      <th>4</th>\n",
       "      <td>CLI0019046</td>\n",
       "      <td>[BIENVENIDA20DTO]</td>\n",
       "      <td>1</td>\n",
       "      <td>100.000000</td>\n",
       "      <td>418.399994</td>\n",
       "    </tr>\n",
       "    <tr>\n",
       "      <th>...</th>\n",
       "      <td>...</td>\n",
       "      <td>...</td>\n",
       "      <td>...</td>\n",
       "      <td>...</td>\n",
       "      <td>...</td>\n",
       "    </tr>\n",
       "    <tr>\n",
       "      <th>1492</th>\n",
       "      <td>CLI0049299</td>\n",
       "      <td>[Happy10]</td>\n",
       "      <td>1</td>\n",
       "      <td>17.240000</td>\n",
       "      <td>155.109997</td>\n",
       "    </tr>\n",
       "    <tr>\n",
       "      <th>1493</th>\n",
       "      <td>CLI0049325</td>\n",
       "      <td>[]</td>\n",
       "      <td>0</td>\n",
       "      <td>0.000000</td>\n",
       "      <td>27.559999</td>\n",
       "    </tr>\n",
       "    <tr>\n",
       "      <th>1494</th>\n",
       "      <td>CLI0049365</td>\n",
       "      <td>[Bienvenida20, Voldis15%]</td>\n",
       "      <td>2</td>\n",
       "      <td>175.000000</td>\n",
       "      <td>2433.400024</td>\n",
       "    </tr>\n",
       "    <tr>\n",
       "      <th>1495</th>\n",
       "      <td>CLI0050432</td>\n",
       "      <td>[]</td>\n",
       "      <td>0</td>\n",
       "      <td>0.000000</td>\n",
       "      <td>83.500000</td>\n",
       "    </tr>\n",
       "    <tr>\n",
       "      <th>1496</th>\n",
       "      <td>CLI0051061</td>\n",
       "      <td>[Voldis15%]</td>\n",
       "      <td>1</td>\n",
       "      <td>8.000000</td>\n",
       "      <td>45.349998</td>\n",
       "    </tr>\n",
       "  </tbody>\n",
       "</table>\n",
       "<p>1497 rows × 5 columns</p>\n",
       "</div>"
      ],
      "text/plain": [
       "     PointOfSaleId                                      UniqueCoupons  \\\n",
       "0       CLI0018925                              [Calabaza20, Happy10]   \n",
       "1       CLI0019003                                  [BIENVENIDA20DTO]   \n",
       "2       CLI0019035  [BIENVENIDA20DTO, VOLDIS15%, Voldis15e, Bar10,...   \n",
       "3       CLI0019040                         [BIENVENIDA20DTO, HAPPY10]   \n",
       "4       CLI0019046                                  [BIENVENIDA20DTO]   \n",
       "...            ...                                                ...   \n",
       "1492    CLI0049299                                          [Happy10]   \n",
       "1493    CLI0049325                                                 []   \n",
       "1494    CLI0049365                          [Bienvenida20, Voldis15%]   \n",
       "1495    CLI0050432                                                 []   \n",
       "1496    CLI0051061                                        [Voldis15%]   \n",
       "\n",
       "      NumberOfUniqueCoupons  CouponDiscountAmt      Sellout  \n",
       "0                         2          42.049999   398.909988  \n",
       "1                         1          64.629997   326.240013  \n",
       "2                         6         186.590000  2061.780018  \n",
       "3                         2          13.610000    72.029999  \n",
       "4                         1         100.000000   418.399994  \n",
       "...                     ...                ...          ...  \n",
       "1492                      1          17.240000   155.109997  \n",
       "1493                      0           0.000000    27.559999  \n",
       "1494                      2         175.000000  2433.400024  \n",
       "1495                      0           0.000000    83.500000  \n",
       "1496                      1           8.000000    45.349998  \n",
       "\n",
       "[1497 rows x 5 columns]"
      ]
     },
     "execution_count": 38,
     "metadata": {},
     "output_type": "execute_result"
    }
   ],
   "source": [
    "merged_df"
   ]
  },
  {
   "cell_type": "markdown",
   "metadata": {
    "application/vnd.databricks.v1+cell": {
     "cellMetadata": {
      "byteLimit": 2048000,
      "rowLimit": 10000
     },
     "inputWidgets": {},
     "nuid": "5580fed0-23da-4a7b-9c66-c01c0f11086a",
     "showTitle": false,
     "title": ""
    }
   },
   "source": [
    "## Plots"
   ]
  },
  {
   "cell_type": "markdown",
   "metadata": {
    "application/vnd.databricks.v1+cell": {
     "cellMetadata": {
      "byteLimit": 2048000,
      "rowLimit": 10000
     },
     "inputWidgets": {},
     "nuid": "6f383b6d-08c2-4b5f-9f72-6e60309c836f",
     "showTitle": false,
     "title": ""
    }
   },
   "source": [
    "#### Distribución de 'CouponDiscountAmt'"
   ]
  },
  {
   "cell_type": "code",
   "execution_count": 39,
   "metadata": {
    "application/vnd.databricks.v1+cell": {
     "cellMetadata": {
      "byteLimit": 2048000,
      "rowLimit": 10000
     },
     "inputWidgets": {},
     "nuid": "e198a933-9261-49ee-84a1-63f02551a291",
     "showTitle": false,
     "title": ""
    }
   },
   "outputs": [
    {
     "data": {
      "text/plain": [
       "array([ 0., 20., 15., 10.])"
      ]
     },
     "execution_count": 39,
     "metadata": {},
     "output_type": "execute_result"
    }
   ],
   "source": [
    "order_detail_sorted['CouponDiscountPct'].unique()"
   ]
  },
  {
   "cell_type": "code",
   "execution_count": 40,
   "metadata": {
    "application/vnd.databricks.v1+cell": {
     "cellMetadata": {
      "byteLimit": 2048000,
      "rowLimit": 10000
     },
     "inputWidgets": {},
     "nuid": "cd7b2ac9-c25c-4ad5-b780-b40a5f3eec88",
     "showTitle": false,
     "title": ""
    }
   },
   "outputs": [
    {
     "data": {
      "text/plain": [
       "<Axes: >"
      ]
     },
     "execution_count": 40,
     "metadata": {},
     "output_type": "execute_result"
    },
    {
     "data": {
      "image/png": "[encoded data removed]",
      "text/plain": [
       "<Figure size 640x480 with 1 Axes>"
      ]
     },
     "metadata": {},
     "output_type": "display_data"
    }
   ],
   "source": [
    "order_detail_sorted['CouponDiscountPct'].hist()"
   ]
  },
  {
   "cell_type": "markdown",
   "metadata": {
    "application/vnd.databricks.v1+cell": {
     "cellMetadata": {
      "byteLimit": 2048000,
      "rowLimit": 10000
     },
     "inputWidgets": {},
     "nuid": "fe889b94-13d7-48eb-aeeb-728420427387",
     "showTitle": false,
     "title": ""
    }
   },
   "source": [
    "### Compras con cupones/ compras totales"
   ]
  },
  {
   "cell_type": "markdown",
   "metadata": {
    "application/vnd.databricks.v1+cell": {
     "cellMetadata": {
      "byteLimit": 2048000,
      "rowLimit": 10000
     },
     "inputWidgets": {},
     "nuid": "82f88361-8274-46c5-addc-8e9d4456f9c0",
     "showTitle": false,
     "title": ""
    }
   },
   "source": [
    "#### Distribución de pedidos por pdv"
   ]
  },
  {
   "cell_type": "code",
   "execution_count": 41,
   "metadata": {
    "application/vnd.databricks.v1+cell": {
     "cellMetadata": {
      "byteLimit": 2048000,
      "rowLimit": 10000
     },
     "inputWidgets": {},
     "nuid": "a4287028-100f-40c1-b163-9d93699f5f64",
     "showTitle": false,
     "title": ""
    }
   },
   "outputs": [],
   "source": [
    "##### 50 PDVs con más pedidos\n",
    "top_pdvs = order_detail_sorted['PointOfSaleId'].value_counts().nlargest(50).index.tolist()\n"
   ]
  },
  {
   "cell_type": "code",
   "execution_count": 42,
   "metadata": {},
   "outputs": [
    {
     "data": {
      "text/plain": [
       "['CLI0048689',\n",
       " 'CLI0024519',\n",
       " 'CLI0043030',\n",
       " '04463',\n",
       " '08431',\n",
       " 'CLI0031619',\n",
       " '07015',\n",
       " 'CLI0026035',\n",
       " 'CLI0029791',\n",
       " 'CLI0028525',\n",
       " 'CLI0030422',\n",
       " '06518',\n",
       " 'CLI0024798',\n",
       " 'CLI0027123',\n",
       " '02961',\n",
       " '06502',\n",
       " '05814',\n",
       " '07861',\n",
       " '05883',\n",
       " 'CLI0030547',\n",
       " '01998',\n",
       " '03229',\n",
       " 'CLI0026553',\n",
       " '08178',\n",
       " '06643',\n",
       " 'CLI0027871',\n",
       " '11519',\n",
       " 'CLI0025894',\n",
       " '07413',\n",
       " 'CLI0029755',\n",
       " 'CLI0026028',\n",
       " '08457',\n",
       " '08016',\n",
       " '03570',\n",
       " 'CLI0026980',\n",
       " '01554',\n",
       " 'CLI0025624',\n",
       " '08023',\n",
       " '07617',\n",
       " '11411',\n",
       " '08201',\n",
       " 'CLI0029704',\n",
       " '07985',\n",
       " 'CLI0029196',\n",
       " '11058',\n",
       " 'CLI0032129',\n",
       " '00376',\n",
       " '10085',\n",
       " '03320',\n",
       " 'CLI0030776']"
      ]
     },
     "execution_count": 42,
     "metadata": {},
     "output_type": "execute_result"
    }
   ],
   "source": [
    "top_pdvs"
   ]
  },
  {
   "cell_type": "code",
   "execution_count": 43,
   "metadata": {
    "application/vnd.databricks.v1+cell": {
     "cellMetadata": {
      "byteLimit": 2048000,
      "rowLimit": 10000
     },
     "inputWidgets": {},
     "nuid": "6948e14a-09a9-4731-b745-9193bdfcb367",
     "showTitle": false,
     "title": ""
    }
   },
   "outputs": [
    {
     "data": {
      "image/png": "[encoded data removed]",
      "text/plain": [
       "<Figure size 1000x600 with 1 Axes>"
      ]
     },
     "metadata": {},
     "output_type": "display_data"
    }
   ],
   "source": [
    "import matplotlib.pyplot as plt\n",
    "\n",
    "pedidos_por_pdv = order_detail_sorted.groupby('PointOfSaleId')['Code'].count()\n",
    "\n",
    "# Crear el histograma\n",
    "plt.figure(figsize=(10, 6))\n",
    "plt.hist(pedidos_por_pdv, bins=10, color='skyblue', edgecolor='black')\n",
    "plt.title('Número de Pedidos por PDV')\n",
    "plt.xlabel('PDV')\n",
    "plt.ylabel('Número de Pedidos')\n",
    "plt.xticks(rotation=0)\n",
    "plt.show()\n"
   ]
  },
  {
   "cell_type": "markdown",
   "metadata": {
    "application/vnd.databricks.v1+cell": {
     "cellMetadata": {
      "byteLimit": 2048000,
      "rowLimit": 10000
     },
     "inputWidgets": {},
     "nuid": "c109c332-1b2b-4a2f-baae-37b5e1de068b",
     "showTitle": false,
     "title": ""
    }
   },
   "source": [
    "#### Pedidos con cupon y sin cupón por pdv"
   ]
  },
  {
   "cell_type": "code",
   "execution_count": 63,
   "metadata": {
    "application/vnd.databricks.v1+cell": {
     "cellMetadata": {
      "byteLimit": 2048000,
      "rowLimit": 10000
     },
     "inputWidgets": {},
     "nuid": "2f6365a7-7c1d-4e1d-ba91-95d608e5c678",
     "showTitle": false,
     "title": ""
    }
   },
   "outputs": [],
   "source": [
    "pedidos_con_cupon = order_detail_sorted[order_detail_sorted['HasCoupon']==1]\n",
    "pedidos_sin_cupon = order_detail_sorted[order_detail_sorted['HasCoupon']==0]"
   ]
  },
  {
   "cell_type": "code",
   "execution_count": 69,
   "metadata": {
    "application/vnd.databricks.v1+cell": {
     "cellMetadata": {
      "byteLimit": 2048000,
      "rowLimit": 10000
     },
     "inputWidgets": {},
     "nuid": "ee063be6-b468-4afc-80da-0f5548f3b7a5",
     "showTitle": false,
     "title": ""
    }
   },
   "outputs": [
    {
     "data": {
      "image/png": "[encoded data removed]",
      "text/plain": [
       "<Figure size 1200x800 with 1 Axes>"
      ]
     },
     "metadata": {},
     "output_type": "display_data"
    }
   ],
   "source": [
    "import matplotlib.pyplot as plt\n",
    "\n",
    "\n",
    "\n",
    "# Crear una figura para el histograma\n",
    "plt.figure(figsize=(12, 8))\n",
    "\n",
    "# Histograma de pedidos con cupón\n",
    "plt.hist(pedidos_con_cupon['PointOfSaleId'], bins=5, color='deepskyblue', edgecolor='black', alpha=0.7, label='Con Cupón')\n",
    "\n",
    "# Histograma de pedidos sin cupón\n",
    "plt.hist(pedidos_sin_cupon['PointOfSaleId'], bins=50, color='salmon', edgecolor='black', alpha=0.7, label='Sin Cupón')\n",
    "\n",
    "# Añadir título y etiquetas\n",
    "plt.title('Número de Pedidos por PDV (con y sin Cupón)')\n",
    "plt.xlabel('PointOfSaleId')\n",
    "plt.ylabel('Frecuencia')\n",
    "plt.xticks(rotation=0)\n",
    "plt.legend()\n",
    "\n",
    "# Mostrar el gráfico\n",
    "plt.show()"
   ]
  },
  {
   "cell_type": "markdown",
   "metadata": {},
   "source": [
    "#### fILTRO ONLINE"
   ]
  },
  {
   "cell_type": "markdown",
   "metadata": {
    "application/vnd.databricks.v1+cell": {
     "cellMetadata": {
      "byteLimit": 2048000,
      "rowLimit": 10000
     },
     "inputWidgets": {},
     "nuid": "89930282-3e82-4701-95d2-a6a298288be0",
     "showTitle": false,
     "title": ""
    }
   },
   "source": []
  },
  {
   "cell_type": "markdown",
   "metadata": {
    "application/vnd.databricks.v1+cell": {
     "cellMetadata": {
      "byteLimit": 2048000,
      "rowLimit": 10000
     },
     "inputWidgets": {},
     "nuid": "973a2c53-df80-4411-b730-81e7805c4100",
     "showTitle": false,
     "title": ""
    }
   },
   "source": [
    "#### Porcentaje de uso de cupones por rangos"
   ]
  },
  {
   "cell_type": "code",
   "execution_count": 48,
   "metadata": {
    "application/vnd.databricks.v1+cell": {
     "cellMetadata": {
      "byteLimit": 2048000,
      "rowLimit": 10000
     },
     "inputWidgets": {},
     "nuid": "5a3a8122-ccd4-4c15-aee7-1e8cf6a76f8d",
     "showTitle": false,
     "title": ""
    }
   },
   "outputs": [
    {
     "data": {
      "image/png": "[encoded data removed]",
      "text/plain": [
       "<Figure size 800x500 with 1 Axes>"
      ]
     },
     "metadata": {},
     "output_type": "display_data"
    }
   ],
   "source": [
    "\n",
    "import matplotlib.pyplot as plt\n",
    "rangos = [0, 20, 40, 60, 80, 100]\n",
    "labels = ['0-20', '21-40', '41-60', '61-80', '81-100']\n",
    "\n",
    "# Crear la columna con los rangos\n",
    "order_detail_sorted['pctg_coupon_range'] = pd.cut(order_detail_sorted['PctgCouponUsed'], bins=rangos, labels=labels)\n",
    "# Contar las ocurrencias en cada rango y ordenar por índice\n",
    "range_counts = order_detail_sorted['pctg_coupon_range'].value_counts().sort_index()\n",
    "\n",
    "# Convertir los conteos a un array de numpy\n",
    "counts = range_counts.values\n",
    "\n",
    "# # Aplicar logaritmo a los valores\n",
    "# counts_log = np.log(counts)\n",
    "\n",
    "# Plotear los datos transformados\n",
    "plt.figure(figsize=(8, 5))\n",
    "plt.bar(labels, counts,color='skyblue')\n",
    "plt.xlabel('Rango % uso de cupón PDVS')\n",
    "plt.ylabel('conteo')\n",
    "plt.title('Uso de cupones por rango')\n",
    "plt.xticks(rotation=45)\n",
    "plt.tight_layout()\n",
    "plt.show()\n"
   ]
  },
  {
   "cell_type": "code",
   "execution_count": 49,
   "metadata": {
    "application/vnd.databricks.v1+cell": {
     "cellMetadata": {
      "byteLimit": 2048000,
      "rowLimit": 10000
     },
     "inputWidgets": {},
     "nuid": "c32e0bd7-9ef5-4a9d-8758-bb21c9947bb8",
     "showTitle": false,
     "title": ""
    }
   },
   "outputs": [
    {
     "name": "stderr",
     "output_type": "stream",
     "text": [
      "C:\\Users\\ctrujils\\AppData\\Local\\Temp\\ipykernel_23228\\871113514.py:1: FutureWarning: The default of observed=False is deprecated and will be changed to True in a future version of pandas. Pass observed=False to retain current behavior or observed=True to adopt the future default and silence this warning.\n",
      "  sales_summary = order_detail_sorted.groupby('pctg_coupon_range')['Sellout'].agg(['mean', 'std', 'count']).reset_index()\n"
     ]
    },
    {
     "data": {
      "text/html": [
       "<div>\n",
       "<style scoped>\n",
       "    .dataframe tbody tr th:only-of-type {\n",
       "        vertical-align: middle;\n",
       "    }\n",
       "\n",
       "    .dataframe tbody tr th {\n",
       "        vertical-align: top;\n",
       "    }\n",
       "\n",
       "    .dataframe thead th {\n",
       "        text-align: right;\n",
       "    }\n",
       "</style>\n",
       "<table border=\"1\" class=\"dataframe\">\n",
       "  <thead>\n",
       "    <tr style=\"text-align: right;\">\n",
       "      <th></th>\n",
       "      <th>pctg_coupon_range</th>\n",
       "      <th>mean</th>\n",
       "      <th>std</th>\n",
       "      <th>count</th>\n",
       "    </tr>\n",
       "  </thead>\n",
       "  <tbody>\n",
       "    <tr>\n",
       "      <th>0</th>\n",
       "      <td>0-20</td>\n",
       "      <td>315.193236</td>\n",
       "      <td>411.726708</td>\n",
       "      <td>100272</td>\n",
       "    </tr>\n",
       "    <tr>\n",
       "      <th>1</th>\n",
       "      <td>21-40</td>\n",
       "      <td>266.238149</td>\n",
       "      <td>276.998343</td>\n",
       "      <td>33901</td>\n",
       "    </tr>\n",
       "    <tr>\n",
       "      <th>2</th>\n",
       "      <td>41-60</td>\n",
       "      <td>266.232088</td>\n",
       "      <td>280.758440</td>\n",
       "      <td>13972</td>\n",
       "    </tr>\n",
       "    <tr>\n",
       "      <th>3</th>\n",
       "      <td>61-80</td>\n",
       "      <td>252.473436</td>\n",
       "      <td>208.309861</td>\n",
       "      <td>6216</td>\n",
       "    </tr>\n",
       "    <tr>\n",
       "      <th>4</th>\n",
       "      <td>81-100</td>\n",
       "      <td>272.711303</td>\n",
       "      <td>221.809624</td>\n",
       "      <td>5930</td>\n",
       "    </tr>\n",
       "  </tbody>\n",
       "</table>\n",
       "</div>"
      ],
      "text/plain": [
       "  pctg_coupon_range        mean         std   count\n",
       "0              0-20  315.193236  411.726708  100272\n",
       "1             21-40  266.238149  276.998343   33901\n",
       "2             41-60  266.232088  280.758440   13972\n",
       "3             61-80  252.473436  208.309861    6216\n",
       "4            81-100  272.711303  221.809624    5930"
      ]
     },
     "execution_count": 49,
     "metadata": {},
     "output_type": "execute_result"
    }
   ],
   "source": [
    "sales_summary = order_detail_sorted.groupby('pctg_coupon_range')['Sellout'].agg(['mean', 'std', 'count']).reset_index()\n",
    "sales_summary"
   ]
  },
  {
   "cell_type": "code",
   "execution_count": 50,
   "metadata": {
    "application/vnd.databricks.v1+cell": {
     "cellMetadata": {
      "byteLimit": 2048000,
      "rowLimit": 10000
     },
     "inputWidgets": {},
     "nuid": "bf83af66-3b27-440b-a1cb-3370ff81e040",
     "showTitle": false,
     "title": ""
    }
   },
   "outputs": [
    {
     "name": "stderr",
     "output_type": "stream",
     "text": [
      "c:\\Users\\ctrujils\\Documents\\Proyectos\\MSM\\validador\\ml-validator\\b2b_env\\Lib\\site-packages\\seaborn\\categorical.py:632: FutureWarning: SeriesGroupBy.grouper is deprecated and will be removed in a future version of pandas.\n",
      "  positions = grouped.grouper.result_index.to_numpy(dtype=float)\n"
     ]
    },
    {
     "data": {
      "image/png": "[encoded data removed]",
      "text/plain": [
       "<Figure size 1000x600 with 1 Axes>"
      ]
     },
     "metadata": {},
     "output_type": "display_data"
    },
    {
     "name": "stdout",
     "output_type": "stream",
     "text": [
      "Resultado ANOVA: F=177.7052506487106, p=3.455100634836357e-152\n"
     ]
    }
   ],
   "source": [
    "import seaborn as sns\n",
    "import matplotlib.pyplot as plt\n",
    "from scipy.stats import f_oneway, ttest_ind\n",
    "\n",
    "# Visualización de las ventas por grupo de uso de cupones\n",
    "plt.figure(figsize=(10, 6))\n",
    "sns.boxplot(x='pctg_coupon_range', y='Sellout', data=order_detail_sorted)\n",
    "plt.title('Distribución de Ventas por Grupo de Uso de Cupones')\n",
    "plt.xlabel('Rango % uso de cupón PDVS')\n",
    "plt.ylabel('Ventas (Sellout)')\n",
    "plt.xticks(rotation=45)\n",
    "plt.show()\n",
    "\n",
    "# Comparación de medias (ANOVA)\n",
    "groups = [order_detail_sorted[order_detail_sorted['pctg_coupon_range'] == label]['Sellout'] for label in labels]\n",
    "anova_result = f_oneway(*groups)\n",
    "print(f'Resultado ANOVA: F={anova_result.statistic}, p={anova_result.pvalue}')"
   ]
  },
  {
   "cell_type": "markdown",
   "metadata": {
    "application/vnd.databricks.v1+cell": {
     "cellMetadata": {
      "byteLimit": 2048000,
      "rowLimit": 10000
     },
     "inputWidgets": {},
     "nuid": "8eefed68-0f5b-43fd-8b40-34ee0e50824d",
     "showTitle": false,
     "title": ""
    }
   },
   "source": [
    "#### Estacionalidad en el uso de cupones"
   ]
  },
  {
   "cell_type": "code",
   "execution_count": 0,
   "metadata": {
    "application/vnd.databricks.v1+cell": {
     "cellMetadata": {
      "byteLimit": 2048000,
      "rowLimit": 10000
     },
     "inputWidgets": {},
     "nuid": "dabec8fd-6696-4237-a4be-b0523a83a24f",
     "showTitle": false,
     "title": ""
    }
   },
   "outputs": [],
   "source": [
    "order_detail_sorted['year']=order_detail_sorted['OrderDate'].dt.year"
   ]
  },
  {
   "cell_type": "code",
   "execution_count": 0,
   "metadata": {
    "application/vnd.databricks.v1+cell": {
     "cellMetadata": {
      "byteLimit": 2048000,
      "rowLimit": 10000
     },
     "inputWidgets": {},
     "nuid": "e131bb17-36fe-4f32-aeec-eb3c67e789f4",
     "showTitle": false,
     "title": ""
    }
   },
   "outputs": [],
   "source": [
    "order_detail_sorted['month']=order_detail_sorted['OrderDate'].dt.month\n"
   ]
  },
  {
   "cell_type": "code",
   "execution_count": 0,
   "metadata": {
    "application/vnd.databricks.v1+cell": {
     "cellMetadata": {
      "byteLimit": 2048000,
      "rowLimit": 10000
     },
     "inputWidgets": {},
     "nuid": "7a1153d8-11cc-4134-b5d2-3c5b75f79759",
     "showTitle": false,
     "title": ""
    }
   },
   "outputs": [],
   "source": [
    "order_detail_sorted_2023=order_detail_sorted[order_detail_sorted['year']==2023]"
   ]
  },
  {
   "cell_type": "code",
   "execution_count": 0,
   "metadata": {
    "application/vnd.databricks.v1+cell": {
     "cellMetadata": {
      "byteLimit": 2048000,
      "rowLimit": 10000
     },
     "inputWidgets": {},
     "nuid": "eda99614-84cc-4804-a17e-d75d68e10095",
     "showTitle": false,
     "title": ""
    }
   },
   "outputs": [],
   "source": [
    "compras_por_mes=order_detail_sorted_2023['month'].value_counts().sort_index()"
   ]
  },
  {
   "cell_type": "code",
   "execution_count": 0,
   "metadata": {
    "application/vnd.databricks.v1+cell": {
     "cellMetadata": {
      "byteLimit": 2048000,
      "rowLimit": 10000
     },
     "inputWidgets": {},
     "nuid": "9f2610d0-f6b5-404d-892e-da144cfa1ff3",
     "showTitle": false,
     "title": ""
    }
   },
   "outputs": [],
   "source": [
    "pedidos_con_cupon = order_detail_sorted_2023[order_detail_sorted_2023['CouponDescription']!= 'NoCupon']['month'].value_counts().sort_index()"
   ]
  },
  {
   "cell_type": "code",
   "execution_count": 0,
   "metadata": {
    "application/vnd.databricks.v1+cell": {
     "cellMetadata": {
      "byteLimit": 2048000,
      "rowLimit": 10000
     },
     "inputWidgets": {},
     "nuid": "c19e5cc6-757d-4ddc-81a5-822d8ac6455a",
     "showTitle": false,
     "title": ""
    }
   },
   "outputs": [
    {
     "data": {
      "image/png": "[encoded data removed]",
      "text/plain": [
       "<Figure size 1000x600 with 1 Axes>"
      ]
     },
     "metadata": {},
     "output_type": "display_data"
    }
   ],
   "source": [
    "compras_por_mes = dict(sorted(compras_por_mes.items()))\n",
    "pedidos_con_cupon = dict(sorted(pedidos_con_cupon.items()))\n",
    "\n",
    "# Obtener los meses y las cantidades ordenadas\n",
    "meses = np.arange(1, 13)\n",
    "cantidades_compras = [compras_por_mes.get(mes, 0) for mes in meses]\n",
    "cantidades_cupon = [pedidos_con_cupon.get(mes, 0) for mes in meses]\n",
    "\n",
    "plt.figure(figsize=(10, 6))\n",
    "\n",
    "# Gráfico de barras para las compras totales por mes\n",
    "plt.bar(meses, cantidades_compras, color='skyblue', label='Compras Totales')\n",
    "\n",
    "# Gráfico de barras para los pedidos con cupón por mes\n",
    "plt.bar(meses, cantidades_cupon, color='salmon', label='Compras con Cupón')\n",
    "\n",
    "# Configuración de ejes y etiquetas\n",
    "plt.xlabel('Mes')\n",
    "plt.ylabel('Número de Compras')\n",
    "plt.title('Comparación de Compras Totales y Compras con Cupón por Mes')\n",
    "plt.xticks(np.arange(1, 13), ['Ene', 'Feb', 'Mar', 'Abr', 'May', 'Jun', 'Jul', 'Ago', 'Sep', 'Oct', 'Nov', 'Dic'])\n",
    "plt.legend()\n",
    "\n",
    "# Mostrar el gráfico\n",
    "plt.grid(True)\n",
    "plt.tight_layout()\n",
    "plt.show()"
   ]
  },
  {
   "cell_type": "markdown",
   "metadata": {
    "application/vnd.databricks.v1+cell": {
     "cellMetadata": {
      "byteLimit": 2048000,
      "rowLimit": 10000
     },
     "inputWidgets": {},
     "nuid": "706802ec-8ef8-480c-a622-5d970225d16a",
     "showTitle": false,
     "title": ""
    }
   },
   "source": [
    "#### Sellout tipologia de punto de venta"
   ]
  },
  {
   "cell_type": "code",
   "execution_count": 51,
   "metadata": {
    "application/vnd.databricks.v1+cell": {
     "cellMetadata": {
      "byteLimit": 2048000,
      "rowLimit": 10000
     },
     "inputWidgets": {},
     "nuid": "fb9c3780-a648-4031-bfdb-da50a849ba5b",
     "showTitle": false,
     "title": ""
    }
   },
   "outputs": [
    {
     "data": {
      "image/png": "[encoded data removed]",
      "text/plain": [
       "<Figure size 1700x800 with 1 Axes>"
      ]
     },
     "metadata": {},
     "output_type": "display_data"
    }
   ],
   "source": [
    "import matplotlib.pyplot as plt\n",
    "\n",
    "# Suponiendo que sellout_tipologia tiene dos columnas: 'tipologia' y 'TotalPrice'\n",
    "sellout_tipologia = order_detail_sorted.groupby('tipologia')['Sellout'].mean().reset_index()\n",
    "\n",
    "# Crear figura y ejes\n",
    "plt.figure(figsize=(17, 8))\n",
    "\n",
    "# Gráfico de barras para el sellout por tipología\n",
    "plt.bar(sellout_tipologia['tipologia'], sellout_tipologia['Sellout'], color='skyblue', edgecolor='black', alpha=0.7)\n",
    "\n",
    "# Configuración de ejes y etiquetas\n",
    "plt.title('Sellout por Tipología')\n",
    "plt.xlabel('Categorías de PDV')\n",
    "plt.xticks(rotation=45, ha='right')\n",
    "\n",
    "plt.ylabel('Sellout Promedio')\n",
    "\n",
    "# Mostrar el gráfico\n",
    "plt.tight_layout()\n",
    "plt.show()\n"
   ]
  },
  {
   "cell_type": "markdown",
   "metadata": {
    "application/vnd.databricks.v1+cell": {
     "cellMetadata": {
      "byteLimit": 2048000,
      "rowLimit": 10000
     },
     "inputWidgets": {},
     "nuid": "76e06ff7-aa88-4f8b-b4d4-2a43ed98dd88",
     "showTitle": false,
     "title": ""
    }
   },
   "source": [
    "#### Sellout cupon/no cupon por tipologia"
   ]
  },
  {
   "cell_type": "code",
   "execution_count": 53,
   "metadata": {
    "application/vnd.databricks.v1+cell": {
     "cellMetadata": {
      "byteLimit": 2048000,
      "rowLimit": 10000
     },
     "inputWidgets": {},
     "nuid": "6f1e5fa6-ed46-4471-aa46-83f88b5f91c6",
     "showTitle": false,
     "title": ""
    }
   },
   "outputs": [
    {
     "data": {
      "image/png": "[encoded data removed]",
      "text/plain": [
       "<Figure size 1200x800 with 1 Axes>"
      ]
     },
     "metadata": {},
     "output_type": "display_data"
    }
   ],
   "source": [
    "import matplotlib.pyplot as plt\n",
    "import numpy as np\n",
    "\n",
    "# Datos\n",
    "pedidos_con_cupon_tipologia =order_detail_sorted[order_detail_sorted['HasCoupon'] == 1] ['tipologia'].value_counts()\n",
    "pedidos_sin_cupon_tipologia = order_detail_sorted[order_detail_sorted['HasCoupon'] == 0]['tipologia'].value_counts()\n",
    "\n",
    "# Crear un DataFrame que combine ambos sets de datos\n",
    "tipologias = list(set(pedidos_con_cupon_tipologia.index).union(set(pedidos_sin_cupon_tipologia.index)))\n",
    "pedidos_con_cupon = [pedidos_con_cupon_tipologia.get(tipologia, 0) for tipologia in tipologias]\n",
    "pedidos_sin_cupon = [pedidos_sin_cupon_tipologia.get(tipologia, 0) for tipologia in tipologias]\n",
    "\n",
    "# Índices de las categorías\n",
    "indices = np.arange(len(tipologias))\n",
    "\n",
    "# Ancho de las barras\n",
    "width = 0.50\n",
    "\n",
    "# Crear figura\n",
    "plt.figure(figsize=(12, 8))\n",
    "\n",
    "# Gráfico de barras para los pedidos con cupón\n",
    "plt.bar(indices - width/2, pedidos_con_cupon, width, color='skyblue', label='Con Cupón', edgecolor='black', alpha=0.7)\n",
    "\n",
    "# Gráfico de barras para los pedidos sin cupón\n",
    "plt.bar(indices + width/2, pedidos_sin_cupon, width, color='salmon', label='Sin Cupón', edgecolor='black', alpha=0.7)\n",
    "\n",
    "# Configuración de ejes y etiquetas\n",
    "plt.title('Número de Pedidos por PDV (con y sin Cupón)')\n",
    "plt.xlabel('Categorías de PDV')\n",
    "plt.ylabel('Número de Pedidos')\n",
    "plt.xticks(indices, tipologias, rotation=45, ha='right')\n",
    "plt.legend()\n",
    "\n",
    "# Ajuste del diseño y muestra del gráfico\n",
    "plt.tight_layout()\n",
    "plt.show()\n"
   ]
  },
  {
   "cell_type": "markdown",
   "metadata": {
    "application/vnd.databricks.v1+cell": {
     "cellMetadata": {
      "byteLimit": 2048000,
      "rowLimit": 10000
     },
     "inputWidgets": {},
     "nuid": "4c52a561-ab22-4617-8f2a-5c3655cd9ca1",
     "showTitle": false,
     "title": ""
    }
   },
   "source": [
    "#### Sellout por tipologia de cupon"
   ]
  },
  {
   "cell_type": "code",
   "execution_count": 54,
   "metadata": {
    "application/vnd.databricks.v1+cell": {
     "cellMetadata": {
      "byteLimit": 2048000,
      "rowLimit": 10000
     },
     "inputWidgets": {},
     "nuid": "a26d98d8-8061-4d49-915f-e8579dd12515",
     "showTitle": false,
     "title": ""
    }
   },
   "outputs": [],
   "source": []
  },
  {
   "cell_type": "code",
   "execution_count": 55,
   "metadata": {
    "application/vnd.databricks.v1+cell": {
     "cellMetadata": {
      "byteLimit": 2048000,
      "rowLimit": 10000
     },
     "inputWidgets": {},
     "nuid": "1012afa1-e631-4508-a430-0280355cfb89",
     "showTitle": false,
     "title": ""
    }
   },
   "outputs": [
    {
     "data": {
      "text/plain": [
       "Coupon_type\n",
       "Fijo          337.448869\n",
       "NoCupon       230.870983\n",
       "Porcentual    303.970800\n",
       "Name: Sellout, dtype: float64"
      ]
     },
     "execution_count": 55,
     "metadata": {},
     "output_type": "execute_result"
    }
   ],
   "source": [
    "sellout_promedio_por_cupon"
   ]
  },
  {
   "cell_type": "code",
   "execution_count": 56,
   "metadata": {
    "application/vnd.databricks.v1+cell": {
     "cellMetadata": {
      "byteLimit": 2048000,
      "rowLimit": 10000
     },
     "inputWidgets": {},
     "nuid": "2d0da5d4-3cd2-4a8e-b1a7-66da66ea8596",
     "showTitle": false,
     "title": ""
    }
   },
   "outputs": [],
   "source": []
  },
  {
   "cell_type": "code",
   "execution_count": 57,
   "metadata": {
    "application/vnd.databricks.v1+cell": {
     "cellMetadata": {
      "byteLimit": 2048000,
      "rowLimit": 10000
     },
     "inputWidgets": {},
     "nuid": "1f9802ae-2374-4b07-82bb-4955ab9278b0",
     "showTitle": false,
     "title": ""
    }
   },
   "outputs": [
    {
     "data": {
      "text/plain": [
       "Origin\n",
       "OFFLINE    229.846088\n",
       "Online     301.171271\n",
       "Name: Sellout, dtype: float64"
      ]
     },
     "execution_count": 57,
     "metadata": {},
     "output_type": "execute_result"
    }
   ],
   "source": [
    "sellout_origen"
   ]
  },
  {
   "cell_type": "markdown",
   "metadata": {
    "application/vnd.databricks.v1+cell": {
     "cellMetadata": {
      "byteLimit": 2048000,
      "rowLimit": 10000
     },
     "inputWidgets": {},
     "nuid": "5062d81d-64f9-4e69-92e8-681d680a5de8",
     "showTitle": false,
     "title": ""
    }
   },
   "source": [
    "### Compras por season"
   ]
  },
  {
   "cell_type": "code",
   "execution_count": 58,
   "metadata": {
    "application/vnd.databricks.v1+cell": {
     "cellMetadata": {
      "byteLimit": 2048000,
      "rowLimit": 10000
     },
     "inputWidgets": {},
     "nuid": "ee1ebdd5-4559-4303-b825-fa72c75e3167",
     "showTitle": false,
     "title": ""
    }
   },
   "outputs": [
    {
     "ename": "KeyError",
     "evalue": "'season'",
     "output_type": "error",
     "traceback": [
      "\u001b[1;31m---------------------------------------------------------------------------\u001b[0m",
      "\u001b[1;31mKeyError\u001b[0m                                  Traceback (most recent call last)",
      "File \u001b[1;32mc:\\Users\\ctrujils\\Documents\\Proyectos\\MSM\\validador\\ml-validator\\b2b_env\\Lib\\site-packages\\pandas\\core\\indexes\\base.py:3805\u001b[0m, in \u001b[0;36mIndex.get_loc\u001b[1;34m(self, key)\u001b[0m\n\u001b[0;32m   3804\u001b[0m \u001b[38;5;28;01mtry\u001b[39;00m:\n\u001b[1;32m-> 3805\u001b[0m     \u001b[38;5;28;01mreturn\u001b[39;00m \u001b[38;5;28;43mself\u001b[39;49m\u001b[38;5;241;43m.\u001b[39;49m\u001b[43m_engine\u001b[49m\u001b[38;5;241;43m.\u001b[39;49m\u001b[43mget_loc\u001b[49m\u001b[43m(\u001b[49m\u001b[43mcasted_key\u001b[49m\u001b[43m)\u001b[49m\n\u001b[0;32m   3806\u001b[0m \u001b[38;5;28;01mexcept\u001b[39;00m \u001b[38;5;167;01mKeyError\u001b[39;00m \u001b[38;5;28;01mas\u001b[39;00m err:\n",
      "File \u001b[1;32mindex.pyx:167\u001b[0m, in \u001b[0;36mpandas._libs.index.IndexEngine.get_loc\u001b[1;34m()\u001b[0m\n",
      "File \u001b[1;32mindex.pyx:196\u001b[0m, in \u001b[0;36mpandas._libs.index.IndexEngine.get_loc\u001b[1;34m()\u001b[0m\n",
      "File \u001b[1;32mpandas\\\\_libs\\\\hashtable_class_helper.pxi:7081\u001b[0m, in \u001b[0;36mpandas._libs.hashtable.PyObjectHashTable.get_item\u001b[1;34m()\u001b[0m\n",
      "File \u001b[1;32mpandas\\\\_libs\\\\hashtable_class_helper.pxi:7089\u001b[0m, in \u001b[0;36mpandas._libs.hashtable.PyObjectHashTable.get_item\u001b[1;34m()\u001b[0m\n",
      "\u001b[1;31mKeyError\u001b[0m: 'season'",
      "\nThe above exception was the direct cause of the following exception:\n",
      "\u001b[1;31mKeyError\u001b[0m                                  Traceback (most recent call last)",
      "Cell \u001b[1;32mIn[58], line 1\u001b[0m\n\u001b[1;32m----> 1\u001b[0m \u001b[43morder_detail_sorted\u001b[49m\u001b[43m[\u001b[49m\u001b[38;5;124;43m'\u001b[39;49m\u001b[38;5;124;43mseason\u001b[39;49m\u001b[38;5;124;43m'\u001b[39;49m\u001b[43m]\u001b[49m\u001b[38;5;241m.\u001b[39mvalue_counts()\n",
      "File \u001b[1;32mc:\\Users\\ctrujils\\Documents\\Proyectos\\MSM\\validador\\ml-validator\\b2b_env\\Lib\\site-packages\\pandas\\core\\frame.py:4102\u001b[0m, in \u001b[0;36mDataFrame.__getitem__\u001b[1;34m(self, key)\u001b[0m\n\u001b[0;32m   4100\u001b[0m \u001b[38;5;28;01mif\u001b[39;00m \u001b[38;5;28mself\u001b[39m\u001b[38;5;241m.\u001b[39mcolumns\u001b[38;5;241m.\u001b[39mnlevels \u001b[38;5;241m>\u001b[39m \u001b[38;5;241m1\u001b[39m:\n\u001b[0;32m   4101\u001b[0m     \u001b[38;5;28;01mreturn\u001b[39;00m \u001b[38;5;28mself\u001b[39m\u001b[38;5;241m.\u001b[39m_getitem_multilevel(key)\n\u001b[1;32m-> 4102\u001b[0m indexer \u001b[38;5;241m=\u001b[39m \u001b[38;5;28;43mself\u001b[39;49m\u001b[38;5;241;43m.\u001b[39;49m\u001b[43mcolumns\u001b[49m\u001b[38;5;241;43m.\u001b[39;49m\u001b[43mget_loc\u001b[49m\u001b[43m(\u001b[49m\u001b[43mkey\u001b[49m\u001b[43m)\u001b[49m\n\u001b[0;32m   4103\u001b[0m \u001b[38;5;28;01mif\u001b[39;00m is_integer(indexer):\n\u001b[0;32m   4104\u001b[0m     indexer \u001b[38;5;241m=\u001b[39m [indexer]\n",
      "File \u001b[1;32mc:\\Users\\ctrujils\\Documents\\Proyectos\\MSM\\validador\\ml-validator\\b2b_env\\Lib\\site-packages\\pandas\\core\\indexes\\base.py:3812\u001b[0m, in \u001b[0;36mIndex.get_loc\u001b[1;34m(self, key)\u001b[0m\n\u001b[0;32m   3807\u001b[0m     \u001b[38;5;28;01mif\u001b[39;00m \u001b[38;5;28misinstance\u001b[39m(casted_key, \u001b[38;5;28mslice\u001b[39m) \u001b[38;5;129;01mor\u001b[39;00m (\n\u001b[0;32m   3808\u001b[0m         \u001b[38;5;28misinstance\u001b[39m(casted_key, abc\u001b[38;5;241m.\u001b[39mIterable)\n\u001b[0;32m   3809\u001b[0m         \u001b[38;5;129;01mand\u001b[39;00m \u001b[38;5;28many\u001b[39m(\u001b[38;5;28misinstance\u001b[39m(x, \u001b[38;5;28mslice\u001b[39m) \u001b[38;5;28;01mfor\u001b[39;00m x \u001b[38;5;129;01min\u001b[39;00m casted_key)\n\u001b[0;32m   3810\u001b[0m     ):\n\u001b[0;32m   3811\u001b[0m         \u001b[38;5;28;01mraise\u001b[39;00m InvalidIndexError(key)\n\u001b[1;32m-> 3812\u001b[0m     \u001b[38;5;28;01mraise\u001b[39;00m \u001b[38;5;167;01mKeyError\u001b[39;00m(key) \u001b[38;5;28;01mfrom\u001b[39;00m \u001b[38;5;21;01merr\u001b[39;00m\n\u001b[0;32m   3813\u001b[0m \u001b[38;5;28;01mexcept\u001b[39;00m \u001b[38;5;167;01mTypeError\u001b[39;00m:\n\u001b[0;32m   3814\u001b[0m     \u001b[38;5;66;03m# If we have a listlike key, _check_indexing_error will raise\u001b[39;00m\n\u001b[0;32m   3815\u001b[0m     \u001b[38;5;66;03m#  InvalidIndexError. Otherwise we fall through and re-raise\u001b[39;00m\n\u001b[0;32m   3816\u001b[0m     \u001b[38;5;66;03m#  the TypeError.\u001b[39;00m\n\u001b[0;32m   3817\u001b[0m     \u001b[38;5;28mself\u001b[39m\u001b[38;5;241m.\u001b[39m_check_indexing_error(key)\n",
      "\u001b[1;31mKeyError\u001b[0m: 'season'"
     ]
    }
   ],
   "source": [
    "order_detail_sorted['season'].value_counts()"
   ]
  },
  {
   "cell_type": "code",
   "execution_count": 0,
   "metadata": {
    "application/vnd.databricks.v1+cell": {
     "cellMetadata": {
      "byteLimit": 2048000,
      "rowLimit": 10000
     },
     "inputWidgets": {},
     "nuid": "32ef7702-cdac-44c7-818a-dda3934068f6",
     "showTitle": false,
     "title": ""
    }
   },
   "outputs": [],
   "source": [
    "seasonal_sellout = order_detail_sorted.groupby('season')['Sellout'].sum()\n"
   ]
  },
  {
   "cell_type": "code",
   "execution_count": 0,
   "metadata": {
    "application/vnd.databricks.v1+cell": {
     "cellMetadata": {
      "byteLimit": 2048000,
      "rowLimit": 10000
     },
     "inputWidgets": {},
     "nuid": "ae79bd1b-3d9c-47c1-a8ec-dbb4455ed7f4",
     "showTitle": false,
     "title": ""
    }
   },
   "outputs": [
    {
     "data": {
      "text/plain": [
       "season\n",
       "Primavera    1.049369e+07\n",
       "Invierno     7.301582e+06\n",
       "Verano       6.658724e+06\n",
       "Otoño        6.113670e+06\n",
       "Name: Sellout, dtype: float64"
      ]
     },
     "execution_count": 125,
     "metadata": {},
     "output_type": "execute_result"
    }
   ],
   "source": [
    "seasonal_sellout.sort_values(ascending=False)"
   ]
  },
  {
   "cell_type": "markdown",
   "metadata": {
    "application/vnd.databricks.v1+cell": {
     "cellMetadata": {
      "byteLimit": 2048000,
      "rowLimit": 10000
     },
     "inputWidgets": {},
     "nuid": "abe6054f-694a-4f1a-a804-95ffbd788db7",
     "showTitle": false,
     "title": ""
    }
   },
   "source": []
  },
  {
   "cell_type": "markdown",
   "metadata": {
    "application/vnd.databricks.v1+cell": {
     "cellMetadata": {
      "byteLimit": 2048000,
      "rowLimit": 10000
     },
     "inputWidgets": {},
     "nuid": "d3543192-4243-4b09-b813-bc62e09297e7",
     "showTitle": false,
     "title": ""
    }
   },
   "source": []
  }
 ],
 "metadata": {
  "application/vnd.databricks.v1+notebook": {
   "dashboards": [],
   "environmentMetadata": {
    "base_environment": "",
    "client": "1"
   },
   "language": "python",
   "notebookMetadata": {
    "pythonIndentUnit": 4
   },
   "notebookName": "Descriptivo_cupones",
   "widgets": {}
  },
  "kernelspec": {
   "display_name": "b2b_env",
   "language": "python",
   "name": "python3"
  },
  "language_info": {
   "codemirror_mode": {
    "name": "ipython",
    "version": 3
   },
   "file_extension": ".py",
   "mimetype": "text/x-python",
   "name": "python",
   "nbconvert_exporter": "python",
   "pygments_lexer": "ipython3",
   "version": "3.11.1"
  }
 },
 "nbformat": 4,
 "nbformat_minor": 0
}
