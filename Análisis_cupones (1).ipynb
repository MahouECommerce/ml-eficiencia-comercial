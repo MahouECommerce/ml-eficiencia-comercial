{
 "cells": [
  {
   "cell_type": "code",
   "execution_count": 0,
   "metadata": {
    "application/vnd.databricks.v1+cell": {
     "cellMetadata": {
      "byteLimit": 2048000,
      "rowLimit": 10000
     },
     "inputWidgets": {},
     "nuid": "10923457-c900-4368-bda4-9b3f74c5978a",
     "showTitle": false,
     "title": ""
    }
   },
   "outputs": [],
   "source": [
    "import sys\n",
    "ruta_principal = '/Workspace/Users/clara.trujillosantosolmo@emeal.nttdata.com/.ide/ml-recommender-data-gen-14982321'\n",
    "sys.path.insert(0, ruta_principal)"
   ]
  },
  {
   "cell_type": "code",
   "execution_count": 0,
   "metadata": {
    "application/vnd.databricks.v1+cell": {
     "cellMetadata": {
      "byteLimit": 2048000,
      "rowLimit": 10000
     },
     "inputWidgets": {},
     "nuid": "1232911b-4dd4-4c49-9d19-4008ad8d658a",
     "showTitle": false,
     "title": ""
    }
   },
   "outputs": [],
   "source": [
    "import pandas as pd\n",
    "import numpy as np\n",
    "import matplotlib.pyplot as plt\n",
    "import seaborn as sns\n",
    "from utils.io_utils import save_file_to_format, read_file_in_format\n",
    "input_format=\"parquet\""
   ]
  },
  {
   "cell_type": "code",
   "execution_count": 0,
   "metadata": {
    "application/vnd.databricks.v1+cell": {
     "cellMetadata": {
      "byteLimit": 2048000,
      "rowLimit": 10000
     },
     "inputWidgets": {},
     "nuid": "56bf9340-e0a0-43e6-b24e-8e0f52f22757",
     "showTitle": false,
     "title": ""
    }
   },
   "outputs": [],
   "source": [
    "# Configuración de la conexión JDBC\n",
    "def read_from_sql_server(schema, table_name):\n",
    "\n",
    "    df = spark.read.format(\"jdbc\") \\\n",
    "        .option(\"url\", dbutils.secrets.get(\"mahou\", \"sqlserver-connection-string\")) \\\n",
    "        .option(\"dbtable\", f\"{schema}.{table_name}\") \\\n",
    "        .option(\"user\", 'mahouadmin') \\\n",
    "        .option(\"password\", 'Password1234!') \\\n",
    "        .load()\n",
    "\n",
    "    return df.toPandas()"
   ]
  },
  {
   "cell_type": "code",
   "execution_count": 0,
   "metadata": {
    "application/vnd.databricks.v1+cell": {
     "cellMetadata": {
      "byteLimit": 2048000,
      "rowLimit": 10000
     },
     "inputWidgets": {},
     "nuid": "df70ec0c-e560-490e-b833-6c0bb88669f6",
     "showTitle": false,
     "title": ""
    }
   },
   "outputs": [],
   "source": [
    "maestro_cliente_path=\"/dbfs/mnt/MSM/cleaned_data/maestro_cliente_final_12UM.parquet\"\n",
    "maestro_clientes=read_file_in_format(maestro_cliente_path, format=input_format)"
   ]
  },
  {
   "cell_type": "code",
   "execution_count": 0,
   "metadata": {
    "application/vnd.databricks.v1+cell": {
     "cellMetadata": {
      "byteLimit": 2048000,
      "rowLimit": 10000
     },
     "inputWidgets": {},
     "nuid": "e71416a2-a479-4358-8c58-d9772ab3f672",
     "showTitle": false,
     "title": ""
    }
   },
   "outputs": [],
   "source": [
    "order_detail = read_from_sql_server(\n",
    "\"ms_cart\"\n",
    ",\n",
    "\"OrdersDetail\"\n",
    ")"
   ]
  },
  {
   "cell_type": "code",
   "execution_count": 0,
   "metadata": {
    "application/vnd.databricks.v1+cell": {
     "cellMetadata": {
      "byteLimit": 2048000,
      "rowLimit": 10000
     },
     "inputWidgets": {},
     "nuid": "fc2279d7-97f4-4655-a037-5f5ca5aecb28",
     "showTitle": false,
     "title": ""
    }
   },
   "outputs": [
    {
     "output_type": "execute_result",
     "data": {
      "text/plain": [
       "array([None, '', '15%dcto.compraonline.MERECES15',\n",
       "       '15€3comp.on.Com>150€.nuevo', '10%compraonlinevuelve.on.Max.500€',\n",
       "       '20€dcto.compraonline.Primavera20E',\n",
       "       '10%dcto.compraonline.FINAL10E', '15€dcto.compraonline.Fallas15',\n",
       "       '20% 1ªcom.on.Max.500€', '15%seg.compra.max500.nuevo',\n",
       "       '10%dcto.compraonline.SanValentin.Historias10',\n",
       "       '10€4ªcomp.on.Comp.>150€.nuevo', '20€dcto.tarjetaregalo.Regalo20',\n",
       "       '20%dcto.compraonline.Pascua20',\n",
       "       'Descuento E-commerce SANPATRICIO15E',\n",
       "       '15€dcto.compraonline.SanPatricio15E',\n",
       "       'Descuento E-commerce HISTORIAS10', '20240321-UAT10',\n",
       "       'Descuento E-commerce AÑONUEVO15', 'VOLDIS15%', 'VOLDIS15E',\n",
       "       'BIENVENIDA20', 'Descuento E-commerce NAVIBAR20', 'Barroja100€',\n",
       "       'VOLDIS10E', 'Descuento E-commerce HAPPY10'], dtype=object)"
      ]
     },
     "execution_count": 6,
     "metadata": {},
     "output_type": "execute_result"
    }
   ],
   "source": [
    "order_detail['CouponDescription'].unique()"
   ]
  },
  {
   "cell_type": "markdown",
   "metadata": {
    "application/vnd.databricks.v1+cell": {
     "cellMetadata": {
      "byteLimit": 2048000,
      "rowLimit": 10000
     },
     "inputWidgets": {},
     "nuid": "cd14ae03-ad5b-48b1-afe0-cf74ae3314ba",
     "showTitle": false,
     "title": ""
    }
   },
   "source": [
    "# Feature Engineering"
   ]
  },
  {
   "cell_type": "markdown",
   "metadata": {
    "application/vnd.databricks.v1+cell": {
     "cellMetadata": {
      "byteLimit": 2048000,
      "rowLimit": 10000
     },
     "inputWidgets": {},
     "nuid": "f6c8d99f-9f93-46aa-8612-4dd7bc564076",
     "showTitle": false,
     "title": ""
    }
   },
   "source": [
    "###Filtros"
   ]
  },
  {
   "cell_type": "code",
   "execution_count": 0,
   "metadata": {
    "application/vnd.databricks.v1+cell": {
     "cellMetadata": {
      "byteLimit": 2048000,
      "rowLimit": 10000
     },
     "inputWidgets": {},
     "nuid": "12229ccb-87f1-49c5-94de-3f66063e385c",
     "showTitle": false,
     "title": ""
    }
   },
   "outputs": [],
   "source": [
    "order_detail['CouponId'] = order_detail['CouponId'].replace('', pd.NA)\n",
    "order_detail['CouponId'].fillna(pd.NA, inplace=True)\n",
    "\n"
   ]
  },
  {
   "cell_type": "code",
   "execution_count": 0,
   "metadata": {
    "application/vnd.databricks.v1+cell": {
     "cellMetadata": {
      "byteLimit": 2048000,
      "rowLimit": 10000
     },
     "inputWidgets": {},
     "nuid": "43d72fb9-a337-4b1e-b8d5-4c440b421266",
     "showTitle": false,
     "title": ""
    }
   },
   "outputs": [],
   "source": [
    "order_detail['CouponDiscountPct'] = order_detail['CouponDiscountPct'].replace([None, ''], 0)"
   ]
  },
  {
   "cell_type": "markdown",
   "metadata": {
    "application/vnd.databricks.v1+cell": {
     "cellMetadata": {
      "byteLimit": 2048000,
      "rowLimit": 10000
     },
     "inputWidgets": {},
     "nuid": "283981d6-727f-4a20-bc2c-684b34bc89a0",
     "showTitle": false,
     "title": ""
    }
   },
   "source": [
    "Pdvs que al menos han usado cupon alguna vez"
   ]
  },
  {
   "cell_type": "code",
   "execution_count": 0,
   "metadata": {
    "application/vnd.databricks.v1+cell": {
     "cellMetadata": {
      "byteLimit": 2048000,
      "rowLimit": 10000
     },
     "inputWidgets": {},
     "nuid": "b1fec41c-2a21-4e8a-bfcd-ea4086faa000",
     "showTitle": false,
     "title": ""
    }
   },
   "outputs": [],
   "source": [
    "df_filtered = order_detail[order_detail['CouponId'].notna()]\n",
    "\n",
    "pdvs_con_cupon = df_filtered['PointOfSaleId'].unique()\n"
   ]
  },
  {
   "cell_type": "code",
   "execution_count": 0,
   "metadata": {
    "application/vnd.databricks.v1+cell": {
     "cellMetadata": {
      "byteLimit": 2048000,
      "rowLimit": 10000
     },
     "inputWidgets": {},
     "nuid": "4cfaea33-9b2c-4141-abf7-fd11d21e0da6",
     "showTitle": false,
     "title": ""
    }
   },
   "outputs": [
    {
     "output_type": "execute_result",
     "data": {
      "text/plain": [
       "array(['61529', '67574', '68300', ..., '60473', 'CLI0032498',\n",
       "       'CLI0048957'], dtype=object)"
      ]
     },
     "execution_count": 94,
     "metadata": {},
     "output_type": "execute_result"
    }
   ],
   "source": [
    "pdvs_con_cupon"
   ]
  },
  {
   "cell_type": "code",
   "execution_count": 0,
   "metadata": {
    "application/vnd.databricks.v1+cell": {
     "cellMetadata": {
      "byteLimit": 2048000,
      "rowLimit": 10000
     },
     "inputWidgets": {},
     "nuid": "ab8bb7ce-13bb-4ec2-b61b-65fab1721ec2",
     "showTitle": false,
     "title": ""
    }
   },
   "outputs": [],
   "source": [
    "df_filtrado = order_detail[order_detail['PointOfSaleId'].isin(pdvs_con_cupon)]\n"
   ]
  },
  {
   "cell_type": "code",
   "execution_count": 0,
   "metadata": {
    "application/vnd.databricks.v1+cell": {
     "cellMetadata": {
      "byteLimit": 2048000,
      "rowLimit": 10000
     },
     "inputWidgets": {},
     "nuid": "97e825d3-1a9a-47fe-b93c-d9f60d4b8b72",
     "showTitle": false,
     "title": ""
    }
   },
   "outputs": [
    {
     "output_type": "execute_result",
     "data": {
      "text/plain": [
       "array([<NA>, 'RB-0000000047', 'RB-0000000016', 'RB-00000000027',\n",
       "       'RB-0000000045', 'RB-0000000046', 'RB-0000000043B',\n",
       "       'RB-0000000001', 'RB-0000000046B', 'RB-0000000015',\n",
       "       'RB-0000000041B', 'RB-0000000017', 'tarjeta-regalo-20',\n",
       "       'RB-0000000045B', 'RB-0000000044B', 'RB-0000000044',\n",
       "       'RB-0000000042', 'RB-0000000047B', 'RB-0000000042B',\n",
       "       'RB-0000000100', 'RB-0000000009', 'RB-0000000102', 'RB-0000000101',\n",
       "       '20240321-UAT10', 'RB-0000000040', 'RB-0000000041',\n",
       "       'RB-0000000038B', 'RB-0000000038', 'RB-00BARROJA',\n",
       "       'RB-0000000039B', 'RB-0000000040B'], dtype=object)"
      ]
     },
     "execution_count": 96,
     "metadata": {},
     "output_type": "execute_result"
    }
   ],
   "source": [
    "df_filtrado['CouponId'].unique()"
   ]
  },
  {
   "cell_type": "code",
   "execution_count": 0,
   "metadata": {
    "application/vnd.databricks.v1+cell": {
     "cellMetadata": {
      "byteLimit": 2048000,
      "rowLimit": 10000
     },
     "inputWidgets": {},
     "nuid": "94f4aeb2-0a39-4669-b234-61b5ef91f25c",
     "showTitle": false,
     "title": ""
    }
   },
   "outputs": [],
   "source": [
    "\n",
    "df_filtrado_selected=df_filtrado[['OrderId','DistributorID','CodeDistributor','Name','NameDistributor','PointOfSaleId','CouponId','CouponMax','CouponCode','CouponDescription','OrderDate','CouponDiscountAmt','CouponDiscountPct','Amount','CodeProduct','TotalPrice']]"
   ]
  },
  {
   "cell_type": "code",
   "execution_count": 0,
   "metadata": {
    "application/vnd.databricks.v1+cell": {
     "cellMetadata": {
      "byteLimit": 2048000,
      "rowLimit": 10000
     },
     "inputWidgets": {},
     "nuid": "3ba3baa8-6cba-4ea9-9f7d-1ffe30068b6d",
     "showTitle": false,
     "title": ""
    }
   },
   "outputs": [
    {
     "output_type": "execute_result",
     "data": {
      "text/plain": [
       "2941"
      ]
     },
     "execution_count": 98,
     "metadata": {},
     "output_type": "execute_result"
    }
   ],
   "source": [
    "#Productos con cupones \n",
    "df_filtrado_selected['CodeProduct'].nunique()"
   ]
  },
  {
   "cell_type": "code",
   "execution_count": 0,
   "metadata": {
    "application/vnd.databricks.v1+cell": {
     "cellMetadata": {
      "byteLimit": 2048000,
      "rowLimit": 10000
     },
     "inputWidgets": {},
     "nuid": "fc2366d4-b5da-45b0-bf1c-10276400b3ea",
     "showTitle": false,
     "title": ""
    }
   },
   "outputs": [
    {
     "output_type": "execute_result",
     "data": {
      "text/plain": [
       "array([<NA>, 'RB-0000000047', 'RB-0000000016', 'RB-00000000027',\n",
       "       'RB-0000000045', 'RB-0000000046', 'RB-0000000043B',\n",
       "       'RB-0000000001', 'RB-0000000046B', 'RB-0000000015',\n",
       "       'RB-0000000041B', 'RB-0000000017', 'tarjeta-regalo-20',\n",
       "       'RB-0000000045B', 'RB-0000000044B', 'RB-0000000044',\n",
       "       'RB-0000000042', 'RB-0000000047B', 'RB-0000000042B',\n",
       "       'RB-0000000100', 'RB-0000000009', 'RB-0000000102', 'RB-0000000101',\n",
       "       '20240321-UAT10', 'RB-0000000040', 'RB-0000000041',\n",
       "       'RB-0000000038B', 'RB-0000000038', 'RB-00BARROJA',\n",
       "       'RB-0000000039B', 'RB-0000000040B'], dtype=object)"
      ]
     },
     "execution_count": 99,
     "metadata": {},
     "output_type": "execute_result"
    }
   ],
   "source": [
    "df_filtrado_selected['CouponId'].unique()"
   ]
  },
  {
   "cell_type": "code",
   "execution_count": 0,
   "metadata": {
    "application/vnd.databricks.v1+cell": {
     "cellMetadata": {
      "byteLimit": 2048000,
      "rowLimit": 10000
     },
     "inputWidgets": {},
     "nuid": "74f5d261-4f1d-411b-938e-9f057b0dd30a",
     "showTitle": false,
     "title": ""
    }
   },
   "outputs": [],
   "source": [
    "# Agrupar por orderID, companyID y fecha\n",
    "order_detail_grouped = df_filtrado_selected.groupby(['OrderId', 'DistributorID', 'OrderDate']).agg({\n",
    "    'CodeProduct': lambda x: list(x),\n",
    "    'TotalPrice': 'sum',\n",
    "    'Amount':'sum'\n",
    "}).reset_index()\n",
    "\n"
   ]
  },
  {
   "cell_type": "code",
   "execution_count": 0,
   "metadata": {
    "application/vnd.databricks.v1+cell": {
     "cellMetadata": {
      "byteLimit": 2048000,
      "rowLimit": 10000
     },
     "inputWidgets": {},
     "nuid": "ebb068cb-2c7f-420d-ab5d-424324f0c57c",
     "showTitle": false,
     "title": ""
    }
   },
   "outputs": [],
   "source": [
    "import pandas as pd\n",
    "columns_to_keep = [\n",
    "    'OrderId', 'DistributorID','CouponId' ,'OrderDate', 'Name', 'NameDistributor', \n",
    "    'PointOfSaleId','CouponDiscountAmt','CouponDiscountPct','CouponMax','CouponDescription'\n",
    "]\n",
    "other_columns = df_filtrado_selected[columns_to_keep].drop_duplicates()\n",
    "#DF final\n",
    "order_detail_final = pd.merge(order_detail_grouped, other_columns, on=['OrderId', 'DistributorID', 'OrderDate'], how='left')\n",
    "\n",
    "order_detail_sorted = order_detail_final.sort_values(by=['OrderId', 'OrderDate','Name'])"
   ]
  },
  {
   "cell_type": "code",
   "execution_count": 0,
   "metadata": {
    "application/vnd.databricks.v1+cell": {
     "cellMetadata": {
      "byteLimit": 2048000,
      "rowLimit": 10000
     },
     "inputWidgets": {},
     "nuid": "4a91aed0-8db9-4cd6-9704-4a9a89ed57cb",
     "showTitle": false,
     "title": ""
    }
   },
   "outputs": [
    {
     "output_type": "execute_result",
     "data": {
      "text/html": [
       "<div>\n",
       "<style scoped>\n",
       "    .dataframe tbody tr th:only-of-type {\n",
       "        vertical-align: middle;\n",
       "    }\n",
       "\n",
       "    .dataframe tbody tr th {\n",
       "        vertical-align: top;\n",
       "    }\n",
       "\n",
       "    .dataframe thead th {\n",
       "        text-align: right;\n",
       "    }\n",
       "</style>\n",
       "<table border=\"1\" class=\"dataframe\">\n",
       "  <thead>\n",
       "    <tr style=\"text-align: right;\">\n",
       "      <th></th>\n",
       "      <th>OrderId</th>\n",
       "      <th>DistributorID</th>\n",
       "      <th>OrderDate</th>\n",
       "      <th>CodeProduct</th>\n",
       "      <th>TotalPrice</th>\n",
       "      <th>Amount</th>\n",
       "      <th>CouponId</th>\n",
       "      <th>Name</th>\n",
       "      <th>NameDistributor</th>\n",
       "      <th>PointOfSaleId</th>\n",
       "      <th>CouponDiscountAmt</th>\n",
       "      <th>CouponDiscountPct</th>\n",
       "      <th>CouponMax</th>\n",
       "      <th>CouponDescription</th>\n",
       "    </tr>\n",
       "  </thead>\n",
       "  <tbody>\n",
       "    <tr>\n",
       "      <th>3</th>\n",
       "      <td>0008143AA702312306B848F7EE5801B8</td>\n",
       "      <td>7E27D492-A885-4DC3-939E-AB718B667C8B</td>\n",
       "      <td>2024-06-20T00:00:00</td>\n",
       "      <td>[042, 06, 23, 51, LOG, 511]</td>\n",
       "      <td>139.37</td>\n",
       "      <td>11</td>\n",
       "      <td>&lt;NA&gt;</td>\n",
       "      <td>CHARLY - CAFETERIA</td>\n",
       "      <td>BEBICER</td>\n",
       "      <td>01575</td>\n",
       "      <td>None</td>\n",
       "      <td>0</td>\n",
       "      <td>None</td>\n",
       "      <td>NoCupon</td>\n",
       "    </tr>\n",
       "  </tbody>\n",
       "</table>\n",
       "</div>"
      ],
      "text/plain": [
       "                            OrderId  ... CouponDescription\n",
       "3  0008143AA702312306B848F7EE5801B8  ...           NoCupon\n",
       "\n",
       "[1 rows x 14 columns]"
      ]
     },
     "execution_count": 102,
     "metadata": {},
     "output_type": "execute_result"
    }
   ],
   "source": [
    "order_detail_sorted[order_detail_sorted['OrderId']=='0008143AA702312306B848F7EE5801B8']"
   ]
  },
  {
   "cell_type": "markdown",
   "metadata": {
    "application/vnd.databricks.v1+cell": {
     "cellMetadata": {
      "byteLimit": 2048000,
      "rowLimit": 10000
     },
     "inputWidgets": {},
     "nuid": "874d1b83-221d-4558-891d-8c4dd2a1de99",
     "showTitle": false,
     "title": ""
    }
   },
   "source": [
    "### Tipología punto de venta"
   ]
  },
  {
   "cell_type": "code",
   "execution_count": 0,
   "metadata": {
    "application/vnd.databricks.v1+cell": {
     "cellMetadata": {
      "byteLimit": 2048000,
      "rowLimit": 10000
     },
     "inputWidgets": {},
     "nuid": "08314e89-598d-46e5-b130-4b030334ddf9",
     "showTitle": false,
     "title": ""
    }
   },
   "outputs": [],
   "source": [
    "maestro_clientes=maestro_clientes[['tipologia','company_id']]"
   ]
  },
  {
   "cell_type": "code",
   "execution_count": 0,
   "metadata": {
    "application/vnd.databricks.v1+cell": {
     "cellMetadata": {
      "byteLimit": 2048000,
      "rowLimit": 10000
     },
     "inputWidgets": {},
     "nuid": "1cba4d2a-727a-4373-b007-25498cf759c8",
     "showTitle": false,
     "title": ""
    }
   },
   "outputs": [],
   "source": [
    "order_detail_sorted= pd.merge(order_detail_sorted,maestro_clientes, left_on='PointOfSaleId', right_on='company_id',how='left' )\n",
    "order_detail_sorted.drop(columns='company_id',inplace=True)"
   ]
  },
  {
   "cell_type": "markdown",
   "metadata": {
    "application/vnd.databricks.v1+cell": {
     "cellMetadata": {
      "byteLimit": 2048000,
      "rowLimit": 10000
     },
     "inputWidgets": {},
     "nuid": "bd5d2c76-4b4e-4f01-a659-dcfb73f45c21",
     "showTitle": false,
     "title": ""
    }
   },
   "source": [
    "####Cálculo de lag por cupones en pedidos ( Sellout y numero de productos)"
   ]
  },
  {
   "cell_type": "code",
   "execution_count": 0,
   "metadata": {
    "application/vnd.databricks.v1+cell": {
     "cellMetadata": {
      "byteLimit": 2048000,
      "rowLimit": 10000
     },
     "inputWidgets": {},
     "nuid": "69179661-d2a4-4a0a-8966-6a55ff37f1e3",
     "showTitle": false,
     "title": ""
    }
   },
   "outputs": [],
   "source": [
    "\n",
    "order_detail_sorted['Coupon_LAG_1'] = order_detail_sorted.groupby('Name')['CouponDiscountAmt'].shift(1)\n",
    "order_detail_sorted['Coupon_LAG_2'] = order_detail_sorted.groupby('Name')['CouponDiscountAmt'].shift(2)\n",
    "order_detail_sorted['Coupon_LAG_3'] = order_detail_sorted.groupby('Name')['CouponDiscountAmt'].shift(3)\n",
    "# order_detail_sorted['Amount_LAG_1'] = order_detail_sorted.groupby('Name')['Amount'].shift(1)\n",
    "# order_detail_sorted['Amount_LAG_2'] = order_detail_sorted.groupby('Name')['Amount'].shift(2)\n",
    "# order_detail_sorted['Amount_LAG_3'] = order_detail_sorted.groupby('Name')['Amount'].shift(3)"
   ]
  },
  {
   "cell_type": "markdown",
   "metadata": {
    "application/vnd.databricks.v1+cell": {
     "cellMetadata": {
      "byteLimit": 2048000,
      "rowLimit": 10000
     },
     "inputWidgets": {},
     "nuid": "c4d883e4-35bc-4069-ab7f-3ade4ae80c2f",
     "showTitle": false,
     "title": ""
    }
   },
   "source": [
    "#### Media moneataria de cupones en pedidos anteriores"
   ]
  },
  {
   "cell_type": "code",
   "execution_count": 0,
   "metadata": {
    "application/vnd.databricks.v1+cell": {
     "cellMetadata": {
      "byteLimit": 2048000,
      "rowLimit": 10000
     },
     "inputWidgets": {},
     "nuid": "a4961b01-f29f-4b22-bbf4-530f47f59826",
     "showTitle": false,
     "title": ""
    }
   },
   "outputs": [],
   "source": [
    "order_detail_sorted['OrderDate'] = pd.to_datetime(order_detail_sorted['OrderDate'])"
   ]
  },
  {
   "cell_type": "code",
   "execution_count": 0,
   "metadata": {
    "application/vnd.databricks.v1+cell": {
     "cellMetadata": {
      "byteLimit": 2048000,
      "rowLimit": 10000
     },
     "inputWidgets": {},
     "nuid": "4a38f791-bc79-4ead-9fb2-ea59fbf59fed",
     "showTitle": false,
     "title": ""
    }
   },
   "outputs": [],
   "source": [
    "order_detail_sorted=order_detail_sorted.sort_values(by='OrderDate',ascending=True)"
   ]
  },
  {
   "cell_type": "code",
   "execution_count": 0,
   "metadata": {
    "application/vnd.databricks.v1+cell": {
     "cellMetadata": {
      "byteLimit": 2048000,
      "rowLimit": 10000
     },
     "inputWidgets": {},
     "nuid": "2915a142-08ce-48c8-afc4-ad1404d173fe",
     "showTitle": false,
     "title": ""
    }
   },
   "outputs": [
    {
     "output_type": "execute_result",
     "data": {
      "text/plain": [
       "106724    0.0\n",
       "105548    0.0\n",
       "27554     0.0\n",
       "48997     0.0\n",
       "9960      0.0\n",
       "         ... \n",
       "69665     0.0\n",
       "543       0.0\n",
       "68342     0.0\n",
       "69961     0.0\n",
       "68185     0.0\n",
       "Name: CouponDiscountAmt, Length: 125165, dtype: float64"
      ]
     },
     "execution_count": 108,
     "metadata": {},
     "output_type": "execute_result"
    }
   ],
   "source": [
    "order_detail_sorted['CouponDiscountAmt'].replace('', 0, inplace=True)\n",
    "order_detail_sorted['CouponDiscountAmt'].astype(float)"
   ]
  },
  {
   "cell_type": "code",
   "execution_count": 0,
   "metadata": {
    "application/vnd.databricks.v1+cell": {
     "cellMetadata": {
      "byteLimit": 2048000,
      "rowLimit": 10000
     },
     "inputWidgets": {},
     "nuid": "ef6f8173-8727-457f-a58d-5336dbc57f4a",
     "showTitle": false,
     "title": ""
    }
   },
   "outputs": [],
   "source": [
    "def calcular_media_monetaria(df):\n",
    "    df['acumulado'] = df['CouponDiscountAmt'].expanding().sum()\n",
    "    df['conteo'] = df['CouponDiscountAmt'].expanding().count()\n",
    "    # df['avg_previous_coupons'] = df['acumulado'] / df['conteo']\n",
    "    return df\n"
   ]
  },
  {
   "cell_type": "code",
   "execution_count": 0,
   "metadata": {
    "application/vnd.databricks.v1+cell": {
     "cellMetadata": {
      "byteLimit": 2048000,
      "rowLimit": 10000
     },
     "inputWidgets": {},
     "nuid": "35c74e73-9bb0-4ddc-bdd2-af67004c92ba",
     "showTitle": false,
     "title": ""
    }
   },
   "outputs": [
    {
     "output_type": "stream",
     "name": "stderr",
     "output_type": "stream",
     "text": [
      "/root/.ipykernel/1126/command-4238495784605991-1434040165:2: FutureWarning: Not prepending group keys to the result index of transform-like apply. In the future, the group keys will be included in the index, regardless of whether the applied function returns a like-indexed object.\nTo preserve the previous behavior, use\n\n\t>>> .groupby(..., group_keys=False)\n\nTo adopt the future behavior and silence this warning, use \n\n\t>>> .groupby(..., group_keys=True)\n  order_detail_sorted = order_detail_sorted.groupby('PointOfSaleId').apply(calcular_media_monetaria)\n"
     ]
    }
   ],
   "source": [
    "\n",
    "# Aplicar la función a cada grupo de PDV\n",
    "order_detail_sorted = order_detail_sorted.groupby('PointOfSaleId').apply(calcular_media_monetaria)"
   ]
  },
  {
   "cell_type": "code",
   "execution_count": 0,
   "metadata": {
    "application/vnd.databricks.v1+cell": {
     "cellMetadata": {
      "byteLimit": 2048000,
      "rowLimit": 10000
     },
     "inputWidgets": {},
     "nuid": "9c97e1d9-cfbc-46e1-b638-129528d87bbf",
     "showTitle": false,
     "title": ""
    }
   },
   "outputs": [
    {
     "output_type": "execute_result",
     "data": {
      "text/html": [
       "<div>\n",
       "<style scoped>\n",
       "    .dataframe tbody tr th:only-of-type {\n",
       "        vertical-align: middle;\n",
       "    }\n",
       "\n",
       "    .dataframe tbody tr th {\n",
       "        vertical-align: top;\n",
       "    }\n",
       "\n",
       "    .dataframe thead th {\n",
       "        text-align: right;\n",
       "    }\n",
       "</style>\n",
       "<table border=\"1\" class=\"dataframe\">\n",
       "  <thead>\n",
       "    <tr style=\"text-align: right;\">\n",
       "      <th></th>\n",
       "      <th>OrderId</th>\n",
       "      <th>DistributorID</th>\n",
       "      <th>OrderDate</th>\n",
       "      <th>CodeProduct</th>\n",
       "      <th>TotalPrice</th>\n",
       "      <th>Amount</th>\n",
       "      <th>CouponId</th>\n",
       "      <th>Name</th>\n",
       "      <th>NameDistributor</th>\n",
       "      <th>PointOfSaleId</th>\n",
       "      <th>CouponDiscountAmt</th>\n",
       "      <th>CouponDiscountPct</th>\n",
       "      <th>CouponMax</th>\n",
       "      <th>CouponDescription</th>\n",
       "      <th>tipologia</th>\n",
       "      <th>Coupon_LAG_1</th>\n",
       "      <th>Coupon_LAG_2</th>\n",
       "      <th>Coupon_LAG_3</th>\n",
       "      <th>acumulado</th>\n",
       "      <th>conteo</th>\n",
       "    </tr>\n",
       "  </thead>\n",
       "  <tbody>\n",
       "    <tr>\n",
       "      <th>90116</th>\n",
       "      <td>BC73C8EA3D04DB3E8D64E8DE1215E07A</td>\n",
       "      <td>9CC0BCF9-4378-40A7-B258-A01FBDD9A7E2</td>\n",
       "      <td>2023-01-02 00:00:00</td>\n",
       "      <td>[PRD0005422, PRD0000618, PRD0005442, PRD000543...</td>\n",
       "      <td>417.47</td>\n",
       "      <td>10</td>\n",
       "      <td>&lt;NA&gt;</td>\n",
       "      <td>BAR BARROJA</td>\n",
       "      <td>Voldis Madrid BC</td>\n",
       "      <td>CLI0034477</td>\n",
       "      <td>0</td>\n",
       "      <td>0</td>\n",
       "      <td></td>\n",
       "      <td>NoCupon</td>\n",
       "      <td>Establecimiento de Tapeo</td>\n",
       "      <td>0</td>\n",
       "      <td>0</td>\n",
       "      <td>0</td>\n",
       "      <td>0.0</td>\n",
       "      <td>1.0</td>\n",
       "    </tr>\n",
       "    <tr>\n",
       "      <th>92152</th>\n",
       "      <td>BC73C8EA3D04DB3EA7FD7F8A555F7FAE</td>\n",
       "      <td>9CC0BCF9-4378-40A7-B258-A01FBDD9A7E2</td>\n",
       "      <td>2023-01-02 00:00:00</td>\n",
       "      <td>[PRD0002741, PRD0002730]</td>\n",
       "      <td>-9.28</td>\n",
       "      <td>-58</td>\n",
       "      <td>&lt;NA&gt;</td>\n",
       "      <td>BAR BARROJA</td>\n",
       "      <td>Voldis Madrid BC</td>\n",
       "      <td>CLI0034477</td>\n",
       "      <td>0</td>\n",
       "      <td>0</td>\n",
       "      <td></td>\n",
       "      <td>NoCupon</td>\n",
       "      <td>Establecimiento de Tapeo</td>\n",
       "      <td>0</td>\n",
       "      <td>0</td>\n",
       "      <td>0</td>\n",
       "      <td>0.0</td>\n",
       "      <td>2.0</td>\n",
       "    </tr>\n",
       "    <tr>\n",
       "      <th>92622</th>\n",
       "      <td>BC73C8EA3D04DB3EAEE7786C487E021B</td>\n",
       "      <td>9CC0BCF9-4378-40A7-B258-A01FBDD9A7E2</td>\n",
       "      <td>2023-01-12 00:00:00</td>\n",
       "      <td>[PRD0005422, PRD0000457, PRD0005445, PRD000234...</td>\n",
       "      <td>739.66</td>\n",
       "      <td>19</td>\n",
       "      <td>&lt;NA&gt;</td>\n",
       "      <td>BAR BARROJA</td>\n",
       "      <td>Voldis Madrid BC</td>\n",
       "      <td>CLI0034477</td>\n",
       "      <td>0</td>\n",
       "      <td>0</td>\n",
       "      <td></td>\n",
       "      <td>NoCupon</td>\n",
       "      <td>Establecimiento de Tapeo</td>\n",
       "      <td>0</td>\n",
       "      <td>0</td>\n",
       "      <td>0</td>\n",
       "      <td>0.0</td>\n",
       "      <td>3.0</td>\n",
       "    </tr>\n",
       "    <tr>\n",
       "      <th>91042</th>\n",
       "      <td>BC73C8EA3D04DB3E99AEAD5A81FB8413</td>\n",
       "      <td>9CC0BCF9-4378-40A7-B258-A01FBDD9A7E2</td>\n",
       "      <td>2023-01-16 00:00:00</td>\n",
       "      <td>[PRD0004350, PRD0005442, PRD0005431, PRD000061...</td>\n",
       "      <td>535.29</td>\n",
       "      <td>14</td>\n",
       "      <td>&lt;NA&gt;</td>\n",
       "      <td>BAR BARROJA</td>\n",
       "      <td>Voldis Madrid BC</td>\n",
       "      <td>CLI0034477</td>\n",
       "      <td>0</td>\n",
       "      <td>0</td>\n",
       "      <td></td>\n",
       "      <td>NoCupon</td>\n",
       "      <td>Establecimiento de Tapeo</td>\n",
       "      <td>0</td>\n",
       "      <td>0</td>\n",
       "      <td>0</td>\n",
       "      <td>0.0</td>\n",
       "      <td>4.0</td>\n",
       "    </tr>\n",
       "    <tr>\n",
       "      <th>83964</th>\n",
       "      <td>BC73C8EA3D04DB3E3915E61E1E0619D7</td>\n",
       "      <td>9CC0BCF9-4378-40A7-B258-A01FBDD9A7E2</td>\n",
       "      <td>2023-01-16 00:00:00</td>\n",
       "      <td>[PRD0002342]</td>\n",
       "      <td>-30.00</td>\n",
       "      <td>-1</td>\n",
       "      <td>&lt;NA&gt;</td>\n",
       "      <td>BAR BARROJA</td>\n",
       "      <td>Voldis Madrid BC</td>\n",
       "      <td>CLI0034477</td>\n",
       "      <td>0</td>\n",
       "      <td>0</td>\n",
       "      <td></td>\n",
       "      <td>NoCupon</td>\n",
       "      <td>Establecimiento de Tapeo</td>\n",
       "      <td>0</td>\n",
       "      <td>0</td>\n",
       "      <td>0</td>\n",
       "      <td>0.0</td>\n",
       "      <td>5.0</td>\n",
       "    </tr>\n",
       "    <tr>\n",
       "      <th>...</th>\n",
       "      <td>...</td>\n",
       "      <td>...</td>\n",
       "      <td>...</td>\n",
       "      <td>...</td>\n",
       "      <td>...</td>\n",
       "      <td>...</td>\n",
       "      <td>...</td>\n",
       "      <td>...</td>\n",
       "      <td>...</td>\n",
       "      <td>...</td>\n",
       "      <td>...</td>\n",
       "      <td>...</td>\n",
       "      <td>...</td>\n",
       "      <td>...</td>\n",
       "      <td>...</td>\n",
       "      <td>...</td>\n",
       "      <td>...</td>\n",
       "      <td>...</td>\n",
       "      <td>...</td>\n",
       "      <td>...</td>\n",
       "    </tr>\n",
       "    <tr>\n",
       "      <th>116791</th>\n",
       "      <td>E68E05129C75CC76DEF80C04F8E29B28</td>\n",
       "      <td>9CC0BCF9-4378-40A7-B258-A01FBDD9A7E2</td>\n",
       "      <td>2024-06-27 00:00:00</td>\n",
       "      <td>[PRD0007246, PRD0007091]</td>\n",
       "      <td>0.00</td>\n",
       "      <td>12</td>\n",
       "      <td>&lt;NA&gt;</td>\n",
       "      <td>BAR BARROJA</td>\n",
       "      <td>Voldis Madrid BC</td>\n",
       "      <td>CLI0034477</td>\n",
       "      <td>0</td>\n",
       "      <td>0</td>\n",
       "      <td></td>\n",
       "      <td>NoCupon</td>\n",
       "      <td>Establecimiento de Tapeo</td>\n",
       "      <td>0</td>\n",
       "      <td>0</td>\n",
       "      <td>50</td>\n",
       "      <td>840.0</td>\n",
       "      <td>280.0</td>\n",
       "    </tr>\n",
       "    <tr>\n",
       "      <th>115219</th>\n",
       "      <td>E68E05129C75CC76B52F99B4CAB366DF</td>\n",
       "      <td>9CC0BCF9-4378-40A7-B258-A01FBDD9A7E2</td>\n",
       "      <td>2024-06-27 00:00:00</td>\n",
       "      <td>[PRD0005468, PRD0005422, PRD0005432, PRD000467...</td>\n",
       "      <td>1678.63</td>\n",
       "      <td>29</td>\n",
       "      <td>&lt;NA&gt;</td>\n",
       "      <td>BAR BARROJA</td>\n",
       "      <td>Voldis Madrid BC</td>\n",
       "      <td>CLI0034477</td>\n",
       "      <td>0</td>\n",
       "      <td>0</td>\n",
       "      <td>0</td>\n",
       "      <td>NoCupon</td>\n",
       "      <td>Establecimiento de Tapeo</td>\n",
       "      <td>0</td>\n",
       "      <td>0</td>\n",
       "      <td>0</td>\n",
       "      <td>840.0</td>\n",
       "      <td>281.0</td>\n",
       "    </tr>\n",
       "    <tr>\n",
       "      <th>69324</th>\n",
       "      <td>A4076F9F1695635659724855608220E433703CEF35DAABBE</td>\n",
       "      <td>9CC0BCF9-4378-40A7-B258-A01FBDD9A7E2</td>\n",
       "      <td>2024-06-27 12:42:15</td>\n",
       "      <td>[PRD0010014, PRD0005468, PRD0005432, PRD000538...</td>\n",
       "      <td>1025.63</td>\n",
       "      <td>29</td>\n",
       "      <td>&lt;NA&gt;</td>\n",
       "      <td>BAR BARROJA</td>\n",
       "      <td>Voldis Madrid BC</td>\n",
       "      <td>CLI0034477</td>\n",
       "      <td>0</td>\n",
       "      <td>0</td>\n",
       "      <td>0</td>\n",
       "      <td>NoCupon</td>\n",
       "      <td>Establecimiento de Tapeo</td>\n",
       "      <td>0</td>\n",
       "      <td>0</td>\n",
       "      <td>0</td>\n",
       "      <td>840.0</td>\n",
       "      <td>282.0</td>\n",
       "    </tr>\n",
       "    <tr>\n",
       "      <th>117543</th>\n",
       "      <td>E68E05129C75CC76F2635D05827F6208</td>\n",
       "      <td>9CC0BCF9-4378-40A7-B258-A01FBDD9A7E2</td>\n",
       "      <td>2024-07-01 00:00:00</td>\n",
       "      <td>[PRD0005422, PRD0004673, PRD0004347, PRD000062...</td>\n",
       "      <td>1530.43</td>\n",
       "      <td>41</td>\n",
       "      <td>&lt;NA&gt;</td>\n",
       "      <td>BAR BARROJA</td>\n",
       "      <td>Voldis Madrid BC</td>\n",
       "      <td>CLI0034477</td>\n",
       "      <td>0</td>\n",
       "      <td>0</td>\n",
       "      <td></td>\n",
       "      <td>NoCupon</td>\n",
       "      <td>Establecimiento de Tapeo</td>\n",
       "      <td>0</td>\n",
       "      <td>0</td>\n",
       "      <td>0</td>\n",
       "      <td>840.0</td>\n",
       "      <td>283.0</td>\n",
       "    </tr>\n",
       "    <tr>\n",
       "      <th>70345</th>\n",
       "      <td>A4076F9F169563569CE926FF1C82DA6BA27EB2C65EB1F5...</td>\n",
       "      <td>9CC0BCF9-4378-40A7-B258-A01FBDD9A7E2</td>\n",
       "      <td>2024-07-01 13:59:43</td>\n",
       "      <td>[PRD0004361, PRD0004347, PRD0005442, PRD001176...</td>\n",
       "      <td>1009.29</td>\n",
       "      <td>41</td>\n",
       "      <td>&lt;NA&gt;</td>\n",
       "      <td>BAR BARROJA</td>\n",
       "      <td>Voldis Madrid BC</td>\n",
       "      <td>CLI0034477</td>\n",
       "      <td>0</td>\n",
       "      <td>0</td>\n",
       "      <td>0</td>\n",
       "      <td>NoCupon</td>\n",
       "      <td>Establecimiento de Tapeo</td>\n",
       "      <td>0</td>\n",
       "      <td>0</td>\n",
       "      <td>0</td>\n",
       "      <td>840.0</td>\n",
       "      <td>284.0</td>\n",
       "    </tr>\n",
       "  </tbody>\n",
       "</table>\n",
       "<p>284 rows × 20 columns</p>\n",
       "</div>"
      ],
      "text/plain": [
       "                                                  OrderId  ... conteo\n",
       "90116                    BC73C8EA3D04DB3E8D64E8DE1215E07A  ...    1.0\n",
       "92152                    BC73C8EA3D04DB3EA7FD7F8A555F7FAE  ...    2.0\n",
       "92622                    BC73C8EA3D04DB3EAEE7786C487E021B  ...    3.0\n",
       "91042                    BC73C8EA3D04DB3E99AEAD5A81FB8413  ...    4.0\n",
       "83964                    BC73C8EA3D04DB3E3915E61E1E0619D7  ...    5.0\n",
       "...                                                   ...  ...    ...\n",
       "116791                   E68E05129C75CC76DEF80C04F8E29B28  ...  280.0\n",
       "115219                   E68E05129C75CC76B52F99B4CAB366DF  ...  281.0\n",
       "69324    A4076F9F1695635659724855608220E433703CEF35DAABBE  ...  282.0\n",
       "117543                   E68E05129C75CC76F2635D05827F6208  ...  283.0\n",
       "70345   A4076F9F169563569CE926FF1C82DA6BA27EB2C65EB1F5...  ...  284.0\n",
       "\n",
       "[284 rows x 20 columns]"
      ]
     },
     "execution_count": 111,
     "metadata": {},
     "output_type": "execute_result"
    }
   ],
   "source": [
    "#pd.set_option('display.max_rows', None)\n",
    "order_detail_sorted[order_detail_sorted['Name']=='BAR BARROJA']"
   ]
  },
  {
   "cell_type": "markdown",
   "metadata": {
    "application/vnd.databricks.v1+cell": {
     "cellMetadata": {
      "byteLimit": 2048000,
      "rowLimit": 10000
     },
     "inputWidgets": {},
     "nuid": "92934750-416b-4bd6-bfae-d5dbe00ecd19",
     "showTitle": false,
     "title": ""
    }
   },
   "source": [
    "### Creación variable Cat de cupones"
   ]
  },
  {
   "cell_type": "code",
   "execution_count": 0,
   "metadata": {
    "application/vnd.databricks.v1+cell": {
     "cellMetadata": {
      "byteLimit": 2048000,
      "rowLimit": 10000
     },
     "inputWidgets": {},
     "nuid": "97a5cb54-ce20-4b03-9a08-a29d6d6b6091",
     "showTitle": false,
     "title": ""
    }
   },
   "outputs": [
    {
     "output_type": "execute_result",
     "data": {
      "text/plain": [
       "106724    0.0\n",
       "105548    0.0\n",
       "27554     0.0\n",
       "48997     0.0\n",
       "9960      0.0\n",
       "         ... \n",
       "69665     0.0\n",
       "543       0.0\n",
       "68342     0.0\n",
       "69961     0.0\n",
       "68185     0.0\n",
       "Name: CouponDiscountAmt, Length: 125165, dtype: float64"
      ]
     },
     "execution_count": 130,
     "metadata": {},
     "output_type": "execute_result"
    }
   ],
   "source": [
    "order_detail_sorted['CouponDiscountAmt'].astype('float')\n"
   ]
  },
  {
   "cell_type": "code",
   "execution_count": 0,
   "metadata": {
    "application/vnd.databricks.v1+cell": {
     "cellMetadata": {
      "byteLimit": 2048000,
      "rowLimit": 10000
     },
     "inputWidgets": {},
     "nuid": "00d562d9-a72b-4b40-b7ae-a7de11d38a24",
     "showTitle": false,
     "title": ""
    }
   },
   "outputs": [
    {
     "output_type": "execute_result",
     "data": {
      "text/plain": [
       "array([ 0, 15, 20, 10])"
      ]
     },
     "execution_count": 133,
     "metadata": {},
     "output_type": "execute_result"
    }
   ],
   "source": [
    "order_detail_sorted['CouponDiscountPct'] = pd.to_numeric(order_detail_sorted['CouponDiscountPct'], errors='coerce')\n",
    "order_detail_sorted['CouponDiscountPct'].unique()"
   ]
  },
  {
   "cell_type": "code",
   "execution_count": 0,
   "metadata": {
    "application/vnd.databricks.v1+cell": {
     "cellMetadata": {
      "byteLimit": 2048000,
      "rowLimit": 10000
     },
     "inputWidgets": {},
     "nuid": "38d5da34-dcda-494f-bab2-7ac8502abba8",
     "showTitle": false,
     "title": ""
    }
   },
   "outputs": [
    {
     "output_type": "stream",
     "name": "stdout",
     "output_type": "stream",
     "text": [
      "<class 'pandas.core.frame.DataFrame'>\nInt64Index: 125165 entries, 106724 to 68185\nData columns (total 21 columns):\n #   Column             Non-Null Count   Dtype         \n---  ------             --------------   -----         \n 0   OrderId            125165 non-null  object        \n 1   DistributorID      125165 non-null  object        \n 2   OrderDate          125165 non-null  datetime64[ns]\n 3   CodeProduct        125165 non-null  object        \n 4   TotalPrice         125165 non-null  float64       \n 5   Amount             125165 non-null  int64         \n 6   CouponId           7248 non-null    object        \n 7   Name               125158 non-null  object        \n 8   NameDistributor    125165 non-null  object        \n 9   PointOfSaleId      125165 non-null  object        \n 10  CouponDiscountAmt  125165 non-null  float64       \n 11  CouponDiscountPct  125165 non-null  int64         \n 12  CouponMax          123724 non-null  object        \n 13  CouponDescription  125165 non-null  object        \n 14  tipologia          125153 non-null  object        \n 15  Coupon_LAG_1       122179 non-null  object        \n 16  Coupon_LAG_2       120704 non-null  object        \n 17  Coupon_LAG_3       119297 non-null  object        \n 18  acumulado          125155 non-null  float64       \n 19  conteo             125165 non-null  float64       \n 20  Coupon_type        125165 non-null  object        \ndtypes: datetime64[ns](1), float64(4), int64(2), object(14)\nmemory usage: 25.0+ MB\n"
     ]
    }
   ],
   "source": [
    "order_detail_sorted.info()"
   ]
  },
  {
   "cell_type": "code",
   "execution_count": 0,
   "metadata": {
    "application/vnd.databricks.v1+cell": {
     "cellMetadata": {
      "byteLimit": 2048000,
      "rowLimit": 10000
     },
     "inputWidgets": {},
     "nuid": "626016cd-c84a-4a87-b096-fcac01f7f29f",
     "showTitle": false,
     "title": ""
    }
   },
   "outputs": [],
   "source": [
    "def clasificar_descuento(row):\n",
    "    # Verificar si los valores no son nulos\n",
    "    if pd.notna(row['CouponDiscountAmt']) and pd.notna(row['CouponDiscountPct']) and pd.notna(row['CouponId']):\n",
    "        if row['CouponDiscountAmt'] != 0 and row['CouponDiscountPct'] == 0:\n",
    "            return 'Fijo'\n",
    "        elif row['CouponDiscountPct'] != 0 and row['CouponId'] != 0:\n",
    "            return 'Porcentual'\n",
    "        else:\n",
    "            return 'NoCupon' \n",
    "    else:\n",
    "        return 'NoCupon' "
   ]
  },
  {
   "cell_type": "code",
   "execution_count": 0,
   "metadata": {
    "application/vnd.databricks.v1+cell": {
     "cellMetadata": {
      "byteLimit": 2048000,
      "rowLimit": 10000
     },
     "inputWidgets": {},
     "nuid": "0c3aa017-d87e-4fd0-892a-f71de5536368",
     "showTitle": false,
     "title": ""
    }
   },
   "outputs": [],
   "source": [
    "order_detail_sorted['Coupon_type'] = order_detail_sorted.apply(clasificar_descuento, axis=1)"
   ]
  },
  {
   "cell_type": "code",
   "execution_count": 0,
   "metadata": {
    "application/vnd.databricks.v1+cell": {
     "cellMetadata": {
      "byteLimit": 2048000,
      "rowLimit": 10000
     },
     "inputWidgets": {},
     "nuid": "54a580b9-3ed2-404b-a734-2b704d3b80e6",
     "showTitle": false,
     "title": ""
    }
   },
   "outputs": [
    {
     "output_type": "execute_result",
     "data": {
      "text/html": [
       "<div>\n",
       "<style scoped>\n",
       "    .dataframe tbody tr th:only-of-type {\n",
       "        vertical-align: middle;\n",
       "    }\n",
       "\n",
       "    .dataframe tbody tr th {\n",
       "        vertical-align: top;\n",
       "    }\n",
       "\n",
       "    .dataframe thead th {\n",
       "        text-align: right;\n",
       "    }\n",
       "</style>\n",
       "<table border=\"1\" class=\"dataframe\">\n",
       "  <thead>\n",
       "    <tr style=\"text-align: right;\">\n",
       "      <th></th>\n",
       "      <th>OrderId</th>\n",
       "      <th>DistributorID</th>\n",
       "      <th>OrderDate</th>\n",
       "      <th>CodeProduct</th>\n",
       "      <th>TotalPrice</th>\n",
       "      <th>Amount</th>\n",
       "      <th>CouponId</th>\n",
       "      <th>Name</th>\n",
       "      <th>NameDistributor</th>\n",
       "      <th>PointOfSaleId</th>\n",
       "      <th>CouponDiscountAmt</th>\n",
       "      <th>CouponDiscountPct</th>\n",
       "      <th>CouponMax</th>\n",
       "      <th>CouponDescription</th>\n",
       "      <th>tipologia</th>\n",
       "      <th>Coupon_LAG_1</th>\n",
       "      <th>Coupon_LAG_2</th>\n",
       "      <th>Coupon_LAG_3</th>\n",
       "      <th>acumulado</th>\n",
       "      <th>conteo</th>\n",
       "      <th>Coupon_type</th>\n",
       "    </tr>\n",
       "  </thead>\n",
       "  <tbody>\n",
       "    <tr>\n",
       "      <th>91488</th>\n",
       "      <td>BC73C8EA3D04DB3E9FA8986325D2C696</td>\n",
       "      <td>9CC0BCF9-4378-40A7-B258-A01FBDD9A7E2</td>\n",
       "      <td>2023-12-18 00:00:00</td>\n",
       "      <td>[PRD0005697, PRD0001883, PRD0009380, PRD000542...</td>\n",
       "      <td>419.77</td>\n",
       "      <td>13</td>\n",
       "      <td>RB-0000000038</td>\n",
       "      <td>CAFE BELEN</td>\n",
       "      <td>Voldis Madrid BC</td>\n",
       "      <td>CLI0034346</td>\n",
       "      <td>20</td>\n",
       "      <td>0</td>\n",
       "      <td>0</td>\n",
       "      <td>Descuento E-commerce NAVIBAR20</td>\n",
       "      <td>Noche Temprana</td>\n",
       "      <td>0</td>\n",
       "      <td>0</td>\n",
       "      <td>0</td>\n",
       "      <td>20.00</td>\n",
       "      <td>51.0</td>\n",
       "      <td>Porcentual</td>\n",
       "    </tr>\n",
       "    <tr>\n",
       "      <th>72891</th>\n",
       "      <td>A7165F8B6E740D812A7302D7CCC2D48D</td>\n",
       "      <td>9CC0BCF9-4378-40A7-B258-A01FBDD9A7E2</td>\n",
       "      <td>2023-12-18 00:00:00</td>\n",
       "      <td>[PRD0015885, PRD0012779, PRD0003563, PRD001273...</td>\n",
       "      <td>209.61</td>\n",
       "      <td>18</td>\n",
       "      <td>RB-0000000038</td>\n",
       "      <td>CARRIL</td>\n",
       "      <td>Voldis Madrid BC</td>\n",
       "      <td>CLI0030927</td>\n",
       "      <td>20</td>\n",
       "      <td>0</td>\n",
       "      <td>0</td>\n",
       "      <td>Descuento E-commerce NAVIBAR20</td>\n",
       "      <td>Establecimiento de Tapeo</td>\n",
       "      <td>0</td>\n",
       "      <td>0</td>\n",
       "      <td>0</td>\n",
       "      <td>20.00</td>\n",
       "      <td>59.0</td>\n",
       "      <td>Porcentual</td>\n",
       "    </tr>\n",
       "    <tr>\n",
       "      <th>75013</th>\n",
       "      <td>A7165F8B6E740D81801942792BF6F174</td>\n",
       "      <td>9CC0BCF9-4378-40A7-B258-A01FBDD9A7E2</td>\n",
       "      <td>2023-12-18 00:00:00</td>\n",
       "      <td>[PRD0005431, PRD0005432]</td>\n",
       "      <td>1134.46</td>\n",
       "      <td>10</td>\n",
       "      <td>RB-0000000038</td>\n",
       "      <td>VELLA-CARDEÑO</td>\n",
       "      <td>Voldis Madrid BC</td>\n",
       "      <td>CLI0030079</td>\n",
       "      <td>20</td>\n",
       "      <td>0</td>\n",
       "      <td>0</td>\n",
       "      <td>Descuento E-commerce NAVIBAR20</td>\n",
       "      <td>Bar Tradicional</td>\n",
       "      <td>0</td>\n",
       "      <td>0</td>\n",
       "      <td>0</td>\n",
       "      <td>20.00</td>\n",
       "      <td>78.0</td>\n",
       "      <td>Porcentual</td>\n",
       "    </tr>\n",
       "    <tr>\n",
       "      <th>75409</th>\n",
       "      <td>A7165F8B6E740D818FF2F4D2B2EACAAB</td>\n",
       "      <td>9CC0BCF9-4378-40A7-B258-A01FBDD9A7E2</td>\n",
       "      <td>2023-12-18 00:00:00</td>\n",
       "      <td>[PRD0005431]</td>\n",
       "      <td>304.71</td>\n",
       "      <td>3</td>\n",
       "      <td>RB-0000000038</td>\n",
       "      <td>CARDEÑO II</td>\n",
       "      <td>Voldis Madrid BC</td>\n",
       "      <td>CLI0030589</td>\n",
       "      <td>20</td>\n",
       "      <td>0</td>\n",
       "      <td>0</td>\n",
       "      <td>Descuento E-commerce NAVIBAR20</td>\n",
       "      <td>Restaurante</td>\n",
       "      <td>0</td>\n",
       "      <td>0</td>\n",
       "      <td>0</td>\n",
       "      <td>20.00</td>\n",
       "      <td>34.0</td>\n",
       "      <td>Porcentual</td>\n",
       "    </tr>\n",
       "    <tr>\n",
       "      <th>17459</th>\n",
       "      <td>38CE7DABBDFE79F864E403558539A89E6D1921D25396E9B5</td>\n",
       "      <td>9CC0BCF9-4378-40A7-B258-A01FBDD9A7E2</td>\n",
       "      <td>2023-12-18 00:00:00</td>\n",
       "      <td>[PRD0004672, PRD0005422, PRD0005421, PRD001217...</td>\n",
       "      <td>-375.17</td>\n",
       "      <td>-13</td>\n",
       "      <td>RB-0000000038</td>\n",
       "      <td>EL RACO</td>\n",
       "      <td>Voldis Madrid BC</td>\n",
       "      <td>CLI0033159</td>\n",
       "      <td>20</td>\n",
       "      <td>0</td>\n",
       "      <td>0</td>\n",
       "      <td>Descuento E-commerce NAVIBAR20</td>\n",
       "      <td>Bar Tradicional</td>\n",
       "      <td>0</td>\n",
       "      <td>0</td>\n",
       "      <td>0</td>\n",
       "      <td>20.00</td>\n",
       "      <td>62.0</td>\n",
       "      <td>Porcentual</td>\n",
       "    </tr>\n",
       "    <tr>\n",
       "      <th>...</th>\n",
       "      <td>...</td>\n",
       "      <td>...</td>\n",
       "      <td>...</td>\n",
       "      <td>...</td>\n",
       "      <td>...</td>\n",
       "      <td>...</td>\n",
       "      <td>...</td>\n",
       "      <td>...</td>\n",
       "      <td>...</td>\n",
       "      <td>...</td>\n",
       "      <td>...</td>\n",
       "      <td>...</td>\n",
       "      <td>...</td>\n",
       "      <td>...</td>\n",
       "      <td>...</td>\n",
       "      <td>...</td>\n",
       "      <td>...</td>\n",
       "      <td>...</td>\n",
       "      <td>...</td>\n",
       "      <td>...</td>\n",
       "      <td>...</td>\n",
       "    </tr>\n",
       "    <tr>\n",
       "      <th>1365</th>\n",
       "      <td>092866B66FF3C5A0AAC82AA8D62699AE529F231DFBD223...</td>\n",
       "      <td>652c6174-39ac-4ca8-b4da-56dac5baf93b</td>\n",
       "      <td>2024-07-03 12:13:08</td>\n",
       "      <td>[7560, 997023, 997044, 7037, 997005, 996973]</td>\n",
       "      <td>409.32</td>\n",
       "      <td>27</td>\n",
       "      <td>RB-0000000017</td>\n",
       "      <td>HIFI BAR</td>\n",
       "      <td>Voldis Valencia</td>\n",
       "      <td>68602</td>\n",
       "      <td>10</td>\n",
       "      <td>0</td>\n",
       "      <td>0</td>\n",
       "      <td>10€4ªcomp.on.Comp.&gt;150€.nuevo</td>\n",
       "      <td>No Segmentado</td>\n",
       "      <td>8.13</td>\n",
       "      <td>50</td>\n",
       "      <td>NaN</td>\n",
       "      <td>143.13</td>\n",
       "      <td>6.0</td>\n",
       "      <td>Porcentual</td>\n",
       "    </tr>\n",
       "    <tr>\n",
       "      <th>71741</th>\n",
       "      <td>A4076F9F16956356F99E6519705E8D197E054FA3DE0D9D...</td>\n",
       "      <td>9cc0bcf9-4378-40a7-b258-a01fbdd9a7e2</td>\n",
       "      <td>2024-07-03 13:02:09</td>\n",
       "      <td>[PRD0005432]</td>\n",
       "      <td>169.00</td>\n",
       "      <td>1</td>\n",
       "      <td>RB-0000000017</td>\n",
       "      <td>VILLALOBILLOS</td>\n",
       "      <td>Voldis Madrid BC</td>\n",
       "      <td>CLI0029896</td>\n",
       "      <td>10</td>\n",
       "      <td>0</td>\n",
       "      <td>0</td>\n",
       "      <td>10€4ªcomp.on.Comp.&gt;150€.nuevo</td>\n",
       "      <td>Establecimiento de Tapeo</td>\n",
       "      <td>0</td>\n",
       "      <td>0</td>\n",
       "      <td>0</td>\n",
       "      <td>684.72</td>\n",
       "      <td>108.0</td>\n",
       "      <td>Porcentual</td>\n",
       "    </tr>\n",
       "    <tr>\n",
       "      <th>850</th>\n",
       "      <td>092866B66FF3C5A05B037AAAF43ACBFBB5C5702DB81A72...</td>\n",
       "      <td>652c6174-39ac-4ca8-b4da-56dac5baf93b</td>\n",
       "      <td>2024-07-03 13:34:08</td>\n",
       "      <td>[5650, 2090, 5561]</td>\n",
       "      <td>431.04</td>\n",
       "      <td>29</td>\n",
       "      <td>RB-0000000001</td>\n",
       "      <td>BAR CANTONET</td>\n",
       "      <td>Voldis Valencia</td>\n",
       "      <td>69009</td>\n",
       "      <td>86.21</td>\n",
       "      <td>20</td>\n",
       "      <td>500</td>\n",
       "      <td>20% 1ªcom.on.Max.500€</td>\n",
       "      <td>No Segmentado</td>\n",
       "      <td>NaN</td>\n",
       "      <td>NaN</td>\n",
       "      <td>NaN</td>\n",
       "      <td>86.21</td>\n",
       "      <td>1.0</td>\n",
       "      <td>Porcentual</td>\n",
       "    </tr>\n",
       "    <tr>\n",
       "      <th>68523</th>\n",
       "      <td>A4076F9F169563561F9557230C3371317C09B05E30D4B0...</td>\n",
       "      <td>9cc0bcf9-4378-40a7-b258-a01fbdd9a7e2</td>\n",
       "      <td>2024-07-03 13:47:07</td>\n",
       "      <td>[PRD0005432, PRD0005443]</td>\n",
       "      <td>197.31</td>\n",
       "      <td>6</td>\n",
       "      <td>RB-0000000016</td>\n",
       "      <td>MR. LEMMON PUB</td>\n",
       "      <td>Voldis Madrid BC</td>\n",
       "      <td>CLI0033188</td>\n",
       "      <td>15</td>\n",
       "      <td>0</td>\n",
       "      <td>0</td>\n",
       "      <td>15€3comp.on.Com&gt;150€.nuevo</td>\n",
       "      <td>Noche Temprana</td>\n",
       "      <td>0</td>\n",
       "      <td>0</td>\n",
       "      <td>0</td>\n",
       "      <td>15.00</td>\n",
       "      <td>88.0</td>\n",
       "      <td>Porcentual</td>\n",
       "    </tr>\n",
       "    <tr>\n",
       "      <th>70227</th>\n",
       "      <td>A4076F9F1695635694576B1AA0E9C95B88A25BBDAE7C7B...</td>\n",
       "      <td>9cc0bcf9-4378-40a7-b258-a01fbdd9a7e2</td>\n",
       "      <td>2024-07-03 13:48:08</td>\n",
       "      <td>[PRD0005422, PRD0005393, PRD0005443, PRD000021...</td>\n",
       "      <td>245.02</td>\n",
       "      <td>18</td>\n",
       "      <td>RB-0000000047B</td>\n",
       "      <td>GRAN HONG KONG</td>\n",
       "      <td>Voldis Madrid BC</td>\n",
       "      <td>CLI0030127</td>\n",
       "      <td>36.76</td>\n",
       "      <td>15</td>\n",
       "      <td>500</td>\n",
       "      <td>15%dcto.compraonline.MERECES15</td>\n",
       "      <td>Restaurante</td>\n",
       "      <td>0</td>\n",
       "      <td>0</td>\n",
       "      <td>36.14</td>\n",
       "      <td>533.92</td>\n",
       "      <td>126.0</td>\n",
       "      <td>Porcentual</td>\n",
       "    </tr>\n",
       "  </tbody>\n",
       "</table>\n",
       "<p>7248 rows × 21 columns</p>\n",
       "</div>"
      ],
      "text/plain": [
       "                                                 OrderId  ... Coupon_type\n",
       "91488                   BC73C8EA3D04DB3E9FA8986325D2C696  ...  Porcentual\n",
       "72891                   A7165F8B6E740D812A7302D7CCC2D48D  ...  Porcentual\n",
       "75013                   A7165F8B6E740D81801942792BF6F174  ...  Porcentual\n",
       "75409                   A7165F8B6E740D818FF2F4D2B2EACAAB  ...  Porcentual\n",
       "17459   38CE7DABBDFE79F864E403558539A89E6D1921D25396E9B5  ...  Porcentual\n",
       "...                                                  ...  ...         ...\n",
       "1365   092866B66FF3C5A0AAC82AA8D62699AE529F231DFBD223...  ...  Porcentual\n",
       "71741  A4076F9F16956356F99E6519705E8D197E054FA3DE0D9D...  ...  Porcentual\n",
       "850    092866B66FF3C5A05B037AAAF43ACBFBB5C5702DB81A72...  ...  Porcentual\n",
       "68523  A4076F9F169563561F9557230C3371317C09B05E30D4B0...  ...  Porcentual\n",
       "70227  A4076F9F1695635694576B1AA0E9C95B88A25BBDAE7C7B...  ...  Porcentual\n",
       "\n",
       "[7248 rows x 21 columns]"
      ]
     },
     "execution_count": 119,
     "metadata": {},
     "output_type": "execute_result"
    }
   ],
   "source": [
    "order_detail_sorted[order_detail_sorted['Coupon_type']=='Porcentual']"
   ]
  },
  {
   "cell_type": "markdown",
   "metadata": {
    "application/vnd.databricks.v1+cell": {
     "cellMetadata": {
      "byteLimit": 2048000,
      "rowLimit": 10000
     },
     "inputWidgets": {},
     "nuid": "ddc8cd92-ba72-4fab-9b6a-1516a8785833",
     "showTitle": false,
     "title": ""
    }
   },
   "source": [
    "# Análisis descriptivo"
   ]
  },
  {
   "cell_type": "markdown",
   "metadata": {
    "application/vnd.databricks.v1+cell": {
     "cellMetadata": {
      "byteLimit": 2048000,
      "rowLimit": 10000
     },
     "inputWidgets": {},
     "nuid": "e85f012a-2697-4506-b060-023a0d07d7da",
     "showTitle": false,
     "title": ""
    }
   },
   "source": [
    "### Filtro de segmentación de pdvs"
   ]
  },
  {
   "cell_type": "markdown",
   "metadata": {
    "application/vnd.databricks.v1+cell": {
     "cellMetadata": {
      "byteLimit": 2048000,
      "rowLimit": 10000
     },
     "inputWidgets": {},
     "nuid": "2decb1e0-b294-41dd-a41e-17bfb24f7cb5",
     "showTitle": false,
     "title": ""
    }
   },
   "source": [
    "Ventas totales por dvs/ cupones usados/ descuento promedio"
   ]
  },
  {
   "cell_type": "code",
   "execution_count": 0,
   "metadata": {
    "application/vnd.databricks.v1+cell": {
     "cellMetadata": {
      "byteLimit": 2048000,
      "rowLimit": 10000
     },
     "inputWidgets": {},
     "nuid": "7437886c-58a2-4583-b7e3-af9e477eba5d",
     "showTitle": false,
     "title": ""
    }
   },
   "outputs": [],
   "source": [
    "sales_coupon = order_detail_sorted[order_detail_sorted['CouponId'].notna()].groupby('PointOfSaleId')['TotalPrice'].sum()\n",
    "total_sales = order_detail_sorted.groupby('PointOfSaleId')['TotalPrice'].sum()\n",
    "pctg_coupon_used = (sales_coupon / total_sales) * 100"
   ]
  },
  {
   "cell_type": "code",
   "execution_count": 0,
   "metadata": {
    "application/vnd.databricks.v1+cell": {
     "cellMetadata": {
      "byteLimit": 2048000,
      "rowLimit": 10000
     },
     "inputWidgets": {},
     "nuid": "84c12555-09f9-4545-a3a9-fa7b5677795a",
     "showTitle": false,
     "title": ""
    }
   },
   "outputs": [
    {
     "output_type": "execute_result",
     "data": {
      "text/plain": [
       "1533"
      ]
     },
     "execution_count": 121,
     "metadata": {},
     "output_type": "execute_result"
    }
   ],
   "source": [
    "order_detail_sorted['PointOfSaleId'].nunique()"
   ]
  },
  {
   "cell_type": "code",
   "execution_count": 0,
   "metadata": {
    "application/vnd.databricks.v1+cell": {
     "cellMetadata": {
      "byteLimit": 2048000,
      "rowLimit": 10000
     },
     "inputWidgets": {},
     "nuid": "d7d3e27f-2aeb-416a-a6b7-164b28009fc7",
     "showTitle": false,
     "title": ""
    }
   },
   "outputs": [
    {
     "output_type": "stream",
     "name": "stdout",
     "output_type": "stream",
     "text": [
      "PDV 01071: 2.33% de uso de cupones en compras totales.\nPDV 01076: 13.25% de uso de cupones en compras totales.\nPDV 01091: 5.05% de uso de cupones en compras totales.\nPDV 01174: 3.40% de uso de cupones en compras totales.\nPDV 01227: 28.76% de uso de cupones en compras totales.\nPDV 01235: 6.95% de uso de cupones en compras totales.\nPDV 01306: 3.92% de uso de cupones en compras totales.\nPDV 01375: 2.92% de uso de cupones en compras totales.\nPDV 01391: 1.91% de uso de cupones en compras totales.\nPDV 01412: 2.01% de uso de cupones en compras totales.\nPDV 01533: 7.23% de uso de cupones en compras totales.\nPDV 01543: 14.04% de uso de cupones en compras totales.\nPDV 01547: 1.58% de uso de cupones en compras totales.\nPDV 01559: 17.77% de uso de cupones en compras totales.\nPDV 01575: 4.91% de uso de cupones en compras totales.\nPDV 01577: 6.94% de uso de cupones en compras totales.\nPDV 01583: 1.32% de uso de cupones en compras totales.\nPDV 01596: 3.90% de uso de cupones en compras totales.\nPDV 01611: 3.87% de uso de cupones en compras totales.\nPDV 01649: 1.71% de uso de cupones en compras totales.\nPDV 01650: 3.76% de uso de cupones en compras totales.\nPDV 01676: 3.79% de uso de cupones en compras totales.\nPDV 01698: 24.46% de uso de cupones en compras totales.\nPDV 01705: 33.67% de uso de cupones en compras totales.\nPDV 01709: 28.13% de uso de cupones en compras totales.\nPDV 01714: 8.98% de uso de cupones en compras totales.\nPDV 01735: 55.76% de uso de cupones en compras totales.\nPDV 02035: 10.61% de uso de cupones en compras totales.\nPDV 02205: 0.55% de uso de cupones en compras totales.\nPDV 02486: 3.82% de uso de cupones en compras totales.\nPDV 02532: 19.74% de uso de cupones en compras totales.\nPDV 02975: 1.95% de uso de cupones en compras totales.\nPDV 03214: 7.30% de uso de cupones en compras totales.\nPDV 03227: 0.70% de uso de cupones en compras totales.\nPDV 03233: 3.46% de uso de cupones en compras totales.\nPDV 04023: 9.60% de uso de cupones en compras totales.\nPDV 04030: 18.57% de uso de cupones en compras totales.\nPDV 04042: 5.70% de uso de cupones en compras totales.\nPDV 04043: 10.29% de uso de cupones en compras totales.\nPDV 04051: 5.79% de uso de cupones en compras totales.\nPDV 04058: 37.82% de uso de cupones en compras totales.\nPDV 04068: 23.00% de uso de cupones en compras totales.\nPDV 06056: 2.43% de uso de cupones en compras totales.\nPDV 06128: 1.97% de uso de cupones en compras totales.\nPDV 06147: 6.11% de uso de cupones en compras totales.\nPDV 06159: 1.75% de uso de cupones en compras totales.\nPDV 06187: 14.38% de uso de cupones en compras totales.\nPDV 06201: 2.61% de uso de cupones en compras totales.\nPDV 06205: 3.12% de uso de cupones en compras totales.\nPDV 06228: 3.78% de uso de cupones en compras totales.\nPDV 06231: 3.30% de uso de cupones en compras totales.\nPDV 06313: 2.48% de uso de cupones en compras totales.\nPDV 06322: 8.88% de uso de cupones en compras totales.\nPDV 06412: 11.60% de uso de cupones en compras totales.\nPDV 06423: 4.07% de uso de cupones en compras totales.\nPDV 06449: 3.83% de uso de cupones en compras totales.\nPDV 06456: 4.14% de uso de cupones en compras totales.\nPDV 06498: 2.97% de uso de cupones en compras totales.\nPDV 06502: 3.31% de uso de cupones en compras totales.\nPDV 06503: 2.67% de uso de cupones en compras totales.\nPDV 06536: 2.54% de uso de cupones en compras totales.\nPDV 06568: 8.38% de uso de cupones en compras totales.\nPDV 06575: 3.36% de uso de cupones en compras totales.\nPDV 06587: 4.65% de uso de cupones en compras totales.\nPDV 06619: 8.19% de uso de cupones en compras totales.\nPDV 06625: 0.98% de uso de cupones en compras totales.\nPDV 06635: 1.02% de uso de cupones en compras totales.\nPDV 06643: 0.93% de uso de cupones en compras totales.\nPDV 06652: 1.16% de uso de cupones en compras totales.\nPDV 06661: 3.02% de uso de cupones en compras totales.\nPDV 06678: 1.32% de uso de cupones en compras totales.\nPDV 06708: 8.93% de uso de cupones en compras totales.\nPDV 06719: 10.11% de uso de cupones en compras totales.\nPDV 06733: 2.41% de uso de cupones en compras totales.\nPDV 06746: 3.79% de uso de cupones en compras totales.\nPDV 06779: 12.25% de uso de cupones en compras totales.\nPDV 06826: 1.01% de uso de cupones en compras totales.\nPDV 06839: 0.69% de uso de cupones en compras totales.\nPDV 06840: 3.01% de uso de cupones en compras totales.\nPDV 06843: 1.44% de uso de cupones en compras totales.\nPDV 06853: 5.85% de uso de cupones en compras totales.\nPDV 06861: 2.68% de uso de cupones en compras totales.\nPDV 06883: 14.36% de uso de cupones en compras totales.\nPDV 06891: 3.87% de uso de cupones en compras totales.\nPDV 06892: 5.51% de uso de cupones en compras totales.\nPDV 06932: 8.43% de uso de cupones en compras totales.\nPDV 06957: 2.44% de uso de cupones en compras totales.\nPDV 06959: 12.37% de uso de cupones en compras totales.\nPDV 06961: 5.88% de uso de cupones en compras totales.\nPDV 06962: 21.05% de uso de cupones en compras totales.\nPDV 06963: 3.72% de uso de cupones en compras totales.\nPDV 06971: 3.64% de uso de cupones en compras totales.\nPDV 06978: 4.06% de uso de cupones en compras totales.\nPDV 06979: 20.32% de uso de cupones en compras totales.\nPDV 06980: 7.40% de uso de cupones en compras totales.\nPDV 07043: 2.90% de uso de cupones en compras totales.\nPDV 07096: 13.46% de uso de cupones en compras totales.\nPDV 07129: 1.15% de uso de cupones en compras totales.\nPDV 07151: 1.07% de uso de cupones en compras totales.\nPDV 07246: 0.94% de uso de cupones en compras totales.\nPDV 07404: 3.01% de uso de cupones en compras totales.\nPDV 07453: 1.90% de uso de cupones en compras totales.\nPDV 07578: 1.71% de uso de cupones en compras totales.\nPDV 07608: 11.00% de uso de cupones en compras totales.\nPDV 07627: 8.95% de uso de cupones en compras totales.\nPDV 07648: 1.45% de uso de cupones en compras totales.\nPDV 07662: 3.07% de uso de cupones en compras totales.\nPDV 07689: 3.33% de uso de cupones en compras totales.\nPDV 07711: 2.10% de uso de cupones en compras totales.\nPDV 07718: 3.05% de uso de cupones en compras totales.\nPDV 07739: 3.23% de uso de cupones en compras totales.\nPDV 07759: 1.20% de uso de cupones en compras totales.\nPDV 07793: 4.00% de uso de cupones en compras totales.\nPDV 07797: 2.65% de uso de cupones en compras totales.\nPDV 07816: 4.76% de uso de cupones en compras totales.\nPDV 07826: 1.25% de uso de cupones en compras totales.\nPDV 07855: 1.71% de uso de cupones en compras totales.\nPDV 07858: 7.26% de uso de cupones en compras totales.\nPDV 07866: 4.14% de uso de cupones en compras totales.\nPDV 07868: 7.34% de uso de cupones en compras totales.\nPDV 07883: 7.04% de uso de cupones en compras totales.\nPDV 07886: 16.11% de uso de cupones en compras totales.\nPDV 07894: 2.45% de uso de cupones en compras totales.\nPDV 07898: 5.04% de uso de cupones en compras totales.\nPDV 07902: 4.49% de uso de cupones en compras totales.\nPDV 08016: 4.26% de uso de cupones en compras totales.\nPDV 08040: 7.08% de uso de cupones en compras totales.\nPDV 08142: 2.51% de uso de cupones en compras totales.\nPDV 08154: 2.15% de uso de cupones en compras totales.\nPDV 08202: 1.81% de uso de cupones en compras totales.\nPDV 08239: 2.71% de uso de cupones en compras totales.\nPDV 08251: 3.89% de uso de cupones en compras totales.\nPDV 08277: 12.02% de uso de cupones en compras totales.\nPDV 08325: 1.30% de uso de cupones en compras totales.\nPDV 08439: 1.24% de uso de cupones en compras totales.\nPDV 08457: 3.61% de uso de cupones en compras totales.\nPDV 08694: 2.49% de uso de cupones en compras totales.\nPDV 08708: 2.49% de uso de cupones en compras totales.\nPDV 08738: 3.17% de uso de cupones en compras totales.\nPDV 08869: 4.44% de uso de cupones en compras totales.\nPDV 11284: 38.77% de uso de cupones en compras totales.\nPDV 14710: 100.00% de uso de cupones en compras totales.\nPDV 15207: 23.99% de uso de cupones en compras totales.\nPDV 16026: 24.35% de uso de cupones en compras totales.\nPDV 16245: 34.41% de uso de cupones en compras totales.\nPDV 16305: 58.37% de uso de cupones en compras totales.\nPDV 18227: 52.23% de uso de cupones en compras totales.\nPDV 18701: 62.47% de uso de cupones en compras totales.\nPDV 20573: 21.80% de uso de cupones en compras totales.\nPDV 2274: 16.50% de uso de cupones en compras totales.\nPDV 25228: 62.84% de uso de cupones en compras totales.\nPDV 25400: 36.67% de uso de cupones en compras totales.\nPDV 25509: 35.77% de uso de cupones en compras totales.\nPDV 26001: 42.56% de uso de cupones en compras totales.\nPDV 26146: 87.17% de uso de cupones en compras totales.\nPDV 26162: 90.24% de uso de cupones en compras totales.\nPDV 26257: 100.00% de uso de cupones en compras totales.\nPDV 26361: 27.39% de uso de cupones en compras totales.\nPDV 27146: 35.10% de uso de cupones en compras totales.\nPDV 27556: 26.70% de uso de cupones en compras totales.\nPDV 28138: 56.99% de uso de cupones en compras totales.\nPDV 28835: 24.45% de uso de cupones en compras totales.\nPDV 30139: 100.00% de uso de cupones en compras totales.\nPDV 30358: 124.85% de uso de cupones en compras totales.\nPDV 31068: 62.91% de uso de cupones en compras totales.\nPDV 31364: 42.06% de uso de cupones en compras totales.\nPDV 31446: 14.25% de uso de cupones en compras totales.\nPDV 31468: 43.00% de uso de cupones en compras totales.\nPDV 31555: 59.05% de uso de cupones en compras totales.\nPDV 31568: 41.71% de uso de cupones en compras totales.\nPDV 31658: 40.69% de uso de cupones en compras totales.\nPDV 32301: 26.69% de uso de cupones en compras totales.\nPDV 32723: 48.53% de uso de cupones en compras totales.\nPDV 33567: 100.00% de uso de cupones en compras totales.\nPDV 34212: 22.10% de uso de cupones en compras totales.\nPDV 35728: 17.30% de uso de cupones en compras totales.\nPDV 36260: 48.04% de uso de cupones en compras totales.\nPDV 36338: 83.89% de uso de cupones en compras totales.\nPDV 36481: 50.99% de uso de cupones en compras totales.\nPDV 36614: 30.75% de uso de cupones en compras totales.\nPDV 36802: 32.12% de uso de cupones en compras totales.\nPDV 36963: 70.24% de uso de cupones en compras totales.\nPDV 37586: 100.00% de uso de cupones en compras totales.\nPDV 37613: 16.77% de uso de cupones en compras totales.\nPDV 38022: 43.63% de uso de cupones en compras totales.\nPDV 38375: 100.00% de uso de cupones en compras totales.\nPDV 38697: 26.55% de uso de cupones en compras totales.\nPDV 38801: 67.02% de uso de cupones en compras totales.\nPDV 38818: 73.25% de uso de cupones en compras totales.\nPDV 38835: 100.00% de uso de cupones en compras totales.\nPDV 38899: 46.78% de uso de cupones en compras totales.\nPDV 38994: 44.43% de uso de cupones en compras totales.\nPDV 39175: 47.97% de uso de cupones en compras totales.\nPDV 39370: 57.07% de uso de cupones en compras totales.\nPDV 39735: 100.00% de uso de cupones en compras totales.\nPDV 40080: 40.38% de uso de cupones en compras totales.\nPDV 40458: 73.70% de uso de cupones en compras totales.\nPDV 41147: 100.00% de uso de cupones en compras totales.\nPDV 42361: 29.74% de uso de cupones en compras totales.\nPDV 42535: 91.99% de uso de cupones en compras totales.\nPDV 42634: 100.00% de uso de cupones en compras totales.\nPDV 43277: 77.58% de uso de cupones en compras totales.\nPDV 43469: 100.00% de uso de cupones en compras totales.\nPDV 43550: 62.72% de uso de cupones en compras totales.\nPDV 44256: 51.47% de uso de cupones en compras totales.\nPDV 44304: 100.00% de uso de cupones en compras totales.\nPDV 4463: 21.20% de uso de cupones en compras totales.\nPDV 4472: 4.22% de uso de cupones en compras totales.\nPDV 44732: 92.36% de uso de cupones en compras totales.\nPDV 45026: 7.98% de uso de cupones en compras totales.\nPDV 45793: 55.77% de uso de cupones en compras totales.\nPDV 45895: 51.76% de uso de cupones en compras totales.\nPDV 46242: 89.11% de uso de cupones en compras totales.\nPDV 46376: 58.29% de uso de cupones en compras totales.\nPDV 46830: 82.86% de uso de cupones en compras totales.\nPDV 47043: 58.97% de uso de cupones en compras totales.\nPDV 47044: 105.89% de uso de cupones en compras totales.\nPDV 47443: 55.85% de uso de cupones en compras totales.\nPDV 47507: 47.60% de uso de cupones en compras totales.\nPDV 47530: 33.04% de uso de cupones en compras totales.\nPDV 47690: 50.00% de uso de cupones en compras totales.\nPDV 47932: 52.36% de uso de cupones en compras totales.\nPDV 48171: 31.75% de uso de cupones en compras totales.\nPDV 48468: 100.00% de uso de cupones en compras totales.\nPDV 48884: 80.19% de uso de cupones en compras totales.\nPDV 49149: 100.00% de uso de cupones en compras totales.\nPDV 49192: 68.41% de uso de cupones en compras totales.\nPDV 49643: 51.80% de uso de cupones en compras totales.\nPDV 49774: 63.73% de uso de cupones en compras totales.\nPDV 49791: 32.00% de uso de cupones en compras totales.\nPDV 49988: 55.35% de uso de cupones en compras totales.\nPDV 50177: 36.04% de uso de cupones en compras totales.\nPDV 50294: 100.00% de uso de cupones en compras totales.\nPDV 50398: 60.00% de uso de cupones en compras totales.\nPDV 50455: 100.00% de uso de cupones en compras totales.\nPDV 50946: 65.64% de uso de cupones en compras totales.\nPDV 51174: 34.58% de uso de cupones en compras totales.\nPDV 51314: 74.06% de uso de cupones en compras totales.\nPDV 51411: 56.84% de uso de cupones en compras totales.\nPDV 51452: 35.99% de uso de cupones en compras totales.\nPDV 51505: 70.10% de uso de cupones en compras totales.\nPDV 51510: 33.12% de uso de cupones en compras totales.\nPDV 51588: 100.00% de uso de cupones en compras totales.\nPDV 51610: 77.00% de uso de cupones en compras totales.\nPDV 51620: 41.92% de uso de cupones en compras totales.\nPDV 51626: 17.18% de uso de cupones en compras totales.\nPDV 51690: 48.94% de uso de cupones en compras totales.\nPDV 51702: 74.43% de uso de cupones en compras totales.\nPDV 51833: 100.00% de uso de cupones en compras totales.\nPDV 51925: 49.56% de uso de cupones en compras totales.\nPDV 51987: 83.44% de uso de cupones en compras totales.\nPDV 52015: 7.65% de uso de cupones en compras totales.\nPDV 52112: 88.76% de uso de cupones en compras totales.\nPDV 52337: 28.21% de uso de cupones en compras totales.\nPDV 52379: 100.00% de uso de cupones en compras totales.\nPDV 52474: 76.46% de uso de cupones en compras totales.\nPDV 52498: 32.50% de uso de cupones en compras totales.\nPDV 52547: 26.63% de uso de cupones en compras totales.\nPDV 52729: 16.33% de uso de cupones en compras totales.\nPDV 52833: 86.40% de uso de cupones en compras totales.\nPDV 52851: 28.47% de uso de cupones en compras totales.\nPDV 52888: 62.12% de uso de cupones en compras totales.\nPDV 52896: 61.46% de uso de cupones en compras totales.\nPDV 52996: 100.00% de uso de cupones en compras totales.\nPDV 53057: 51.94% de uso de cupones en compras totales.\nPDV 53065: 48.74% de uso de cupones en compras totales.\nPDV 53151: 100.00% de uso de cupones en compras totales.\nPDV 53205: 50.91% de uso de cupones en compras totales.\nPDV 53247: 22.98% de uso de cupones en compras totales.\nPDV 53376: 45.12% de uso de cupones en compras totales.\nPDV 53592: 100.00% de uso de cupones en compras totales.\nPDV 53661: 51.41% de uso de cupones en compras totales.\nPDV 53813: 78.68% de uso de cupones en compras totales.\nPDV 53844: 64.98% de uso de cupones en compras totales.\nPDV 53940: 100.00% de uso de cupones en compras totales.\nPDV 54098: 34.67% de uso de cupones en compras totales.\nPDV 54352: 100.00% de uso de cupones en compras totales.\nPDV 54363: 96.14% de uso de cupones en compras totales.\nPDV 54523: 62.49% de uso de cupones en compras totales.\nPDV 54576: 79.95% de uso de cupones en compras totales.\nPDV 54612: 15.41% de uso de cupones en compras totales.\nPDV 54721: 100.00% de uso de cupones en compras totales.\nPDV 54744: 36.81% de uso de cupones en compras totales.\nPDV 54775: 15.17% de uso de cupones en compras totales.\nPDV 54938: 37.96% de uso de cupones en compras totales.\nPDV 55082: 72.40% de uso de cupones en compras totales.\nPDV 55099: 38.38% de uso de cupones en compras totales.\nPDV 55165: 58.62% de uso de cupones en compras totales.\nPDV 55199: 85.25% de uso de cupones en compras totales.\nPDV 55267: 57.53% de uso de cupones en compras totales.\nPDV 55554: 56.83% de uso de cupones en compras totales.\nPDV 55651: 26.90% de uso de cupones en compras totales.\nPDV 55742: 100.00% de uso de cupones en compras totales.\nPDV 55840: 70.94% de uso de cupones en compras totales.\nPDV 55897: 50.78% de uso de cupones en compras totales.\nPDV 55963: 21.34% de uso de cupones en compras totales.\nPDV 55965: 43.06% de uso de cupones en compras totales.\nPDV 56097: 36.89% de uso de cupones en compras totales.\nPDV 56100: 35.88% de uso de cupones en compras totales.\nPDV 56115: 100.00% de uso de cupones en compras totales.\nPDV 56204: 26.37% de uso de cupones en compras totales.\nPDV 56212: 33.90% de uso de cupones en compras totales.\nPDV 56314: 94.36% de uso de cupones en compras totales.\nPDV 56501: 20.46% de uso de cupones en compras totales.\nPDV 56524: 14.87% de uso de cupones en compras totales.\nPDV 56699: 39.97% de uso de cupones en compras totales.\nPDV 56805: 100.00% de uso de cupones en compras totales.\nPDV 56823: 46.83% de uso de cupones en compras totales.\nPDV 56896: 100.00% de uso de cupones en compras totales.\nPDV 56949: 78.44% de uso de cupones en compras totales.\nPDV 57093: 44.19% de uso de cupones en compras totales.\nPDV 57105: 84.18% de uso de cupones en compras totales.\nPDV 57132: 100.00% de uso de cupones en compras totales.\nPDV 57156: 100.00% de uso de cupones en compras totales.\nPDV 57180: 100.00% de uso de cupones en compras totales.\nPDV 57187: 100.00% de uso de cupones en compras totales.\nPDV 57337: 44.37% de uso de cupones en compras totales.\nPDV 57348: 60.47% de uso de cupones en compras totales.\nPDV 57364: 63.79% de uso de cupones en compras totales.\nPDV 57470: 88.95% de uso de cupones en compras totales.\nPDV 57527: 46.53% de uso de cupones en compras totales.\nPDV 57532: 41.62% de uso de cupones en compras totales.\nPDV 57549: 57.05% de uso de cupones en compras totales.\nPDV 57599: 74.75% de uso de cupones en compras totales.\nPDV 57644: 75.33% de uso de cupones en compras totales.\nPDV 57693: 100.00% de uso de cupones en compras totales.\nPDV 57694: 62.90% de uso de cupones en compras totales.\nPDV 57769: 60.39% de uso de cupones en compras totales.\nPDV 57781: 24.74% de uso de cupones en compras totales.\nPDV 57824: 75.09% de uso de cupones en compras totales.\nPDV 57947: 100.00% de uso de cupones en compras totales.\nPDV 58079: 88.94% de uso de cupones en compras totales.\nPDV 58107: 48.91% de uso de cupones en compras totales.\nPDV 58129: 35.29% de uso de cupones en compras totales.\nPDV 58134: 54.76% de uso de cupones en compras totales.\nPDV 58223: 55.70% de uso de cupones en compras totales.\nPDV 58225: 60.00% de uso de cupones en compras totales.\nPDV 58227: 71.24% de uso de cupones en compras totales.\nPDV 58251: 100.00% de uso de cupones en compras totales.\nPDV 58265: 100.00% de uso de cupones en compras totales.\nPDV 58335: 35.62% de uso de cupones en compras totales.\nPDV 58370: 46.30% de uso de cupones en compras totales.\nPDV 58371: 47.57% de uso de cupones en compras totales.\nPDV 58495: 100.00% de uso de cupones en compras totales.\nPDV 58524: 55.20% de uso de cupones en compras totales.\nPDV 58560: 100.00% de uso de cupones en compras totales.\nPDV 58626: 26.78% de uso de cupones en compras totales.\nPDV 58830: 20.75% de uso de cupones en compras totales.\nPDV 58835: 66.04% de uso de cupones en compras totales.\nPDV 58872: 26.97% de uso de cupones en compras totales.\nPDV 58906: 37.72% de uso de cupones en compras totales.\nPDV 58959: 62.35% de uso de cupones en compras totales.\nPDV 58974: 49.37% de uso de cupones en compras totales.\nPDV 59008: 100.00% de uso de cupones en compras totales.\nPDV 59026: 38.26% de uso de cupones en compras totales.\nPDV 59035: 33.33% de uso de cupones en compras totales.\nPDV 59102: 30.05% de uso de cupones en compras totales.\nPDV 59244: 100.00% de uso de cupones en compras totales.\nPDV 60002: 76.43% de uso de cupones en compras totales.\nPDV 60004: 82.17% de uso de cupones en compras totales.\nPDV 60042: 41.73% de uso de cupones en compras totales.\nPDV 60104: 100.00% de uso de cupones en compras totales.\nPDV 60173: 75.79% de uso de cupones en compras totales.\nPDV 60225: 37.65% de uso de cupones en compras totales.\nPDV 60267: 20.66% de uso de cupones en compras totales.\nPDV 60378: 100.00% de uso de cupones en compras totales.\nPDV 60379: 100.00% de uso de cupones en compras totales.\nPDV 60447: 33.89% de uso de cupones en compras totales.\nPDV 60455: 100.00% de uso de cupones en compras totales.\nPDV 60473: 100.00% de uso de cupones en compras totales.\nPDV 60534: 92.84% de uso de cupones en compras totales.\nPDV 60604: 59.16% de uso de cupones en compras totales.\nPDV 60636: 66.15% de uso de cupones en compras totales.\nPDV 60697: 86.36% de uso de cupones en compras totales.\nPDV 60707: 100.00% de uso de cupones en compras totales.\nPDV 60715: 25.29% de uso de cupones en compras totales.\nPDV 60755: 55.55% de uso de cupones en compras totales.\nPDV 60772: 33.52% de uso de cupones en compras totales.\nPDV 60789: 74.94% de uso de cupones en compras totales.\nPDV 60925: 55.94% de uso de cupones en compras totales.\nPDV 60983: 35.94% de uso de cupones en compras totales.\nPDV 61069: 19.56% de uso de cupones en compras totales.\nPDV 61145: 90.24% de uso de cupones en compras totales.\nPDV 61184: 100.00% de uso de cupones en compras totales.\nPDV 61227: 58.19% de uso de cupones en compras totales.\nPDV 61233: 50.00% de uso de cupones en compras totales.\nPDV 61274: 54.32% de uso de cupones en compras totales.\nPDV 61287: 80.87% de uso de cupones en compras totales.\nPDV 61325: 74.98% de uso de cupones en compras totales.\nPDV 61404: 52.50% de uso de cupones en compras totales.\nPDV 61417: 84.93% de uso de cupones en compras totales.\nPDV 61448: 100.00% de uso de cupones en compras totales.\nPDV 61471: 37.96% de uso de cupones en compras totales.\nPDV 61527: 100.00% de uso de cupones en compras totales.\nPDV 61529: 39.50% de uso de cupones en compras totales.\nPDV 61555: 69.93% de uso de cupones en compras totales.\nPDV 61566: 64.81% de uso de cupones en compras totales.\nPDV 61597: 80.10% de uso de cupones en compras totales.\nPDV 61664: 56.75% de uso de cupones en compras totales.\nPDV 61692: 68.65% de uso de cupones en compras totales.\nPDV 61743: 29.62% de uso de cupones en compras totales.\nPDV 61790: 68.75% de uso de cupones en compras totales.\nPDV 61796: 38.57% de uso de cupones en compras totales.\nPDV 61812: 44.26% de uso de cupones en compras totales.\nPDV 61854: 100.00% de uso de cupones en compras totales.\nPDV 61889: 83.21% de uso de cupones en compras totales.\nPDV 61922: 82.61% de uso de cupones en compras totales.\nPDV 61952: 56.74% de uso de cupones en compras totales.\nPDV 61959: 100.00% de uso de cupones en compras totales.\nPDV 61972: 16.99% de uso de cupones en compras totales.\nPDV 61986: 46.58% de uso de cupones en compras totales.\nPDV 62016: 73.34% de uso de cupones en compras totales.\nPDV 62047: 100.00% de uso de cupones en compras totales.\nPDV 62085: 29.19% de uso de cupones en compras totales.\nPDV 62162: 35.97% de uso de cupones en compras totales.\nPDV 62187: 52.11% de uso de cupones en compras totales.\nPDV 62197: 26.21% de uso de cupones en compras totales.\nPDV 62264: 100.00% de uso de cupones en compras totales.\nPDV 62266: 100.00% de uso de cupones en compras totales.\nPDV 62278: 46.08% de uso de cupones en compras totales.\nPDV 62292: 68.84% de uso de cupones en compras totales.\nPDV 62311: 90.34% de uso de cupones en compras totales.\nPDV 62376: 40.14% de uso de cupones en compras totales.\nPDV 62378: 79.37% de uso de cupones en compras totales.\nPDV 62431: 48.38% de uso de cupones en compras totales.\nPDV 62436: 51.43% de uso de cupones en compras totales.\nPDV 62451: 54.35% de uso de cupones en compras totales.\nPDV 62481: 31.24% de uso de cupones en compras totales.\nPDV 62482: 100.00% de uso de cupones en compras totales.\nPDV 62524: 100.00% de uso de cupones en compras totales.\nPDV 62582: 52.77% de uso de cupones en compras totales.\nPDV 62608: 44.11% de uso de cupones en compras totales.\nPDV 62647: 53.48% de uso de cupones en compras totales.\nPDV 62652: 100.00% de uso de cupones en compras totales.\nPDV 62654: 55.24% de uso de cupones en compras totales.\nPDV 62656: 100.00% de uso de cupones en compras totales.\nPDV 62657: 58.27% de uso de cupones en compras totales.\nPDV 62705: 81.39% de uso de cupones en compras totales.\nPDV 62744: 51.56% de uso de cupones en compras totales.\nPDV 62784: 100.00% de uso de cupones en compras totales.\nPDV 62789: 74.92% de uso de cupones en compras totales.\nPDV 62843: 50.71% de uso de cupones en compras totales.\nPDV 62900: 57.00% de uso de cupones en compras totales.\nPDV 62908: 68.06% de uso de cupones en compras totales.\nPDV 62915: 40.46% de uso de cupones en compras totales.\nPDV 62938: 79.89% de uso de cupones en compras totales.\nPDV 62944: 100.00% de uso de cupones en compras totales.\nPDV 63000: 100.00% de uso\n\n*** WARNING: max output size exceeded, skipping output. ***\n\nes en compras totales.\nPDV CLI0029079: 2.45% de uso de cupones en compras totales.\nPDV CLI0029112: 22.37% de uso de cupones en compras totales.\nPDV CLI0029117: 0.95% de uso de cupones en compras totales.\nPDV CLI0029120: 16.67% de uso de cupones en compras totales.\nPDV CLI0029126: 3.67% de uso de cupones en compras totales.\nPDV CLI0029147: 1.47% de uso de cupones en compras totales.\nPDV CLI0029152: 8.65% de uso de cupones en compras totales.\nPDV CLI0029166: 2.10% de uso de cupones en compras totales.\nPDV CLI0029178: 8.63% de uso de cupones en compras totales.\nPDV CLI0029184: 7.72% de uso de cupones en compras totales.\nPDV CLI0029209: 5.56% de uso de cupones en compras totales.\nPDV CLI0029229: 8.74% de uso de cupones en compras totales.\nPDV CLI0029258: 7.66% de uso de cupones en compras totales.\nPDV CLI0029259: 7.98% de uso de cupones en compras totales.\nPDV CLI0029281: 8.34% de uso de cupones en compras totales.\nPDV CLI0029291: 13.43% de uso de cupones en compras totales.\nPDV CLI0029292: 7.41% de uso de cupones en compras totales.\nPDV CLI0029311: 3.58% de uso de cupones en compras totales.\nPDV CLI0029349: 10.06% de uso de cupones en compras totales.\nPDV CLI0029350: 12.70% de uso de cupones en compras totales.\nPDV CLI0029352: 4.99% de uso de cupones en compras totales.\nPDV CLI0029377: 7.00% de uso de cupones en compras totales.\nPDV CLI0029384: 6.69% de uso de cupones en compras totales.\nPDV CLI0029388: 31.05% de uso de cupones en compras totales.\nPDV CLI0029401: 9.54% de uso de cupones en compras totales.\nPDV CLI0029430: 1.46% de uso de cupones en compras totales.\nPDV CLI0029440: 5.01% de uso de cupones en compras totales.\nPDV CLI0029446: 13.39% de uso de cupones en compras totales.\nPDV CLI0029707: 7.63% de uso de cupones en compras totales.\nPDV CLI0029709: 11.55% de uso de cupones en compras totales.\nPDV CLI0029714: 1.16% de uso de cupones en compras totales.\nPDV CLI0029716: 11.75% de uso de cupones en compras totales.\nPDV CLI0029738: 5.97% de uso de cupones en compras totales.\nPDV CLI0029745: 11.53% de uso de cupones en compras totales.\nPDV CLI0029749: 13.70% de uso de cupones en compras totales.\nPDV CLI0029751: 13.78% de uso de cupones en compras totales.\nPDV CLI0029762: 2.75% de uso de cupones en compras totales.\nPDV CLI0029765: 11.86% de uso de cupones en compras totales.\nPDV CLI0029786: 14.22% de uso de cupones en compras totales.\nPDV CLI0029788: 6.62% de uso de cupones en compras totales.\nPDV CLI0029791: 1.57% de uso de cupones en compras totales.\nPDV CLI0029803: 21.24% de uso de cupones en compras totales.\nPDV CLI0029804: 3.48% de uso de cupones en compras totales.\nPDV CLI0029807: 5.41% de uso de cupones en compras totales.\nPDV CLI0029819: 7.23% de uso de cupones en compras totales.\nPDV CLI0029828: 8.50% de uso de cupones en compras totales.\nPDV CLI0029831: 2.92% de uso de cupones en compras totales.\nPDV CLI0029840: 1.73% de uso de cupones en compras totales.\nPDV CLI0029841: 17.05% de uso de cupones en compras totales.\nPDV CLI0029842: 10.07% de uso de cupones en compras totales.\nPDV CLI0029844: 8.86% de uso de cupones en compras totales.\nPDV CLI0029853: 13.34% de uso de cupones en compras totales.\nPDV CLI0029855: 6.08% de uso de cupones en compras totales.\nPDV CLI0029856: 0.95% de uso de cupones en compras totales.\nPDV CLI0029863: 4.23% de uso de cupones en compras totales.\nPDV CLI0029868: 3.90% de uso de cupones en compras totales.\nPDV CLI0029879: 4.83% de uso de cupones en compras totales.\nPDV CLI0029884: 1.42% de uso de cupones en compras totales.\nPDV CLI0029891: 7.97% de uso de cupones en compras totales.\nPDV CLI0029893: 5.12% de uso de cupones en compras totales.\nPDV CLI0029896: 14.98% de uso de cupones en compras totales.\nPDV CLI0029897: 6.59% de uso de cupones en compras totales.\nPDV CLI0029906: 5.75% de uso de cupones en compras totales.\nPDV CLI0029907: 4.67% de uso de cupones en compras totales.\nPDV CLI0029914: 17.52% de uso de cupones en compras totales.\nPDV CLI0029922: 2.72% de uso de cupones en compras totales.\nPDV CLI0029925: 7.23% de uso de cupones en compras totales.\nPDV CLI0029929: 9.11% de uso de cupones en compras totales.\nPDV CLI0029930: 8.99% de uso de cupones en compras totales.\nPDV CLI0029936: 16.58% de uso de cupones en compras totales.\nPDV CLI0029937: 17.37% de uso de cupones en compras totales.\nPDV CLI0029942: 5.25% de uso de cupones en compras totales.\nPDV CLI0029954: 5.23% de uso de cupones en compras totales.\nPDV CLI0029959: 16.63% de uso de cupones en compras totales.\nPDV CLI0029975: 10.30% de uso de cupones en compras totales.\nPDV CLI0029991: 3.89% de uso de cupones en compras totales.\nPDV CLI0029992: 3.58% de uso de cupones en compras totales.\nPDV CLI0030003: 10.39% de uso de cupones en compras totales.\nPDV CLI0030010: 0.39% de uso de cupones en compras totales.\nPDV CLI0030011: 4.48% de uso de cupones en compras totales.\nPDV CLI0030026: 13.46% de uso de cupones en compras totales.\nPDV CLI0030029: 17.04% de uso de cupones en compras totales.\nPDV CLI0030037: 6.20% de uso de cupones en compras totales.\nPDV CLI0030042: 2.07% de uso de cupones en compras totales.\nPDV CLI0030053: 3.60% de uso de cupones en compras totales.\nPDV CLI0030077: 9.75% de uso de cupones en compras totales.\nPDV CLI0030078: 4.75% de uso de cupones en compras totales.\nPDV CLI0030079: 11.31% de uso de cupones en compras totales.\nPDV CLI0030083: 2.69% de uso de cupones en compras totales.\nPDV CLI0030084: 10.35% de uso de cupones en compras totales.\nPDV CLI0030105: 2.07% de uso de cupones en compras totales.\nPDV CLI0030127: 19.12% de uso de cupones en compras totales.\nPDV CLI0030186: 14.72% de uso de cupones en compras totales.\nPDV CLI0030213: 12.15% de uso de cupones en compras totales.\nPDV CLI0030243: 5.84% de uso de cupones en compras totales.\nPDV CLI0030260: 5.43% de uso de cupones en compras totales.\nPDV CLI0030267: 8.55% de uso de cupones en compras totales.\nPDV CLI0030270: 6.59% de uso de cupones en compras totales.\nPDV CLI0030271: 2.44% de uso de cupones en compras totales.\nPDV CLI0030273: 8.56% de uso de cupones en compras totales.\nPDV CLI0030274: 9.54% de uso de cupones en compras totales.\nPDV CLI0030284: 1.74% de uso de cupones en compras totales.\nPDV CLI0030289: 10.74% de uso de cupones en compras totales.\nPDV CLI0030300: 12.68% de uso de cupones en compras totales.\nPDV CLI0030312: 7.77% de uso de cupones en compras totales.\nPDV CLI0030316: 17.22% de uso de cupones en compras totales.\nPDV CLI0030318: 2.14% de uso de cupones en compras totales.\nPDV CLI0030321: 5.19% de uso de cupones en compras totales.\nPDV CLI0030323: 13.31% de uso de cupones en compras totales.\nPDV CLI0030333: 14.97% de uso de cupones en compras totales.\nPDV CLI0030346: 9.15% de uso de cupones en compras totales.\nPDV CLI0030406: 13.94% de uso de cupones en compras totales.\nPDV CLI0030414: 7.92% de uso de cupones en compras totales.\nPDV CLI0030416: 7.30% de uso de cupones en compras totales.\nPDV CLI0030420: 6.12% de uso de cupones en compras totales.\nPDV CLI0030437: 7.35% de uso de cupones en compras totales.\nPDV CLI0030448: 14.86% de uso de cupones en compras totales.\nPDV CLI0030451: 7.95% de uso de cupones en compras totales.\nPDV CLI0030452: 11.48% de uso de cupones en compras totales.\nPDV CLI0030462: 9.77% de uso de cupones en compras totales.\nPDV CLI0030491: 12.40% de uso de cupones en compras totales.\nPDV CLI0030497: 3.13% de uso de cupones en compras totales.\nPDV CLI0030510: 11.62% de uso de cupones en compras totales.\nPDV CLI0030519: 6.28% de uso de cupones en compras totales.\nPDV CLI0030529: 15.96% de uso de cupones en compras totales.\nPDV CLI0030537: 5.86% de uso de cupones en compras totales.\nPDV CLI0030538: 15.86% de uso de cupones en compras totales.\nPDV CLI0030539: 4.86% de uso de cupones en compras totales.\nPDV CLI0030561: 3.27% de uso de cupones en compras totales.\nPDV CLI0030589: 14.70% de uso de cupones en compras totales.\nPDV CLI0030591: 14.99% de uso de cupones en compras totales.\nPDV CLI0030593: 8.75% de uso de cupones en compras totales.\nPDV CLI0030595: 3.00% de uso de cupones en compras totales.\nPDV CLI0030621: 7.25% de uso de cupones en compras totales.\nPDV CLI0030628: 6.11% de uso de cupones en compras totales.\nPDV CLI0030636: 9.80% de uso de cupones en compras totales.\nPDV CLI0030638: 2.20% de uso de cupones en compras totales.\nPDV CLI0030646: 6.82% de uso de cupones en compras totales.\nPDV CLI0030652: 4.21% de uso de cupones en compras totales.\nPDV CLI0030666: 11.25% de uso de cupones en compras totales.\nPDV CLI0030670: 12.13% de uso de cupones en compras totales.\nPDV CLI0030673: 12.64% de uso de cupones en compras totales.\nPDV CLI0030678: 2.63% de uso de cupones en compras totales.\nPDV CLI0030697: 10.14% de uso de cupones en compras totales.\nPDV CLI0030708: 6.59% de uso de cupones en compras totales.\nPDV CLI0030713: 5.83% de uso de cupones en compras totales.\nPDV CLI0030730: 4.46% de uso de cupones en compras totales.\nPDV CLI0030738: 14.55% de uso de cupones en compras totales.\nPDV CLI0030749: 11.05% de uso de cupones en compras totales.\nPDV CLI0030750: 9.66% de uso de cupones en compras totales.\nPDV CLI0030779: 9.58% de uso de cupones en compras totales.\nPDV CLI0030784: 0.49% de uso de cupones en compras totales.\nPDV CLI0030827: 22.39% de uso de cupones en compras totales.\nPDV CLI0030854: 14.19% de uso de cupones en compras totales.\nPDV CLI0030873: 9.52% de uso de cupones en compras totales.\nPDV CLI0030927: 21.29% de uso de cupones en compras totales.\nPDV CLI0030954: 5.50% de uso de cupones en compras totales.\nPDV CLI0030956: 7.16% de uso de cupones en compras totales.\nPDV CLI0030994: 23.69% de uso de cupones en compras totales.\nPDV CLI0031031: 11.21% de uso de cupones en compras totales.\nPDV CLI0031058: 14.82% de uso de cupones en compras totales.\nPDV CLI0031060: 10.88% de uso de cupones en compras totales.\nPDV CLI0031071: 7.17% de uso de cupones en compras totales.\nPDV CLI0031097: 9.66% de uso de cupones en compras totales.\nPDV CLI0031101: 1.77% de uso de cupones en compras totales.\nPDV CLI0031107: 3.03% de uso de cupones en compras totales.\nPDV CLI0031114: 0.90% de uso de cupones en compras totales.\nPDV CLI0031120: 1.56% de uso de cupones en compras totales.\nPDV CLI0031152: 1.41% de uso de cupones en compras totales.\nPDV CLI0031165: 1.09% de uso de cupones en compras totales.\nPDV CLI0031173: 8.31% de uso de cupones en compras totales.\nPDV CLI0031178: 13.63% de uso de cupones en compras totales.\nPDV CLI0031194: 2.84% de uso de cupones en compras totales.\nPDV CLI0031197: 15.80% de uso de cupones en compras totales.\nPDV CLI0031370: 4.36% de uso de cupones en compras totales.\nPDV CLI0031559: 6.10% de uso de cupones en compras totales.\nPDV CLI0031567: 6.26% de uso de cupones en compras totales.\nPDV CLI0031605: 1.46% de uso de cupones en compras totales.\nPDV CLI0031608: 7.43% de uso de cupones en compras totales.\nPDV CLI0031631: 18.94% de uso de cupones en compras totales.\nPDV CLI0031647: 1.32% de uso de cupones en compras totales.\nPDV CLI0031651: 5.54% de uso de cupones en compras totales.\nPDV CLI0031661: 16.25% de uso de cupones en compras totales.\nPDV CLI0031674: 14.94% de uso de cupones en compras totales.\nPDV CLI0031721: 9.59% de uso de cupones en compras totales.\nPDV CLI0031744: 14.35% de uso de cupones en compras totales.\nPDV CLI0031748: 8.63% de uso de cupones en compras totales.\nPDV CLI0031780: 6.08% de uso de cupones en compras totales.\nPDV CLI0031795: 4.92% de uso de cupones en compras totales.\nPDV CLI0031814: 11.57% de uso de cupones en compras totales.\nPDV CLI0031816: 3.99% de uso de cupones en compras totales.\nPDV CLI0031827: 14.77% de uso de cupones en compras totales.\nPDV CLI0031932: 3.44% de uso de cupones en compras totales.\nPDV CLI0031944: 12.23% de uso de cupones en compras totales.\nPDV CLI0031950: 8.19% de uso de cupones en compras totales.\nPDV CLI0031972: 11.77% de uso de cupones en compras totales.\nPDV CLI0031989: 21.22% de uso de cupones en compras totales.\nPDV CLI0032029: 6.06% de uso de cupones en compras totales.\nPDV CLI0032031: 10.28% de uso de cupones en compras totales.\nPDV CLI0032071: 3.74% de uso de cupones en compras totales.\nPDV CLI0032105: 0.40% de uso de cupones en compras totales.\nPDV CLI0032106: 11.29% de uso de cupones en compras totales.\nPDV CLI0032174: 9.08% de uso de cupones en compras totales.\nPDV CLI0032178: 0.79% de uso de cupones en compras totales.\nPDV CLI0032181: 1.39% de uso de cupones en compras totales.\nPDV CLI0032215: 21.32% de uso de cupones en compras totales.\nPDV CLI0032256: 17.51% de uso de cupones en compras totales.\nPDV CLI0032272: 1.82% de uso de cupones en compras totales.\nPDV CLI0032297: 20.12% de uso de cupones en compras totales.\nPDV CLI0032310: 17.73% de uso de cupones en compras totales.\nPDV CLI0032319: 20.76% de uso de cupones en compras totales.\nPDV CLI0032330: 2.52% de uso de cupones en compras totales.\nPDV CLI0032351: 14.34% de uso de cupones en compras totales.\nPDV CLI0032367: 6.01% de uso de cupones en compras totales.\nPDV CLI0032380: 40.74% de uso de cupones en compras totales.\nPDV CLI0032402: 13.52% de uso de cupones en compras totales.\nPDV CLI0032450: 15.26% de uso de cupones en compras totales.\nPDV CLI0032489: 10.83% de uso de cupones en compras totales.\nPDV CLI0032491: 13.43% de uso de cupones en compras totales.\nPDV CLI0032498: 2.36% de uso de cupones en compras totales.\nPDV CLI0032537: 2.39% de uso de cupones en compras totales.\nPDV CLI0032556: 22.14% de uso de cupones en compras totales.\nPDV CLI0032557: 2.52% de uso de cupones en compras totales.\nPDV CLI0032573: 5.96% de uso de cupones en compras totales.\nPDV CLI0032584: 18.58% de uso de cupones en compras totales.\nPDV CLI0032658: 29.82% de uso de cupones en compras totales.\nPDV CLI0032661: 16.10% de uso de cupones en compras totales.\nPDV CLI0032702: 10.35% de uso de cupones en compras totales.\nPDV CLI0032705: 23.52% de uso de cupones en compras totales.\nPDV CLI0032707: 6.04% de uso de cupones en compras totales.\nPDV CLI0032741: 1.15% de uso de cupones en compras totales.\nPDV CLI0032744: 3.31% de uso de cupones en compras totales.\nPDV CLI0032745: 11.45% de uso de cupones en compras totales.\nPDV CLI0032747: 11.57% de uso de cupones en compras totales.\nPDV CLI0032748: 5.14% de uso de cupones en compras totales.\nPDV CLI0032788: 1.19% de uso de cupones en compras totales.\nPDV CLI0032817: 0.81% de uso de cupones en compras totales.\nPDV CLI0032819: 49.55% de uso de cupones en compras totales.\nPDV CLI0032820: 12.64% de uso de cupones en compras totales.\nPDV CLI0032825: 18.20% de uso de cupones en compras totales.\nPDV CLI0032839: 15.42% de uso de cupones en compras totales.\nPDV CLI0032899: 10.61% de uso de cupones en compras totales.\nPDV CLI0032953: 17.55% de uso de cupones en compras totales.\nPDV CLI0032998: 11.01% de uso de cupones en compras totales.\nPDV CLI0033001: 23.78% de uso de cupones en compras totales.\nPDV CLI0033023: 10.35% de uso de cupones en compras totales.\nPDV CLI0033046: 3.27% de uso de cupones en compras totales.\nPDV CLI0033071: 1.96% de uso de cupones en compras totales.\nPDV CLI0033124: 3.99% de uso de cupones en compras totales.\nPDV CLI0033129: 17.20% de uso de cupones en compras totales.\nPDV CLI0033149: 20.49% de uso de cupones en compras totales.\nPDV CLI0033154: 19.37% de uso de cupones en compras totales.\nPDV CLI0033159: 5.33% de uso de cupones en compras totales.\nPDV CLI0033167: 9.64% de uso de cupones en compras totales.\nPDV CLI0033188: 1.51% de uso de cupones en compras totales.\nPDV CLI0033191: 24.76% de uso de cupones en compras totales.\nPDV CLI0033194: 12.69% de uso de cupones en compras totales.\nPDV CLI0033199: 2.94% de uso de cupones en compras totales.\nPDV CLI0033223: 10.25% de uso de cupones en compras totales.\nPDV CLI0033267: 20.70% de uso de cupones en compras totales.\nPDV CLI0033276: 9.83% de uso de cupones en compras totales.\nPDV CLI0033323: 15.81% de uso de cupones en compras totales.\nPDV CLI0033328: 14.89% de uso de cupones en compras totales.\nPDV CLI0033347: 22.82% de uso de cupones en compras totales.\nPDV CLI0033401: 8.38% de uso de cupones en compras totales.\nPDV CLI0033429: 17.23% de uso de cupones en compras totales.\nPDV CLI0033449: 25.30% de uso de cupones en compras totales.\nPDV CLI0033464: 6.70% de uso de cupones en compras totales.\nPDV CLI0033474: 18.07% de uso de cupones en compras totales.\nPDV CLI0033526: 8.04% de uso de cupones en compras totales.\nPDV CLI0033544: 16.97% de uso de cupones en compras totales.\nPDV CLI0033548: 4.29% de uso de cupones en compras totales.\nPDV CLI0033558: 5.44% de uso de cupones en compras totales.\nPDV CLI0033573: 23.06% de uso de cupones en compras totales.\nPDV CLI0033646: 7.75% de uso de cupones en compras totales.\nPDV CLI0033653: 9.43% de uso de cupones en compras totales.\nPDV CLI0033662: 6.20% de uso de cupones en compras totales.\nPDV CLI0033677: 16.99% de uso de cupones en compras totales.\nPDV CLI0033678: 1.59% de uso de cupones en compras totales.\nPDV CLI0033704: 8.08% de uso de cupones en compras totales.\nPDV CLI0033719: 16.13% de uso de cupones en compras totales.\nPDV CLI0033720: 3.43% de uso de cupones en compras totales.\nPDV CLI0033739: 2.28% de uso de cupones en compras totales.\nPDV CLI0033740: 5.50% de uso de cupones en compras totales.\nPDV CLI0033742: 2.29% de uso de cupones en compras totales.\nPDV CLI0033745: 11.01% de uso de cupones en compras totales.\nPDV CLI0033762: 13.93% de uso de cupones en compras totales.\nPDV CLI0033769: 15.37% de uso de cupones en compras totales.\nPDV CLI0033806: 13.79% de uso de cupones en compras totales.\nPDV CLI0033811: 6.87% de uso de cupones en compras totales.\nPDV CLI0033831: 4.28% de uso de cupones en compras totales.\nPDV CLI0033841: 1.08% de uso de cupones en compras totales.\nPDV CLI0033893: 1.75% de uso de cupones en compras totales.\nPDV CLI0033894: 3.01% de uso de cupones en compras totales.\nPDV CLI0033929: 13.47% de uso de cupones en compras totales.\nPDV CLI0033947: 7.21% de uso de cupones en compras totales.\nPDV CLI0033953: 13.20% de uso de cupones en compras totales.\nPDV CLI0033969: 8.83% de uso de cupones en compras totales.\nPDV CLI0033975: 1.83% de uso de cupones en compras totales.\nPDV CLI0033982: 9.60% de uso de cupones en compras totales.\nPDV CLI0033985: 12.67% de uso de cupones en compras totales.\nPDV CLI0033993: 13.23% de uso de cupones en compras totales.\nPDV CLI0034019: 8.53% de uso de cupones en compras totales.\nPDV CLI0034042: 6.56% de uso de cupones en compras totales.\nPDV CLI0034053: 16.17% de uso de cupones en compras totales.\nPDV CLI0034054: 2.01% de uso de cupones en compras totales.\nPDV CLI0034055: 7.84% de uso de cupones en compras totales.\nPDV CLI0034056: 11.63% de uso de cupones en compras totales.\nPDV CLI0034082: 6.52% de uso de cupones en compras totales.\nPDV CLI0034090: 0.90% de uso de cupones en compras totales.\nPDV CLI0034095: 3.41% de uso de cupones en compras totales.\nPDV CLI0034099: 10.80% de uso de cupones en compras totales.\nPDV CLI0034106: 7.40% de uso de cupones en compras totales.\nPDV CLI0034110: 14.18% de uso de cupones en compras totales.\nPDV CLI0034123: 16.82% de uso de cupones en compras totales.\nPDV CLI0034126: 1.81% de uso de cupones en compras totales.\nPDV CLI0034153: 1.55% de uso de cupones en compras totales.\nPDV CLI0034184: 16.65% de uso de cupones en compras totales.\nPDV CLI0034185: 25.95% de uso de cupones en compras totales.\nPDV CLI0034190: 5.96% de uso de cupones en compras totales.\nPDV CLI0034201: 9.14% de uso de cupones en compras totales.\nPDV CLI0034240: 11.35% de uso de cupones en compras totales.\nPDV CLI0034245: 10.79% de uso de cupones en compras totales.\nPDV CLI0034246: 16.02% de uso de cupones en compras totales.\nPDV CLI0034250: 3.64% de uso de cupones en compras totales.\nPDV CLI0034301: 2.17% de uso de cupones en compras totales.\nPDV CLI0034313: 9.49% de uso de cupones en compras totales.\nPDV CLI0034336: 17.36% de uso de cupones en compras totales.\nPDV CLI0034346: 20.08% de uso de cupones en compras totales.\nPDV CLI0034356: 14.00% de uso de cupones en compras totales.\nPDV CLI0034359: 5.21% de uso de cupones en compras totales.\nPDV CLI0034378: 1.78% de uso de cupones en compras totales.\nPDV CLI0034385: 2.83% de uso de cupones en compras totales.\nPDV CLI0034387: 9.84% de uso de cupones en compras totales.\nPDV CLI0034449: 2.11% de uso de cupones en compras totales.\nPDV CLI0034477: 7.82% de uso de cupones en compras totales.\nPDV CLI0034480: 3.31% de uso de cupones en compras totales.\nPDV CLI0034517: 7.59% de uso de cupones en compras totales.\nPDV CLI0034529: 16.30% de uso de cupones en compras totales.\nPDV CLI0034582: 4.05% de uso de cupones en compras totales.\nPDV CLI0034600: 0.16% de uso de cupones en compras totales.\nPDV CLI0034684: 3.51% de uso de cupones en compras totales.\nPDV CLI0034713: 24.90% de uso de cupones en compras totales.\nPDV CLI0034822: 10.32% de uso de cupones en compras totales.\nPDV CLI0034824: 3.86% de uso de cupones en compras totales.\nPDV CLI0034839: 11.73% de uso de cupones en compras totales.\nPDV CLI0034842: 10.16% de uso de cupones en compras totales.\nPDV CLI0034854: 4.22% de uso de cupones en compras totales.\nPDV CLI0034855: 5.90% de uso de cupones en compras totales.\nPDV CLI0043036: 16.20% de uso de cupones en compras totales.\nPDV CLI0043046: 2.10% de uso de cupones en compras totales.\nPDV CLI0043049: 45.53% de uso de cupones en compras totales.\nPDV CLI0043050: 21.15% de uso de cupones en compras totales.\nPDV CLI0043051: 52.68% de uso de cupones en compras totales.\nPDV CLI0043076: 5.24% de uso de cupones en compras totales.\nPDV CLI0043098: 5.39% de uso de cupones en compras totales.\nPDV CLI0043105: 26.67% de uso de cupones en compras totales.\nPDV CLI0043116: 41.66% de uso de cupones en compras totales.\nPDV CLI0043127: 62.71% de uso de cupones en compras totales.\nPDV CLI0043139: 22.90% de uso de cupones en compras totales.\nPDV CLI0043144: 7.22% de uso de cupones en compras totales.\nPDV CLI0043150: 1.56% de uso de cupones en compras totales.\nPDV CLI0043157: 45.49% de uso de cupones en compras totales.\nPDV CLI0043167: 20.78% de uso de cupones en compras totales.\nPDV CLI0043171: 50.99% de uso de cupones en compras totales.\nPDV CLI0043198: 25.34% de uso de cupones en compras totales.\nPDV CLI0043225: 20.37% de uso de cupones en compras totales.\nPDV CLI0043228: 80.59% de uso de cupones en compras totales.\nPDV CLI0043256: 4.59% de uso de cupones en compras totales.\nPDV CLI0043273: 32.29% de uso de cupones en compras totales.\nPDV CLI0043274: 45.03% de uso de cupones en compras totales.\nPDV CLI0043282: 38.65% de uso de cupones en compras totales.\nPDV CLI0043292: 16.42% de uso de cupones en compras totales.\nPDV CLI0043317: 30.30% de uso de cupones en compras totales.\nPDV CLI0043319: 51.45% de uso de cupones en compras totales.\nPDV CLI0043370: 88.09% de uso de cupones en compras totales.\nPDV CLI0043401: 18.76% de uso de cupones en compras totales.\nPDV CLI0043402: 8.67% de uso de cupones en compras totales.\nPDV CLI0043416: 40.53% de uso de cupones en compras totales.\nPDV CLI0043451: 26.01% de uso de cupones en compras totales.\nPDV CLI0043486: 88.50% de uso de cupones en compras totales.\nPDV CLI0043504: 16.92% de uso de cupones en compras totales.\nPDV CLI0043509: 17.92% de uso de cupones en compras totales.\nPDV CLI0043511: 37.15% de uso de cupones en compras totales.\nPDV CLI0043521: 40.14% de uso de cupones en compras totales.\nPDV CLI0043531: 18.70% de uso de cupones en compras totales.\nPDV CLI0043596: 23.06% de uso de cupones en compras totales.\nPDV CLI0043857: 30.98% de uso de cupones en compras totales.\nPDV CLI0048727: 32.93% de uso de cupones en compras totales.\nPDV CLI0048732: 24.61% de uso de cupones en compras totales.\nPDV CLI0048737: 4.96% de uso de cupones en compras totales.\nPDV CLI0048750: 7.51% de uso de cupones en compras totales.\nPDV CLI0048792: 22.09% de uso de cupones en compras totales.\nPDV CLI0048821: 15.78% de uso de cupones en compras totales.\nPDV CLI0048877: 18.71% de uso de cupones en compras totales.\nPDV CLI0048899: 23.54% de uso de cupones en compras totales.\nPDV CLI0048921: 16.11% de uso de cupones en compras totales.\nPDV CLI0048928: 6.62% de uso de cupones en compras totales.\nPDV CLI0048957: 6.43% de uso de cupones en compras totales.\nPDV CLI0048962: 16.16% de uso de cupones en compras totales.\nPDV CLI0049509: 10.25% de uso de cupones en compras totales.\nPDV CLI0049510: 18.43% de uso de cupones en compras totales.\nPDV CLI0049511: 38.57% de uso de cupones en compras totales.\nPDV CLI0049533: 26.86% de uso de cupones en compras totales.\nPDV CLI0049557: 18.98% de uso de cupones en compras totales.\nPDV CLI0049566: 23.08% de uso de cupones en compras totales.\nPDV CLI0049568: 22.09% de uso de cupones en compras totales.\nPDV CLI0049570: 15.88% de uso de cupones en compras totales.\nPDV CLI0049574: 10.20% de uso de cupones en compras totales.\nPDV CLI0049599: 27.06% de uso de cupones en compras totales.\nPDV CLI0049602: 22.23% de uso de cupones en compras totales.\nPDV CLI0049605: 43.05% de uso de cupones en compras totales.\nPDV cli0030230: 100.00% de uso de cupones en compras totales.\n"
     ]
    }
   ],
   "source": [
    "# Mostrar resultados\n",
    "for pdv_id, porcentaje in pctg_coupon_used.items():\n",
    "    print(f\"PDV {pdv_id}: {porcentaje:.2f}% de uso de cupones en compras totales.\")\n"
   ]
  },
  {
   "cell_type": "markdown",
   "metadata": {
    "application/vnd.databricks.v1+cell": {
     "cellMetadata": {
      "byteLimit": 2048000,
      "rowLimit": 10000
     },
     "inputWidgets": {},
     "nuid": "22f44daa-1c35-49d5-82ed-64a227a326a9",
     "showTitle": false,
     "title": ""
    }
   },
   "source": [
    "PDVs con % de uso de cupones >60\n"
   ]
  },
  {
   "cell_type": "code",
   "execution_count": 0,
   "metadata": {
    "application/vnd.databricks.v1+cell": {
     "cellMetadata": {
      "byteLimit": 2048000,
      "rowLimit": 10000
     },
     "inputWidgets": {},
     "nuid": "7a7bdea3-e200-40a6-9457-5f95d6225ace",
     "showTitle": false,
     "title": ""
    }
   },
   "outputs": [],
   "source": [
    "contador = 0\n",
    "\n",
    "# Iterar sobre el diccionario\n",
    "for pdv_id, porcentaje in pctg_coupon_used.items():\n",
    "    if porcentaje > 60.0:\n",
    "        contador += 1\n",
    "        # print(f\"PDV {pdv_id}: {porcentaje:.2f}% de uso de cupones en compras totales.\")\n"
   ]
  },
  {
   "cell_type": "code",
   "execution_count": 0,
   "metadata": {
    "application/vnd.databricks.v1+cell": {
     "cellMetadata": {
      "byteLimit": 2048000,
      "rowLimit": 10000
     },
     "inputWidgets": {},
     "nuid": "a7c3cb11-f883-4289-a48d-677e2afdde50",
     "showTitle": false,
     "title": ""
    }
   },
   "outputs": [
    {
     "output_type": "execute_result",
     "data": {
      "text/plain": [
       "17.35159817351598"
      ]
     },
     "execution_count": 124,
     "metadata": {},
     "output_type": "execute_result"
    }
   ],
   "source": [
    "#Porcentaje de pdvs sobre total \n",
    "(contador/order_detail_sorted['PointOfSaleId'].nunique())*100"
   ]
  },
  {
   "cell_type": "markdown",
   "metadata": {
    "application/vnd.databricks.v1+cell": {
     "cellMetadata": {
      "byteLimit": 2048000,
      "rowLimit": 10000
     },
     "inputWidgets": {},
     "nuid": "09996864-b39c-4a46-990d-d5473e916d8f",
     "showTitle": false,
     "title": ""
    }
   },
   "source": [
    "###Análisis cupones"
   ]
  },
  {
   "cell_type": "markdown",
   "metadata": {
    "application/vnd.databricks.v1+cell": {
     "cellMetadata": {
      "byteLimit": 2048000,
      "rowLimit": 10000
     },
     "inputWidgets": {},
     "nuid": "9003bdc5-4ab1-4d22-8abe-9e07ebda634e",
     "showTitle": false,
     "title": ""
    }
   },
   "source": [
    "Cupon máximo"
   ]
  },
  {
   "cell_type": "code",
   "execution_count": 0,
   "metadata": {
    "application/vnd.databricks.v1+cell": {
     "cellMetadata": {
      "byteLimit": 2048000,
      "rowLimit": 10000
     },
     "inputWidgets": {},
     "nuid": "6ef06aca-7c20-40df-a32c-87403f4c5507",
     "showTitle": false,
     "title": ""
    }
   },
   "outputs": [
    {
     "output_type": "execute_result",
     "data": {
      "text/html": [
       "<div>\n",
       "<style scoped>\n",
       "    .dataframe tbody tr th:only-of-type {\n",
       "        vertical-align: middle;\n",
       "    }\n",
       "\n",
       "    .dataframe tbody tr th {\n",
       "        vertical-align: top;\n",
       "    }\n",
       "\n",
       "    .dataframe thead th {\n",
       "        text-align: right;\n",
       "    }\n",
       "</style>\n",
       "<table border=\"1\" class=\"dataframe\">\n",
       "  <thead>\n",
       "    <tr style=\"text-align: right;\">\n",
       "      <th></th>\n",
       "      <th>OrderId</th>\n",
       "      <th>DistributorID</th>\n",
       "      <th>OrderDate</th>\n",
       "      <th>CodeProduct</th>\n",
       "      <th>TotalPrice</th>\n",
       "      <th>Amount</th>\n",
       "      <th>CouponId</th>\n",
       "      <th>Name</th>\n",
       "      <th>NameDistributor</th>\n",
       "      <th>PointOfSaleId</th>\n",
       "      <th>CouponDiscountAmt</th>\n",
       "      <th>CouponDiscountPct</th>\n",
       "      <th>CouponMax</th>\n",
       "      <th>CouponDescription</th>\n",
       "      <th>tipologia</th>\n",
       "      <th>Coupon_LAG_1</th>\n",
       "      <th>Coupon_LAG_2</th>\n",
       "      <th>Coupon_LAG_3</th>\n",
       "      <th>acumulado</th>\n",
       "      <th>conteo</th>\n",
       "      <th>Coupon_type</th>\n",
       "    </tr>\n",
       "  </thead>\n",
       "  <tbody>\n",
       "    <tr>\n",
       "      <th>90116</th>\n",
       "      <td>BC73C8EA3D04DB3E8D64E8DE1215E07A</td>\n",
       "      <td>9CC0BCF9-4378-40A7-B258-A01FBDD9A7E2</td>\n",
       "      <td>2023-01-02 00:00:00</td>\n",
       "      <td>[PRD0005422, PRD0000618, PRD0005442, PRD000543...</td>\n",
       "      <td>417.47</td>\n",
       "      <td>10</td>\n",
       "      <td>&lt;NA&gt;</td>\n",
       "      <td>BAR BARROJA</td>\n",
       "      <td>Voldis Madrid BC</td>\n",
       "      <td>CLI0034477</td>\n",
       "      <td>0</td>\n",
       "      <td>0</td>\n",
       "      <td></td>\n",
       "      <td>NoCupon</td>\n",
       "      <td>Establecimiento de Tapeo</td>\n",
       "      <td>0</td>\n",
       "      <td>0</td>\n",
       "      <td>0</td>\n",
       "      <td>0.0</td>\n",
       "      <td>1.0</td>\n",
       "      <td>NoCupon</td>\n",
       "    </tr>\n",
       "    <tr>\n",
       "      <th>92152</th>\n",
       "      <td>BC73C8EA3D04DB3EA7FD7F8A555F7FAE</td>\n",
       "      <td>9CC0BCF9-4378-40A7-B258-A01FBDD9A7E2</td>\n",
       "      <td>2023-01-02 00:00:00</td>\n",
       "      <td>[PRD0002741, PRD0002730]</td>\n",
       "      <td>-9.28</td>\n",
       "      <td>-58</td>\n",
       "      <td>&lt;NA&gt;</td>\n",
       "      <td>BAR BARROJA</td>\n",
       "      <td>Voldis Madrid BC</td>\n",
       "      <td>CLI0034477</td>\n",
       "      <td>0</td>\n",
       "      <td>0</td>\n",
       "      <td></td>\n",
       "      <td>NoCupon</td>\n",
       "      <td>Establecimiento de Tapeo</td>\n",
       "      <td>0</td>\n",
       "      <td>0</td>\n",
       "      <td>0</td>\n",
       "      <td>0.0</td>\n",
       "      <td>2.0</td>\n",
       "      <td>NoCupon</td>\n",
       "    </tr>\n",
       "    <tr>\n",
       "      <th>92622</th>\n",
       "      <td>BC73C8EA3D04DB3EAEE7786C487E021B</td>\n",
       "      <td>9CC0BCF9-4378-40A7-B258-A01FBDD9A7E2</td>\n",
       "      <td>2023-01-12 00:00:00</td>\n",
       "      <td>[PRD0005422, PRD0000457, PRD0005445, PRD000234...</td>\n",
       "      <td>739.66</td>\n",
       "      <td>19</td>\n",
       "      <td>&lt;NA&gt;</td>\n",
       "      <td>BAR BARROJA</td>\n",
       "      <td>Voldis Madrid BC</td>\n",
       "      <td>CLI0034477</td>\n",
       "      <td>0</td>\n",
       "      <td>0</td>\n",
       "      <td></td>\n",
       "      <td>NoCupon</td>\n",
       "      <td>Establecimiento de Tapeo</td>\n",
       "      <td>0</td>\n",
       "      <td>0</td>\n",
       "      <td>0</td>\n",
       "      <td>0.0</td>\n",
       "      <td>3.0</td>\n",
       "      <td>NoCupon</td>\n",
       "    </tr>\n",
       "    <tr>\n",
       "      <th>91042</th>\n",
       "      <td>BC73C8EA3D04DB3E99AEAD5A81FB8413</td>\n",
       "      <td>9CC0BCF9-4378-40A7-B258-A01FBDD9A7E2</td>\n",
       "      <td>2023-01-16 00:00:00</td>\n",
       "      <td>[PRD0004350, PRD0005442, PRD0005431, PRD000061...</td>\n",
       "      <td>535.29</td>\n",
       "      <td>14</td>\n",
       "      <td>&lt;NA&gt;</td>\n",
       "      <td>BAR BARROJA</td>\n",
       "      <td>Voldis Madrid BC</td>\n",
       "      <td>CLI0034477</td>\n",
       "      <td>0</td>\n",
       "      <td>0</td>\n",
       "      <td></td>\n",
       "      <td>NoCupon</td>\n",
       "      <td>Establecimiento de Tapeo</td>\n",
       "      <td>0</td>\n",
       "      <td>0</td>\n",
       "      <td>0</td>\n",
       "      <td>0.0</td>\n",
       "      <td>4.0</td>\n",
       "      <td>NoCupon</td>\n",
       "    </tr>\n",
       "    <tr>\n",
       "      <th>83964</th>\n",
       "      <td>BC73C8EA3D04DB3E3915E61E1E0619D7</td>\n",
       "      <td>9CC0BCF9-4378-40A7-B258-A01FBDD9A7E2</td>\n",
       "      <td>2023-01-16 00:00:00</td>\n",
       "      <td>[PRD0002342]</td>\n",
       "      <td>-30.00</td>\n",
       "      <td>-1</td>\n",
       "      <td>&lt;NA&gt;</td>\n",
       "      <td>BAR BARROJA</td>\n",
       "      <td>Voldis Madrid BC</td>\n",
       "      <td>CLI0034477</td>\n",
       "      <td>0</td>\n",
       "      <td>0</td>\n",
       "      <td></td>\n",
       "      <td>NoCupon</td>\n",
       "      <td>Establecimiento de Tapeo</td>\n",
       "      <td>0</td>\n",
       "      <td>0</td>\n",
       "      <td>0</td>\n",
       "      <td>0.0</td>\n",
       "      <td>5.0</td>\n",
       "      <td>NoCupon</td>\n",
       "    </tr>\n",
       "    <tr>\n",
       "      <th>...</th>\n",
       "      <td>...</td>\n",
       "      <td>...</td>\n",
       "      <td>...</td>\n",
       "      <td>...</td>\n",
       "      <td>...</td>\n",
       "      <td>...</td>\n",
       "      <td>...</td>\n",
       "      <td>...</td>\n",
       "      <td>...</td>\n",
       "      <td>...</td>\n",
       "      <td>...</td>\n",
       "      <td>...</td>\n",
       "      <td>...</td>\n",
       "      <td>...</td>\n",
       "      <td>...</td>\n",
       "      <td>...</td>\n",
       "      <td>...</td>\n",
       "      <td>...</td>\n",
       "      <td>...</td>\n",
       "      <td>...</td>\n",
       "      <td>...</td>\n",
       "    </tr>\n",
       "    <tr>\n",
       "      <th>116791</th>\n",
       "      <td>E68E05129C75CC76DEF80C04F8E29B28</td>\n",
       "      <td>9CC0BCF9-4378-40A7-B258-A01FBDD9A7E2</td>\n",
       "      <td>2024-06-27 00:00:00</td>\n",
       "      <td>[PRD0007246, PRD0007091]</td>\n",
       "      <td>0.00</td>\n",
       "      <td>12</td>\n",
       "      <td>&lt;NA&gt;</td>\n",
       "      <td>BAR BARROJA</td>\n",
       "      <td>Voldis Madrid BC</td>\n",
       "      <td>CLI0034477</td>\n",
       "      <td>0</td>\n",
       "      <td>0</td>\n",
       "      <td></td>\n",
       "      <td>NoCupon</td>\n",
       "      <td>Establecimiento de Tapeo</td>\n",
       "      <td>0</td>\n",
       "      <td>0</td>\n",
       "      <td>50</td>\n",
       "      <td>840.0</td>\n",
       "      <td>280.0</td>\n",
       "      <td>NoCupon</td>\n",
       "    </tr>\n",
       "    <tr>\n",
       "      <th>115219</th>\n",
       "      <td>E68E05129C75CC76B52F99B4CAB366DF</td>\n",
       "      <td>9CC0BCF9-4378-40A7-B258-A01FBDD9A7E2</td>\n",
       "      <td>2024-06-27 00:00:00</td>\n",
       "      <td>[PRD0005468, PRD0005422, PRD0005432, PRD000467...</td>\n",
       "      <td>1678.63</td>\n",
       "      <td>29</td>\n",
       "      <td>&lt;NA&gt;</td>\n",
       "      <td>BAR BARROJA</td>\n",
       "      <td>Voldis Madrid BC</td>\n",
       "      <td>CLI0034477</td>\n",
       "      <td>0</td>\n",
       "      <td>0</td>\n",
       "      <td>0</td>\n",
       "      <td>NoCupon</td>\n",
       "      <td>Establecimiento de Tapeo</td>\n",
       "      <td>0</td>\n",
       "      <td>0</td>\n",
       "      <td>0</td>\n",
       "      <td>840.0</td>\n",
       "      <td>281.0</td>\n",
       "      <td>NoCupon</td>\n",
       "    </tr>\n",
       "    <tr>\n",
       "      <th>69324</th>\n",
       "      <td>A4076F9F1695635659724855608220E433703CEF35DAABBE</td>\n",
       "      <td>9CC0BCF9-4378-40A7-B258-A01FBDD9A7E2</td>\n",
       "      <td>2024-06-27 12:42:15</td>\n",
       "      <td>[PRD0010014, PRD0005468, PRD0005432, PRD000538...</td>\n",
       "      <td>1025.63</td>\n",
       "      <td>29</td>\n",
       "      <td>&lt;NA&gt;</td>\n",
       "      <td>BAR BARROJA</td>\n",
       "      <td>Voldis Madrid BC</td>\n",
       "      <td>CLI0034477</td>\n",
       "      <td>0</td>\n",
       "      <td>0</td>\n",
       "      <td>0</td>\n",
       "      <td>NoCupon</td>\n",
       "      <td>Establecimiento de Tapeo</td>\n",
       "      <td>0</td>\n",
       "      <td>0</td>\n",
       "      <td>0</td>\n",
       "      <td>840.0</td>\n",
       "      <td>282.0</td>\n",
       "      <td>NoCupon</td>\n",
       "    </tr>\n",
       "    <tr>\n",
       "      <th>117543</th>\n",
       "      <td>E68E05129C75CC76F2635D05827F6208</td>\n",
       "      <td>9CC0BCF9-4378-40A7-B258-A01FBDD9A7E2</td>\n",
       "      <td>2024-07-01 00:00:00</td>\n",
       "      <td>[PRD0005422, PRD0004673, PRD0004347, PRD000062...</td>\n",
       "      <td>1530.43</td>\n",
       "      <td>41</td>\n",
       "      <td>&lt;NA&gt;</td>\n",
       "      <td>BAR BARROJA</td>\n",
       "      <td>Voldis Madrid BC</td>\n",
       "      <td>CLI0034477</td>\n",
       "      <td>0</td>\n",
       "      <td>0</td>\n",
       "      <td></td>\n",
       "      <td>NoCupon</td>\n",
       "      <td>Establecimiento de Tapeo</td>\n",
       "      <td>0</td>\n",
       "      <td>0</td>\n",
       "      <td>0</td>\n",
       "      <td>840.0</td>\n",
       "      <td>283.0</td>\n",
       "      <td>NoCupon</td>\n",
       "    </tr>\n",
       "    <tr>\n",
       "      <th>70345</th>\n",
       "      <td>A4076F9F169563569CE926FF1C82DA6BA27EB2C65EB1F5...</td>\n",
       "      <td>9CC0BCF9-4378-40A7-B258-A01FBDD9A7E2</td>\n",
       "      <td>2024-07-01 13:59:43</td>\n",
       "      <td>[PRD0004361, PRD0004347, PRD0005442, PRD001176...</td>\n",
       "      <td>1009.29</td>\n",
       "      <td>41</td>\n",
       "      <td>&lt;NA&gt;</td>\n",
       "      <td>BAR BARROJA</td>\n",
       "      <td>Voldis Madrid BC</td>\n",
       "      <td>CLI0034477</td>\n",
       "      <td>0</td>\n",
       "      <td>0</td>\n",
       "      <td>0</td>\n",
       "      <td>NoCupon</td>\n",
       "      <td>Establecimiento de Tapeo</td>\n",
       "      <td>0</td>\n",
       "      <td>0</td>\n",
       "      <td>0</td>\n",
       "      <td>840.0</td>\n",
       "      <td>284.0</td>\n",
       "      <td>NoCupon</td>\n",
       "    </tr>\n",
       "  </tbody>\n",
       "</table>\n",
       "<p>284 rows × 21 columns</p>\n",
       "</div>"
      ],
      "text/plain": [
       "                                                  OrderId  ... Coupon_type\n",
       "90116                    BC73C8EA3D04DB3E8D64E8DE1215E07A  ...     NoCupon\n",
       "92152                    BC73C8EA3D04DB3EA7FD7F8A555F7FAE  ...     NoCupon\n",
       "92622                    BC73C8EA3D04DB3EAEE7786C487E021B  ...     NoCupon\n",
       "91042                    BC73C8EA3D04DB3E99AEAD5A81FB8413  ...     NoCupon\n",
       "83964                    BC73C8EA3D04DB3E3915E61E1E0619D7  ...     NoCupon\n",
       "...                                                   ...  ...         ...\n",
       "116791                   E68E05129C75CC76DEF80C04F8E29B28  ...     NoCupon\n",
       "115219                   E68E05129C75CC76B52F99B4CAB366DF  ...     NoCupon\n",
       "69324    A4076F9F1695635659724855608220E433703CEF35DAABBE  ...     NoCupon\n",
       "117543                   E68E05129C75CC76F2635D05827F6208  ...     NoCupon\n",
       "70345   A4076F9F169563569CE926FF1C82DA6BA27EB2C65EB1F5...  ...     NoCupon\n",
       "\n",
       "[284 rows x 21 columns]"
      ]
     },
     "execution_count": 125,
     "metadata": {},
     "output_type": "execute_result"
    }
   ],
   "source": [
    "order_detail_sorted[order_detail_sorted['Name']=='BAR BARROJA']"
   ]
  },
  {
   "cell_type": "markdown",
   "metadata": {
    "application/vnd.databricks.v1+cell": {
     "cellMetadata": {
      "byteLimit": 2048000,
      "rowLimit": 10000
     },
     "inputWidgets": {},
     "nuid": "4d6335f6-857b-4ebc-b830-09fa7e62ac00",
     "showTitle": false,
     "title": ""
    }
   },
   "source": [
    "####  KPIS :\n",
    "  * Sellout\n",
    "  * Número de productos comprados"
   ]
  },
  {
   "cell_type": "markdown",
   "metadata": {
    "application/vnd.databricks.v1+cell": {
     "cellMetadata": {
      "byteLimit": 2048000,
      "rowLimit": 10000
     },
     "inputWidgets": {},
     "nuid": "d4a45d4a-3840-41f7-ab82-5030a6894eec",
     "showTitle": false,
     "title": ""
    }
   },
   "source": [
    "Visión General"
   ]
  },
  {
   "cell_type": "code",
   "execution_count": 0,
   "metadata": {
    "application/vnd.databricks.v1+cell": {
     "cellMetadata": {
      "byteLimit": 2048000,
      "rowLimit": 10000
     },
     "inputWidgets": {},
     "nuid": "b286d92c-d1bb-4ddd-9b78-6778acc36417",
     "showTitle": false,
     "title": ""
    }
   },
   "outputs": [],
   "source": [
    "order_detail_sorted['CouponDiscountAmt'] = pd.to_numeric(order_detail_sorted['CouponDiscountAmt'], errors='coerce').fillna(0)\n",
    "kpis_por_pdv_promo = order_detail_sorted.groupby(['PointOfSaleId', 'CouponId']).agg(\n",
    "    impacto_promociones=pd.NamedAgg(column='CouponDiscountAmt', aggfunc='sum'), #impacto monetario por cupones aplicados por PDV y promo\n",
    "    total_productos_comprados=pd.NamedAgg(column='Amount', aggfunc='sum') # total de la cantidad de productos comprados por cada PDV\n",
    ").reset_index()"
   ]
  },
  {
   "cell_type": "code",
   "execution_count": 0,
   "metadata": {
    "application/vnd.databricks.v1+cell": {
     "cellMetadata": {
      "byteLimit": 2048000,
      "rowLimit": 10000
     },
     "inputWidgets": {},
     "nuid": "7a0d589d-e45a-466b-a326-a62731f5d104",
     "showTitle": false,
     "title": ""
    }
   },
   "outputs": [
    {
     "output_type": "execute_result",
     "data": {
      "text/html": [
       "<div>\n",
       "<style scoped>\n",
       "    .dataframe tbody tr th:only-of-type {\n",
       "        vertical-align: middle;\n",
       "    }\n",
       "\n",
       "    .dataframe tbody tr th {\n",
       "        vertical-align: top;\n",
       "    }\n",
       "\n",
       "    .dataframe thead th {\n",
       "        text-align: right;\n",
       "    }\n",
       "</style>\n",
       "<table border=\"1\" class=\"dataframe\">\n",
       "  <thead>\n",
       "    <tr style=\"text-align: right;\">\n",
       "      <th></th>\n",
       "      <th>PointOfSaleId</th>\n",
       "      <th>CouponId</th>\n",
       "      <th>impacto_promociones</th>\n",
       "      <th>total_productos_comprados</th>\n",
       "    </tr>\n",
       "  </thead>\n",
       "  <tbody>\n",
       "    <tr>\n",
       "      <th>3573</th>\n",
       "      <td>CLI0043317</td>\n",
       "      <td>RB-0000000044B</td>\n",
       "      <td>400.00</td>\n",
       "      <td>71</td>\n",
       "    </tr>\n",
       "    <tr>\n",
       "      <th>109</th>\n",
       "      <td>06619</td>\n",
       "      <td>RB-0000000001</td>\n",
       "      <td>352.85</td>\n",
       "      <td>60</td>\n",
       "    </tr>\n",
       "    <tr>\n",
       "      <th>1826</th>\n",
       "      <td>CLI0026765</td>\n",
       "      <td>RB-0000000044B</td>\n",
       "      <td>305.20</td>\n",
       "      <td>88</td>\n",
       "    </tr>\n",
       "    <tr>\n",
       "      <th>2589</th>\n",
       "      <td>CLI0029844</td>\n",
       "      <td>RB-0000000047</td>\n",
       "      <td>300.00</td>\n",
       "      <td>76</td>\n",
       "    </tr>\n",
       "    <tr>\n",
       "      <th>2249</th>\n",
       "      <td>CLI0028111</td>\n",
       "      <td>RB-0000000047</td>\n",
       "      <td>296.64</td>\n",
       "      <td>313</td>\n",
       "    </tr>\n",
       "    <tr>\n",
       "      <th>...</th>\n",
       "      <td>...</td>\n",
       "      <td>...</td>\n",
       "      <td>...</td>\n",
       "      <td>...</td>\n",
       "    </tr>\n",
       "    <tr>\n",
       "      <th>1117</th>\n",
       "      <td>68510</td>\n",
       "      <td>RB-0000000047</td>\n",
       "      <td>1.87</td>\n",
       "      <td>2</td>\n",
       "    </tr>\n",
       "    <tr>\n",
       "      <th>1021</th>\n",
       "      <td>67808</td>\n",
       "      <td>RB-0000000046</td>\n",
       "      <td>1.82</td>\n",
       "      <td>1</td>\n",
       "    </tr>\n",
       "    <tr>\n",
       "      <th>383</th>\n",
       "      <td>50946</td>\n",
       "      <td>RB-0000000046</td>\n",
       "      <td>1.81</td>\n",
       "      <td>1</td>\n",
       "    </tr>\n",
       "    <tr>\n",
       "      <th>336</th>\n",
       "      <td>4472</td>\n",
       "      <td>RB-0000000047</td>\n",
       "      <td>1.20</td>\n",
       "      <td>1</td>\n",
       "    </tr>\n",
       "    <tr>\n",
       "      <th>959</th>\n",
       "      <td>67104</td>\n",
       "      <td>RB-0000000047</td>\n",
       "      <td>1.20</td>\n",
       "      <td>1</td>\n",
       "    </tr>\n",
       "  </tbody>\n",
       "</table>\n",
       "<p>3678 rows × 4 columns</p>\n",
       "</div>"
      ],
      "text/plain": [
       "     PointOfSaleId  ... total_productos_comprados\n",
       "3573    CLI0043317  ...                        71\n",
       "109          06619  ...                        60\n",
       "1826    CLI0026765  ...                        88\n",
       "2589    CLI0029844  ...                        76\n",
       "2249    CLI0028111  ...                       313\n",
       "...            ...  ...                       ...\n",
       "1117         68510  ...                         2\n",
       "1021         67808  ...                         1\n",
       "383          50946  ...                         1\n",
       "336           4472  ...                         1\n",
       "959          67104  ...                         1\n",
       "\n",
       "[3678 rows x 4 columns]"
      ]
     },
     "execution_count": 127,
     "metadata": {},
     "output_type": "execute_result"
    }
   ],
   "source": [
    "kpis_por_pdv_promo.sort_values('impacto_promociones',ascending=False)"
   ]
  },
  {
   "cell_type": "markdown",
   "metadata": {
    "application/vnd.databricks.v1+cell": {
     "cellMetadata": {
      "byteLimit": 2048000,
      "rowLimit": 10000
     },
     "inputWidgets": {},
     "nuid": "82f88361-8274-46c5-addc-8e9d4456f9c0",
     "showTitle": false,
     "title": ""
    }
   },
   "source": [
    "#### Distribución de pedidos por pdv"
   ]
  },
  {
   "cell_type": "code",
   "execution_count": 0,
   "metadata": {
    "application/vnd.databricks.v1+cell": {
     "cellMetadata": {
      "byteLimit": 2048000,
      "rowLimit": 10000
     },
     "inputWidgets": {},
     "nuid": "a4287028-100f-40c1-b163-9d93699f5f64",
     "showTitle": false,
     "title": ""
    }
   },
   "outputs": [],
   "source": [
    "# 50 PDVs con más pedidos\n",
    "top_pdvs = order_detail_sorted['PointOfSaleId'].value_counts().nlargest(50).index.tolist()\n"
   ]
  },
  {
   "cell_type": "code",
   "execution_count": 0,
   "metadata": {
    "application/vnd.databricks.v1+cell": {
     "cellMetadata": {
      "byteLimit": 2048000,
      "rowLimit": 10000
     },
     "inputWidgets": {},
     "nuid": "6948e14a-09a9-4731-b745-9193bdfcb367",
     "showTitle": false,
     "title": ""
    }
   },
   "outputs": [
    {
     "output_type": "display_data",
     "data": {
      "image/png": "[encoded data removed]",
      "text/plain": [
       "<Figure size 1000x600 with 1 Axes>"
      ]
     },
     "metadata": {},
     "output_type": "display_data"
    }
   ],
   "source": [
    "\n",
    "pedidos_por_pdv = order_detail_sorted['PointOfSaleId'].value_counts()\n",
    "\n",
    "# Crear el histograma\n",
    "plt.figure(figsize=(10, 6))\n",
    "plt.hist(pedidos_por_pdv, bins=5, color='skyblue', edgecolor='black')\n",
    "plt.title('Número de Pedidos por PDV')\n",
    "plt.xlabel('PDV')\n",
    "plt.ylabel('Número de Pedidos')\n",
    "plt.xticks(rotation=0)\n",
    "plt.show()\n"
   ]
  },
  {
   "cell_type": "markdown",
   "metadata": {
    "application/vnd.databricks.v1+cell": {
     "cellMetadata": {
      "byteLimit": 2048000,
      "rowLimit": 10000
     },
     "inputWidgets": {},
     "nuid": "89930282-3e82-4701-95d2-a6a298288be0",
     "showTitle": false,
     "title": ""
    }
   },
   "source": []
  },
  {
   "cell_type": "code",
   "execution_count": 0,
   "metadata": {
    "application/vnd.databricks.v1+cell": {
     "cellMetadata": {
      "byteLimit": 2048000,
      "rowLimit": 10000
     },
     "inputWidgets": {},
     "nuid": "41e2780c-2b3e-417e-aeae-e41b45d0d75f",
     "showTitle": false,
     "title": ""
    }
   },
   "outputs": [],
   "source": []
  },
  {
   "cell_type": "markdown",
   "metadata": {
    "application/vnd.databricks.v1+cell": {
     "cellMetadata": {
      "byteLimit": 2048000,
      "rowLimit": 10000
     },
     "inputWidgets": {},
     "nuid": "d3543192-4243-4b09-b813-bc62e09297e7",
     "showTitle": false,
     "title": ""
    }
   },
   "source": []
  }
 ],
 "metadata": {
  "application/vnd.databricks.v1+notebook": {
   "dashboards": [],
   "environmentMetadata": null,
   "language": "python",
   "notebookMetadata": {
    "pythonIndentUnit": 4
   },
   "notebookName": "Análisis_cupones",
   "widgets": {}
  }
 },
 "nbformat": 4,
 "nbformat_minor": 0
}
