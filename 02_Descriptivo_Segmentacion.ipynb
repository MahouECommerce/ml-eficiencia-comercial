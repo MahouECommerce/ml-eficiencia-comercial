{
 "cells": [
  {
   "cell_type": "markdown",
   "metadata": {},
   "source": [
    "# Comprobaciones de datos"
   ]
  },
  {
   "cell_type": "code",
   "execution_count": 64,
   "metadata": {},
   "outputs": [],
   "source": [
    "import pandas as pd\n",
    "path = r'C:\\Users\\ctrujils\\order_detail_sorted_normalizado.parquet'\n",
    "order_detail_sorted = pd.read_parquet(path)"
   ]
  },
  {
   "cell_type": "code",
   "execution_count": 65,
   "metadata": {},
   "outputs": [
    {
     "data": {
      "text/plain": [
       "Index(['Code', 'OrderDate', 'Sellout', 'CodeProduct', 'Name',\n",
       "       'NameDistributor', 'PointOfSaleId', 'CouponCode', 'CouponDiscountAmt',\n",
       "       'CouponDiscountPct', 'CouponDescription', 'InsertionOrigin', 'Origin',\n",
       "       'tipologia', 'NormalizedCoupon', 'Frequency_online', 'Coupon_type',\n",
       "       'PctgCouponUsed', 'DaysBetweenPurchases',\n",
       "       'CumulativeAvgDaysBetweenPurchases', 'IsOnline', 'LastPurchaseOnline',\n",
       "       'Digitalizacion', 'ForwardOnline'],\n",
       "      dtype='object')"
      ]
     },
     "execution_count": 65,
     "metadata": {},
     "output_type": "execute_result"
    }
   ],
   "source": [
    "order_detail_sorted.columns"
   ]
  },
  {
   "cell_type": "code",
   "execution_count": 67,
   "metadata": {},
   "outputs": [
    {
     "data": {
      "text/plain": [
       "<Axes: >"
      ]
     },
     "execution_count": 67,
     "metadata": {},
     "output_type": "execute_result"
    },
    {
     "data": {
      "image/png": "[encoded data removed]",
      "text/plain": [
       "<Figure size 640x480 with 1 Axes>"
      ]
     },
     "metadata": {},
     "output_type": "display_data"
    }
   ],
   "source": [
    "order_detail_sorted['PctgCouponUsed'].hist()\n"
   ]
  },
  {
   "cell_type": "code",
   "execution_count": 47,
   "metadata": {},
   "outputs": [],
   "source": [
    "\n",
    "path = r'C:\\Users\\ctrujils\\order_detail_sorted_normalizado.parquet'\n",
    "order_detail_sorted = pd.read_parquet(path)"
   ]
  },
  {
   "cell_type": "code",
   "execution_count": 48,
   "metadata": {},
   "outputs": [
    {
     "data": {
      "text/plain": [
       "array(['No cupón', 'BIENVENIDA20', 'SEGUNDOPEDIDO15%', 'TERCERPEDIDO15E',\n",
       "       'CUARTOPEDIDO10E', 'Bienvenida20', 'Segundopedido15%', 'Final10E',\n",
       "       'Voldis15%', 'Mereces15', 'FINAL10E', 'MERECES15', 'VOLDIS15%',\n",
       "       'HAPPY10', 'HISTORIAS10', 'Final10e', 'Mereces15 ',\n",
       "       'BIENVENIDA20%7E', 'VOLDIS15E', 'CERVEZA15', 'BIENVENIDA20%PT',\n",
       "       'VOLDIS10E', 'BiENVENIDA20', 'SANPATRICIO15', 'PASCUA15',\n",
       "       'Primavera20', 'Verano15', 'Bar10', 'BAR10', 'REGRESO20',\n",
       "       'CALABAZA20', 'PRIMAVERA20E', 'VOlDIS15%', 'Regreso20',\n",
       "       'voldis15%', 'ene-10', 'CUPIDO20', 'Final10', 'VERANO15',\n",
       "       'Cerveza15', 'Happy10', 'Historias10', 'REGALO20J7PD5',\n",
       "       'Voldis15e', 'Calabaza20', 'FINAL10', 'REGALO20E2UWI',\n",
       "       'FINAL10EG3SR', 'BAR10 ', 'REGRESO20 ', 'bienvenida20',\n",
       "       'cerveza15', 'PRIMAVERA20', 'NAVIBAR20', 'bar10', 'voldis15E',\n",
       "       'VUELVE10', 'AÑONUEVO15', 'CALABAZA20 ', 'VOLDIS15e', 'calabaza20',\n",
       "       'happy10', 'BAR10ZDN4QPD1L7N6', 'SANPATRICIO15E', 'REGALO20N1L67',\n",
       "       'REGALO20LTY5V', 'Voldis10e', 'VOLDIs15%', 'AÑONUEVO156ORLN',\n",
       "       'NAVIBAR20TSMLA', 'VOLdIS10E', 'Sanpatricio15', 'Sanpatricio15e',\n",
       "       'NAVIDAD20', 'PRIMAVERA20E58Q5N', 'Regreso20 ', 'voldis10e',\n",
       "       'mereces15', 'Voldis15E', 'primavera20', 'Cupido20', 'Pascua15',\n",
       "       'Sanpatricio15E', 'Primavera20E', 'AÑONUEVO150J8YT',\n",
       "       'REGALO20WLPG3', 'Primavera20e', 'Bienvenida20 ', 'FINAL10EX0GY2A',\n",
       "       'verano15', 'Regalo20q50a7', 'voldis15e', 'Voldis10E', 'FINAL10E ',\n",
       "       'regreso20', 'REGRESO20BWR92AFU8H', 'REGALO20NX7P0',\n",
       "       'BIENVENIDA20%BZ', 'Regresó20', 'Calabaza20 ', 'VOlDIS15%TXM',\n",
       "       'sanpatricio15e', 'final10', 'Añonuevo15', 'Navibar20',\n",
       "       'primavera20E', 'CORONAGRATIS', 'VoLDIS15E', 'AÑONUEVO1577BMO',\n",
       "       'BIENVENIDA20%XV4A', 'REGALO20LHVUU', 'BIENVENIDA20DTO',\n",
       "       'Bienvenida20dto', 'BIENVENIDA20dto', 'PRIMAVERA20EME0XE',\n",
       "       'añonuevo15', 'BIENVENIDA20DTO ', 'PRIMAVERA20E462DA',\n",
       "       'PRIMAVERA20EILCG6', 'bienvenida20dto', 'sanpatricio15',\n",
       "       'VOLDIS10e', 'final10e', 'mereceS15', 'HAPPY10 ', 'primavera20e',\n",
       "       'Bienvenida20dto ', 'FInal10E', 'VOldis15%', 'MERECES15IS2MJ',\n",
       "       'NAVIBAR20 ', 'FINAL10EEUWBU0', 'NaviBar20', 'ANONUEVO15',\n",
       "       'FINAL10EVXL997', 'FINAL10E2X4KMG', 'Pascua20', 'historias10',\n",
       "       'PASCUA20', 'Primavera20lyk6e5', 'PASCUA20JT5SY3', 'mereces15 ',\n",
       "       'MERECES15UBF7J', 'Mereces15TNW98', 'PASCUA20TZC95Y',\n",
       "       'Primavera20k7k1tk', 'Verano15 ', 'PRIMAVERA20E ', 'REGALO20SKQEV',\n",
       "       'CUPIDO20 ', 'Vuelve10', 'HISTORIAS10LGX24', 'PASCUA20BXU294',\n",
       "       'FINAL10EQRKW13', 'SANPATRICIO15E0GUO', 'REGALO20NGQ7S',\n",
       "       'Primavera20 ', 'Final10E0XM75A', 'pascua203M3XC7',\n",
       "       'SANPATRiCIO15E', 'sanpatricio15E', 'Sanpatricio15E8U7H',\n",
       "       'PASCUA20GBNR41', 'FINAL10EVIQZEB', 'PRIMAVERA20EZQIB9',\n",
       "       'Navidad20', 'PASCUA20HTL4ZJ', 'CUpiDO20', 'VERANO15 ',\n",
       "       'SANPATRICIO15 ', 'VOLDIS106QVGN', 'SANPATRICIO15E ', 'MERECES15 ',\n",
       "       'pascua20', 'Mereces15whiag', 'FINAL10EGU0D7V', 'SanPatricio15e',\n",
       "       'Mereces15ujafr', 'Pascua20ezuzvl', 'Pascua206bnz42',\n",
       "       'Mereces15at9ou', 'PRIMAVERA20EZLENB', 'PRIMAVERA20EBFG3S',\n",
       "       'SAnpatricio15E', 'FINAL10E7MWH', 'REGALO20GKR48',\n",
       "       'CERVEZA1508I3B10KUO', 'Primavera20M9CDWP', 'Historias1095lw2',\n",
       "       'HISTORIAS101M03W', 'REGALO20R4KIH', 'Sanpatricio15e6ing',\n",
       "       'voldis10E', 'SANPATRICIO15EFDJX', 'Final10E ', 'PASCUA20GBF1XD',\n",
       "       'CERVEZA15A77OCTAJNK', 'REGALO20PGCJG', 'REGALO20SJ28L',\n",
       "       'REGALO20RY7M8', 'Pascua20116RYB', 'FINAL10EG38BTO',\n",
       "       'Pascua20ba7fzj', 'FINAL10 ', 'Cerveza15 ', 'Mereces15BKS7T',\n",
       "       'Mereces15bnevn', 'Primavera20m4akc8', 'SANPATRICIO15ORVU',\n",
       "       'Sanpatricio15E  ', 'cupido20', 'BLACKFRIDAY20OA', 'Coronagratis',\n",
       "       'PASCUA20F60037', 'FINAL10e', 'MERECES155D2GD', 'FINAL10ECDPS',\n",
       "       'SanPatricio15', 'FINAl10', 'FINAL10E1XJV2J', 'Mereces15EUEJG',\n",
       "       'Ańonuevo15482c5', 'PASCUA20FUOPE5', 'PRIMAVERA20EFPWR0',\n",
       "       'PASCUA205APN4P', 'PASCUA20RHVKQ4', 'FINAl10E',\n",
       "       'Descuento E-commerce PASCUA20', 'Mereces1599fxq',\n",
       "       'PASCUA209VMO4N', 'VOLDIS15Q1U2M', 'navibar20', 'HISTORIAS106XU6S',\n",
       "       'VOLDIS15IMF2J', 'PASCUA20OSZQVI', 'PASCUA20QFSSJW', 'NAViBar20',\n",
       "       'HISTORIAS10DPMCQ', 'final10E', 'PASCUA20D1N2L', 'PASCUA20UY91EY',\n",
       "       'MERECES15GQSED', 'Cuponcupido20', 'Happy10 ', 'HISTORIAS10 ',\n",
       "       'PASCUA2095QPUE', 'HISTORIAS10FL96X', 'HISTORIAS10USXMH',\n",
       "       'REGRESO20FU2306F2JC', 'HAPPY10JKNU4CQXTE3S',\n",
       "       'Happy106SHC9Y0TZJ4S', 'MERECES15QP721', 'MERECES15F75B7',\n",
       "       'REGRESO20J4GEEHEBQH', 'BIENVENIDA20%JR4Z', 'Historias10 ',\n",
       "       'REGALO205ODOX', 'REGALO20FOJPO', 'Primavera20E ',\n",
       "       'VERANO15KPY2EB1P1A', 'historias10FGJ4I', 'REGALO20FOGV6',\n",
       "       'FINAL10EWCBL', 'Anonuevo15', 'VOLDIS155A8L5', 'AÑoNUEVO15',\n",
       "       'NAViBAR20', 'HISTORIAS10I3E2X', 'pascua15', 'SanPatricio15E',\n",
       "       'Historias10Lserx', 'Historias10BICU1', 'Pascua20LUDLWI',\n",
       "       'Añonuevo15v1tax', 'HISTORIAS109VYFE', 'PASCUA20WJATCE',\n",
       "       'Final10EW8UQRB', 'CERVEZA150QUVQ7797G', 'REGRESO20T6B2JAKXJX',\n",
       "       'CERVEZA15EZ0OGH4J33', 'REGRESO20A6UUEAJPDS',\n",
       "       'REGRESO20ZB4XK4RBNP', 'PASCUA20X4WVW8', 'VERANO15PMD8DBP40U',\n",
       "       'Voldıs15e', 'VOLDIS15M5JXO', 'Final10ez5euog', 'PASCUA20UCYQ1Z',\n",
       "       'HISTORIAS10DDIUM', 'BIENVENIDA20%XB95', 'AñoNUEVO15', 'verano15 ',\n",
       "       'HISTORIAS10W9DFZ', 'PASCUA2046J3Z6', 'FINAL10EHQPB', 'FiNAL10E',\n",
       "       'fINAL10', 'BIENVENIDA20%39', 'Navibar20 ', 'BIENVENIDA20%T5NR',\n",
       "       'NAVIBAR20AXP7X', 'PRIMAVera20E', 'VOLDIS15EEQQP8',\n",
       "       'VOLDIS102MHNC', 'FINAL10A362D7YKZ81U', 'CeRVEZA15', 'HiSTORIAS10',\n",
       "       'PRIMAVERA20ECIEQM', 'FINAL10EPSG9', 'FINAL10EY9026C',\n",
       "       'FINAL10EETWO', 'HISTORIAS108P4TQ', 'VERANO156YTAQ10GK5',\n",
       "       'HISTORIAS10K6ENK', 'VOLDIS15%7SY', 'HAPPY10PVCDU', 'PRIMAVERA20 ',\n",
       "       'MERECES15QDCPA', 'BARROJA', 'Historias10xo7ry',\n",
       "       'Sanpatricio15ermad', 'Sanpatricio15e9fm1b', 'Regalo207f8nm',\n",
       "       'REGALO20TD80R', 'REGALO20C14WZ', 'REGALO20HIKLK', 'REGALO206JMX2',\n",
       "       'HISTORIAS10TUZYF', 'MERECES159JTQQ', 'PASCUA20Q2GTR3', 'Bar10 ',\n",
       "       'CUPONENERO10', 'REGALO20VK0HW', 'VOLDIS15EPB8NG', 'PRIMAVERA20e',\n",
       "       'CALABAZA20N4K1H', 'NAVIBAR20J24U6', 'REGALO20L1A8Q',\n",
       "       'REGALO206FVKL', 'Sanpatricio15E ', 'REGALO203VRGO',\n",
       "       'Regalo20F44YU', 'NAVIBAR20AHQO1', 'FINAL10EXXNOOP',\n",
       "       'AÑONUEVO154WXIJ', 'PRIMAVERA20CJ11LI', 'VOLDIS15L3KMH',\n",
       "       'Descuento E-commerce MERECES15', 'VOLDIS150Y9F4', 'FALLAS15',\n",
       "       'AŃoNUEVO15', 'Fallas15', 'VOLDIS155GR6O', 'VOLDIS15BURHE',\n",
       "       'Final10ev64htd', 'Final10e2s5fl5', 'Mereces15953OM',\n",
       "       'VOLDIS153W1LV', 'VERANO15UOBGGZ5K0D', 'REGALO20NZ2HK',\n",
       "       'BIENVENIDA20%', 'AÑonuevo15', 'VOLDIS15DRM3K', 'VOLDIS15URBQ6',\n",
       "       'REGALO20EFRXC', 'vuelve10', 'VOLDIS15PZBZA', 'VOLDIS15HC6Z8',\n",
       "       'PASCUA15SWAGOVBXYV', 'PRIMAVERA20XT4CH7', 'BIENVENIDA20%ME7R',\n",
       "       'BIENVENIDA20 ', 'VOLDIS15INFWT', 'PRimavera20', 'VOLDIS15MR0WE',\n",
       "       'BIENVENIDA20%H1N8', 'REGALO20AN4YB', 'fallas15', 'VOLDIS15XATPH',\n",
       "       'REGALO20M64F4', 'VOLDIS15PYBHH', 'REGALO20LBEVA', 'VOLDIS150SJMM',\n",
       "       'VOLDIS1546FFE', 'VOLDIS15EXW338', 'VOLDIS10GAEJW',\n",
       "       'REGALO20XJKXX', 'VOLDIS15NT4P8', 'REGALO204TRLL', 'VOLDIS15NXG8W',\n",
       "       'VOLDIS15OZ83K', 'BIENVENIDA20%07', 'FINAL10EJ2V1LR',\n",
       "       'HAPPY10NHI2KCS67ZWT', 'anonuevo15', 'VOLDIS15W9OD0', 'CERVEZA15 ',\n",
       "       'VOLDIS15DMWON', 'BIENVENIDA20%BGGU', 'Historias10PMFT6',\n",
       "       'PRIMAVERA20EOPSSW', 'REGALO20IV4T5', 'REGALO20GLMSI',\n",
       "       'VOLDIS15YGAK3', 'BIENVENIDA20%NURF', 'VOLDIS15%2F5',\n",
       "       'VOLDIS100E398', 'FINAL10EVFI7', 'VOLDIS15FSAMP', 'VOLDIS150K7FC',\n",
       "       'FINAL10E5yjqys', 'VOLDIS15H6R0O', 'REGALO20ALWS0',\n",
       "       'REGALO20H7S4C', 'REGALO20DYP7Q', 'VOLDIS1509C4H', 'FALLAS15 ',\n",
       "       'PRIMAVERA20MJ8763', 'FINal10', 'HIstorias10', 'FINAL10ECH64'],\n",
       "      dtype=object)"
      ]
     },
     "execution_count": 48,
     "metadata": {},
     "output_type": "execute_result"
    }
   ],
   "source": [
    "order_detail_sorted['NormalizedCoupon'].unique()"
   ]
  },
  {
   "cell_type": "markdown",
   "metadata": {
    "application/vnd.databricks.v1+cell": {
     "cellMetadata": {
      "byteLimit": 2048000,
      "rowLimit": 10000
     },
     "inputWidgets": {},
     "nuid": "ddc8cd92-ba72-4fab-9b6a-1516a8785833",
     "showTitle": false,
     "title": ""
    }
   },
   "source": [
    "# Análisis descriptivo"
   ]
  },
  {
   "cell_type": "code",
   "execution_count": 49,
   "metadata": {},
   "outputs": [],
   "source": [
    "import pandas as pd\n",
    "import matplotlib.pyplot as plt"
   ]
  },
  {
   "cell_type": "code",
   "execution_count": 50,
   "metadata": {},
   "outputs": [],
   "source": [
    "# save_path = r'C:\\Users\\ctrujils\\eficiencia_promocional\\maestro_cliente_final_segmentado.parquet'\n",
    "# maestor_clientes=pd.read_parquet(save_path)"
   ]
  },
  {
   "cell_type": "code",
   "execution_count": 51,
   "metadata": {},
   "outputs": [
    {
     "data": {
      "text/plain": [
       "(666322, 24)"
      ]
     },
     "execution_count": 51,
     "metadata": {},
     "output_type": "execute_result"
    }
   ],
   "source": [
    "order_detail_sorted.shape"
   ]
  },
  {
   "cell_type": "code",
   "execution_count": 52,
   "metadata": {
    "application/vnd.databricks.v1+cell": {
     "cellMetadata": {
      "byteLimit": 2048000,
      "rowLimit": 10000
     },
     "inputWidgets": {},
     "nuid": "7e8b1291-3724-4738-8bd6-9248fbed6e66",
     "showTitle": false,
     "title": ""
    }
   },
   "outputs": [],
   "source": [
    "order_detail_sorted=order_detail_sorted[order_detail_sorted['Sellout']>0]"
   ]
  },
  {
   "cell_type": "markdown",
   "metadata": {},
   "source": [
    "###### Eliminamos de nuestro análisis a Voldis Baleares y Ceres"
   ]
  },
  {
   "cell_type": "code",
   "execution_count": 53,
   "metadata": {},
   "outputs": [],
   "source": [
    "\n",
    "order_detail_sorted =order_detail_sorted[~order_detail_sorted['NameDistributor'].isin(['Ceres', 'Voldis Baleares'])]"
   ]
  },
  {
   "cell_type": "code",
   "execution_count": 54,
   "metadata": {},
   "outputs": [
    {
     "data": {
      "text/plain": [
       "(468232, 24)"
      ]
     },
     "execution_count": 54,
     "metadata": {},
     "output_type": "execute_result"
    }
   ],
   "source": [
    "order_detail_sorted.shape"
   ]
  },
  {
   "cell_type": "markdown",
   "metadata": {
    "application/vnd.databricks.v1+cell": {
     "cellMetadata": {
      "byteLimit": 2048000,
      "rowLimit": 10000
     },
     "inputWidgets": {},
     "nuid": "e85f012a-2697-4506-b060-023a0d07d7da",
     "showTitle": false,
     "title": ""
    }
   },
   "source": [
    "### Filtro de segmentación de pdvs"
   ]
  },
  {
   "cell_type": "markdown",
   "metadata": {
    "application/vnd.databricks.v1+cell": {
     "cellMetadata": {
      "byteLimit": 2048000,
      "rowLimit": 10000
     },
     "inputWidgets": {},
     "nuid": "d4a45d4a-3840-41f7-ab82-5030a6894eec",
     "showTitle": false,
     "title": ""
    }
   },
   "source": [
    "Impacto de promociones por PDV y cupón"
   ]
  },
  {
   "cell_type": "code",
   "execution_count": 55,
   "metadata": {
    "application/vnd.databricks.v1+cell": {
     "cellMetadata": {
      "byteLimit": 2048000,
      "rowLimit": 10000
     },
     "inputWidgets": {},
     "nuid": "b286d92c-d1bb-4ddd-9b78-6778acc36417",
     "showTitle": false,
     "title": ""
    }
   },
   "outputs": [],
   "source": [
    "order_detail_sorted['CouponDiscountAmt'] = pd.to_numeric(order_detail_sorted['CouponDiscountAmt'], errors='coerce').fillna(0)\n",
    "kpis_por_pdv_promo = order_detail_sorted.groupby(['PointOfSaleId', 'NormalizedCoupon']).agg(\n",
    "    impacto_promociones=pd.NamedAgg(column='CouponDiscountAmt', aggfunc='sum'), #impacto monetario por cupones aplicados por PDV\n",
    "    # total_productos_comprados=pd.NamedAgg(column='Amount', aggfunc='sum') # total de la cantidad de productos comprados por cada PDV\n",
    ").reset_index()"
   ]
  },
  {
   "cell_type": "code",
   "execution_count": 56,
   "metadata": {
    "application/vnd.databricks.v1+cell": {
     "cellMetadata": {
      "byteLimit": 2048000,
      "rowLimit": 10000
     },
     "inputWidgets": {},
     "nuid": "7a0d589d-e45a-466b-a326-a62731f5d104",
     "showTitle": false,
     "title": ""
    }
   },
   "outputs": [
    {
     "data": {
      "text/html": [
       "<div>\n",
       "<style scoped>\n",
       "    .dataframe tbody tr th:only-of-type {\n",
       "        vertical-align: middle;\n",
       "    }\n",
       "\n",
       "    .dataframe tbody tr th {\n",
       "        vertical-align: top;\n",
       "    }\n",
       "\n",
       "    .dataframe thead th {\n",
       "        text-align: right;\n",
       "    }\n",
       "</style>\n",
       "<table border=\"1\" class=\"dataframe\">\n",
       "  <thead>\n",
       "    <tr style=\"text-align: right;\">\n",
       "      <th></th>\n",
       "      <th>PointOfSaleId</th>\n",
       "      <th>NormalizedCoupon</th>\n",
       "      <th>impacto_promociones</th>\n",
       "    </tr>\n",
       "  </thead>\n",
       "  <tbody>\n",
       "    <tr>\n",
       "      <th>12970</th>\n",
       "      <td>CLI0026803</td>\n",
       "      <td>Regreso20</td>\n",
       "      <td>348.000000</td>\n",
       "    </tr>\n",
       "    <tr>\n",
       "      <th>12454</th>\n",
       "      <td>CLI0026381</td>\n",
       "      <td>REGRESO20</td>\n",
       "      <td>328.799988</td>\n",
       "    </tr>\n",
       "    <tr>\n",
       "      <th>16418</th>\n",
       "      <td>CLI0029258</td>\n",
       "      <td>Regreso20</td>\n",
       "      <td>260.000000</td>\n",
       "    </tr>\n",
       "    <tr>\n",
       "      <th>1882</th>\n",
       "      <td>102232</td>\n",
       "      <td>Mereces15</td>\n",
       "      <td>225.000000</td>\n",
       "    </tr>\n",
       "    <tr>\n",
       "      <th>13776</th>\n",
       "      <td>CLI0027298</td>\n",
       "      <td>REGRESO20</td>\n",
       "      <td>220.000000</td>\n",
       "    </tr>\n",
       "    <tr>\n",
       "      <th>17651</th>\n",
       "      <td>CLI0029914</td>\n",
       "      <td>HAPPY10</td>\n",
       "      <td>215.000000</td>\n",
       "    </tr>\n",
       "    <tr>\n",
       "      <th>23713</th>\n",
       "      <td>CLI0034240</td>\n",
       "      <td>REGRESO20</td>\n",
       "      <td>201.500000</td>\n",
       "    </tr>\n",
       "    <tr>\n",
       "      <th>18081</th>\n",
       "      <td>CLI0030084</td>\n",
       "      <td>BAR10</td>\n",
       "      <td>200.000000</td>\n",
       "    </tr>\n",
       "    <tr>\n",
       "      <th>9167</th>\n",
       "      <td>CLI0024385</td>\n",
       "      <td>ene-10</td>\n",
       "      <td>200.000000</td>\n",
       "    </tr>\n",
       "    <tr>\n",
       "      <th>2044</th>\n",
       "      <td>13266</td>\n",
       "      <td>BAR10</td>\n",
       "      <td>200.000000</td>\n",
       "    </tr>\n",
       "    <tr>\n",
       "      <th>16556</th>\n",
       "      <td>CLI0029350</td>\n",
       "      <td>BAR10</td>\n",
       "      <td>200.000000</td>\n",
       "    </tr>\n",
       "    <tr>\n",
       "      <th>23408</th>\n",
       "      <td>CLI0034055</td>\n",
       "      <td>ene-10</td>\n",
       "      <td>200.000000</td>\n",
       "    </tr>\n",
       "    <tr>\n",
       "      <th>26602</th>\n",
       "      <td>CLI0037673</td>\n",
       "      <td>BAR10</td>\n",
       "      <td>200.000000</td>\n",
       "    </tr>\n",
       "    <tr>\n",
       "      <th>2048</th>\n",
       "      <td>13266</td>\n",
       "      <td>HAPPY10</td>\n",
       "      <td>200.000000</td>\n",
       "    </tr>\n",
       "    <tr>\n",
       "      <th>20494</th>\n",
       "      <td>CLI0031721</td>\n",
       "      <td>ene-10</td>\n",
       "      <td>200.000000</td>\n",
       "    </tr>\n",
       "    <tr>\n",
       "      <th>9147</th>\n",
       "      <td>CLI0024385</td>\n",
       "      <td>BAR10</td>\n",
       "      <td>200.000000</td>\n",
       "    </tr>\n",
       "    <tr>\n",
       "      <th>11939</th>\n",
       "      <td>CLI0026051</td>\n",
       "      <td>ene-10</td>\n",
       "      <td>200.000000</td>\n",
       "    </tr>\n",
       "    <tr>\n",
       "      <th>10775</th>\n",
       "      <td>CLI0025389</td>\n",
       "      <td>Bar10</td>\n",
       "      <td>200.000000</td>\n",
       "    </tr>\n",
       "    <tr>\n",
       "      <th>1152</th>\n",
       "      <td>101165</td>\n",
       "      <td>HAPPY10</td>\n",
       "      <td>200.000000</td>\n",
       "    </tr>\n",
       "    <tr>\n",
       "      <th>17376</th>\n",
       "      <td>CLI0029840</td>\n",
       "      <td>BAR10</td>\n",
       "      <td>200.000000</td>\n",
       "    </tr>\n",
       "    <tr>\n",
       "      <th>22923</th>\n",
       "      <td>CLI0033704</td>\n",
       "      <td>BAR10</td>\n",
       "      <td>200.000000</td>\n",
       "    </tr>\n",
       "    <tr>\n",
       "      <th>10790</th>\n",
       "      <td>CLI0025389</td>\n",
       "      <td>ene-10</td>\n",
       "      <td>200.000000</td>\n",
       "    </tr>\n",
       "    <tr>\n",
       "      <th>16540</th>\n",
       "      <td>CLI0029349</td>\n",
       "      <td>HAPPY10</td>\n",
       "      <td>200.000000</td>\n",
       "    </tr>\n",
       "    <tr>\n",
       "      <th>20478</th>\n",
       "      <td>CLI0031721</td>\n",
       "      <td>HAPPY10</td>\n",
       "      <td>200.000000</td>\n",
       "    </tr>\n",
       "    <tr>\n",
       "      <th>1404</th>\n",
       "      <td>101493</td>\n",
       "      <td>HAPPY10</td>\n",
       "      <td>200.000000</td>\n",
       "    </tr>\n",
       "    <tr>\n",
       "      <th>15188</th>\n",
       "      <td>CLI0028111</td>\n",
       "      <td>Bar10</td>\n",
       "      <td>200.000000</td>\n",
       "    </tr>\n",
       "    <tr>\n",
       "      <th>15859</th>\n",
       "      <td>CLI0028719</td>\n",
       "      <td>Bar10</td>\n",
       "      <td>200.000000</td>\n",
       "    </tr>\n",
       "    <tr>\n",
       "      <th>2239</th>\n",
       "      <td>1789</td>\n",
       "      <td>HAPPY10</td>\n",
       "      <td>200.000000</td>\n",
       "    </tr>\n",
       "    <tr>\n",
       "      <th>24023</th>\n",
       "      <td>CLI0034477</td>\n",
       "      <td>HAPPY10</td>\n",
       "      <td>200.000000</td>\n",
       "    </tr>\n",
       "    <tr>\n",
       "      <th>809</th>\n",
       "      <td>100530</td>\n",
       "      <td>CUPONENERO10</td>\n",
       "      <td>200.000000</td>\n",
       "    </tr>\n",
       "  </tbody>\n",
       "</table>\n",
       "</div>"
      ],
      "text/plain": [
       "      PointOfSaleId NormalizedCoupon  impacto_promociones\n",
       "12970    CLI0026803        Regreso20           348.000000\n",
       "12454    CLI0026381        REGRESO20           328.799988\n",
       "16418    CLI0029258        Regreso20           260.000000\n",
       "1882         102232        Mereces15           225.000000\n",
       "13776    CLI0027298       REGRESO20            220.000000\n",
       "17651    CLI0029914          HAPPY10           215.000000\n",
       "23713    CLI0034240        REGRESO20           201.500000\n",
       "18081    CLI0030084            BAR10           200.000000\n",
       "9167     CLI0024385           ene-10           200.000000\n",
       "2044          13266            BAR10           200.000000\n",
       "16556    CLI0029350            BAR10           200.000000\n",
       "23408    CLI0034055           ene-10           200.000000\n",
       "26602    CLI0037673            BAR10           200.000000\n",
       "2048          13266          HAPPY10           200.000000\n",
       "20494    CLI0031721           ene-10           200.000000\n",
       "9147     CLI0024385            BAR10           200.000000\n",
       "11939    CLI0026051           ene-10           200.000000\n",
       "10775    CLI0025389            Bar10           200.000000\n",
       "1152         101165          HAPPY10           200.000000\n",
       "17376    CLI0029840            BAR10           200.000000\n",
       "22923    CLI0033704            BAR10           200.000000\n",
       "10790    CLI0025389           ene-10           200.000000\n",
       "16540    CLI0029349          HAPPY10           200.000000\n",
       "20478    CLI0031721          HAPPY10           200.000000\n",
       "1404         101493          HAPPY10           200.000000\n",
       "15188    CLI0028111            Bar10           200.000000\n",
       "15859    CLI0028719            Bar10           200.000000\n",
       "2239           1789          HAPPY10           200.000000\n",
       "24023    CLI0034477          HAPPY10           200.000000\n",
       "809          100530     CUPONENERO10           200.000000"
      ]
     },
     "execution_count": 56,
     "metadata": {},
     "output_type": "execute_result"
    }
   ],
   "source": [
    "kpis_por_pdv_promo.sort_values('impacto_promociones',ascending=False).head(30)"
   ]
  },
  {
   "cell_type": "markdown",
   "metadata": {
    "application/vnd.databricks.v1+cell": {
     "cellMetadata": {
      "byteLimit": 2048000,
      "rowLimit": 10000
     },
     "inputWidgets": {},
     "nuid": "8f74ef18-ec07-4ebd-9307-a7243e8add77",
     "showTitle": false,
     "title": ""
    }
   },
   "source": [
    "# PDVs dormidos en la plataforma\n"
   ]
  },
  {
   "cell_type": "code",
   "execution_count": 57,
   "metadata": {},
   "outputs": [
    {
     "data": {
      "text/html": [
       "<div>\n",
       "<style scoped>\n",
       "    .dataframe tbody tr th:only-of-type {\n",
       "        vertical-align: middle;\n",
       "    }\n",
       "\n",
       "    .dataframe tbody tr th {\n",
       "        vertical-align: top;\n",
       "    }\n",
       "\n",
       "    .dataframe thead th {\n",
       "        text-align: right;\n",
       "    }\n",
       "</style>\n",
       "<table border=\"1\" class=\"dataframe\">\n",
       "  <thead>\n",
       "    <tr style=\"text-align: right;\">\n",
       "      <th></th>\n",
       "      <th>PointOfSaleId</th>\n",
       "      <th>NumberOfOrders</th>\n",
       "    </tr>\n",
       "  </thead>\n",
       "  <tbody>\n",
       "    <tr>\n",
       "      <th>0</th>\n",
       "      <td>00134</td>\n",
       "      <td>77</td>\n",
       "    </tr>\n",
       "    <tr>\n",
       "      <th>1</th>\n",
       "      <td>00163</td>\n",
       "      <td>77</td>\n",
       "    </tr>\n",
       "    <tr>\n",
       "      <th>2</th>\n",
       "      <td>00181</td>\n",
       "      <td>1</td>\n",
       "    </tr>\n",
       "    <tr>\n",
       "      <th>3</th>\n",
       "      <td>00195</td>\n",
       "      <td>1</td>\n",
       "    </tr>\n",
       "    <tr>\n",
       "      <th>4</th>\n",
       "      <td>00298</td>\n",
       "      <td>4</td>\n",
       "    </tr>\n",
       "    <tr>\n",
       "      <th>...</th>\n",
       "      <td>...</td>\n",
       "      <td>...</td>\n",
       "    </tr>\n",
       "    <tr>\n",
       "      <th>17943</th>\n",
       "      <td>CLI0051210</td>\n",
       "      <td>5</td>\n",
       "    </tr>\n",
       "    <tr>\n",
       "      <th>17944</th>\n",
       "      <td>CLI0051211</td>\n",
       "      <td>2</td>\n",
       "    </tr>\n",
       "    <tr>\n",
       "      <th>17945</th>\n",
       "      <td>CLI0051212</td>\n",
       "      <td>15</td>\n",
       "    </tr>\n",
       "    <tr>\n",
       "      <th>17946</th>\n",
       "      <td>F003394</td>\n",
       "      <td>2</td>\n",
       "    </tr>\n",
       "    <tr>\n",
       "      <th>17947</th>\n",
       "      <td>cli0030230</td>\n",
       "      <td>5</td>\n",
       "    </tr>\n",
       "  </tbody>\n",
       "</table>\n",
       "<p>17948 rows × 2 columns</p>\n",
       "</div>"
      ],
      "text/plain": [
       "      PointOfSaleId  NumberOfOrders\n",
       "0             00134              77\n",
       "1             00163              77\n",
       "2             00181               1\n",
       "3             00195               1\n",
       "4             00298               4\n",
       "...             ...             ...\n",
       "17943    CLI0051210               5\n",
       "17944    CLI0051211               2\n",
       "17945    CLI0051212              15\n",
       "17946       F003394               2\n",
       "17947    cli0030230               5\n",
       "\n",
       "[17948 rows x 2 columns]"
      ]
     },
     "execution_count": 57,
     "metadata": {},
     "output_type": "execute_result"
    }
   ],
   "source": [
    "df_orders_count = order_detail_sorted.groupby('PointOfSaleId').size().reset_index(name='NumberOfOrders')\n",
    "\n",
    "\n",
    "df_orders_count\n"
   ]
  },
  {
   "cell_type": "code",
   "execution_count": 58,
   "metadata": {},
   "outputs": [],
   "source": [
    "\n",
    "order_detail_sorted = pd.merge(order_detail_sorted, df_orders_count, on='PointOfSaleId', how='left')"
   ]
  },
  {
   "cell_type": "code",
   "execution_count": 59,
   "metadata": {},
   "outputs": [
    {
     "data": {
      "text/plain": [
       "Index(['Code', 'OrderDate', 'Sellout', 'CodeProduct', 'Name',\n",
       "       'NameDistributor', 'PointOfSaleId', 'CouponCode', 'CouponDiscountAmt',\n",
       "       'CouponDiscountPct', 'CouponDescription', 'InsertionOrigin', 'Origin',\n",
       "       'tipologia', 'NormalizedCoupon', 'Frequency_online', 'Coupon_type',\n",
       "       'PctgCouponUsed', 'DaysBetweenPurchases',\n",
       "       'CumulativeAvgDaysBetweenPurchases', 'IsOnline', 'LastPurchaseOnline',\n",
       "       'Digitalizacion', 'ForwardOnline', 'NumberOfOrders'],\n",
       "      dtype='object')"
      ]
     },
     "execution_count": 59,
     "metadata": {},
     "output_type": "execute_result"
    }
   ],
   "source": [
    "order_detail_sorted.columns"
   ]
  },
  {
   "cell_type": "markdown",
   "metadata": {},
   "source": [
    "Calculo de variable para categorizar clientes dormidos"
   ]
  },
  {
   "cell_type": "code",
   "execution_count": 60,
   "metadata": {
    "application/vnd.databricks.v1+cell": {
     "cellMetadata": {
      "byteLimit": 2048000,
      "rowLimit": 10000
     },
     "inputWidgets": {},
     "nuid": "d2e01d04-a837-4217-b84a-c0c89e785e67",
     "showTitle": false,
     "title": ""
    }
   },
   "outputs": [],
   "source": [
    "\n",
    "# Última fecha del DataFrame\n",
    "last_dates = order_detail_sorted['OrderDate'].max()\n",
    "\n",
    "# ultima compra online\n",
    "online_orders = order_detail_sorted[order_detail_sorted['Origin'] == 'Online']\n",
    "last_online_order_dates = online_orders.groupby(['PointOfSaleId', 'NameDistributor'])['OrderDate'].max().reset_index()\n",
    "last_online_order_dates.columns = ['PointOfSaleId', 'NameDistributor', 'LastOnlineOrderDate']\n",
    "\n",
    "# Calcular la diferencia en días entre la última fecha general del DataFrame y la última fecha de compra online\n",
    "last_online_order_dates['DaysBetweenLastOrderAndLastOnline'] = (last_dates - last_online_order_dates['LastOnlineOrderDate']).dt.days\n",
    "\n"
   ]
  },
  {
   "cell_type": "code",
   "execution_count": 61,
   "metadata": {},
   "outputs": [
    {
     "data": {
      "text/html": [
       "<div>\n",
       "<style scoped>\n",
       "    .dataframe tbody tr th:only-of-type {\n",
       "        vertical-align: middle;\n",
       "    }\n",
       "\n",
       "    .dataframe tbody tr th {\n",
       "        vertical-align: top;\n",
       "    }\n",
       "\n",
       "    .dataframe thead th {\n",
       "        text-align: right;\n",
       "    }\n",
       "</style>\n",
       "<table border=\"1\" class=\"dataframe\">\n",
       "  <thead>\n",
       "    <tr style=\"text-align: right;\">\n",
       "      <th></th>\n",
       "      <th>PointOfSaleId</th>\n",
       "      <th>NameDistributor</th>\n",
       "      <th>LastOnlineOrderDate</th>\n",
       "      <th>DaysBetweenLastOrderAndLastOnline</th>\n",
       "    </tr>\n",
       "  </thead>\n",
       "  <tbody>\n",
       "    <tr>\n",
       "      <th>0</th>\n",
       "      <td>100005</td>\n",
       "      <td>Voldis Murcia</td>\n",
       "      <td>2024-06-26</td>\n",
       "      <td>15</td>\n",
       "    </tr>\n",
       "    <tr>\n",
       "      <th>1</th>\n",
       "      <td>100131</td>\n",
       "      <td>Voldis Murcia</td>\n",
       "      <td>2023-07-20</td>\n",
       "      <td>357</td>\n",
       "    </tr>\n",
       "    <tr>\n",
       "      <th>2</th>\n",
       "      <td>100141</td>\n",
       "      <td>Voldis Murcia</td>\n",
       "      <td>2024-02-26</td>\n",
       "      <td>136</td>\n",
       "    </tr>\n",
       "    <tr>\n",
       "      <th>3</th>\n",
       "      <td>100150</td>\n",
       "      <td>Voldis Murcia</td>\n",
       "      <td>2023-10-03</td>\n",
       "      <td>282</td>\n",
       "    </tr>\n",
       "    <tr>\n",
       "      <th>4</th>\n",
       "      <td>100152</td>\n",
       "      <td>Voldis Murcia</td>\n",
       "      <td>2024-06-17</td>\n",
       "      <td>24</td>\n",
       "    </tr>\n",
       "    <tr>\n",
       "      <th>...</th>\n",
       "      <td>...</td>\n",
       "      <td>...</td>\n",
       "      <td>...</td>\n",
       "      <td>...</td>\n",
       "    </tr>\n",
       "    <tr>\n",
       "      <th>3797</th>\n",
       "      <td>CLI0051066</td>\n",
       "      <td>Voldis Valencia</td>\n",
       "      <td>2024-07-09</td>\n",
       "      <td>2</td>\n",
       "    </tr>\n",
       "    <tr>\n",
       "      <th>3798</th>\n",
       "      <td>CLI0051071</td>\n",
       "      <td>Voldis Valencia</td>\n",
       "      <td>2024-06-24</td>\n",
       "      <td>17</td>\n",
       "    </tr>\n",
       "    <tr>\n",
       "      <th>3799</th>\n",
       "      <td>CLI0051127</td>\n",
       "      <td>Voldis Valencia</td>\n",
       "      <td>2024-06-18</td>\n",
       "      <td>23</td>\n",
       "    </tr>\n",
       "    <tr>\n",
       "      <th>3800</th>\n",
       "      <td>F003394</td>\n",
       "      <td>Voldis Coruña</td>\n",
       "      <td>2023-01-23</td>\n",
       "      <td>535</td>\n",
       "    </tr>\n",
       "    <tr>\n",
       "      <th>3801</th>\n",
       "      <td>cli0030230</td>\n",
       "      <td>Voldis Madrid</td>\n",
       "      <td>2024-06-23</td>\n",
       "      <td>18</td>\n",
       "    </tr>\n",
       "  </tbody>\n",
       "</table>\n",
       "<p>3802 rows × 4 columns</p>\n",
       "</div>"
      ],
      "text/plain": [
       "     PointOfSaleId  NameDistributor LastOnlineOrderDate  \\\n",
       "0           100005    Voldis Murcia          2024-06-26   \n",
       "1           100131    Voldis Murcia          2023-07-20   \n",
       "2           100141    Voldis Murcia          2024-02-26   \n",
       "3           100150    Voldis Murcia          2023-10-03   \n",
       "4           100152    Voldis Murcia          2024-06-17   \n",
       "...            ...              ...                 ...   \n",
       "3797    CLI0051066  Voldis Valencia          2024-07-09   \n",
       "3798    CLI0051071  Voldis Valencia          2024-06-24   \n",
       "3799    CLI0051127  Voldis Valencia          2024-06-18   \n",
       "3800       F003394    Voldis Coruña          2023-01-23   \n",
       "3801    cli0030230    Voldis Madrid          2024-06-23   \n",
       "\n",
       "      DaysBetweenLastOrderAndLastOnline  \n",
       "0                                    15  \n",
       "1                                   357  \n",
       "2                                   136  \n",
       "3                                   282  \n",
       "4                                    24  \n",
       "...                                 ...  \n",
       "3797                                  2  \n",
       "3798                                 17  \n",
       "3799                                 23  \n",
       "3800                                535  \n",
       "3801                                 18  \n",
       "\n",
       "[3802 rows x 4 columns]"
      ]
     },
     "execution_count": 61,
     "metadata": {},
     "output_type": "execute_result"
    }
   ],
   "source": [
    "last_online_order_dates\n"
   ]
  },
  {
   "cell_type": "code",
   "execution_count": 62,
   "metadata": {
    "application/vnd.databricks.v1+cell": {
     "cellMetadata": {
      "byteLimit": 2048000,
      "rowLimit": 10000
     },
     "inputWidgets": {},
     "nuid": "55a0b5e4-a4b7-4620-9135-bc53dc5d3ba9",
     "showTitle": false,
     "title": ""
    }
   },
   "outputs": [],
   "source": [
    "last_order_dates=last_online_order_dates.sort_values(by='DaysBetweenLastOrderAndLastOnline', ascending=False)"
   ]
  },
  {
   "cell_type": "code",
   "execution_count": 23,
   "metadata": {},
   "outputs": [
    {
     "data": {
      "text/plain": [
       "Index(['PointOfSaleId', 'NameDistributor', 'LastOrderDate',\n",
       "       'LastOnlineOrderDate', 'NumberOfOrders',\n",
       "       'DaysBetweenLastOrderAndLastOnline'],\n",
       "      dtype='object')"
      ]
     },
     "execution_count": 23,
     "metadata": {},
     "output_type": "execute_result"
    }
   ],
   "source": [
    "# last_order_dates_general.columns"
   ]
  },
  {
   "cell_type": "code",
   "execution_count": 63,
   "metadata": {},
   "outputs": [
    {
     "data": {
      "text/plain": [
       "<Axes: >"
      ]
     },
     "execution_count": 63,
     "metadata": {},
     "output_type": "execute_result"
    },
    {
     "data": {
      "image/png": "[encoded data removed]",
      "text/plain": [
       "<Figure size 640x480 with 1 Axes>"
      ]
     },
     "metadata": {},
     "output_type": "display_data"
    }
   ],
   "source": [
    "last_order_dates['DaysBetweenLastOrderAndLastOnline'].hist()"
   ]
  },
  {
   "cell_type": "markdown",
   "metadata": {},
   "source": [
    "################################"
   ]
  },
  {
   "cell_type": "code",
   "execution_count": 25,
   "metadata": {},
   "outputs": [
    {
     "data": {
      "image/png": "[encoded data removed]",
      "text/plain": [
       "<Figure size 800x600 with 1 Axes>"
      ]
     },
     "metadata": {},
     "output_type": "display_data"
    }
   ],
   "source": [
    "\n",
    "last_order_dates_general['Estado'] = last_order_dates_general['DaysBetweenTodayAndLastOnlineOrder'].apply(lambda x: 'Activo_Online' if x <= 50 else 'Dormido_Online')\n",
    "estado_counts = last_order_dates_general['Estado'].value_counts()\n",
    "\n",
    "plt.figure(figsize=(8, 6))\n",
    "estado_counts.plot(kind='bar', color=['green', 'red'], alpha=0.7, edgecolor='black')\n",
    "plt.title('Número de PDVs Activos vs Dormidos')\n",
    "plt.xlabel('Estado')\n",
    "plt.ylabel('Cantidad de PDVs')\n",
    "plt.xticks(rotation=0)\n",
    "plt.tight_layout()\n",
    "plt.show()\n"
   ]
  },
  {
   "cell_type": "code",
   "execution_count": 26,
   "metadata": {},
   "outputs": [],
   "source": [
    "\n",
    "order_detail_sorted=pd.merge(order_detail_sorted,last_order_dates_general, on=['PointOfSaleId','NameDistributor'], how='left')"
   ]
  },
  {
   "cell_type": "markdown",
   "metadata": {
    "application/vnd.databricks.v1+cell": {
     "cellMetadata": {},
     "inputWidgets": {},
     "nuid": "9dd90aee-143e-4fd0-a5ae-f7a152272113",
     "showTitle": false,
     "title": ""
    }
   },
   "source": [
    "Aplico filtro de > 50 días entre compras considero dormido en la plataforma"
   ]
  },
  {
   "cell_type": "code",
   "execution_count": 27,
   "metadata": {
    "application/vnd.databricks.v1+cell": {
     "cellMetadata": {
      "byteLimit": 2048000,
      "rowLimit": 10000
     },
     "inputWidgets": {},
     "nuid": "c9df5c0a-2b6a-4e12-835b-838608265d6b",
     "showTitle": false,
     "title": ""
    }
   },
   "outputs": [],
   "source": [
    "pdvs_unicos = last_order_dates_general['PointOfSaleId'].unique()\n",
    "\n",
    "lista_pdvs = pdvs_unicos.tolist()"
   ]
  },
  {
   "cell_type": "code",
   "execution_count": 28,
   "metadata": {
    "application/vnd.databricks.v1+cell": {
     "cellMetadata": {
      "byteLimit": 2048000,
      "rowLimit": 10000
     },
     "inputWidgets": {},
     "nuid": "89357957-c874-48ac-8df6-887df1998bc7",
     "showTitle": false,
     "title": ""
    }
   },
   "outputs": [],
   "source": [
    "df_filtered = order_detail_sorted[order_detail_sorted['PointOfSaleId'].isin(lista_pdvs)]"
   ]
  },
  {
   "cell_type": "code",
   "execution_count": 61,
   "metadata": {},
   "outputs": [],
   "source": [
    "def filter_coupons(coupons):\n",
    "    return [coupon for coupon in coupons if pd.notna(coupon)]\n",
    "\n",
    "# Filtrar los registros online\n",
    "df_filtered_online = df_filtered[df_filtered['Origin'] == 'Online']\n",
    "\n",
    "resultados_dormidos = df_filtered.groupby('PointOfSaleId').agg(\n",
    "    UniqueCoupons=('NormalizedCoupon', lambda x: filter_coupons(x.unique())),  # Lista de códigos de cupones únicos, sin None/NaN\n",
    "    NumberOfUniqueCoupons=('NormalizedCoupon', lambda x: x.dropna().nunique()),  # Número de cupones únicos sin considerar None/NaN\n",
    "    CouponDiscountAmt=('CouponDiscountAmt', 'sum'),  # Suma total del monto de descuento\n",
    "    SelloutGeneral=('Sellout', 'sum')  # Suma total de las ventas (general)\n",
    ").reset_index()\n",
    "\n",
    "# Agrupar por 'PointOfSaleId' para obtener el Sellout solo de los pedidos online\n",
    "sellout_online = df_filtered_online.groupby('PointOfSaleId').agg(\n",
    "    SelloutOnline=('Sellout', 'sum')  # Suma total de las ventas solo de origen online\n",
    ").reset_index()\n",
    "\n",
    "# Hacer un merge para agregar el 'SelloutOnline' al DataFrame 'resultados_dormidos'\n",
    "resultados_dormidos = pd.merge(resultados_dormidos, sellout_online, on='PointOfSaleId', how='left')\n",
    "\n",
    "# Rellenar valores NaN en 'SelloutOnline' con 0 (si el PDV no tiene ventas online)\n",
    "resultados_dormidos['SelloutOnline'] = resultados_dormidos['SelloutOnline'].fillna(0)\n",
    "resultados_dormidos=resultados_dormidos[resultados_dormidos['CouponDiscountAmt']>0 ]\n",
    "resultados_dormidos['Ratio_Cupones_Sellout'] = resultados_dormidos['SelloutOnline'] / resultados_dormidos['CouponDiscountAmt']\n",
    "resultados_dormidos['Ratio_Cupones_Sellout'] = resultados_dormidos['Ratio_Cupones_Sellout'].fillna(0)  # Reemplazar NaN por 0 para evitar errores de división\n",
    "\n",
    "resultados_dormidos_path=  r'C:\\Users\\ctrujils\\resultados_pdv_dormidos.xlsx'\n",
    "resultados_dormidos.to_excel(resultados_dormidos_path)\n"
   ]
  },
  {
   "cell_type": "code",
   "execution_count": 63,
   "metadata": {},
   "outputs": [
    {
     "data": {
      "text/html": [
       "<div>\n",
       "<style scoped>\n",
       "    .dataframe tbody tr th:only-of-type {\n",
       "        vertical-align: middle;\n",
       "    }\n",
       "\n",
       "    .dataframe tbody tr th {\n",
       "        vertical-align: top;\n",
       "    }\n",
       "\n",
       "    .dataframe thead th {\n",
       "        text-align: right;\n",
       "    }\n",
       "</style>\n",
       "<table border=\"1\" class=\"dataframe\">\n",
       "  <thead>\n",
       "    <tr style=\"text-align: right;\">\n",
       "      <th></th>\n",
       "      <th>PointOfSaleId</th>\n",
       "      <th>UniqueCoupons</th>\n",
       "      <th>NumberOfUniqueCoupons</th>\n",
       "      <th>CouponDiscountAmt</th>\n",
       "      <th>SelloutGeneral</th>\n",
       "      <th>SelloutOnline</th>\n",
       "      <th>Ratio_Cupones_Sellout</th>\n",
       "    </tr>\n",
       "  </thead>\n",
       "  <tbody>\n",
       "    <tr>\n",
       "      <th>0</th>\n",
       "      <td>100005</td>\n",
       "      <td>[No cupón, PASCUA15, PRIMAVERA20, VOLDIS15%, H...</td>\n",
       "      <td>6</td>\n",
       "      <td>403.639996</td>\n",
       "      <td>2528.709999</td>\n",
       "      <td>2528.709999</td>\n",
       "      <td>6.264766</td>\n",
       "    </tr>\n",
       "    <tr>\n",
       "      <th>1</th>\n",
       "      <td>100131</td>\n",
       "      <td>[PRIMAVERA20, VOLDIS15%, Verano15, BAR10]</td>\n",
       "      <td>4</td>\n",
       "      <td>78.129999</td>\n",
       "      <td>414.890003</td>\n",
       "      <td>414.890003</td>\n",
       "      <td>5.310252</td>\n",
       "    </tr>\n",
       "    <tr>\n",
       "      <th>2</th>\n",
       "      <td>100141</td>\n",
       "      <td>[Bar10, No cupón]</td>\n",
       "      <td>2</td>\n",
       "      <td>50.000000</td>\n",
       "      <td>1606.490052</td>\n",
       "      <td>1606.490052</td>\n",
       "      <td>32.129801</td>\n",
       "    </tr>\n",
       "    <tr>\n",
       "      <th>3</th>\n",
       "      <td>100150</td>\n",
       "      <td>[BIENVENIDA20]</td>\n",
       "      <td>1</td>\n",
       "      <td>100.000000</td>\n",
       "      <td>512.450012</td>\n",
       "      <td>512.450012</td>\n",
       "      <td>5.124500</td>\n",
       "    </tr>\n",
       "    <tr>\n",
       "      <th>4</th>\n",
       "      <td>100152</td>\n",
       "      <td>[BIENVENIDA20, VOLDIS15%, Mereces15]</td>\n",
       "      <td>3</td>\n",
       "      <td>69.160000</td>\n",
       "      <td>347.579994</td>\n",
       "      <td>347.579994</td>\n",
       "      <td>5.025737</td>\n",
       "    </tr>\n",
       "    <tr>\n",
       "      <th>...</th>\n",
       "      <td>...</td>\n",
       "      <td>...</td>\n",
       "      <td>...</td>\n",
       "      <td>...</td>\n",
       "      <td>...</td>\n",
       "      <td>...</td>\n",
       "      <td>...</td>\n",
       "    </tr>\n",
       "    <tr>\n",
       "      <th>3802</th>\n",
       "      <td>CLI0051066</td>\n",
       "      <td>[No cupón, MERECES15]</td>\n",
       "      <td>2</td>\n",
       "      <td>25.129999</td>\n",
       "      <td>3583.680006</td>\n",
       "      <td>1464.990006</td>\n",
       "      <td>58.296461</td>\n",
       "    </tr>\n",
       "    <tr>\n",
       "      <th>3803</th>\n",
       "      <td>CLI0051071</td>\n",
       "      <td>[No cupón, MERECES15]</td>\n",
       "      <td>2</td>\n",
       "      <td>100.570000</td>\n",
       "      <td>6817.259984</td>\n",
       "      <td>569.889984</td>\n",
       "      <td>5.666600</td>\n",
       "    </tr>\n",
       "    <tr>\n",
       "      <th>3804</th>\n",
       "      <td>CLI0051127</td>\n",
       "      <td>[No cupón, Mereces15]</td>\n",
       "      <td>2</td>\n",
       "      <td>75.000000</td>\n",
       "      <td>2121.709985</td>\n",
       "      <td>458.859985</td>\n",
       "      <td>6.118133</td>\n",
       "    </tr>\n",
       "    <tr>\n",
       "      <th>3805</th>\n",
       "      <td>F003394</td>\n",
       "      <td>[BIENVENIDA20DTO, VOLDIS15%]</td>\n",
       "      <td>2</td>\n",
       "      <td>114.310001</td>\n",
       "      <td>615.849991</td>\n",
       "      <td>615.849991</td>\n",
       "      <td>5.387543</td>\n",
       "    </tr>\n",
       "    <tr>\n",
       "      <th>3806</th>\n",
       "      <td>cli0030230</td>\n",
       "      <td>[BIENVENIDA20, No cupón, MERECES15]</td>\n",
       "      <td>3</td>\n",
       "      <td>117.209999</td>\n",
       "      <td>1108.800003</td>\n",
       "      <td>1108.800003</td>\n",
       "      <td>9.459944</td>\n",
       "    </tr>\n",
       "  </tbody>\n",
       "</table>\n",
       "<p>3639 rows × 7 columns</p>\n",
       "</div>"
      ],
      "text/plain": [
       "     PointOfSaleId                                      UniqueCoupons  \\\n",
       "0           100005  [No cupón, PASCUA15, PRIMAVERA20, VOLDIS15%, H...   \n",
       "1           100131          [PRIMAVERA20, VOLDIS15%, Verano15, BAR10]   \n",
       "2           100141                                  [Bar10, No cupón]   \n",
       "3           100150                                     [BIENVENIDA20]   \n",
       "4           100152               [BIENVENIDA20, VOLDIS15%, Mereces15]   \n",
       "...            ...                                                ...   \n",
       "3802    CLI0051066                              [No cupón, MERECES15]   \n",
       "3803    CLI0051071                              [No cupón, MERECES15]   \n",
       "3804    CLI0051127                              [No cupón, Mereces15]   \n",
       "3805       F003394                       [BIENVENIDA20DTO, VOLDIS15%]   \n",
       "3806    cli0030230                [BIENVENIDA20, No cupón, MERECES15]   \n",
       "\n",
       "      NumberOfUniqueCoupons  CouponDiscountAmt  SelloutGeneral  SelloutOnline  \\\n",
       "0                         6         403.639996     2528.709999    2528.709999   \n",
       "1                         4          78.129999      414.890003     414.890003   \n",
       "2                         2          50.000000     1606.490052    1606.490052   \n",
       "3                         1         100.000000      512.450012     512.450012   \n",
       "4                         3          69.160000      347.579994     347.579994   \n",
       "...                     ...                ...             ...            ...   \n",
       "3802                      2          25.129999     3583.680006    1464.990006   \n",
       "3803                      2         100.570000     6817.259984     569.889984   \n",
       "3804                      2          75.000000     2121.709985     458.859985   \n",
       "3805                      2         114.310001      615.849991     615.849991   \n",
       "3806                      3         117.209999     1108.800003    1108.800003   \n",
       "\n",
       "      Ratio_Cupones_Sellout  \n",
       "0                  6.264766  \n",
       "1                  5.310252  \n",
       "2                 32.129801  \n",
       "3                  5.124500  \n",
       "4                  5.025737  \n",
       "...                     ...  \n",
       "3802              58.296461  \n",
       "3803               5.666600  \n",
       "3804               6.118133  \n",
       "3805               5.387543  \n",
       "3806               9.459944  \n",
       "\n",
       "[3639 rows x 7 columns]"
      ]
     },
     "execution_count": 63,
     "metadata": {},
     "output_type": "execute_result"
    }
   ],
   "source": [
    "resultados_dormidos"
   ]
  },
  {
   "cell_type": "code",
   "execution_count": 31,
   "metadata": {},
   "outputs": [],
   "source": [
    "# resultados_dormidos[resultados_dormidos['Ratio_Cupones_Sellout']>500]"
   ]
  },
  {
   "cell_type": "code",
   "execution_count": 32,
   "metadata": {},
   "outputs": [],
   "source": [
    "# a=order_detail_sorted[order_detail_sorted['PointOfSaleId']=='CLI0025203']"
   ]
  },
  {
   "cell_type": "code",
   "execution_count": 64,
   "metadata": {},
   "outputs": [
    {
     "data": {
      "text/plain": [
       "count    3639.000000\n",
       "mean       10.513347\n",
       "std        15.778697\n",
       "min         0.507000\n",
       "25%         5.680462\n",
       "50%         7.816484\n",
       "75%        10.717229\n",
       "max       607.073928\n",
       "Name: Ratio_Cupones_Sellout, dtype: float64"
      ]
     },
     "execution_count": 64,
     "metadata": {},
     "output_type": "execute_result"
    }
   ],
   "source": [
    "roi_dormidos_stats = resultados_dormidos['Ratio_Cupones_Sellout'].describe()\n",
    "roi_dormidos_stats"
   ]
  },
  {
   "cell_type": "markdown",
   "metadata": {},
   "source": [
    "# Frecuencia de compra online"
   ]
  },
  {
   "cell_type": "code",
   "execution_count": 34,
   "metadata": {},
   "outputs": [
    {
     "data": {
      "text/html": [
       "<div>\n",
       "<style scoped>\n",
       "    .dataframe tbody tr th:only-of-type {\n",
       "        vertical-align: middle;\n",
       "    }\n",
       "\n",
       "    .dataframe tbody tr th {\n",
       "        vertical-align: top;\n",
       "    }\n",
       "\n",
       "    .dataframe thead th {\n",
       "        text-align: right;\n",
       "    }\n",
       "</style>\n",
       "<table border=\"1\" class=\"dataframe\">\n",
       "  <thead>\n",
       "    <tr style=\"text-align: right;\">\n",
       "      <th></th>\n",
       "      <th>Code</th>\n",
       "      <th>OrderDate</th>\n",
       "      <th>Sellout</th>\n",
       "      <th>CodeProduct</th>\n",
       "      <th>Name</th>\n",
       "      <th>NameDistributor</th>\n",
       "      <th>PointOfSaleId</th>\n",
       "      <th>CouponCode</th>\n",
       "      <th>CouponDiscountAmt</th>\n",
       "      <th>CouponDiscountPct</th>\n",
       "      <th>...</th>\n",
       "      <th>Frequency_online</th>\n",
       "      <th>Coupon_type</th>\n",
       "      <th>PctgCouponUsed</th>\n",
       "      <th>DaysBetweenPurchases</th>\n",
       "      <th>CumulativeAvgDaysBetweenPurchases</th>\n",
       "      <th>IsOnline</th>\n",
       "      <th>LastPurchaseOnline</th>\n",
       "      <th>Digitalizacion</th>\n",
       "      <th>ForwardOnline</th>\n",
       "      <th>NumberOfOrders</th>\n",
       "    </tr>\n",
       "  </thead>\n",
       "  <tbody>\n",
       "    <tr>\n",
       "      <th>42057</th>\n",
       "      <td>9401125</td>\n",
       "      <td>2024-06-07</td>\n",
       "      <td>215.220001</td>\n",
       "      <td>[042_bebicer, 22_bebicer, 25109_bebicer]</td>\n",
       "      <td>OASIS NEGRO</td>\n",
       "      <td>Bebicer</td>\n",
       "      <td>1533</td>\n",
       "      <td>BIENVENIDA20</td>\n",
       "      <td>53.799999</td>\n",
       "      <td>20.0</td>\n",
       "      <td>...</td>\n",
       "      <td>1.0</td>\n",
       "      <td>Porcentual</td>\n",
       "      <td>100.000000</td>\n",
       "      <td>0.0</td>\n",
       "      <td>0.000000</td>\n",
       "      <td>True</td>\n",
       "      <td>False</td>\n",
       "      <td>1.0</td>\n",
       "      <td>True</td>\n",
       "      <td>1</td>\n",
       "    </tr>\n",
       "    <tr>\n",
       "      <th>42058</th>\n",
       "      <td>9400855</td>\n",
       "      <td>2024-05-23</td>\n",
       "      <td>820.890015</td>\n",
       "      <td>[06_bebicer, 042_bebicer, 3810_bebicer, 3802_b...</td>\n",
       "      <td>VEN Y VERAS - CERVECERIA</td>\n",
       "      <td>Bebicer</td>\n",
       "      <td>1543</td>\n",
       "      <td>SEGUNDOPEDIDO15%</td>\n",
       "      <td>75.000000</td>\n",
       "      <td>15.0</td>\n",
       "      <td>...</td>\n",
       "      <td>1.0</td>\n",
       "      <td>Porcentual</td>\n",
       "      <td>100.000000</td>\n",
       "      <td>0.0</td>\n",
       "      <td>0.000000</td>\n",
       "      <td>True</td>\n",
       "      <td>False</td>\n",
       "      <td>1.0</td>\n",
       "      <td>True</td>\n",
       "      <td>1</td>\n",
       "    </tr>\n",
       "    <tr>\n",
       "      <th>42059</th>\n",
       "      <td>9401068</td>\n",
       "      <td>2024-06-05</td>\n",
       "      <td>329.549988</td>\n",
       "      <td>[22_bebicer, 20_bebicer, 23_bebicer, 54_bebice...</td>\n",
       "      <td>LA GALERIA - BAR</td>\n",
       "      <td>Bebicer</td>\n",
       "      <td>1583</td>\n",
       "      <td>BIENVENIDA20</td>\n",
       "      <td>82.389999</td>\n",
       "      <td>20.0</td>\n",
       "      <td>...</td>\n",
       "      <td>1.0</td>\n",
       "      <td>Porcentual</td>\n",
       "      <td>100.000000</td>\n",
       "      <td>0.0</td>\n",
       "      <td>0.000000</td>\n",
       "      <td>True</td>\n",
       "      <td>False</td>\n",
       "      <td>1.0</td>\n",
       "      <td>True</td>\n",
       "      <td>1</td>\n",
       "    </tr>\n",
       "    <tr>\n",
       "      <th>42060</th>\n",
       "      <td>9401187</td>\n",
       "      <td>2024-06-12</td>\n",
       "      <td>352.920013</td>\n",
       "      <td>[23_bebicer, 51_bebicer, 25109_bebicer, 2004_b...</td>\n",
       "      <td>LA TRINI - BAR</td>\n",
       "      <td>Bebicer</td>\n",
       "      <td>1611</td>\n",
       "      <td>BIENVENIDA20</td>\n",
       "      <td>88.230003</td>\n",
       "      <td>20.0</td>\n",
       "      <td>...</td>\n",
       "      <td>1.0</td>\n",
       "      <td>Porcentual</td>\n",
       "      <td>100.000000</td>\n",
       "      <td>0.0</td>\n",
       "      <td>0.000000</td>\n",
       "      <td>True</td>\n",
       "      <td>False</td>\n",
       "      <td>1.0</td>\n",
       "      <td>True</td>\n",
       "      <td>1</td>\n",
       "    </tr>\n",
       "    <tr>\n",
       "      <th>42061</th>\n",
       "      <td>9401291</td>\n",
       "      <td>2024-06-19</td>\n",
       "      <td>1304.469971</td>\n",
       "      <td>[20_bebicer, 22_bebicer, 042_bebicer, 23_bebic...</td>\n",
       "      <td>EL SALERO DE MING</td>\n",
       "      <td>Bebicer</td>\n",
       "      <td>1709</td>\n",
       "      <td>SEGUNDOPEDIDO15%</td>\n",
       "      <td>75.000000</td>\n",
       "      <td>15.0</td>\n",
       "      <td>...</td>\n",
       "      <td>1.0</td>\n",
       "      <td>Porcentual</td>\n",
       "      <td>100.000000</td>\n",
       "      <td>0.0</td>\n",
       "      <td>0.000000</td>\n",
       "      <td>True</td>\n",
       "      <td>False</td>\n",
       "      <td>1.0</td>\n",
       "      <td>True</td>\n",
       "      <td>1</td>\n",
       "    </tr>\n",
       "    <tr>\n",
       "      <th>...</th>\n",
       "      <td>...</td>\n",
       "      <td>...</td>\n",
       "      <td>...</td>\n",
       "      <td>...</td>\n",
       "      <td>...</td>\n",
       "      <td>...</td>\n",
       "      <td>...</td>\n",
       "      <td>...</td>\n",
       "      <td>...</td>\n",
       "      <td>...</td>\n",
       "      <td>...</td>\n",
       "      <td>...</td>\n",
       "      <td>...</td>\n",
       "      <td>...</td>\n",
       "      <td>...</td>\n",
       "      <td>...</td>\n",
       "      <td>...</td>\n",
       "      <td>...</td>\n",
       "      <td>...</td>\n",
       "      <td>...</td>\n",
       "      <td>...</td>\n",
       "    </tr>\n",
       "    <tr>\n",
       "      <th>477929</th>\n",
       "      <td>FP24-040527</td>\n",
       "      <td>2024-06-18</td>\n",
       "      <td>142.389999</td>\n",
       "      <td>[2030_voldisvalencia, 2020_voldisvalencia, 209...</td>\n",
       "      <td>KA MONLLU</td>\n",
       "      <td>Voldis Valencia</td>\n",
       "      <td>CLI0051066</td>\n",
       "      <td>MERECES15</td>\n",
       "      <td>25.129999</td>\n",
       "      <td>15.0</td>\n",
       "      <td>...</td>\n",
       "      <td>7.0</td>\n",
       "      <td>Porcentual</td>\n",
       "      <td>3.973290</td>\n",
       "      <td>7.0</td>\n",
       "      <td>9.333333</td>\n",
       "      <td>True</td>\n",
       "      <td>True</td>\n",
       "      <td>6.0</td>\n",
       "      <td>True</td>\n",
       "      <td>21</td>\n",
       "    </tr>\n",
       "    <tr>\n",
       "      <th>477932</th>\n",
       "      <td>FP24-046239</td>\n",
       "      <td>2024-07-09</td>\n",
       "      <td>171.130005</td>\n",
       "      <td>[PRD0005412_voldisvalencia, PRD0005421_voldisv...</td>\n",
       "      <td>KA MONLLU</td>\n",
       "      <td>Voldis Valencia</td>\n",
       "      <td>CLI0051066</td>\n",
       "      <td>None</td>\n",
       "      <td>0.000000</td>\n",
       "      <td>0.0</td>\n",
       "      <td>...</td>\n",
       "      <td>7.0</td>\n",
       "      <td>NoCupon</td>\n",
       "      <td>3.973290</td>\n",
       "      <td>21.0</td>\n",
       "      <td>11.000000</td>\n",
       "      <td>True</td>\n",
       "      <td>False</td>\n",
       "      <td>5.0</td>\n",
       "      <td>True</td>\n",
       "      <td>21</td>\n",
       "    </tr>\n",
       "    <tr>\n",
       "      <th>477985</th>\n",
       "      <td>FP24-040496</td>\n",
       "      <td>2024-06-17</td>\n",
       "      <td>376.049988</td>\n",
       "      <td>[3096_voldisvalencia, 2090_voldisvalencia, 242...</td>\n",
       "      <td>PUB MAMBA</td>\n",
       "      <td>Voldis Valencia</td>\n",
       "      <td>CLI0051071</td>\n",
       "      <td>MERECES15</td>\n",
       "      <td>66.360001</td>\n",
       "      <td>15.0</td>\n",
       "      <td>...</td>\n",
       "      <td>2.0</td>\n",
       "      <td>Porcentual</td>\n",
       "      <td>8.359517</td>\n",
       "      <td>0.0</td>\n",
       "      <td>0.000000</td>\n",
       "      <td>True</td>\n",
       "      <td>False</td>\n",
       "      <td>1.0</td>\n",
       "      <td>True</td>\n",
       "      <td>42</td>\n",
       "    </tr>\n",
       "    <tr>\n",
       "      <th>477989</th>\n",
       "      <td>FP24-042395</td>\n",
       "      <td>2024-06-24</td>\n",
       "      <td>193.839996</td>\n",
       "      <td>[24207_voldisvalencia, 1995_voldisvalencia, 55...</td>\n",
       "      <td>PUB MAMBA</td>\n",
       "      <td>Voldis Valencia</td>\n",
       "      <td>CLI0051071</td>\n",
       "      <td>MERECES15</td>\n",
       "      <td>34.209999</td>\n",
       "      <td>15.0</td>\n",
       "      <td>...</td>\n",
       "      <td>2.0</td>\n",
       "      <td>Porcentual</td>\n",
       "      <td>8.359517</td>\n",
       "      <td>7.0</td>\n",
       "      <td>3.500000</td>\n",
       "      <td>True</td>\n",
       "      <td>False</td>\n",
       "      <td>2.0</td>\n",
       "      <td>True</td>\n",
       "      <td>42</td>\n",
       "    </tr>\n",
       "    <tr>\n",
       "      <th>478221</th>\n",
       "      <td>FP24-040711</td>\n",
       "      <td>2024-06-18</td>\n",
       "      <td>458.859985</td>\n",
       "      <td>[2050_voldisvalencia, 2155_voldisvalencia, 242...</td>\n",
       "      <td>RESTAURANTE TAULELL</td>\n",
       "      <td>Voldis Valencia</td>\n",
       "      <td>CLI0051127</td>\n",
       "      <td>Mereces15</td>\n",
       "      <td>75.000000</td>\n",
       "      <td>15.0</td>\n",
       "      <td>...</td>\n",
       "      <td>1.0</td>\n",
       "      <td>Porcentual</td>\n",
       "      <td>21.626895</td>\n",
       "      <td>0.0</td>\n",
       "      <td>0.000000</td>\n",
       "      <td>True</td>\n",
       "      <td>False</td>\n",
       "      <td>1.0</td>\n",
       "      <td>True</td>\n",
       "      <td>9</td>\n",
       "    </tr>\n",
       "  </tbody>\n",
       "</table>\n",
       "<p>34079 rows × 27 columns</p>\n",
       "</div>"
      ],
      "text/plain": [
       "               Code  OrderDate      Sellout  \\\n",
       "42057       9401125 2024-06-07   215.220001   \n",
       "42058       9400855 2024-05-23   820.890015   \n",
       "42059       9401068 2024-06-05   329.549988   \n",
       "42060       9401187 2024-06-12   352.920013   \n",
       "42061       9401291 2024-06-19  1304.469971   \n",
       "...             ...        ...          ...   \n",
       "477929  FP24-040527 2024-06-18   142.389999   \n",
       "477932  FP24-046239 2024-07-09   171.130005   \n",
       "477985  FP24-040496 2024-06-17   376.049988   \n",
       "477989  FP24-042395 2024-06-24   193.839996   \n",
       "478221  FP24-040711 2024-06-18   458.859985   \n",
       "\n",
       "                                              CodeProduct  \\\n",
       "42057            [042_bebicer, 22_bebicer, 25109_bebicer]   \n",
       "42058   [06_bebicer, 042_bebicer, 3810_bebicer, 3802_b...   \n",
       "42059   [22_bebicer, 20_bebicer, 23_bebicer, 54_bebice...   \n",
       "42060   [23_bebicer, 51_bebicer, 25109_bebicer, 2004_b...   \n",
       "42061   [20_bebicer, 22_bebicer, 042_bebicer, 23_bebic...   \n",
       "...                                                   ...   \n",
       "477929  [2030_voldisvalencia, 2020_voldisvalencia, 209...   \n",
       "477932  [PRD0005412_voldisvalencia, PRD0005421_voldisv...   \n",
       "477985  [3096_voldisvalencia, 2090_voldisvalencia, 242...   \n",
       "477989  [24207_voldisvalencia, 1995_voldisvalencia, 55...   \n",
       "478221  [2050_voldisvalencia, 2155_voldisvalencia, 242...   \n",
       "\n",
       "                            Name  NameDistributor PointOfSaleId  \\\n",
       "42057                OASIS NEGRO          Bebicer          1533   \n",
       "42058   VEN Y VERAS - CERVECERIA          Bebicer          1543   \n",
       "42059           LA GALERIA - BAR          Bebicer          1583   \n",
       "42060             LA TRINI - BAR          Bebicer          1611   \n",
       "42061          EL SALERO DE MING          Bebicer          1709   \n",
       "...                          ...              ...           ...   \n",
       "477929                 KA MONLLU  Voldis Valencia    CLI0051066   \n",
       "477932                 KA MONLLU  Voldis Valencia    CLI0051066   \n",
       "477985                 PUB MAMBA  Voldis Valencia    CLI0051071   \n",
       "477989                 PUB MAMBA  Voldis Valencia    CLI0051071   \n",
       "478221       RESTAURANTE TAULELL  Voldis Valencia    CLI0051127   \n",
       "\n",
       "              CouponCode  CouponDiscountAmt  CouponDiscountPct  ...  \\\n",
       "42057       BIENVENIDA20          53.799999               20.0  ...   \n",
       "42058   SEGUNDOPEDIDO15%          75.000000               15.0  ...   \n",
       "42059       BIENVENIDA20          82.389999               20.0  ...   \n",
       "42060       BIENVENIDA20          88.230003               20.0  ...   \n",
       "42061   SEGUNDOPEDIDO15%          75.000000               15.0  ...   \n",
       "...                  ...                ...                ...  ...   \n",
       "477929         MERECES15          25.129999               15.0  ...   \n",
       "477932              None           0.000000                0.0  ...   \n",
       "477985         MERECES15          66.360001               15.0  ...   \n",
       "477989         MERECES15          34.209999               15.0  ...   \n",
       "478221         Mereces15          75.000000               15.0  ...   \n",
       "\n",
       "       Frequency_online Coupon_type PctgCouponUsed DaysBetweenPurchases  \\\n",
       "42057               1.0  Porcentual     100.000000                  0.0   \n",
       "42058               1.0  Porcentual     100.000000                  0.0   \n",
       "42059               1.0  Porcentual     100.000000                  0.0   \n",
       "42060               1.0  Porcentual     100.000000                  0.0   \n",
       "42061               1.0  Porcentual     100.000000                  0.0   \n",
       "...                 ...         ...            ...                  ...   \n",
       "477929              7.0  Porcentual       3.973290                  7.0   \n",
       "477932              7.0     NoCupon       3.973290                 21.0   \n",
       "477985              2.0  Porcentual       8.359517                  0.0   \n",
       "477989              2.0  Porcentual       8.359517                  7.0   \n",
       "478221              1.0  Porcentual      21.626895                  0.0   \n",
       "\n",
       "        CumulativeAvgDaysBetweenPurchases IsOnline LastPurchaseOnline  \\\n",
       "42057                            0.000000     True              False   \n",
       "42058                            0.000000     True              False   \n",
       "42059                            0.000000     True              False   \n",
       "42060                            0.000000     True              False   \n",
       "42061                            0.000000     True              False   \n",
       "...                                   ...      ...                ...   \n",
       "477929                           9.333333     True               True   \n",
       "477932                          11.000000     True              False   \n",
       "477985                           0.000000     True              False   \n",
       "477989                           3.500000     True              False   \n",
       "478221                           0.000000     True              False   \n",
       "\n",
       "        Digitalizacion ForwardOnline  NumberOfOrders  \n",
       "42057              1.0          True               1  \n",
       "42058              1.0          True               1  \n",
       "42059              1.0          True               1  \n",
       "42060              1.0          True               1  \n",
       "42061              1.0          True               1  \n",
       "...                ...           ...             ...  \n",
       "477929             6.0          True              21  \n",
       "477932             5.0          True              21  \n",
       "477985             1.0          True              42  \n",
       "477989             2.0          True              42  \n",
       "478221             1.0          True               9  \n",
       "\n",
       "[34079 rows x 27 columns]"
      ]
     },
     "execution_count": 34,
     "metadata": {},
     "output_type": "execute_result"
    }
   ],
   "source": [
    "online_orders"
   ]
  },
  {
   "cell_type": "code",
   "execution_count": 35,
   "metadata": {},
   "outputs": [],
   "source": [
    "# ### Filtro solo ONLINE\n",
    "# online_orders = order_detail_sorted[order_detail_sorted['Origin'] == 'Online']\n",
    "\n",
    "# 2. Calcular la frecuencia online por cada PointOfSaleId\n",
    "frequency_online_per_pdv = online_orders.groupby(['PointOfSaleId', 'NameDistributor']).size().reset_index(name='FrequencyOnline')\n",
    "\n",
    "# 3. Calcular los percentiles para definir los segmentos (cuartiles personalizados)\n",
    "percentiles = frequency_online_per_pdv['FrequencyOnline'].quantile([0.1, 0.5, 0.9]).values\n",
    "\n",
    "# 4. Función para clasificar los PDVs en cuartiles personalizados\n",
    "def clasificar_frecuencia(frequency):\n",
    "    if frequency > percentiles[2]:\n",
    "        return 'A'  # Top 10%\n",
    "    elif percentiles[1] < frequency <= percentiles[2]:\n",
    "        return 'B'  # 40% Superior\n",
    "    elif percentiles[0] < frequency <= percentiles[1]:\n",
    "        return 'C'  # 40% Inferior\n",
    "    else:\n",
    "        return 'D'  # Bottom 10%\n",
    "\n",
    "# 5. Aplicar la clasificación\n",
    "frequency_online_per_pdv['SegmentoFrecuencia'] = frequency_online_per_pdv['FrequencyOnline'].apply(clasificar_frecuencia)\n"
   ]
  },
  {
   "cell_type": "code",
   "execution_count": 36,
   "metadata": {},
   "outputs": [],
   "source": [
    "online_orders=pd.merge(online_orders, frequency_online_per_pdv[['PointOfSaleId', 'NameDistributor' ,'SegmentoFrecuencia']], on=['PointOfSaleId','NameDistributor' ], how='left')"
   ]
  },
  {
   "cell_type": "code",
   "execution_count": 37,
   "metadata": {},
   "outputs": [
    {
     "data": {
      "text/html": [
       "<div>\n",
       "<style scoped>\n",
       "    .dataframe tbody tr th:only-of-type {\n",
       "        vertical-align: middle;\n",
       "    }\n",
       "\n",
       "    .dataframe tbody tr th {\n",
       "        vertical-align: top;\n",
       "    }\n",
       "\n",
       "    .dataframe thead th {\n",
       "        text-align: right;\n",
       "    }\n",
       "</style>\n",
       "<table border=\"1\" class=\"dataframe\">\n",
       "  <thead>\n",
       "    <tr style=\"text-align: right;\">\n",
       "      <th></th>\n",
       "      <th>Code</th>\n",
       "      <th>OrderDate</th>\n",
       "      <th>Sellout</th>\n",
       "      <th>CodeProduct</th>\n",
       "      <th>Name</th>\n",
       "      <th>NameDistributor</th>\n",
       "      <th>PointOfSaleId</th>\n",
       "      <th>CouponCode</th>\n",
       "      <th>CouponDiscountAmt</th>\n",
       "      <th>CouponDiscountPct</th>\n",
       "      <th>...</th>\n",
       "      <th>Coupon_type</th>\n",
       "      <th>PctgCouponUsed</th>\n",
       "      <th>DaysBetweenPurchases</th>\n",
       "      <th>CumulativeAvgDaysBetweenPurchases</th>\n",
       "      <th>IsOnline</th>\n",
       "      <th>LastPurchaseOnline</th>\n",
       "      <th>Digitalizacion</th>\n",
       "      <th>ForwardOnline</th>\n",
       "      <th>NumberOfOrders</th>\n",
       "      <th>SegmentoFrecuencia</th>\n",
       "    </tr>\n",
       "  </thead>\n",
       "  <tbody>\n",
       "    <tr>\n",
       "      <th>0</th>\n",
       "      <td>9401125</td>\n",
       "      <td>2024-06-07</td>\n",
       "      <td>215.220001</td>\n",
       "      <td>[042_bebicer, 22_bebicer, 25109_bebicer]</td>\n",
       "      <td>OASIS NEGRO</td>\n",
       "      <td>Bebicer</td>\n",
       "      <td>1533</td>\n",
       "      <td>BIENVENIDA20</td>\n",
       "      <td>53.799999</td>\n",
       "      <td>20.0</td>\n",
       "      <td>...</td>\n",
       "      <td>Porcentual</td>\n",
       "      <td>100.000000</td>\n",
       "      <td>0.0</td>\n",
       "      <td>0.000000</td>\n",
       "      <td>True</td>\n",
       "      <td>False</td>\n",
       "      <td>1.0</td>\n",
       "      <td>True</td>\n",
       "      <td>1</td>\n",
       "      <td>D</td>\n",
       "    </tr>\n",
       "    <tr>\n",
       "      <th>1</th>\n",
       "      <td>9400855</td>\n",
       "      <td>2024-05-23</td>\n",
       "      <td>820.890015</td>\n",
       "      <td>[06_bebicer, 042_bebicer, 3810_bebicer, 3802_b...</td>\n",
       "      <td>VEN Y VERAS - CERVECERIA</td>\n",
       "      <td>Bebicer</td>\n",
       "      <td>1543</td>\n",
       "      <td>SEGUNDOPEDIDO15%</td>\n",
       "      <td>75.000000</td>\n",
       "      <td>15.0</td>\n",
       "      <td>...</td>\n",
       "      <td>Porcentual</td>\n",
       "      <td>100.000000</td>\n",
       "      <td>0.0</td>\n",
       "      <td>0.000000</td>\n",
       "      <td>True</td>\n",
       "      <td>False</td>\n",
       "      <td>1.0</td>\n",
       "      <td>True</td>\n",
       "      <td>1</td>\n",
       "      <td>D</td>\n",
       "    </tr>\n",
       "    <tr>\n",
       "      <th>2</th>\n",
       "      <td>9401068</td>\n",
       "      <td>2024-06-05</td>\n",
       "      <td>329.549988</td>\n",
       "      <td>[22_bebicer, 20_bebicer, 23_bebicer, 54_bebice...</td>\n",
       "      <td>LA GALERIA - BAR</td>\n",
       "      <td>Bebicer</td>\n",
       "      <td>1583</td>\n",
       "      <td>BIENVENIDA20</td>\n",
       "      <td>82.389999</td>\n",
       "      <td>20.0</td>\n",
       "      <td>...</td>\n",
       "      <td>Porcentual</td>\n",
       "      <td>100.000000</td>\n",
       "      <td>0.0</td>\n",
       "      <td>0.000000</td>\n",
       "      <td>True</td>\n",
       "      <td>False</td>\n",
       "      <td>1.0</td>\n",
       "      <td>True</td>\n",
       "      <td>1</td>\n",
       "      <td>D</td>\n",
       "    </tr>\n",
       "    <tr>\n",
       "      <th>3</th>\n",
       "      <td>9401187</td>\n",
       "      <td>2024-06-12</td>\n",
       "      <td>352.920013</td>\n",
       "      <td>[23_bebicer, 51_bebicer, 25109_bebicer, 2004_b...</td>\n",
       "      <td>LA TRINI - BAR</td>\n",
       "      <td>Bebicer</td>\n",
       "      <td>1611</td>\n",
       "      <td>BIENVENIDA20</td>\n",
       "      <td>88.230003</td>\n",
       "      <td>20.0</td>\n",
       "      <td>...</td>\n",
       "      <td>Porcentual</td>\n",
       "      <td>100.000000</td>\n",
       "      <td>0.0</td>\n",
       "      <td>0.000000</td>\n",
       "      <td>True</td>\n",
       "      <td>False</td>\n",
       "      <td>1.0</td>\n",
       "      <td>True</td>\n",
       "      <td>1</td>\n",
       "      <td>D</td>\n",
       "    </tr>\n",
       "    <tr>\n",
       "      <th>4</th>\n",
       "      <td>9401291</td>\n",
       "      <td>2024-06-19</td>\n",
       "      <td>1304.469971</td>\n",
       "      <td>[20_bebicer, 22_bebicer, 042_bebicer, 23_bebic...</td>\n",
       "      <td>EL SALERO DE MING</td>\n",
       "      <td>Bebicer</td>\n",
       "      <td>1709</td>\n",
       "      <td>SEGUNDOPEDIDO15%</td>\n",
       "      <td>75.000000</td>\n",
       "      <td>15.0</td>\n",
       "      <td>...</td>\n",
       "      <td>Porcentual</td>\n",
       "      <td>100.000000</td>\n",
       "      <td>0.0</td>\n",
       "      <td>0.000000</td>\n",
       "      <td>True</td>\n",
       "      <td>False</td>\n",
       "      <td>1.0</td>\n",
       "      <td>True</td>\n",
       "      <td>1</td>\n",
       "      <td>D</td>\n",
       "    </tr>\n",
       "    <tr>\n",
       "      <th>...</th>\n",
       "      <td>...</td>\n",
       "      <td>...</td>\n",
       "      <td>...</td>\n",
       "      <td>...</td>\n",
       "      <td>...</td>\n",
       "      <td>...</td>\n",
       "      <td>...</td>\n",
       "      <td>...</td>\n",
       "      <td>...</td>\n",
       "      <td>...</td>\n",
       "      <td>...</td>\n",
       "      <td>...</td>\n",
       "      <td>...</td>\n",
       "      <td>...</td>\n",
       "      <td>...</td>\n",
       "      <td>...</td>\n",
       "      <td>...</td>\n",
       "      <td>...</td>\n",
       "      <td>...</td>\n",
       "      <td>...</td>\n",
       "      <td>...</td>\n",
       "    </tr>\n",
       "    <tr>\n",
       "      <th>34074</th>\n",
       "      <td>FP24-040527</td>\n",
       "      <td>2024-06-18</td>\n",
       "      <td>142.389999</td>\n",
       "      <td>[2030_voldisvalencia, 2020_voldisvalencia, 209...</td>\n",
       "      <td>KA MONLLU</td>\n",
       "      <td>Voldis Valencia</td>\n",
       "      <td>CLI0051066</td>\n",
       "      <td>MERECES15</td>\n",
       "      <td>25.129999</td>\n",
       "      <td>15.0</td>\n",
       "      <td>...</td>\n",
       "      <td>Porcentual</td>\n",
       "      <td>3.973290</td>\n",
       "      <td>7.0</td>\n",
       "      <td>9.333333</td>\n",
       "      <td>True</td>\n",
       "      <td>True</td>\n",
       "      <td>6.0</td>\n",
       "      <td>True</td>\n",
       "      <td>21</td>\n",
       "      <td>B</td>\n",
       "    </tr>\n",
       "    <tr>\n",
       "      <th>34075</th>\n",
       "      <td>FP24-046239</td>\n",
       "      <td>2024-07-09</td>\n",
       "      <td>171.130005</td>\n",
       "      <td>[PRD0005412_voldisvalencia, PRD0005421_voldisv...</td>\n",
       "      <td>KA MONLLU</td>\n",
       "      <td>Voldis Valencia</td>\n",
       "      <td>CLI0051066</td>\n",
       "      <td>None</td>\n",
       "      <td>0.000000</td>\n",
       "      <td>0.0</td>\n",
       "      <td>...</td>\n",
       "      <td>NoCupon</td>\n",
       "      <td>3.973290</td>\n",
       "      <td>21.0</td>\n",
       "      <td>11.000000</td>\n",
       "      <td>True</td>\n",
       "      <td>False</td>\n",
       "      <td>5.0</td>\n",
       "      <td>True</td>\n",
       "      <td>21</td>\n",
       "      <td>B</td>\n",
       "    </tr>\n",
       "    <tr>\n",
       "      <th>34076</th>\n",
       "      <td>FP24-040496</td>\n",
       "      <td>2024-06-17</td>\n",
       "      <td>376.049988</td>\n",
       "      <td>[3096_voldisvalencia, 2090_voldisvalencia, 242...</td>\n",
       "      <td>PUB MAMBA</td>\n",
       "      <td>Voldis Valencia</td>\n",
       "      <td>CLI0051071</td>\n",
       "      <td>MERECES15</td>\n",
       "      <td>66.360001</td>\n",
       "      <td>15.0</td>\n",
       "      <td>...</td>\n",
       "      <td>Porcentual</td>\n",
       "      <td>8.359517</td>\n",
       "      <td>0.0</td>\n",
       "      <td>0.000000</td>\n",
       "      <td>True</td>\n",
       "      <td>False</td>\n",
       "      <td>1.0</td>\n",
       "      <td>True</td>\n",
       "      <td>42</td>\n",
       "      <td>C</td>\n",
       "    </tr>\n",
       "    <tr>\n",
       "      <th>34077</th>\n",
       "      <td>FP24-042395</td>\n",
       "      <td>2024-06-24</td>\n",
       "      <td>193.839996</td>\n",
       "      <td>[24207_voldisvalencia, 1995_voldisvalencia, 55...</td>\n",
       "      <td>PUB MAMBA</td>\n",
       "      <td>Voldis Valencia</td>\n",
       "      <td>CLI0051071</td>\n",
       "      <td>MERECES15</td>\n",
       "      <td>34.209999</td>\n",
       "      <td>15.0</td>\n",
       "      <td>...</td>\n",
       "      <td>Porcentual</td>\n",
       "      <td>8.359517</td>\n",
       "      <td>7.0</td>\n",
       "      <td>3.500000</td>\n",
       "      <td>True</td>\n",
       "      <td>False</td>\n",
       "      <td>2.0</td>\n",
       "      <td>True</td>\n",
       "      <td>42</td>\n",
       "      <td>C</td>\n",
       "    </tr>\n",
       "    <tr>\n",
       "      <th>34078</th>\n",
       "      <td>FP24-040711</td>\n",
       "      <td>2024-06-18</td>\n",
       "      <td>458.859985</td>\n",
       "      <td>[2050_voldisvalencia, 2155_voldisvalencia, 242...</td>\n",
       "      <td>RESTAURANTE TAULELL</td>\n",
       "      <td>Voldis Valencia</td>\n",
       "      <td>CLI0051127</td>\n",
       "      <td>Mereces15</td>\n",
       "      <td>75.000000</td>\n",
       "      <td>15.0</td>\n",
       "      <td>...</td>\n",
       "      <td>Porcentual</td>\n",
       "      <td>21.626895</td>\n",
       "      <td>0.0</td>\n",
       "      <td>0.000000</td>\n",
       "      <td>True</td>\n",
       "      <td>False</td>\n",
       "      <td>1.0</td>\n",
       "      <td>True</td>\n",
       "      <td>9</td>\n",
       "      <td>D</td>\n",
       "    </tr>\n",
       "  </tbody>\n",
       "</table>\n",
       "<p>34079 rows × 28 columns</p>\n",
       "</div>"
      ],
      "text/plain": [
       "              Code  OrderDate      Sellout  \\\n",
       "0          9401125 2024-06-07   215.220001   \n",
       "1          9400855 2024-05-23   820.890015   \n",
       "2          9401068 2024-06-05   329.549988   \n",
       "3          9401187 2024-06-12   352.920013   \n",
       "4          9401291 2024-06-19  1304.469971   \n",
       "...            ...        ...          ...   \n",
       "34074  FP24-040527 2024-06-18   142.389999   \n",
       "34075  FP24-046239 2024-07-09   171.130005   \n",
       "34076  FP24-040496 2024-06-17   376.049988   \n",
       "34077  FP24-042395 2024-06-24   193.839996   \n",
       "34078  FP24-040711 2024-06-18   458.859985   \n",
       "\n",
       "                                             CodeProduct  \\\n",
       "0               [042_bebicer, 22_bebicer, 25109_bebicer]   \n",
       "1      [06_bebicer, 042_bebicer, 3810_bebicer, 3802_b...   \n",
       "2      [22_bebicer, 20_bebicer, 23_bebicer, 54_bebice...   \n",
       "3      [23_bebicer, 51_bebicer, 25109_bebicer, 2004_b...   \n",
       "4      [20_bebicer, 22_bebicer, 042_bebicer, 23_bebic...   \n",
       "...                                                  ...   \n",
       "34074  [2030_voldisvalencia, 2020_voldisvalencia, 209...   \n",
       "34075  [PRD0005412_voldisvalencia, PRD0005421_voldisv...   \n",
       "34076  [3096_voldisvalencia, 2090_voldisvalencia, 242...   \n",
       "34077  [24207_voldisvalencia, 1995_voldisvalencia, 55...   \n",
       "34078  [2050_voldisvalencia, 2155_voldisvalencia, 242...   \n",
       "\n",
       "                           Name  NameDistributor PointOfSaleId  \\\n",
       "0                   OASIS NEGRO          Bebicer          1533   \n",
       "1      VEN Y VERAS - CERVECERIA          Bebicer          1543   \n",
       "2              LA GALERIA - BAR          Bebicer          1583   \n",
       "3                LA TRINI - BAR          Bebicer          1611   \n",
       "4             EL SALERO DE MING          Bebicer          1709   \n",
       "...                         ...              ...           ...   \n",
       "34074                 KA MONLLU  Voldis Valencia    CLI0051066   \n",
       "34075                 KA MONLLU  Voldis Valencia    CLI0051066   \n",
       "34076                 PUB MAMBA  Voldis Valencia    CLI0051071   \n",
       "34077                 PUB MAMBA  Voldis Valencia    CLI0051071   \n",
       "34078       RESTAURANTE TAULELL  Voldis Valencia    CLI0051127   \n",
       "\n",
       "             CouponCode  CouponDiscountAmt  CouponDiscountPct  ...  \\\n",
       "0          BIENVENIDA20          53.799999               20.0  ...   \n",
       "1      SEGUNDOPEDIDO15%          75.000000               15.0  ...   \n",
       "2          BIENVENIDA20          82.389999               20.0  ...   \n",
       "3          BIENVENIDA20          88.230003               20.0  ...   \n",
       "4      SEGUNDOPEDIDO15%          75.000000               15.0  ...   \n",
       "...                 ...                ...                ...  ...   \n",
       "34074         MERECES15          25.129999               15.0  ...   \n",
       "34075              None           0.000000                0.0  ...   \n",
       "34076         MERECES15          66.360001               15.0  ...   \n",
       "34077         MERECES15          34.209999               15.0  ...   \n",
       "34078         Mereces15          75.000000               15.0  ...   \n",
       "\n",
       "      Coupon_type PctgCouponUsed DaysBetweenPurchases  \\\n",
       "0      Porcentual     100.000000                  0.0   \n",
       "1      Porcentual     100.000000                  0.0   \n",
       "2      Porcentual     100.000000                  0.0   \n",
       "3      Porcentual     100.000000                  0.0   \n",
       "4      Porcentual     100.000000                  0.0   \n",
       "...           ...            ...                  ...   \n",
       "34074  Porcentual       3.973290                  7.0   \n",
       "34075     NoCupon       3.973290                 21.0   \n",
       "34076  Porcentual       8.359517                  0.0   \n",
       "34077  Porcentual       8.359517                  7.0   \n",
       "34078  Porcentual      21.626895                  0.0   \n",
       "\n",
       "      CumulativeAvgDaysBetweenPurchases  IsOnline LastPurchaseOnline  \\\n",
       "0                              0.000000      True              False   \n",
       "1                              0.000000      True              False   \n",
       "2                              0.000000      True              False   \n",
       "3                              0.000000      True              False   \n",
       "4                              0.000000      True              False   \n",
       "...                                 ...       ...                ...   \n",
       "34074                          9.333333      True               True   \n",
       "34075                         11.000000      True              False   \n",
       "34076                          0.000000      True              False   \n",
       "34077                          3.500000      True              False   \n",
       "34078                          0.000000      True              False   \n",
       "\n",
       "      Digitalizacion  ForwardOnline NumberOfOrders  SegmentoFrecuencia  \n",
       "0                1.0           True              1                   D  \n",
       "1                1.0           True              1                   D  \n",
       "2                1.0           True              1                   D  \n",
       "3                1.0           True              1                   D  \n",
       "4                1.0           True              1                   D  \n",
       "...              ...            ...            ...                 ...  \n",
       "34074            6.0           True             21                   B  \n",
       "34075            5.0           True             21                   B  \n",
       "34076            1.0           True             42                   C  \n",
       "34077            2.0           True             42                   C  \n",
       "34078            1.0           True              9                   D  \n",
       "\n",
       "[34079 rows x 28 columns]"
      ]
     },
     "execution_count": 37,
     "metadata": {},
     "output_type": "execute_result"
    }
   ],
   "source": [
    "online_orders"
   ]
  },
  {
   "cell_type": "code",
   "execution_count": 39,
   "metadata": {},
   "outputs": [
    {
     "data": {
      "text/plain": [
       "(34079, 28)"
      ]
     },
     "execution_count": 39,
     "metadata": {},
     "output_type": "execute_result"
    }
   ],
   "source": [
    "online_orders.shape"
   ]
  },
  {
   "cell_type": "code",
   "execution_count": 40,
   "metadata": {},
   "outputs": [],
   "source": [
    "order_detail_sorted=pd.merge(order_detail_sorted, online_orders[['PointOfSaleId','NameDistributor' ,'Code','SegmentoFrecuencia']], on=['PointOfSaleId','Code','NameDistributor'], how='left')"
   ]
  },
  {
   "cell_type": "code",
   "execution_count": 41,
   "metadata": {},
   "outputs": [
    {
     "data": {
      "text/plain": [
       "array(['D', 'C', 'B', 'A'], dtype=object)"
      ]
     },
     "execution_count": 41,
     "metadata": {},
     "output_type": "execute_result"
    }
   ],
   "source": [
    "online_orders.SegmentoFrecuencia.unique()"
   ]
  },
  {
   "cell_type": "code",
   "execution_count": 42,
   "metadata": {},
   "outputs": [
    {
     "data": {
      "text/plain": [
       "array(['Online'], dtype=object)"
      ]
     },
     "execution_count": 42,
     "metadata": {},
     "output_type": "execute_result"
    }
   ],
   "source": [
    "online_orders['Origin'].unique()"
   ]
  },
  {
   "cell_type": "code",
   "execution_count": 43,
   "metadata": {},
   "outputs": [
    {
     "data": {
      "text/html": [
       "<div>\n",
       "<style scoped>\n",
       "    .dataframe tbody tr th:only-of-type {\n",
       "        vertical-align: middle;\n",
       "    }\n",
       "\n",
       "    .dataframe tbody tr th {\n",
       "        vertical-align: top;\n",
       "    }\n",
       "\n",
       "    .dataframe thead th {\n",
       "        text-align: right;\n",
       "    }\n",
       "</style>\n",
       "<table border=\"1\" class=\"dataframe\">\n",
       "  <thead>\n",
       "    <tr style=\"text-align: right;\">\n",
       "      <th></th>\n",
       "      <th>SegmentoFrecuencia</th>\n",
       "      <th>NumeroPDVs</th>\n",
       "      <th>TotalCouponDiscountAmt</th>\n",
       "      <th>PromedioCouponDiscountAmt</th>\n",
       "      <th>TotalSelloutOnline</th>\n",
       "      <th>PromedioSelloutOnline</th>\n",
       "      <th>PromedioCouponDiscountAmtSin0</th>\n",
       "    </tr>\n",
       "  </thead>\n",
       "  <tbody>\n",
       "    <tr>\n",
       "      <th>0</th>\n",
       "      <td>A</td>\n",
       "      <td>363</td>\n",
       "      <td>324261.890000</td>\n",
       "      <td>23.944904</td>\n",
       "      <td>5.454968e+06</td>\n",
       "      <td>402.818522</td>\n",
       "      <td>37.801573</td>\n",
       "    </tr>\n",
       "    <tr>\n",
       "      <th>1</th>\n",
       "      <td>B</td>\n",
       "      <td>1315</td>\n",
       "      <td>411020.929966</td>\n",
       "      <td>26.661970</td>\n",
       "      <td>4.100206e+06</td>\n",
       "      <td>265.970829</td>\n",
       "      <td>33.895838</td>\n",
       "    </tr>\n",
       "    <tr>\n",
       "      <th>2</th>\n",
       "      <td>C</td>\n",
       "      <td>1357</td>\n",
       "      <td>126797.999960</td>\n",
       "      <td>29.162373</td>\n",
       "      <td>9.856193e+05</td>\n",
       "      <td>226.683379</td>\n",
       "      <td>36.310997</td>\n",
       "    </tr>\n",
       "    <tr>\n",
       "      <th>3</th>\n",
       "      <td>D</td>\n",
       "      <td>773</td>\n",
       "      <td>27500.999987</td>\n",
       "      <td>35.576973</td>\n",
       "      <td>1.766007e+05</td>\n",
       "      <td>228.461501</td>\n",
       "      <td>40.985097</td>\n",
       "    </tr>\n",
       "  </tbody>\n",
       "</table>\n",
       "</div>"
      ],
      "text/plain": [
       "  SegmentoFrecuencia  NumeroPDVs  TotalCouponDiscountAmt  \\\n",
       "0                  A         363           324261.890000   \n",
       "1                  B        1315           411020.929966   \n",
       "2                  C        1357           126797.999960   \n",
       "3                  D         773            27500.999987   \n",
       "\n",
       "   PromedioCouponDiscountAmt  TotalSelloutOnline  PromedioSelloutOnline  \\\n",
       "0                  23.944904        5.454968e+06             402.818522   \n",
       "1                  26.661970        4.100206e+06             265.970829   \n",
       "2                  29.162373        9.856193e+05             226.683379   \n",
       "3                  35.576973        1.766007e+05             228.461501   \n",
       "\n",
       "   PromedioCouponDiscountAmtSin0  \n",
       "0                      37.801573  \n",
       "1                      33.895838  \n",
       "2                      36.310997  \n",
       "3                      40.985097  "
      ]
     },
     "execution_count": 43,
     "metadata": {},
     "output_type": "execute_result"
    }
   ],
   "source": [
    "# Agrupar por 'SegmentoFrecuencia' y calcular estadísticas\n",
    "segmento_stats = online_orders.groupby('SegmentoFrecuencia').agg(\n",
    "    NumeroPDVs=('PointOfSaleId', 'nunique'),\n",
    "    TotalCouponDiscountAmt=('CouponDiscountAmt', 'sum'),\n",
    "    PromedioCouponDiscountAmt=('CouponDiscountAmt', 'mean'),\n",
    "    TotalSelloutOnline=('Sellout', 'sum'),\n",
    "    PromedioSelloutOnline=('Sellout', 'mean')\n",
    ").reset_index()\n",
    "\n",
    "\n",
    "\n",
    "### Sacar promedios sin 0 para coupondiscountAmt \n",
    "\n",
    "cupon_sin0 = online_orders[online_orders['CouponDiscountAmt'] > 0]\n",
    "\n",
    "# 2. Calcular el promedio de 'CouponDiscountAmt' sin contar los valores que son 0 para cada SegmentoFrecuencia\n",
    "promedio_cupon_sin0_segmento = cupon_sin0.groupby('SegmentoFrecuencia')['CouponDiscountAmt'].mean().reset_index()\n",
    "\n",
    "# Renombrar la columna para evitar conflicto al hacer el merge\n",
    "promedio_cupon_sin0_segmento = promedio_cupon_sin0_segmento.rename(columns={'CouponDiscountAmt': 'PromedioCouponDiscountAmtSin0'})\n",
    "\n",
    "# 3. Hacer el merge para agregar la nueva columna al DataFrame 'segmento_stats'\n",
    "segmento_stats = pd.merge(segmento_stats, promedio_cupon_sin0_segmento, on='SegmentoFrecuencia', how='left')\n",
    "\n",
    "segmento_stats\n"
   ]
  },
  {
   "cell_type": "code",
   "execution_count": 44,
   "metadata": {},
   "outputs": [
    {
     "data": {
      "text/plain": [
       "889581.8199128849"
      ]
     },
     "execution_count": 44,
     "metadata": {},
     "output_type": "execute_result"
    }
   ],
   "source": [
    "segmento_stats['TotalCouponDiscountAmt'].sum()"
   ]
  },
  {
   "cell_type": "code",
   "execution_count": 45,
   "metadata": {},
   "outputs": [
    {
     "data": {
      "text/plain": [
       "count    34079.000000\n",
       "mean        26.103519\n",
       "std         27.176602\n",
       "min          0.000000\n",
       "25%          0.000000\n",
       "50%         20.000000\n",
       "75%         41.730000\n",
       "max        328.000000\n",
       "Name: CouponDiscountAmt, dtype: float64"
      ]
     },
     "execution_count": 45,
     "metadata": {},
     "output_type": "execute_result"
    }
   ],
   "source": [
    "online_orders['CouponDiscountAmt'].describe()"
   ]
  },
  {
   "cell_type": "markdown",
   "metadata": {},
   "source": [
    "Cálculo del retorno de inversión en cupones"
   ]
  },
  {
   "cell_type": "code",
   "execution_count": 46,
   "metadata": {},
   "outputs": [
    {
     "name": "stdout",
     "output_type": "stream",
     "text": [
      "  SegmentoFrecuencia  Ratio_Cupones_Sellout\n",
      "0                  A              16.822724\n",
      "1                  B               9.975663\n",
      "2                  C               7.773146\n",
      "3                  D               6.421612\n"
     ]
    }
   ],
   "source": [
    "# Calcular el retorno de inversión en cupones para cada segmento\n",
    "segmento_stats['Ratio_Cupones_Sellout'] = segmento_stats['TotalSelloutOnline'] / segmento_stats['TotalCouponDiscountAmt'] ## Hacerlo sobre total online\n",
    "\n",
    "print(segmento_stats[['SegmentoFrecuencia', 'Ratio_Cupones_Sellout']])\n"
   ]
  },
  {
   "cell_type": "markdown",
   "metadata": {},
   "source": [
    "Segmento A --> cada euro invertido en cupones genera 17 unidades de venta. Los PDVs de alta frecuencia online (Grupo A) son los más rentables en términos de retorno por cupones.\n",
    "Puede ser que la inversión en cupones en estos PDVs está siendo altamente efectiva y vale la pena seguir enfocando recursos en mantener y aumentar su actividad. -->"
   ]
  },
  {
   "cell_type": "code",
   "execution_count": 47,
   "metadata": {},
   "outputs": [
    {
     "data": {
      "image/png": "[encoded data removed]",
      "text/plain": [
       "<Figure size 1200x600 with 2 Axes>"
      ]
     },
     "metadata": {},
     "output_type": "display_data"
    }
   ],
   "source": [
    "import matplotlib.pyplot as plt\n",
    "\n",
    "# Crear una figura para comparar el Total de CouponDiscountAmt y el Total de Sellout por segmento\n",
    "plt.figure(figsize=(12, 6))\n",
    "\n",
    "# Gráfico de barras para TotalCouponDiscountAmt\n",
    "plt.subplot(1, 2, 1)\n",
    "plt.bar(segmento_stats['SegmentoFrecuencia'], segmento_stats['TotalCouponDiscountAmt'], color='skyblue')\n",
    "plt.title('Inversión en Cupones por Segmento')\n",
    "plt.xlabel('Segmento de Frecuencia')\n",
    "plt.ylabel('Total Coupon Discount Amt')\n",
    "\n",
    "# Gráfico de barras para TotalSellout\n",
    "plt.subplot(1, 2, 2)\n",
    "plt.bar(segmento_stats['SegmentoFrecuencia'], segmento_stats['TotalSelloutOnline'], color='lightgreen')\n",
    "plt.title('Total de Ventas (Sellout) por Segmento')\n",
    "plt.xlabel('Segmento de Frecuencia')\n",
    "plt.ylabel('Total Sellout')\n",
    "\n",
    "plt.tight_layout()\n",
    "plt.show()\n"
   ]
  },
  {
   "cell_type": "markdown",
   "metadata": {},
   "source": [
    "# Volumen de facturación"
   ]
  },
  {
   "cell_type": "code",
   "execution_count": 48,
   "metadata": {},
   "outputs": [],
   "source": [
    "\n",
    "facturacion_online_pdv = online_orders.groupby('PointOfSaleId')['Sellout'].sum().reset_index()\n",
    "facturacion_online_pdv = facturacion_online_pdv.rename(columns={'Sellout': 'TotalFacturacionOnline'})\n",
    "percentiles = facturacion_online_pdv['TotalFacturacionOnline'].quantile([0.1, 0.5, 0.9]).values\n"
   ]
  },
  {
   "cell_type": "code",
   "execution_count": 49,
   "metadata": {},
   "outputs": [],
   "source": [
    "# Función para clasificar los PDVs en cuartiles personalizados según el volumen de facturación online\n",
    "def clasificar_facturacion_online(total_facturacion_online):\n",
    "    if total_facturacion_online >= percentiles[2]:\n",
    "        return 'A'  # Top 10% de facturación online\n",
    "    elif percentiles[1] <= total_facturacion_online < percentiles[2]:\n",
    "        return 'B'  # Del 50% al 90%\n",
    "    elif percentiles[0] <= total_facturacion_online < percentiles[1]:\n",
    "        return 'C'  # Del 10% al 50%\n",
    "    else:\n",
    "        return 'D'  # Bottom 10%\n",
    "\n",
    "# Aplicar la clasificación para cada PDV\n",
    "facturacion_online_pdv['SegmentoFacturacionOnline'] = facturacion_online_pdv['TotalFacturacionOnline'].apply(clasificar_facturacion_online)\n",
    "### Mergearlo al DF \n"
   ]
  },
  {
   "cell_type": "code",
   "execution_count": 50,
   "metadata": {},
   "outputs": [],
   "source": [
    "order_detail_sorted = pd.merge(order_detail_sorted, facturacion_online_pdv[['PointOfSaleId', 'SegmentoFacturacionOnline']], on='PointOfSaleId', how='left')"
   ]
  },
  {
   "cell_type": "code",
   "execution_count": 51,
   "metadata": {},
   "outputs": [],
   "source": [
    "# Agrupar por el segmento 'SegmentoFacturacionOnline' para calcular las métricas\n",
    "segmento_facturacion_stats = order_detail_sorted.groupby('SegmentoFacturacionOnline').agg(\n",
    "    NumeroPDVs=('PointOfSaleId', 'nunique'),  # Número de PDVs en cada segmento\n",
    "    TotalCouponDiscountAmt=('CouponDiscountAmt', 'sum'),  # Gasto total en cupones\n",
    "    PromedioCouponDiscountAmt=('CouponDiscountAmt', 'mean'),  # Gasto promedio en cupones\n",
    "    TotalSelloutOnline=('Sellout', 'sum'),  # Facturación total\n",
    "    PromedioSelloutOnline=('Sellout', 'mean')  # Facturación promedio\n",
    ").reset_index()\n",
    "\n",
    "\n"
   ]
  },
  {
   "cell_type": "code",
   "execution_count": 52,
   "metadata": {},
   "outputs": [],
   "source": [
    "# Filtrar los registros con 'CouponDiscountAmt' > 0\n",
    "cupon_sin0 = order_detail_sorted[order_detail_sorted['CouponDiscountAmt'] > 0]\n",
    "\n",
    "# Agrupar por 'SegmentoFacturacionOnline' y calcular el promedio de 'CouponDiscountAmt' sin contar los valores que son 0\n",
    "promedio_cupon_sin0_segmento = cupon_sin0.groupby('SegmentoFacturacionOnline')['CouponDiscountAmt'].mean().reset_index()\n",
    "\n",
    "# Renombrar la columna para evitar conflicto al hacer el merge\n",
    "promedio_cupon_sin0_segmento = promedio_cupon_sin0_segmento.rename(columns={'CouponDiscountAmt': 'PromedioCouponDiscountAmtSin0'})\n",
    "\n",
    "# Hacer el merge para agregar la nueva columna 'PromedioCouponDiscountAmtSin0' al DataFrame 'segmento_facturacion_stats'\n",
    "segmento_facturacion_stats = pd.merge(segmento_facturacion_stats, promedio_cupon_sin0_segmento, on='SegmentoFacturacionOnline', how='left')\n",
    "\n",
    "\n"
   ]
  },
  {
   "cell_type": "code",
   "execution_count": 53,
   "metadata": {},
   "outputs": [
    {
     "data": {
      "text/html": [
       "<div>\n",
       "<style scoped>\n",
       "    .dataframe tbody tr th:only-of-type {\n",
       "        vertical-align: middle;\n",
       "    }\n",
       "\n",
       "    .dataframe tbody tr th {\n",
       "        vertical-align: top;\n",
       "    }\n",
       "\n",
       "    .dataframe thead th {\n",
       "        text-align: right;\n",
       "    }\n",
       "</style>\n",
       "<table border=\"1\" class=\"dataframe\">\n",
       "  <thead>\n",
       "    <tr style=\"text-align: right;\">\n",
       "      <th></th>\n",
       "      <th>SegmentoFacturacionOnline</th>\n",
       "      <th>NumeroPDVs</th>\n",
       "      <th>TotalCouponDiscountAmt</th>\n",
       "      <th>PromedioCouponDiscountAmt</th>\n",
       "      <th>TotalSelloutOnline</th>\n",
       "      <th>PromedioSelloutOnline</th>\n",
       "      <th>PromedioCouponDiscountAmtSin0</th>\n",
       "    </tr>\n",
       "  </thead>\n",
       "  <tbody>\n",
       "    <tr>\n",
       "      <th>0</th>\n",
       "      <td>A</td>\n",
       "      <td>381</td>\n",
       "      <td>353129.220057</td>\n",
       "      <td>10.856161</td>\n",
       "      <td>1.521104e+07</td>\n",
       "      <td>467.629069</td>\n",
       "      <td>41.820135</td>\n",
       "    </tr>\n",
       "    <tr>\n",
       "      <th>1</th>\n",
       "      <td>B</td>\n",
       "      <td>1523</td>\n",
       "      <td>447763.959923</td>\n",
       "      <td>6.244529</td>\n",
       "      <td>2.165230e+07</td>\n",
       "      <td>301.963563</td>\n",
       "      <td>35.237582</td>\n",
       "    </tr>\n",
       "    <tr>\n",
       "      <th>2</th>\n",
       "      <td>C</td>\n",
       "      <td>1522</td>\n",
       "      <td>86098.389937</td>\n",
       "      <td>1.868820</td>\n",
       "      <td>8.964556e+06</td>\n",
       "      <td>194.581322</td>\n",
       "      <td>25.308169</td>\n",
       "    </tr>\n",
       "    <tr>\n",
       "      <th>3</th>\n",
       "      <td>D</td>\n",
       "      <td>381</td>\n",
       "      <td>3757.839996</td>\n",
       "      <td>0.498983</td>\n",
       "      <td>7.799373e+05</td>\n",
       "      <td>103.563579</td>\n",
       "      <td>10.798391</td>\n",
       "    </tr>\n",
       "  </tbody>\n",
       "</table>\n",
       "</div>"
      ],
      "text/plain": [
       "  SegmentoFacturacionOnline  NumeroPDVs  TotalCouponDiscountAmt  \\\n",
       "0                         A         381           353129.220057   \n",
       "1                         B        1523           447763.959923   \n",
       "2                         C        1522            86098.389937   \n",
       "3                         D         381             3757.839996   \n",
       "\n",
       "   PromedioCouponDiscountAmt  TotalSelloutOnline  PromedioSelloutOnline  \\\n",
       "0                  10.856161        1.521104e+07             467.629069   \n",
       "1                   6.244529        2.165230e+07             301.963563   \n",
       "2                   1.868820        8.964556e+06             194.581322   \n",
       "3                   0.498983        7.799373e+05             103.563579   \n",
       "\n",
       "   PromedioCouponDiscountAmtSin0  \n",
       "0                      41.820135  \n",
       "1                      35.237582  \n",
       "2                      25.308169  \n",
       "3                      10.798391  "
      ]
     },
     "execution_count": 53,
     "metadata": {},
     "output_type": "execute_result"
    }
   ],
   "source": [
    "segmento_facturacion_stats"
   ]
  },
  {
   "cell_type": "code",
   "execution_count": 54,
   "metadata": {},
   "outputs": [
    {
     "name": "stderr",
     "output_type": "stream",
     "text": [
      "C:\\Users\\ctrujils\\AppData\\Local\\Temp\\ipykernel_11928\\2232983473.py:9: FutureWarning: \n",
      "\n",
      "Passing `palette` without assigning `hue` is deprecated and will be removed in v0.14.0. Assign the `x` variable to `hue` and set `legend=False` for the same effect.\n",
      "\n",
      "  sns.barplot(x='SegmentoFacturacionOnline', y='TotalCouponDiscountAmt', data=segmento_facturacion_stats, palette='cool')\n",
      "c:\\Users\\ctrujils\\Documents\\Proyectos\\MSM\\validador\\ml-validator\\b2b_env\\Lib\\site-packages\\seaborn\\_base.py:948: FutureWarning: When grouping with a length-1 list-like, you will need to pass a length-1 tuple to get_group in a future version of pandas. Pass `(name,)` instead of `name` to silence this warning.\n",
      "  data_subset = grouped_data.get_group(pd_key)\n",
      "c:\\Users\\ctrujils\\Documents\\Proyectos\\MSM\\validador\\ml-validator\\b2b_env\\Lib\\site-packages\\seaborn\\_base.py:948: FutureWarning: When grouping with a length-1 list-like, you will need to pass a length-1 tuple to get_group in a future version of pandas. Pass `(name,)` instead of `name` to silence this warning.\n",
      "  data_subset = grouped_data.get_group(pd_key)\n",
      "c:\\Users\\ctrujils\\Documents\\Proyectos\\MSM\\validador\\ml-validator\\b2b_env\\Lib\\site-packages\\seaborn\\_base.py:948: FutureWarning: When grouping with a length-1 list-like, you will need to pass a length-1 tuple to get_group in a future version of pandas. Pass `(name,)` instead of `name` to silence this warning.\n",
      "  data_subset = grouped_data.get_group(pd_key)\n",
      "c:\\Users\\ctrujils\\Documents\\Proyectos\\MSM\\validador\\ml-validator\\b2b_env\\Lib\\site-packages\\seaborn\\_base.py:948: FutureWarning: When grouping with a length-1 list-like, you will need to pass a length-1 tuple to get_group in a future version of pandas. Pass `(name,)` instead of `name` to silence this warning.\n",
      "  data_subset = grouped_data.get_group(pd_key)\n"
     ]
    },
    {
     "data": {
      "image/png": "[encoded data removed]",
      "text/plain": [
       "<Figure size 1000x600 with 1 Axes>"
      ]
     },
     "metadata": {},
     "output_type": "display_data"
    },
    {
     "name": "stderr",
     "output_type": "stream",
     "text": [
      "C:\\Users\\ctrujils\\AppData\\Local\\Temp\\ipykernel_11928\\2232983473.py:18: FutureWarning: \n",
      "\n",
      "Passing `palette` without assigning `hue` is deprecated and will be removed in v0.14.0. Assign the `x` variable to `hue` and set `legend=False` for the same effect.\n",
      "\n",
      "  sns.barplot(x='SegmentoFacturacionOnline', y='Ratio_Cupones_Sellout', data=segmento_facturacion_stats, palette='autumn')\n",
      "c:\\Users\\ctrujils\\Documents\\Proyectos\\MSM\\validador\\ml-validator\\b2b_env\\Lib\\site-packages\\seaborn\\_base.py:948: FutureWarning: When grouping with a length-1 list-like, you will need to pass a length-1 tuple to get_group in a future version of pandas. Pass `(name,)` instead of `name` to silence this warning.\n",
      "  data_subset = grouped_data.get_group(pd_key)\n",
      "c:\\Users\\ctrujils\\Documents\\Proyectos\\MSM\\validador\\ml-validator\\b2b_env\\Lib\\site-packages\\seaborn\\_base.py:948: FutureWarning: When grouping with a length-1 list-like, you will need to pass a length-1 tuple to get_group in a future version of pandas. Pass `(name,)` instead of `name` to silence this warning.\n",
      "  data_subset = grouped_data.get_group(pd_key)\n",
      "c:\\Users\\ctrujils\\Documents\\Proyectos\\MSM\\validador\\ml-validator\\b2b_env\\Lib\\site-packages\\seaborn\\_base.py:948: FutureWarning: When grouping with a length-1 list-like, you will need to pass a length-1 tuple to get_group in a future version of pandas. Pass `(name,)` instead of `name` to silence this warning.\n",
      "  data_subset = grouped_data.get_group(pd_key)\n",
      "c:\\Users\\ctrujils\\Documents\\Proyectos\\MSM\\validador\\ml-validator\\b2b_env\\Lib\\site-packages\\seaborn\\_base.py:948: FutureWarning: When grouping with a length-1 list-like, you will need to pass a length-1 tuple to get_group in a future version of pandas. Pass `(name,)` instead of `name` to silence this warning.\n",
      "  data_subset = grouped_data.get_group(pd_key)\n"
     ]
    },
    {
     "data": {
      "image/png": "[encoded data removed]",
      "text/plain": [
       "<Figure size 1000x600 with 1 Axes>"
      ]
     },
     "metadata": {},
     "output_type": "display_data"
    }
   ],
   "source": [
    "import matplotlib.pyplot as plt\n",
    "import seaborn as sns\n",
    "\n",
    "# Configurar estilo de gráficos\n",
    "sns.set(style=\"whitegrid\")\n",
    "\n",
    "# 1. Gráfico de barras para Gasto en Cupones por Segmento\n",
    "plt.figure(figsize=(10, 6))\n",
    "sns.barplot(x='SegmentoFacturacionOnline', y='TotalCouponDiscountAmt', data=segmento_facturacion_stats, palette='cool')\n",
    "plt.title('Gasto Total en Cupones por Segmento de Facturación Online')\n",
    "plt.xlabel('Segmento de Facturación Online')\n",
    "plt.ylabel('Gasto Total en Cupones')\n",
    "plt.show()\n",
    "\n",
    "# 2. Calcular y visualizar el ROI de Cupones por Segmento\n",
    "segmento_facturacion_stats['Ratio_Cupones_Sellout'] = segmento_facturacion_stats['TotalSelloutOnline'] / segmento_facturacion_stats['TotalCouponDiscountAmt']\n",
    "plt.figure(figsize=(10, 6))\n",
    "sns.barplot(x='SegmentoFacturacionOnline', y='Ratio_Cupones_Sellout', data=segmento_facturacion_stats, palette='autumn')\n",
    "plt.title('Ratio de retorno por Segmento de Facturación Online')\n",
    "plt.xlabel('Segmento de Facturación Online')\n",
    "plt.ylabel('Ratio de Cupones')\n",
    "plt.show()\n",
    "\n"
   ]
  },
  {
   "cell_type": "markdown",
   "metadata": {},
   "source": [
    "# Referencias unicas"
   ]
  },
  {
   "cell_type": "code",
   "execution_count": 55,
   "metadata": {},
   "outputs": [
    {
     "data": {
      "text/plain": [
       "151"
      ]
     },
     "execution_count": 55,
     "metadata": {},
     "output_type": "execute_result"
    }
   ],
   "source": [
    "\n",
    "# Verificar y normalizar 'CodeProduct' como antes para evitar problemas de listas o arrays\n",
    "online_orders['CodeProduct'] = online_orders['CodeProduct'].apply(lambda x: x if isinstance(x, str) else ', '.join(map(str, x)) if isinstance(x, list) else x)\n",
    "online_orders['CodeProduct'] = online_orders['CodeProduct'].astype(str)\n",
    "\n",
    "# Calcular el número de referencias únicas por 'PointOfSaleId' para los pedidos online\n",
    "referencias_unicas_online = online_orders.groupby('PointOfSaleId')['CodeProduct'].nunique().reset_index()\n",
    "\n",
    "# Renombrar la columna para mayor claridad\n",
    "referencias_unicas_online = referencias_unicas_online.rename(columns={'CodeProduct': 'NumeroReferenciasUnicas'})\n",
    "\n",
    "\n",
    "max_referencias_unicas = referencias_unicas_online['NumeroReferenciasUnicas'].max()\n",
    "max_referencias_unicas"
   ]
  },
  {
   "cell_type": "code",
   "execution_count": 56,
   "metadata": {},
   "outputs": [],
   "source": [
    "# Calcular los percentiles para dividir en segmentos personalizados\n",
    "percentiles = referencias_unicas_online['NumeroReferenciasUnicas'].quantile([0.1, 0.5, 0.9]).values\n",
    "\n",
    "# Función para clasificar los PDVs en segmentos según el número de referencias únicas\n",
    "def clasificar_referencias_unicas(numero_referencias):\n",
    "    if numero_referencias >= percentiles[2]:\n",
    "        return 'A'  # Top 10% de referencias únicas\n",
    "    elif percentiles[1] <= numero_referencias < percentiles[2]:\n",
    "        return 'B'  # Del 50% al 90%\n",
    "    elif percentiles[0] <= numero_referencias < percentiles[1]:\n",
    "        return 'C'  # Del 10% al 50%\n",
    "    else:\n",
    "        return 'D'  # Bottom 10%\n",
    "\n",
    "# Aplicar la clasificación para cada PDV\n",
    "referencias_unicas_online['SegmentoReferenciasUnicas'] = referencias_unicas_online['NumeroReferenciasUnicas'].apply(clasificar_referencias_unicas)\n",
    "\n",
    "# Agrupar por 'SegmentoReferenciasUnicas' para calcular el mínimo y el máximo de referencias únicas en cada segmento\n",
    "rango_referencias_por_segmento = referencias_unicas_online.groupby('SegmentoReferenciasUnicas')['NumeroReferenciasUnicas'].agg(['min', 'max']).reset_index()\n",
    "\n",
    "# Renombrar las columnas para mayor claridad\n",
    "rango_referencias_por_segmento.columns = ['SegmentoReferenciasUnicas', 'MinReferencias', 'MaxReferencias']\n"
   ]
  },
  {
   "cell_type": "code",
   "execution_count": 57,
   "metadata": {},
   "outputs": [
    {
     "data": {
      "text/html": [
       "<div>\n",
       "<style scoped>\n",
       "    .dataframe tbody tr th:only-of-type {\n",
       "        vertical-align: middle;\n",
       "    }\n",
       "\n",
       "    .dataframe tbody tr th {\n",
       "        vertical-align: top;\n",
       "    }\n",
       "\n",
       "    .dataframe thead th {\n",
       "        text-align: right;\n",
       "    }\n",
       "</style>\n",
       "<table border=\"1\" class=\"dataframe\">\n",
       "  <thead>\n",
       "    <tr style=\"text-align: right;\">\n",
       "      <th></th>\n",
       "      <th>SegmentoReferenciasUnicas</th>\n",
       "      <th>MinReferencias</th>\n",
       "      <th>MaxReferencias</th>\n",
       "    </tr>\n",
       "  </thead>\n",
       "  <tbody>\n",
       "    <tr>\n",
       "      <th>0</th>\n",
       "      <td>A</td>\n",
       "      <td>18</td>\n",
       "      <td>151</td>\n",
       "    </tr>\n",
       "    <tr>\n",
       "      <th>1</th>\n",
       "      <td>B</td>\n",
       "      <td>4</td>\n",
       "      <td>17</td>\n",
       "    </tr>\n",
       "    <tr>\n",
       "      <th>2</th>\n",
       "      <td>C</td>\n",
       "      <td>1</td>\n",
       "      <td>3</td>\n",
       "    </tr>\n",
       "  </tbody>\n",
       "</table>\n",
       "</div>"
      ],
      "text/plain": [
       "  SegmentoReferenciasUnicas  MinReferencias  MaxReferencias\n",
       "0                         A              18             151\n",
       "1                         B               4              17\n",
       "2                         C               1               3"
      ]
     },
     "execution_count": 57,
     "metadata": {},
     "output_type": "execute_result"
    }
   ],
   "source": [
    "\n",
    "\n",
    "rango_referencias_por_segmento\n"
   ]
  },
  {
   "cell_type": "code",
   "execution_count": 58,
   "metadata": {},
   "outputs": [
    {
     "ename": "KeyError",
     "evalue": "'SegmentoReferenciasUnicas'",
     "output_type": "error",
     "traceback": [
      "\u001b[1;31m---------------------------------------------------------------------------\u001b[0m",
      "\u001b[1;31mKeyError\u001b[0m                                  Traceback (most recent call last)",
      "Cell \u001b[1;32mIn[58], line 2\u001b[0m\n\u001b[0;32m      1\u001b[0m \u001b[38;5;66;03m# Agrupar por el segmento 'SegmentoReferenciasUnicas' para calcular las métricas\u001b[39;00m\n\u001b[1;32m----> 2\u001b[0m segmento_referencias_stats \u001b[38;5;241m=\u001b[39m \u001b[43morder_detail_sorted\u001b[49m\u001b[38;5;241;43m.\u001b[39;49m\u001b[43mgroupby\u001b[49m\u001b[43m(\u001b[49m\u001b[38;5;124;43m'\u001b[39;49m\u001b[38;5;124;43mSegmentoReferenciasUnicas\u001b[39;49m\u001b[38;5;124;43m'\u001b[39;49m\u001b[43m)\u001b[49m\u001b[38;5;241m.\u001b[39magg(\n\u001b[0;32m      3\u001b[0m     NumeroPDVs\u001b[38;5;241m=\u001b[39m(\u001b[38;5;124m'\u001b[39m\u001b[38;5;124mPointOfSaleId\u001b[39m\u001b[38;5;124m'\u001b[39m, \u001b[38;5;124m'\u001b[39m\u001b[38;5;124mnunique\u001b[39m\u001b[38;5;124m'\u001b[39m),  \u001b[38;5;66;03m# Número de PDVs en cada segmento\u001b[39;00m\n\u001b[0;32m      4\u001b[0m     TotalCouponDiscountAmt\u001b[38;5;241m=\u001b[39m(\u001b[38;5;124m'\u001b[39m\u001b[38;5;124mCouponDiscountAmt\u001b[39m\u001b[38;5;124m'\u001b[39m, \u001b[38;5;124m'\u001b[39m\u001b[38;5;124msum\u001b[39m\u001b[38;5;124m'\u001b[39m),  \u001b[38;5;66;03m# Gasto total en cupones\u001b[39;00m\n\u001b[0;32m      5\u001b[0m     PromedioCouponDiscountAmt\u001b[38;5;241m=\u001b[39m(\u001b[38;5;124m'\u001b[39m\u001b[38;5;124mCouponDiscountAmt\u001b[39m\u001b[38;5;124m'\u001b[39m, \u001b[38;5;124m'\u001b[39m\u001b[38;5;124mmean\u001b[39m\u001b[38;5;124m'\u001b[39m),  \u001b[38;5;66;03m# Gasto promedio en cupones\u001b[39;00m\n\u001b[0;32m      6\u001b[0m     TotalSellout\u001b[38;5;241m=\u001b[39m(\u001b[38;5;124m'\u001b[39m\u001b[38;5;124mSellout\u001b[39m\u001b[38;5;124m'\u001b[39m, \u001b[38;5;124m'\u001b[39m\u001b[38;5;124msum\u001b[39m\u001b[38;5;124m'\u001b[39m),  \u001b[38;5;66;03m# Facturación total\u001b[39;00m\n\u001b[0;32m      7\u001b[0m     PromedioSellout\u001b[38;5;241m=\u001b[39m(\u001b[38;5;124m'\u001b[39m\u001b[38;5;124mSellout\u001b[39m\u001b[38;5;124m'\u001b[39m, \u001b[38;5;124m'\u001b[39m\u001b[38;5;124mmean\u001b[39m\u001b[38;5;124m'\u001b[39m)  \u001b[38;5;66;03m# Facturación promedio\u001b[39;00m\n\u001b[0;32m      8\u001b[0m )\u001b[38;5;241m.\u001b[39mreset_index()\n\u001b[0;32m     10\u001b[0m \u001b[38;5;66;03m# Filtrar registros con cupones para calcular el promedio sin contar los valores 0\u001b[39;00m\n\u001b[0;32m     11\u001b[0m cupon_sin0 \u001b[38;5;241m=\u001b[39m order_detail_sorted[order_detail_sorted[\u001b[38;5;124m'\u001b[39m\u001b[38;5;124mCouponDiscountAmt\u001b[39m\u001b[38;5;124m'\u001b[39m] \u001b[38;5;241m>\u001b[39m \u001b[38;5;241m0\u001b[39m]\n",
      "File \u001b[1;32mc:\\Users\\ctrujils\\Documents\\Proyectos\\MSM\\validador\\ml-validator\\b2b_env\\Lib\\site-packages\\pandas\\core\\frame.py:9183\u001b[0m, in \u001b[0;36mDataFrame.groupby\u001b[1;34m(self, by, axis, level, as_index, sort, group_keys, observed, dropna)\u001b[0m\n\u001b[0;32m   9180\u001b[0m \u001b[38;5;28;01mif\u001b[39;00m level \u001b[38;5;129;01mis\u001b[39;00m \u001b[38;5;28;01mNone\u001b[39;00m \u001b[38;5;129;01mand\u001b[39;00m by \u001b[38;5;129;01mis\u001b[39;00m \u001b[38;5;28;01mNone\u001b[39;00m:\n\u001b[0;32m   9181\u001b[0m     \u001b[38;5;28;01mraise\u001b[39;00m \u001b[38;5;167;01mTypeError\u001b[39;00m(\u001b[38;5;124m\"\u001b[39m\u001b[38;5;124mYou have to supply one of \u001b[39m\u001b[38;5;124m'\u001b[39m\u001b[38;5;124mby\u001b[39m\u001b[38;5;124m'\u001b[39m\u001b[38;5;124m and \u001b[39m\u001b[38;5;124m'\u001b[39m\u001b[38;5;124mlevel\u001b[39m\u001b[38;5;124m'\u001b[39m\u001b[38;5;124m\"\u001b[39m)\n\u001b[1;32m-> 9183\u001b[0m \u001b[38;5;28;01mreturn\u001b[39;00m \u001b[43mDataFrameGroupBy\u001b[49m\u001b[43m(\u001b[49m\n\u001b[0;32m   9184\u001b[0m \u001b[43m    \u001b[49m\u001b[43mobj\u001b[49m\u001b[38;5;241;43m=\u001b[39;49m\u001b[38;5;28;43mself\u001b[39;49m\u001b[43m,\u001b[49m\n\u001b[0;32m   9185\u001b[0m \u001b[43m    \u001b[49m\u001b[43mkeys\u001b[49m\u001b[38;5;241;43m=\u001b[39;49m\u001b[43mby\u001b[49m\u001b[43m,\u001b[49m\n\u001b[0;32m   9186\u001b[0m \u001b[43m    \u001b[49m\u001b[43maxis\u001b[49m\u001b[38;5;241;43m=\u001b[39;49m\u001b[43maxis\u001b[49m\u001b[43m,\u001b[49m\n\u001b[0;32m   9187\u001b[0m \u001b[43m    \u001b[49m\u001b[43mlevel\u001b[49m\u001b[38;5;241;43m=\u001b[39;49m\u001b[43mlevel\u001b[49m\u001b[43m,\u001b[49m\n\u001b[0;32m   9188\u001b[0m \u001b[43m    \u001b[49m\u001b[43mas_index\u001b[49m\u001b[38;5;241;43m=\u001b[39;49m\u001b[43mas_index\u001b[49m\u001b[43m,\u001b[49m\n\u001b[0;32m   9189\u001b[0m \u001b[43m    \u001b[49m\u001b[43msort\u001b[49m\u001b[38;5;241;43m=\u001b[39;49m\u001b[43msort\u001b[49m\u001b[43m,\u001b[49m\n\u001b[0;32m   9190\u001b[0m \u001b[43m    \u001b[49m\u001b[43mgroup_keys\u001b[49m\u001b[38;5;241;43m=\u001b[39;49m\u001b[43mgroup_keys\u001b[49m\u001b[43m,\u001b[49m\n\u001b[0;32m   9191\u001b[0m \u001b[43m    \u001b[49m\u001b[43mobserved\u001b[49m\u001b[38;5;241;43m=\u001b[39;49m\u001b[43mobserved\u001b[49m\u001b[43m,\u001b[49m\n\u001b[0;32m   9192\u001b[0m \u001b[43m    \u001b[49m\u001b[43mdropna\u001b[49m\u001b[38;5;241;43m=\u001b[39;49m\u001b[43mdropna\u001b[49m\u001b[43m,\u001b[49m\n\u001b[0;32m   9193\u001b[0m \u001b[43m\u001b[49m\u001b[43m)\u001b[49m\n",
      "File \u001b[1;32mc:\\Users\\ctrujils\\Documents\\Proyectos\\MSM\\validador\\ml-validator\\b2b_env\\Lib\\site-packages\\pandas\\core\\groupby\\groupby.py:1329\u001b[0m, in \u001b[0;36mGroupBy.__init__\u001b[1;34m(self, obj, keys, axis, level, grouper, exclusions, selection, as_index, sort, group_keys, observed, dropna)\u001b[0m\n\u001b[0;32m   1326\u001b[0m \u001b[38;5;28mself\u001b[39m\u001b[38;5;241m.\u001b[39mdropna \u001b[38;5;241m=\u001b[39m dropna\n\u001b[0;32m   1328\u001b[0m \u001b[38;5;28;01mif\u001b[39;00m grouper \u001b[38;5;129;01mis\u001b[39;00m \u001b[38;5;28;01mNone\u001b[39;00m:\n\u001b[1;32m-> 1329\u001b[0m     grouper, exclusions, obj \u001b[38;5;241m=\u001b[39m \u001b[43mget_grouper\u001b[49m\u001b[43m(\u001b[49m\n\u001b[0;32m   1330\u001b[0m \u001b[43m        \u001b[49m\u001b[43mobj\u001b[49m\u001b[43m,\u001b[49m\n\u001b[0;32m   1331\u001b[0m \u001b[43m        \u001b[49m\u001b[43mkeys\u001b[49m\u001b[43m,\u001b[49m\n\u001b[0;32m   1332\u001b[0m \u001b[43m        \u001b[49m\u001b[43maxis\u001b[49m\u001b[38;5;241;43m=\u001b[39;49m\u001b[43maxis\u001b[49m\u001b[43m,\u001b[49m\n\u001b[0;32m   1333\u001b[0m \u001b[43m        \u001b[49m\u001b[43mlevel\u001b[49m\u001b[38;5;241;43m=\u001b[39;49m\u001b[43mlevel\u001b[49m\u001b[43m,\u001b[49m\n\u001b[0;32m   1334\u001b[0m \u001b[43m        \u001b[49m\u001b[43msort\u001b[49m\u001b[38;5;241;43m=\u001b[39;49m\u001b[43msort\u001b[49m\u001b[43m,\u001b[49m\n\u001b[0;32m   1335\u001b[0m \u001b[43m        \u001b[49m\u001b[43mobserved\u001b[49m\u001b[38;5;241;43m=\u001b[39;49m\u001b[38;5;28;43;01mFalse\u001b[39;49;00m\u001b[43m \u001b[49m\u001b[38;5;28;43;01mif\u001b[39;49;00m\u001b[43m \u001b[49m\u001b[43mobserved\u001b[49m\u001b[43m \u001b[49m\u001b[38;5;129;43;01mis\u001b[39;49;00m\u001b[43m \u001b[49m\u001b[43mlib\u001b[49m\u001b[38;5;241;43m.\u001b[39;49m\u001b[43mno_default\u001b[49m\u001b[43m \u001b[49m\u001b[38;5;28;43;01melse\u001b[39;49;00m\u001b[43m \u001b[49m\u001b[43mobserved\u001b[49m\u001b[43m,\u001b[49m\n\u001b[0;32m   1336\u001b[0m \u001b[43m        \u001b[49m\u001b[43mdropna\u001b[49m\u001b[38;5;241;43m=\u001b[39;49m\u001b[38;5;28;43mself\u001b[39;49m\u001b[38;5;241;43m.\u001b[39;49m\u001b[43mdropna\u001b[49m\u001b[43m,\u001b[49m\n\u001b[0;32m   1337\u001b[0m \u001b[43m    \u001b[49m\u001b[43m)\u001b[49m\n\u001b[0;32m   1339\u001b[0m \u001b[38;5;28;01mif\u001b[39;00m observed \u001b[38;5;129;01mis\u001b[39;00m lib\u001b[38;5;241m.\u001b[39mno_default:\n\u001b[0;32m   1340\u001b[0m     \u001b[38;5;28;01mif\u001b[39;00m \u001b[38;5;28many\u001b[39m(ping\u001b[38;5;241m.\u001b[39m_passed_categorical \u001b[38;5;28;01mfor\u001b[39;00m ping \u001b[38;5;129;01min\u001b[39;00m grouper\u001b[38;5;241m.\u001b[39mgroupings):\n",
      "File \u001b[1;32mc:\\Users\\ctrujils\\Documents\\Proyectos\\MSM\\validador\\ml-validator\\b2b_env\\Lib\\site-packages\\pandas\\core\\groupby\\grouper.py:1043\u001b[0m, in \u001b[0;36mget_grouper\u001b[1;34m(obj, key, axis, level, sort, observed, validate, dropna)\u001b[0m\n\u001b[0;32m   1041\u001b[0m         in_axis, level, gpr \u001b[38;5;241m=\u001b[39m \u001b[38;5;28;01mFalse\u001b[39;00m, gpr, \u001b[38;5;28;01mNone\u001b[39;00m\n\u001b[0;32m   1042\u001b[0m     \u001b[38;5;28;01melse\u001b[39;00m:\n\u001b[1;32m-> 1043\u001b[0m         \u001b[38;5;28;01mraise\u001b[39;00m \u001b[38;5;167;01mKeyError\u001b[39;00m(gpr)\n\u001b[0;32m   1044\u001b[0m \u001b[38;5;28;01melif\u001b[39;00m \u001b[38;5;28misinstance\u001b[39m(gpr, Grouper) \u001b[38;5;129;01mand\u001b[39;00m gpr\u001b[38;5;241m.\u001b[39mkey \u001b[38;5;129;01mis\u001b[39;00m \u001b[38;5;129;01mnot\u001b[39;00m \u001b[38;5;28;01mNone\u001b[39;00m:\n\u001b[0;32m   1045\u001b[0m     \u001b[38;5;66;03m# Add key to exclusions\u001b[39;00m\n\u001b[0;32m   1046\u001b[0m     exclusions\u001b[38;5;241m.\u001b[39madd(gpr\u001b[38;5;241m.\u001b[39mkey)\n",
      "\u001b[1;31mKeyError\u001b[0m: 'SegmentoReferenciasUnicas'"
     ]
    }
   ],
   "source": [
    "# Agrupar por el segmento 'SegmentoReferenciasUnicas' para calcular las métricas\n",
    "segmento_referencias_stats = order_detail_sorted.groupby('SegmentoReferenciasUnicas').agg(\n",
    "    NumeroPDVs=('PointOfSaleId', 'nunique'),  # Número de PDVs en cada segmento\n",
    "    TotalCouponDiscountAmt=('CouponDiscountAmt', 'sum'),  # Gasto total en cupones\n",
    "    PromedioCouponDiscountAmt=('CouponDiscountAmt', 'mean'),  # Gasto promedio en cupones\n",
    "    TotalSellout=('Sellout', 'sum'),  # Facturación total\n",
    "    PromedioSellout=('Sellout', 'mean')  # Facturación promedio\n",
    ").reset_index()\n",
    "\n",
    "# Filtrar registros con cupones para calcular el promedio sin contar los valores 0\n",
    "cupon_sin0 = order_detail_sorted[order_detail_sorted['CouponDiscountAmt'] > 0]\n",
    "\n",
    "# Calcular el promedio de 'CouponDiscountAmt' sin contar los valores que son 0 por cada 'SegmentoReferenciasUnicas'\n",
    "promedio_cupon_sin0_segmento = cupon_sin0.groupby('SegmentoReferenciasUnicas')['CouponDiscountAmt'].mean().reset_index()\n",
    "\n",
    "# Renombrar la columna para evitar conflicto al hacer el merge\n",
    "promedio_cupon_sin0_segmento = promedio_cupon_sin0_segmento.rename(columns={'CouponDiscountAmt': 'PromedioCouponDiscountAmtSin0'})\n",
    "\n",
    "# Hacer el merge para agregar la nueva columna al DataFrame 'segmento_referencias_stats'\n",
    "segmento_referencias_stats = pd.merge(segmento_referencias_stats, promedio_cupon_sin0_segmento, on='SegmentoReferenciasUnicas', how='left')\n",
    "segmento_facturacion_stats"
   ]
  },
  {
   "cell_type": "code",
   "execution_count": 700,
   "metadata": {},
   "outputs": [
    {
     "name": "stderr",
     "output_type": "stream",
     "text": [
      "C:\\Users\\ctrujils\\AppData\\Local\\Temp\\ipykernel_3648\\3317479982.py:3: FutureWarning: \n",
      "\n",
      "Passing `palette` without assigning `hue` is deprecated and will be removed in v0.14.0. Assign the `x` variable to `hue` and set `legend=False` for the same effect.\n",
      "\n",
      "  sns.boxplot(x='SegmentoReferenciasUnicas', y='NumeroReferenciasUnicas', data=referencias_unicas_online, palette='coolwarm')\n",
      "c:\\Users\\ctrujils\\Documents\\Proyectos\\MSM\\validador\\ml-validator\\b2b_env\\Lib\\site-packages\\seaborn\\_base.py:948: FutureWarning: When grouping with a length-1 list-like, you will need to pass a length-1 tuple to get_group in a future version of pandas. Pass `(name,)` instead of `name` to silence this warning.\n",
      "  data_subset = grouped_data.get_group(pd_key)\n",
      "c:\\Users\\ctrujils\\Documents\\Proyectos\\MSM\\validador\\ml-validator\\b2b_env\\Lib\\site-packages\\seaborn\\categorical.py:632: FutureWarning: SeriesGroupBy.grouper is deprecated and will be removed in a future version of pandas.\n",
      "  positions = grouped.grouper.result_index.to_numpy(dtype=float)\n",
      "c:\\Users\\ctrujils\\Documents\\Proyectos\\MSM\\validador\\ml-validator\\b2b_env\\Lib\\site-packages\\seaborn\\_base.py:948: FutureWarning: When grouping with a length-1 list-like, you will need to pass a length-1 tuple to get_group in a future version of pandas. Pass `(name,)` instead of `name` to silence this warning.\n",
      "  data_subset = grouped_data.get_group(pd_key)\n",
      "c:\\Users\\ctrujils\\Documents\\Proyectos\\MSM\\validador\\ml-validator\\b2b_env\\Lib\\site-packages\\seaborn\\categorical.py:632: FutureWarning: SeriesGroupBy.grouper is deprecated and will be removed in a future version of pandas.\n",
      "  positions = grouped.grouper.result_index.to_numpy(dtype=float)\n",
      "c:\\Users\\ctrujils\\Documents\\Proyectos\\MSM\\validador\\ml-validator\\b2b_env\\Lib\\site-packages\\seaborn\\_base.py:948: FutureWarning: When grouping with a length-1 list-like, you will need to pass a length-1 tuple to get_group in a future version of pandas. Pass `(name,)` instead of `name` to silence this warning.\n",
      "  data_subset = grouped_data.get_group(pd_key)\n",
      "c:\\Users\\ctrujils\\Documents\\Proyectos\\MSM\\validador\\ml-validator\\b2b_env\\Lib\\site-packages\\seaborn\\categorical.py:632: FutureWarning: SeriesGroupBy.grouper is deprecated and will be removed in a future version of pandas.\n",
      "  positions = grouped.grouper.result_index.to_numpy(dtype=float)\n"
     ]
    },
    {
     "data": {
      "image/png": "[encoded data removed]",
      "text/plain": [
       "<Figure size 1200x800 with 1 Axes>"
      ]
     },
     "metadata": {},
     "output_type": "display_data"
    }
   ],
   "source": [
    "# Gráfico de caja y bigotes para visualizar la distribución del número de referencias por cada segmento\n",
    "plt.figure(figsize=(12, 8))\n",
    "sns.boxplot(x='SegmentoReferenciasUnicas', y='NumeroReferenciasUnicas', data=referencias_unicas_online, palette='coolwarm')\n",
    "plt.title('Distribución del Número de Referencias Únicas por Segmento')\n",
    "plt.xlabel('Segmento de Referencias Únicas')\n",
    "plt.ylabel('Número de Referencias Únicas')\n",
    "plt.show()\n"
   ]
  },
  {
   "cell_type": "code",
   "execution_count": 701,
   "metadata": {},
   "outputs": [
    {
     "ename": "KeyError",
     "evalue": "'SegmentoReferenciasUnicas'",
     "output_type": "error",
     "traceback": [
      "\u001b[1;31m---------------------------------------------------------------------------\u001b[0m",
      "\u001b[1;31mKeyError\u001b[0m                                  Traceback (most recent call last)",
      "Cell \u001b[1;32mIn[701], line 2\u001b[0m\n\u001b[0;32m      1\u001b[0m \u001b[38;5;66;03m# Agrupar por 'SegmentoReferenciasUnicas' para calcular las métricas\u001b[39;00m\n\u001b[1;32m----> 2\u001b[0m segmento_referencias_stats \u001b[38;5;241m=\u001b[39m \u001b[43morder_detail_sorted\u001b[49m\u001b[38;5;241;43m.\u001b[39;49m\u001b[43mgroupby\u001b[49m\u001b[43m(\u001b[49m\u001b[38;5;124;43m'\u001b[39;49m\u001b[38;5;124;43mSegmentoReferenciasUnicas\u001b[39;49m\u001b[38;5;124;43m'\u001b[39;49m\u001b[43m)\u001b[49m\u001b[38;5;241m.\u001b[39magg(\n\u001b[0;32m      3\u001b[0m     TotalCouponDiscountAmt\u001b[38;5;241m=\u001b[39m(\u001b[38;5;124m'\u001b[39m\u001b[38;5;124mCouponDiscountAmt\u001b[39m\u001b[38;5;124m'\u001b[39m, \u001b[38;5;124m'\u001b[39m\u001b[38;5;124msum\u001b[39m\u001b[38;5;124m'\u001b[39m),  \u001b[38;5;66;03m# Gasto total en cupones\u001b[39;00m\n\u001b[0;32m      4\u001b[0m     TotalSellout\u001b[38;5;241m=\u001b[39m(\u001b[38;5;124m'\u001b[39m\u001b[38;5;124mSellout\u001b[39m\u001b[38;5;124m'\u001b[39m, \u001b[38;5;124m'\u001b[39m\u001b[38;5;124msum\u001b[39m\u001b[38;5;124m'\u001b[39m),  \u001b[38;5;66;03m# Facturación total\u001b[39;00m\n\u001b[0;32m      5\u001b[0m )\u001b[38;5;241m.\u001b[39mreset_index()\n\u001b[0;32m      7\u001b[0m \u001b[38;5;66;03m# Gráfico de barras comparativo\u001b[39;00m\n\u001b[0;32m      8\u001b[0m fig, ax \u001b[38;5;241m=\u001b[39m plt\u001b[38;5;241m.\u001b[39msubplots(\u001b[38;5;241m1\u001b[39m, \u001b[38;5;241m2\u001b[39m, figsize\u001b[38;5;241m=\u001b[39m(\u001b[38;5;241m18\u001b[39m, \u001b[38;5;241m6\u001b[39m))\n",
      "File \u001b[1;32mc:\\Users\\ctrujils\\Documents\\Proyectos\\MSM\\validador\\ml-validator\\b2b_env\\Lib\\site-packages\\pandas\\core\\frame.py:9183\u001b[0m, in \u001b[0;36mDataFrame.groupby\u001b[1;34m(self, by, axis, level, as_index, sort, group_keys, observed, dropna)\u001b[0m\n\u001b[0;32m   9180\u001b[0m \u001b[38;5;28;01mif\u001b[39;00m level \u001b[38;5;129;01mis\u001b[39;00m \u001b[38;5;28;01mNone\u001b[39;00m \u001b[38;5;129;01mand\u001b[39;00m by \u001b[38;5;129;01mis\u001b[39;00m \u001b[38;5;28;01mNone\u001b[39;00m:\n\u001b[0;32m   9181\u001b[0m     \u001b[38;5;28;01mraise\u001b[39;00m \u001b[38;5;167;01mTypeError\u001b[39;00m(\u001b[38;5;124m\"\u001b[39m\u001b[38;5;124mYou have to supply one of \u001b[39m\u001b[38;5;124m'\u001b[39m\u001b[38;5;124mby\u001b[39m\u001b[38;5;124m'\u001b[39m\u001b[38;5;124m and \u001b[39m\u001b[38;5;124m'\u001b[39m\u001b[38;5;124mlevel\u001b[39m\u001b[38;5;124m'\u001b[39m\u001b[38;5;124m\"\u001b[39m)\n\u001b[1;32m-> 9183\u001b[0m \u001b[38;5;28;01mreturn\u001b[39;00m \u001b[43mDataFrameGroupBy\u001b[49m\u001b[43m(\u001b[49m\n\u001b[0;32m   9184\u001b[0m \u001b[43m    \u001b[49m\u001b[43mobj\u001b[49m\u001b[38;5;241;43m=\u001b[39;49m\u001b[38;5;28;43mself\u001b[39;49m\u001b[43m,\u001b[49m\n\u001b[0;32m   9185\u001b[0m \u001b[43m    \u001b[49m\u001b[43mkeys\u001b[49m\u001b[38;5;241;43m=\u001b[39;49m\u001b[43mby\u001b[49m\u001b[43m,\u001b[49m\n\u001b[0;32m   9186\u001b[0m \u001b[43m    \u001b[49m\u001b[43maxis\u001b[49m\u001b[38;5;241;43m=\u001b[39;49m\u001b[43maxis\u001b[49m\u001b[43m,\u001b[49m\n\u001b[0;32m   9187\u001b[0m \u001b[43m    \u001b[49m\u001b[43mlevel\u001b[49m\u001b[38;5;241;43m=\u001b[39;49m\u001b[43mlevel\u001b[49m\u001b[43m,\u001b[49m\n\u001b[0;32m   9188\u001b[0m \u001b[43m    \u001b[49m\u001b[43mas_index\u001b[49m\u001b[38;5;241;43m=\u001b[39;49m\u001b[43mas_index\u001b[49m\u001b[43m,\u001b[49m\n\u001b[0;32m   9189\u001b[0m \u001b[43m    \u001b[49m\u001b[43msort\u001b[49m\u001b[38;5;241;43m=\u001b[39;49m\u001b[43msort\u001b[49m\u001b[43m,\u001b[49m\n\u001b[0;32m   9190\u001b[0m \u001b[43m    \u001b[49m\u001b[43mgroup_keys\u001b[49m\u001b[38;5;241;43m=\u001b[39;49m\u001b[43mgroup_keys\u001b[49m\u001b[43m,\u001b[49m\n\u001b[0;32m   9191\u001b[0m \u001b[43m    \u001b[49m\u001b[43mobserved\u001b[49m\u001b[38;5;241;43m=\u001b[39;49m\u001b[43mobserved\u001b[49m\u001b[43m,\u001b[49m\n\u001b[0;32m   9192\u001b[0m \u001b[43m    \u001b[49m\u001b[43mdropna\u001b[49m\u001b[38;5;241;43m=\u001b[39;49m\u001b[43mdropna\u001b[49m\u001b[43m,\u001b[49m\n\u001b[0;32m   9193\u001b[0m \u001b[43m\u001b[49m\u001b[43m)\u001b[49m\n",
      "File \u001b[1;32mc:\\Users\\ctrujils\\Documents\\Proyectos\\MSM\\validador\\ml-validator\\b2b_env\\Lib\\site-packages\\pandas\\core\\groupby\\groupby.py:1329\u001b[0m, in \u001b[0;36mGroupBy.__init__\u001b[1;34m(self, obj, keys, axis, level, grouper, exclusions, selection, as_index, sort, group_keys, observed, dropna)\u001b[0m\n\u001b[0;32m   1326\u001b[0m \u001b[38;5;28mself\u001b[39m\u001b[38;5;241m.\u001b[39mdropna \u001b[38;5;241m=\u001b[39m dropna\n\u001b[0;32m   1328\u001b[0m \u001b[38;5;28;01mif\u001b[39;00m grouper \u001b[38;5;129;01mis\u001b[39;00m \u001b[38;5;28;01mNone\u001b[39;00m:\n\u001b[1;32m-> 1329\u001b[0m     grouper, exclusions, obj \u001b[38;5;241m=\u001b[39m \u001b[43mget_grouper\u001b[49m\u001b[43m(\u001b[49m\n\u001b[0;32m   1330\u001b[0m \u001b[43m        \u001b[49m\u001b[43mobj\u001b[49m\u001b[43m,\u001b[49m\n\u001b[0;32m   1331\u001b[0m \u001b[43m        \u001b[49m\u001b[43mkeys\u001b[49m\u001b[43m,\u001b[49m\n\u001b[0;32m   1332\u001b[0m \u001b[43m        \u001b[49m\u001b[43maxis\u001b[49m\u001b[38;5;241;43m=\u001b[39;49m\u001b[43maxis\u001b[49m\u001b[43m,\u001b[49m\n\u001b[0;32m   1333\u001b[0m \u001b[43m        \u001b[49m\u001b[43mlevel\u001b[49m\u001b[38;5;241;43m=\u001b[39;49m\u001b[43mlevel\u001b[49m\u001b[43m,\u001b[49m\n\u001b[0;32m   1334\u001b[0m \u001b[43m        \u001b[49m\u001b[43msort\u001b[49m\u001b[38;5;241;43m=\u001b[39;49m\u001b[43msort\u001b[49m\u001b[43m,\u001b[49m\n\u001b[0;32m   1335\u001b[0m \u001b[43m        \u001b[49m\u001b[43mobserved\u001b[49m\u001b[38;5;241;43m=\u001b[39;49m\u001b[38;5;28;43;01mFalse\u001b[39;49;00m\u001b[43m \u001b[49m\u001b[38;5;28;43;01mif\u001b[39;49;00m\u001b[43m \u001b[49m\u001b[43mobserved\u001b[49m\u001b[43m \u001b[49m\u001b[38;5;129;43;01mis\u001b[39;49;00m\u001b[43m \u001b[49m\u001b[43mlib\u001b[49m\u001b[38;5;241;43m.\u001b[39;49m\u001b[43mno_default\u001b[49m\u001b[43m \u001b[49m\u001b[38;5;28;43;01melse\u001b[39;49;00m\u001b[43m \u001b[49m\u001b[43mobserved\u001b[49m\u001b[43m,\u001b[49m\n\u001b[0;32m   1336\u001b[0m \u001b[43m        \u001b[49m\u001b[43mdropna\u001b[49m\u001b[38;5;241;43m=\u001b[39;49m\u001b[38;5;28;43mself\u001b[39;49m\u001b[38;5;241;43m.\u001b[39;49m\u001b[43mdropna\u001b[49m\u001b[43m,\u001b[49m\n\u001b[0;32m   1337\u001b[0m \u001b[43m    \u001b[49m\u001b[43m)\u001b[49m\n\u001b[0;32m   1339\u001b[0m \u001b[38;5;28;01mif\u001b[39;00m observed \u001b[38;5;129;01mis\u001b[39;00m lib\u001b[38;5;241m.\u001b[39mno_default:\n\u001b[0;32m   1340\u001b[0m     \u001b[38;5;28;01mif\u001b[39;00m \u001b[38;5;28many\u001b[39m(ping\u001b[38;5;241m.\u001b[39m_passed_categorical \u001b[38;5;28;01mfor\u001b[39;00m ping \u001b[38;5;129;01min\u001b[39;00m grouper\u001b[38;5;241m.\u001b[39mgroupings):\n",
      "File \u001b[1;32mc:\\Users\\ctrujils\\Documents\\Proyectos\\MSM\\validador\\ml-validator\\b2b_env\\Lib\\site-packages\\pandas\\core\\groupby\\grouper.py:1043\u001b[0m, in \u001b[0;36mget_grouper\u001b[1;34m(obj, key, axis, level, sort, observed, validate, dropna)\u001b[0m\n\u001b[0;32m   1041\u001b[0m         in_axis, level, gpr \u001b[38;5;241m=\u001b[39m \u001b[38;5;28;01mFalse\u001b[39;00m, gpr, \u001b[38;5;28;01mNone\u001b[39;00m\n\u001b[0;32m   1042\u001b[0m     \u001b[38;5;28;01melse\u001b[39;00m:\n\u001b[1;32m-> 1043\u001b[0m         \u001b[38;5;28;01mraise\u001b[39;00m \u001b[38;5;167;01mKeyError\u001b[39;00m(gpr)\n\u001b[0;32m   1044\u001b[0m \u001b[38;5;28;01melif\u001b[39;00m \u001b[38;5;28misinstance\u001b[39m(gpr, Grouper) \u001b[38;5;129;01mand\u001b[39;00m gpr\u001b[38;5;241m.\u001b[39mkey \u001b[38;5;129;01mis\u001b[39;00m \u001b[38;5;129;01mnot\u001b[39;00m \u001b[38;5;28;01mNone\u001b[39;00m:\n\u001b[0;32m   1045\u001b[0m     \u001b[38;5;66;03m# Add key to exclusions\u001b[39;00m\n\u001b[0;32m   1046\u001b[0m     exclusions\u001b[38;5;241m.\u001b[39madd(gpr\u001b[38;5;241m.\u001b[39mkey)\n",
      "\u001b[1;31mKeyError\u001b[0m: 'SegmentoReferenciasUnicas'"
     ]
    }
   ],
   "source": [
    "# Agrupar por 'SegmentoReferenciasUnicas' para calcular las métricas\n",
    "segmento_referencias_stats = order_detail_sorted.groupby('SegmentoReferenciasUnicas').agg(\n",
    "    TotalCouponDiscountAmt=('CouponDiscountAmt', 'sum'),  # Gasto total en cupones\n",
    "    TotalSellout=('Sellout', 'sum'),  # Facturación total\n",
    ").reset_index()\n",
    "\n",
    "# Gráfico de barras comparativo\n",
    "fig, ax = plt.subplots(1, 2, figsize=(18, 6))\n",
    "\n",
    "# Gasto en Cupones por Segmento\n",
    "sns.barplot(x='SegmentoReferenciasUnicas', y='TotalCouponDiscountAmt', data=segmento_referencias_stats, ax=ax[0], palette='Blues')\n",
    "ax[0].set_title('Gasto Total en Cupones por Segmento')\n",
    "ax[0].set_xlabel('Segmento de Referencias Únicas')\n",
    "ax[0].set_ylabel('Gasto Total en Cupones')\n",
    "\n",
    "# Facturación por Segmento\n",
    "sns.barplot(x='SegmentoReferenciasUnicas', y='TotalSellout', data=segmento_referencias_stats, ax=ax[1], palette='Greens')\n",
    "ax[1].set_title('Facturación Total (Sellout) por Segmento')\n",
    "ax[1].set_xlabel('Segmento de Referencias Únicas')\n",
    "ax[1].set_ylabel('Facturación Total (Sellout)')\n",
    "\n",
    "plt.tight_layout()\n",
    "plt.show()\n"
   ]
  },
  {
   "cell_type": "markdown",
   "metadata": {},
   "source": []
  },
  {
   "cell_type": "code",
   "execution_count": 702,
   "metadata": {},
   "outputs": [
    {
     "data": {
      "text/plain": [
       "Index(['Code', 'OrderDate', 'Sellout', 'CodeProduct', 'Name',\n",
       "       'NameDistributor', 'PointOfSaleId', 'CouponCode', 'CouponDiscountAmt',\n",
       "       'CouponDiscountPct', 'CouponDescription', 'InsertionOrigin', 'Origin',\n",
       "       'tipologia', 'Cluster', 'Frequency_online', 'Coupon_type',\n",
       "       'PctgCouponUsed', 'DaysBetweenPurchases',\n",
       "       'CumulativeAvgDaysBetweenPurchases', 'IsOnline', 'LastPurchaseOnline',\n",
       "       'Digitalizacion', 'ForwardOnline', 'NumberOfOrders_x', 'LastOrderDate',\n",
       "       'LastOnlineOrderDate', 'NumberOfOrders_y',\n",
       "       'DaysBetweenLastOrderAndLastOnline', 'Estado',\n",
       "       'SegmentoFacturacionOnline'],\n",
       "      dtype='object')"
      ]
     },
     "execution_count": 702,
     "metadata": {},
     "output_type": "execute_result"
    }
   ],
   "source": [
    "order_detail_sorted.columns"
   ]
  },
  {
   "cell_type": "code",
   "execution_count": 710,
   "metadata": {},
   "outputs": [
    {
     "data": {
      "text/html": [
       "<div>\n",
       "<style scoped>\n",
       "    .dataframe tbody tr th:only-of-type {\n",
       "        vertical-align: middle;\n",
       "    }\n",
       "\n",
       "    .dataframe tbody tr th {\n",
       "        vertical-align: top;\n",
       "    }\n",
       "\n",
       "    .dataframe thead th {\n",
       "        text-align: right;\n",
       "    }\n",
       "</style>\n",
       "<table border=\"1\" class=\"dataframe\">\n",
       "  <thead>\n",
       "    <tr style=\"text-align: right;\">\n",
       "      <th></th>\n",
       "      <th>NameDistributor</th>\n",
       "      <th>CouponDiscountAmt</th>\n",
       "    </tr>\n",
       "  </thead>\n",
       "  <tbody>\n",
       "    <tr>\n",
       "      <th>0</th>\n",
       "      <td>Bebicer</td>\n",
       "      <td>0.000000</td>\n",
       "    </tr>\n",
       "    <tr>\n",
       "      <th>1</th>\n",
       "      <td>Voldis Coruña</td>\n",
       "      <td>71774.419996</td>\n",
       "    </tr>\n",
       "    <tr>\n",
       "      <th>2</th>\n",
       "      <td>Voldis Granada</td>\n",
       "      <td>144091.920040</td>\n",
       "    </tr>\n",
       "    <tr>\n",
       "      <th>3</th>\n",
       "      <td>Voldis Madrid</td>\n",
       "      <td>156853.849980</td>\n",
       "    </tr>\n",
       "    <tr>\n",
       "      <th>4</th>\n",
       "      <td>Voldis Murcia</td>\n",
       "      <td>72970.720011</td>\n",
       "    </tr>\n",
       "    <tr>\n",
       "      <th>5</th>\n",
       "      <td>Voldis Valencia</td>\n",
       "      <td>163839.309999</td>\n",
       "    </tr>\n",
       "  </tbody>\n",
       "</table>\n",
       "</div>"
      ],
      "text/plain": [
       "   NameDistributor  CouponDiscountAmt\n",
       "0          Bebicer           0.000000\n",
       "1    Voldis Coruña       71774.419996\n",
       "2   Voldis Granada      144091.920040\n",
       "3    Voldis Madrid      156853.849980\n",
       "4    Voldis Murcia       72970.720011\n",
       "5  Voldis Valencia      163839.309999"
      ]
     },
     "execution_count": 710,
     "metadata": {},
     "output_type": "execute_result"
    }
   ],
   "source": [
    "order_detail_sorted[order_detail_sorted['OrderDate'].apply(lambda x: x.year)==2023].groupby('NameDistributor')['CouponDiscountAmt'].sum().reset_index()\n"
   ]
  },
  {
   "cell_type": "code",
   "execution_count": 712,
   "metadata": {},
   "outputs": [],
   "source": [
    "path=r'C:\\Users\\ctrujils\\eficiencia_promocional\\order_detail_sorted_segmentado_v2.parquet'\n",
    "order_detail_sorted.to_parquet(path)"
   ]
  }
 ],
 "metadata": {
  "application/vnd.databricks.v1+notebook": {
   "dashboards": [],
   "environmentMetadata": {
    "base_environment": "",
    "client": "1"
   },
   "language": "python",
   "notebookMetadata": {
    "pythonIndentUnit": 4
   },
   "notebookName": "Descriptivo_cupones",
   "widgets": {}
  },
  "kernelspec": {
   "display_name": "b2b_env",
   "language": "python",
   "name": "python3"
  },
  "language_info": {
   "codemirror_mode": {
    "name": "ipython",
    "version": 3
   },
   "file_extension": ".py",
   "mimetype": "text/x-python",
   "name": "python",
   "nbconvert_exporter": "python",
   "pygments_lexer": "ipython3",
   "version": "3.11.1"
  }
 },
 "nbformat": 4,
 "nbformat_minor": 0
}
