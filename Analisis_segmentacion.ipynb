{
 "cells": [
  {
   "cell_type": "markdown",
   "metadata": {},
   "source": [
    "#### Checkeo filtro dias entre compas online"
   ]
  },
  {
   "cell_type": "code",
   "execution_count": 217,
   "metadata": {},
   "outputs": [],
   "source": [
    "import pandas as pd"
   ]
  },
  {
   "cell_type": "code",
   "execution_count": 218,
   "metadata": {},
   "outputs": [],
   "source": [
    "path = r'C:\\Users\\ctrujils\\order_detail_grouped_onine.parquet'\n",
    "order_detail_sorted_grouped = pd.read_parquet(path)"
   ]
  },
  {
   "cell_type": "code",
   "execution_count": 219,
   "metadata": {},
   "outputs": [],
   "source": [
    "\n",
    "path = r'C:\\Users\\ctrujils\\order_detail_sorted_feat_eng.parquet'\n",
    "order_detail_sorted = pd.read_parquet(path)"
   ]
  },
  {
   "cell_type": "code",
   "execution_count": 220,
   "metadata": {},
   "outputs": [],
   "source": [
    "pdvs_pocas_compras=order_detail_sorted_grouped[(order_detail_sorted_grouped['Frequency_online']>1)& (order_detail_sorted_grouped['Frequency_online']<5)]"
   ]
  },
  {
   "cell_type": "code",
   "execution_count": 221,
   "metadata": {},
   "outputs": [
    {
     "data": {
      "text/html": [
       "<div>\n",
       "<style scoped>\n",
       "    .dataframe tbody tr th:only-of-type {\n",
       "        vertical-align: middle;\n",
       "    }\n",
       "\n",
       "    .dataframe tbody tr th {\n",
       "        vertical-align: top;\n",
       "    }\n",
       "\n",
       "    .dataframe thead th {\n",
       "        text-align: right;\n",
       "    }\n",
       "</style>\n",
       "<table border=\"1\" class=\"dataframe\">\n",
       "  <thead>\n",
       "    <tr style=\"text-align: right;\">\n",
       "      <th></th>\n",
       "      <th>AverageSellout</th>\n",
       "      <th>DaysSinceLastPurchase</th>\n",
       "      <th>DaysSinceFirstPurchase</th>\n",
       "      <th>TotalOnlinePurchases</th>\n",
       "      <th>TotalOfflinePurchases</th>\n",
       "      <th>AverageSelloutOnline</th>\n",
       "      <th>AverageSelloutOffline</th>\n",
       "      <th>DaysSinceLastOfflinePurchase</th>\n",
       "      <th>DaysSinceLastOnlinePurchase</th>\n",
       "      <th>CumulativeAvgDaysBetweenPurchases</th>\n",
       "      <th>...</th>\n",
       "      <th>NameDistributor</th>\n",
       "      <th>Name</th>\n",
       "      <th>PointOfSaleId</th>\n",
       "      <th>PctgCouponUsed</th>\n",
       "      <th>DaysBetweenOnlinePurchases</th>\n",
       "      <th>CouponDiscountAmt</th>\n",
       "      <th>DaysBetweenFirstAndSecond</th>\n",
       "      <th>DaysBetweenSecondAndThird</th>\n",
       "      <th>Sellout</th>\n",
       "      <th>Digitalizacion</th>\n",
       "    </tr>\n",
       "  </thead>\n",
       "  <tbody>\n",
       "    <tr>\n",
       "      <th>13</th>\n",
       "      <td>44.345000</td>\n",
       "      <td>196</td>\n",
       "      <td>559</td>\n",
       "      <td>2.0</td>\n",
       "      <td>10.0</td>\n",
       "      <td>49.859999</td>\n",
       "      <td>0.000000</td>\n",
       "      <td>196.0</td>\n",
       "      <td>538.0</td>\n",
       "      <td>0.0</td>\n",
       "      <td>...</td>\n",
       "      <td>Voldis Coruña</td>\n",
       "      <td>O ATURUXO</td>\n",
       "      <td>CLI0023335</td>\n",
       "      <td>100.000000</td>\n",
       "      <td>1.750000</td>\n",
       "      <td>21.309999</td>\n",
       "      <td>1.750000</td>\n",
       "      <td>0.000000</td>\n",
       "      <td>532.139997</td>\n",
       "      <td>0.833333</td>\n",
       "    </tr>\n",
       "    <tr>\n",
       "      <th>1049</th>\n",
       "      <td>307.924995</td>\n",
       "      <td>535</td>\n",
       "      <td>556</td>\n",
       "      <td>2.0</td>\n",
       "      <td>0.0</td>\n",
       "      <td>307.924995</td>\n",
       "      <td>0.000000</td>\n",
       "      <td>NaN</td>\n",
       "      <td>535.0</td>\n",
       "      <td>0.0</td>\n",
       "      <td>...</td>\n",
       "      <td>Voldis Coruña</td>\n",
       "      <td>VERDEMAR</td>\n",
       "      <td>F003394</td>\n",
       "      <td>100.000000</td>\n",
       "      <td>10.500000</td>\n",
       "      <td>114.310001</td>\n",
       "      <td>10.500000</td>\n",
       "      <td>0.000000</td>\n",
       "      <td>615.849991</td>\n",
       "      <td>1.500000</td>\n",
       "    </tr>\n",
       "    <tr>\n",
       "      <th>1372</th>\n",
       "      <td>116.082500</td>\n",
       "      <td>66</td>\n",
       "      <td>556</td>\n",
       "      <td>2.0</td>\n",
       "      <td>18.0</td>\n",
       "      <td>256.520004</td>\n",
       "      <td>0.000000</td>\n",
       "      <td>66.0</td>\n",
       "      <td>535.0</td>\n",
       "      <td>0.0</td>\n",
       "      <td>...</td>\n",
       "      <td>Voldis Coruña</td>\n",
       "      <td>CHURRERIA MONCHURRI</td>\n",
       "      <td>CLI0023879</td>\n",
       "      <td>100.000000</td>\n",
       "      <td>1.050000</td>\n",
       "      <td>115.539999</td>\n",
       "      <td>1.050000</td>\n",
       "      <td>0.000000</td>\n",
       "      <td>2321.650008</td>\n",
       "      <td>0.500000</td>\n",
       "    </tr>\n",
       "    <tr>\n",
       "      <th>7480</th>\n",
       "      <td>209.628890</td>\n",
       "      <td>3</td>\n",
       "      <td>528</td>\n",
       "      <td>1.0</td>\n",
       "      <td>8.0</td>\n",
       "      <td>383.070007</td>\n",
       "      <td>0.000000</td>\n",
       "      <td>3.0</td>\n",
       "      <td>528.0</td>\n",
       "      <td>0.0</td>\n",
       "      <td>...</td>\n",
       "      <td>Voldis Valencia</td>\n",
       "      <td>BAR LAS MAJADAS</td>\n",
       "      <td>CLI0039500</td>\n",
       "      <td>100.000000</td>\n",
       "      <td>0.000000</td>\n",
       "      <td>95.769997</td>\n",
       "      <td>0.000000</td>\n",
       "      <td>0.000000</td>\n",
       "      <td>1886.660007</td>\n",
       "      <td>0.888889</td>\n",
       "    </tr>\n",
       "    <tr>\n",
       "      <th>6233</th>\n",
       "      <td>37.010000</td>\n",
       "      <td>527</td>\n",
       "      <td>541</td>\n",
       "      <td>2.0</td>\n",
       "      <td>0.0</td>\n",
       "      <td>37.010000</td>\n",
       "      <td>0.000000</td>\n",
       "      <td>NaN</td>\n",
       "      <td>527.0</td>\n",
       "      <td>0.0</td>\n",
       "      <td>...</td>\n",
       "      <td>Voldis Valencia</td>\n",
       "      <td>BAR EL GRITO</td>\n",
       "      <td>CLI0040301</td>\n",
       "      <td>100.000000</td>\n",
       "      <td>7.000000</td>\n",
       "      <td>14.210001</td>\n",
       "      <td>7.000000</td>\n",
       "      <td>0.000000</td>\n",
       "      <td>74.020000</td>\n",
       "      <td>1.500000</td>\n",
       "    </tr>\n",
       "    <tr>\n",
       "      <th>...</th>\n",
       "      <td>...</td>\n",
       "      <td>...</td>\n",
       "      <td>...</td>\n",
       "      <td>...</td>\n",
       "      <td>...</td>\n",
       "      <td>...</td>\n",
       "      <td>...</td>\n",
       "      <td>...</td>\n",
       "      <td>...</td>\n",
       "      <td>...</td>\n",
       "      <td>...</td>\n",
       "      <td>...</td>\n",
       "      <td>...</td>\n",
       "      <td>...</td>\n",
       "      <td>...</td>\n",
       "      <td>...</td>\n",
       "      <td>...</td>\n",
       "      <td>...</td>\n",
       "      <td>...</td>\n",
       "      <td>...</td>\n",
       "      <td>...</td>\n",
       "    </tr>\n",
       "    <tr>\n",
       "      <th>9865</th>\n",
       "      <td>539.876970</td>\n",
       "      <td>2</td>\n",
       "      <td>456</td>\n",
       "      <td>3.0</td>\n",
       "      <td>30.0</td>\n",
       "      <td>0.000000</td>\n",
       "      <td>552.848000</td>\n",
       "      <td>2.0</td>\n",
       "      <td>2.0</td>\n",
       "      <td>0.0</td>\n",
       "      <td>...</td>\n",
       "      <td>Voldis Valencia</td>\n",
       "      <td>LA MOTOCICLETA K7 (SOL)</td>\n",
       "      <td>CLI0042258</td>\n",
       "      <td>40.124340</td>\n",
       "      <td>3.878788</td>\n",
       "      <td>15.000000</td>\n",
       "      <td>3.666667</td>\n",
       "      <td>0.212121</td>\n",
       "      <td>17815.940015</td>\n",
       "      <td>0.272727</td>\n",
       "    </tr>\n",
       "    <tr>\n",
       "      <th>8803</th>\n",
       "      <td>117.064667</td>\n",
       "      <td>2</td>\n",
       "      <td>499</td>\n",
       "      <td>4.0</td>\n",
       "      <td>26.0</td>\n",
       "      <td>0.000000</td>\n",
       "      <td>92.022692</td>\n",
       "      <td>93.0</td>\n",
       "      <td>2.0</td>\n",
       "      <td>0.0</td>\n",
       "      <td>...</td>\n",
       "      <td>Voldis Granada</td>\n",
       "      <td>TABERNA EL DESTINO</td>\n",
       "      <td>CLI0026765</td>\n",
       "      <td>100.000000</td>\n",
       "      <td>2.800000</td>\n",
       "      <td>242.429996</td>\n",
       "      <td>2.800000</td>\n",
       "      <td>2.100000</td>\n",
       "      <td>3511.940006</td>\n",
       "      <td>0.333333</td>\n",
       "    </tr>\n",
       "    <tr>\n",
       "      <th>11138</th>\n",
       "      <td>409.459667</td>\n",
       "      <td>2</td>\n",
       "      <td>387</td>\n",
       "      <td>4.0</td>\n",
       "      <td>26.0</td>\n",
       "      <td>430.407503</td>\n",
       "      <td>0.000000</td>\n",
       "      <td>9.0</td>\n",
       "      <td>2.0</td>\n",
       "      <td>0.0</td>\n",
       "      <td>...</td>\n",
       "      <td>Voldis Valencia</td>\n",
       "      <td>REST. TOSTERIA O'CLOCK</td>\n",
       "      <td>CLI0037581</td>\n",
       "      <td>98.375958</td>\n",
       "      <td>23.566667</td>\n",
       "      <td>174.820000</td>\n",
       "      <td>13.300000</td>\n",
       "      <td>11.200000</td>\n",
       "      <td>12283.790012</td>\n",
       "      <td>0.466667</td>\n",
       "    </tr>\n",
       "    <tr>\n",
       "      <th>13096</th>\n",
       "      <td>187.956667</td>\n",
       "      <td>2</td>\n",
       "      <td>247</td>\n",
       "      <td>4.0</td>\n",
       "      <td>17.0</td>\n",
       "      <td>118.512501</td>\n",
       "      <td>0.000000</td>\n",
       "      <td>9.0</td>\n",
       "      <td>2.0</td>\n",
       "      <td>0.0</td>\n",
       "      <td>...</td>\n",
       "      <td>Voldis Valencia</td>\n",
       "      <td>HAMBURGUESERIA ORO</td>\n",
       "      <td>CLI0038516</td>\n",
       "      <td>41.966038</td>\n",
       "      <td>11.666667</td>\n",
       "      <td>24.460000</td>\n",
       "      <td>11.666667</td>\n",
       "      <td>11.333333</td>\n",
       "      <td>3947.090003</td>\n",
       "      <td>0.761905</td>\n",
       "    </tr>\n",
       "    <tr>\n",
       "      <th>13938</th>\n",
       "      <td>110.537647</td>\n",
       "      <td>1</td>\n",
       "      <td>195</td>\n",
       "      <td>2.0</td>\n",
       "      <td>15.0</td>\n",
       "      <td>0.000000</td>\n",
       "      <td>109.460667</td>\n",
       "      <td>14.0</td>\n",
       "      <td>1.0</td>\n",
       "      <td>0.0</td>\n",
       "      <td>...</td>\n",
       "      <td>Voldis Valencia</td>\n",
       "      <td>CERV. BOC. TUCAN-TUCAN</td>\n",
       "      <td>CLI0038333</td>\n",
       "      <td>52.219365</td>\n",
       "      <td>0.823529</td>\n",
       "      <td>21.860001</td>\n",
       "      <td>1.647059</td>\n",
       "      <td>0.000000</td>\n",
       "      <td>1879.139996</td>\n",
       "      <td>0.235294</td>\n",
       "    </tr>\n",
       "  </tbody>\n",
       "</table>\n",
       "<p>1124 rows × 23 columns</p>\n",
       "</div>"
      ],
      "text/plain": [
       "       AverageSellout  DaysSinceLastPurchase  DaysSinceFirstPurchase  \\\n",
       "13          44.345000                    196                     559   \n",
       "1049       307.924995                    535                     556   \n",
       "1372       116.082500                     66                     556   \n",
       "7480       209.628890                      3                     528   \n",
       "6233        37.010000                    527                     541   \n",
       "...               ...                    ...                     ...   \n",
       "9865       539.876970                      2                     456   \n",
       "8803       117.064667                      2                     499   \n",
       "11138      409.459667                      2                     387   \n",
       "13096      187.956667                      2                     247   \n",
       "13938      110.537647                      1                     195   \n",
       "\n",
       "       TotalOnlinePurchases  TotalOfflinePurchases  AverageSelloutOnline  \\\n",
       "13                      2.0                   10.0             49.859999   \n",
       "1049                    2.0                    0.0            307.924995   \n",
       "1372                    2.0                   18.0            256.520004   \n",
       "7480                    1.0                    8.0            383.070007   \n",
       "6233                    2.0                    0.0             37.010000   \n",
       "...                     ...                    ...                   ...   \n",
       "9865                    3.0                   30.0              0.000000   \n",
       "8803                    4.0                   26.0              0.000000   \n",
       "11138                   4.0                   26.0            430.407503   \n",
       "13096                   4.0                   17.0            118.512501   \n",
       "13938                   2.0                   15.0              0.000000   \n",
       "\n",
       "       AverageSelloutOffline  DaysSinceLastOfflinePurchase  \\\n",
       "13                  0.000000                         196.0   \n",
       "1049                0.000000                           NaN   \n",
       "1372                0.000000                          66.0   \n",
       "7480                0.000000                           3.0   \n",
       "6233                0.000000                           NaN   \n",
       "...                      ...                           ...   \n",
       "9865              552.848000                           2.0   \n",
       "8803               92.022692                          93.0   \n",
       "11138               0.000000                           9.0   \n",
       "13096               0.000000                           9.0   \n",
       "13938             109.460667                          14.0   \n",
       "\n",
       "       DaysSinceLastOnlinePurchase  CumulativeAvgDaysBetweenPurchases  ...  \\\n",
       "13                           538.0                                0.0  ...   \n",
       "1049                         535.0                                0.0  ...   \n",
       "1372                         535.0                                0.0  ...   \n",
       "7480                         528.0                                0.0  ...   \n",
       "6233                         527.0                                0.0  ...   \n",
       "...                            ...                                ...  ...   \n",
       "9865                           2.0                                0.0  ...   \n",
       "8803                           2.0                                0.0  ...   \n",
       "11138                          2.0                                0.0  ...   \n",
       "13096                          2.0                                0.0  ...   \n",
       "13938                          1.0                                0.0  ...   \n",
       "\n",
       "       NameDistributor                     Name  PointOfSaleId PctgCouponUsed  \\\n",
       "13       Voldis Coruña                O ATURUXO     CLI0023335     100.000000   \n",
       "1049     Voldis Coruña                 VERDEMAR        F003394     100.000000   \n",
       "1372     Voldis Coruña      CHURRERIA MONCHURRI     CLI0023879     100.000000   \n",
       "7480   Voldis Valencia          BAR LAS MAJADAS     CLI0039500     100.000000   \n",
       "6233   Voldis Valencia             BAR EL GRITO     CLI0040301     100.000000   \n",
       "...                ...                      ...            ...            ...   \n",
       "9865   Voldis Valencia  LA MOTOCICLETA K7 (SOL)     CLI0042258      40.124340   \n",
       "8803    Voldis Granada       TABERNA EL DESTINO     CLI0026765     100.000000   \n",
       "11138  Voldis Valencia   REST. TOSTERIA O'CLOCK     CLI0037581      98.375958   \n",
       "13096  Voldis Valencia       HAMBURGUESERIA ORO     CLI0038516      41.966038   \n",
       "13938  Voldis Valencia   CERV. BOC. TUCAN-TUCAN     CLI0038333      52.219365   \n",
       "\n",
       "      DaysBetweenOnlinePurchases CouponDiscountAmt  DaysBetweenFirstAndSecond  \\\n",
       "13                      1.750000         21.309999                   1.750000   \n",
       "1049                   10.500000        114.310001                  10.500000   \n",
       "1372                    1.050000        115.539999                   1.050000   \n",
       "7480                    0.000000         95.769997                   0.000000   \n",
       "6233                    7.000000         14.210001                   7.000000   \n",
       "...                          ...               ...                        ...   \n",
       "9865                    3.878788         15.000000                   3.666667   \n",
       "8803                    2.800000        242.429996                   2.800000   \n",
       "11138                  23.566667        174.820000                  13.300000   \n",
       "13096                  11.666667         24.460000                  11.666667   \n",
       "13938                   0.823529         21.860001                   1.647059   \n",
       "\n",
       "       DaysBetweenSecondAndThird       Sellout  Digitalizacion  \n",
       "13                      0.000000    532.139997        0.833333  \n",
       "1049                    0.000000    615.849991        1.500000  \n",
       "1372                    0.000000   2321.650008        0.500000  \n",
       "7480                    0.000000   1886.660007        0.888889  \n",
       "6233                    0.000000     74.020000        1.500000  \n",
       "...                          ...           ...             ...  \n",
       "9865                    0.212121  17815.940015        0.272727  \n",
       "8803                    2.100000   3511.940006        0.333333  \n",
       "11138                  11.200000  12283.790012        0.466667  \n",
       "13096                  11.333333   3947.090003        0.761905  \n",
       "13938                   0.000000   1879.139996        0.235294  \n",
       "\n",
       "[1124 rows x 23 columns]"
      ]
     },
     "execution_count": 221,
     "metadata": {},
     "output_type": "execute_result"
    }
   ],
   "source": [
    "pdvs_pocas_compras.sort_values(by='DaysSinceLastOnlinePurchase', ascending=False)"
   ]
  },
  {
   "cell_type": "code",
   "execution_count": 222,
   "metadata": {},
   "outputs": [
    {
     "data": {
      "text/plain": [
       "<Axes: >"
      ]
     },
     "execution_count": 222,
     "metadata": {},
     "output_type": "execute_result"
    },
    {
     "data": {
      "image/png": "[encoded data removed]",
      "text/plain": [
       "<Figure size 640x480 with 1 Axes>"
      ]
     },
     "metadata": {},
     "output_type": "display_data"
    }
   ],
   "source": [
    "pdvs_pocas_compras['DaysSinceLastOnlinePurchase'].hist()"
   ]
  },
  {
   "cell_type": "markdown",
   "metadata": {},
   "source": [
    "#### FILTROS"
   ]
  },
  {
   "cell_type": "code",
   "execution_count": 223,
   "metadata": {},
   "outputs": [],
   "source": [
    "df_online=order_detail_sorted[order_detail_sorted['Origin']=='Online']\n",
    "order_detail_sorted_grouped_sin0=order_detail_sorted_grouped[order_detail_sorted_grouped['DaysBetweenOnlinePurchases']>=1]"
   ]
  },
  {
   "cell_type": "code",
   "execution_count": 224,
   "metadata": {},
   "outputs": [
    {
     "data": {
      "text/plain": [
       "1.0"
      ]
     },
     "execution_count": 224,
     "metadata": {},
     "output_type": "execute_result"
    }
   ],
   "source": [
    "order_detail_sorted_grouped_sin0['DaysBetweenOnlinePurchases'].min()"
   ]
  },
  {
   "cell_type": "code",
   "execution_count": 225,
   "metadata": {},
   "outputs": [
    {
     "data": {
      "text/plain": [
       "<Axes: >"
      ]
     },
     "execution_count": 225,
     "metadata": {},
     "output_type": "execute_result"
    },
    {
     "data": {
      "image/png": "[encoded data removed]",
      "text/plain": [
       "<Figure size 640x480 with 1 Axes>"
      ]
     },
     "metadata": {},
     "output_type": "display_data"
    }
   ],
   "source": [
    "\n",
    "order_detail_sorted_grouped_sin0['DaysBetweenOnlinePurchases'].hist()\n",
    "# pdvs_0=order_detail_sorted_grouped[order_detail_sorted_grouped['DaysBetweenOnlinePurchases']==0]['PointOfSaleId'].unique().tolist()"
   ]
  },
  {
   "cell_type": "code",
   "execution_count": 226,
   "metadata": {},
   "outputs": [],
   "source": [
    "\n",
    "df_zoom_180=order_detail_sorted_grouped_sin0[order_detail_sorted_grouped_sin0['DaysBetweenFirstAndSecond']<=80]"
   ]
  },
  {
   "cell_type": "code",
   "execution_count": 227,
   "metadata": {},
   "outputs": [
    {
     "data": {
      "text/plain": [
       "<Axes: >"
      ]
     },
     "execution_count": 227,
     "metadata": {},
     "output_type": "execute_result"
    },
    {
     "data": {
      "image/png": "[encoded data removed]",
      "text/plain": [
       "<Figure size 640x480 with 1 Axes>"
      ]
     },
     "metadata": {},
     "output_type": "display_data"
    }
   ],
   "source": [
    "df_zoom_180['DaysBetweenFirstAndSecond'].hist()"
   ]
  },
  {
   "cell_type": "code",
   "execution_count": 228,
   "metadata": {},
   "outputs": [],
   "source": [
    "df_zoom_180=order_detail_sorted_grouped_sin0[order_detail_sorted_grouped_sin0['DaysBetweenSecondAndThird']<=80]"
   ]
  },
  {
   "cell_type": "code",
   "execution_count": 229,
   "metadata": {},
   "outputs": [
    {
     "data": {
      "text/plain": [
       "<Axes: >"
      ]
     },
     "execution_count": 229,
     "metadata": {},
     "output_type": "execute_result"
    },
    {
     "data": {
      "image/png": "[encoded data removed]",
      "text/plain": [
       "<Figure size 640x480 with 1 Axes>"
      ]
     },
     "metadata": {},
     "output_type": "display_data"
    }
   ],
   "source": [
    "df_zoom_180['DaysBetweenSecondAndThird'].hist()"
   ]
  },
  {
   "cell_type": "code",
   "execution_count": 230,
   "metadata": {},
   "outputs": [
    {
     "data": {
      "text/plain": [
       "<Axes: >"
      ]
     },
     "execution_count": 230,
     "metadata": {},
     "output_type": "execute_result"
    },
    {
     "data": {
      "image/png": "[encoded data removed]",
      "text/plain": [
       "<Figure size 640x480 with 1 Axes>"
      ]
     },
     "metadata": {},
     "output_type": "display_data"
    }
   ],
   "source": [
    "\n",
    "\n",
    "df_zoom_150=order_detail_sorted_grouped_sin0[order_detail_sorted_grouped_sin0['DaysBetweenOnlinePurchases']<=150]\n",
    "df_zoom_150['DaysBetweenOnlinePurchases'].hist(bins= 30)\n",
    "# df_zoom_30['DaysBetweenFirstAndSecond'].hist()\n"
   ]
  },
  {
   "cell_type": "code",
   "execution_count": 257,
   "metadata": {},
   "outputs": [],
   "source": [
    "\n",
    "# import pandas as pd\n",
    "\n",
    "# ######\n",
    "\n",
    "# # Calcular los cuartiles para cada variable\n",
    "# q1_between_online = order_detail_sorted_grouped_sin0['DaysBetweenOnlinePurchases'].quantile(0.25)\n",
    "# q2_between_online = order_detail_sorted_grouped_sin0['DaysBetweenOnlinePurchases'].quantile(0.5)\n",
    "# q3_between_online = order_detail_sorted_grouped_sin0['DaysBetweenOnlinePurchases'].quantile(0.75)\n",
    "\n",
    "# q1_between_first_second = order_detail_sorted_grouped_sin0['DaysBetweenFirstAndSecond'].quantile(0.25)\n",
    "# q2_between_first_second = order_detail_sorted_grouped_sin0['DaysBetweenFirstAndSecond'].quantile(0.5)\n",
    "# q3_between_first_second = order_detail_sorted_grouped_sin0['DaysBetweenFirstAndSecond'].quantile(0.75)\n",
    "\n",
    "# q1_between_second_third = order_detail_sorted_grouped_sin0['DaysBetweenSecondAndThird'].quantile(0.25)\n",
    "# q2_between_second_third = order_detail_sorted_grouped_sin0['DaysBetweenSecondAndThird'].quantile(0.5)\n",
    "# q3_between_second_third = order_detail_sorted_grouped_sin0['DaysBetweenSecondAndThird'].quantile(0.75)\n",
    "\n",
    "# # Definir una función para clasificar cada PDV según los cuartiles de las tres variables\n",
    "# def categorize_pdv(row):\n",
    "#     if row['DaysBetweenOnlinePurchases'] <= q1_between_online and \\\n",
    "#        row['DaysBetweenFirstAndSecond'] <= q1_between_first_second and \\\n",
    "#        row['DaysBetweenSecondAndThird'] <= q1_between_second_third:\n",
    "#         return 'Cuartil 1 - Alta propensión'\n",
    "#     elif row['DaysBetweenOnlinePurchases'] > q3_between_online or \\\n",
    "#          row['DaysBetweenFirstAndSecond'] > q3_between_first_second or \\\n",
    "#          row['DaysBetweenSecondAndThird'] > q3_between_second_third:\n",
    "#         return 'Cuartil 4 - Baja propensión'\n",
    "#     else:\n",
    "#         return 'Cuartil 2y3 - Adopción promedio'\n",
    "\n",
    "# # Aplicar la función para clasificar cada PDV\n",
    "# order_detail_sorted_grouped_sin0['SegmentoAdopcion'] = order_detail_sorted_grouped_sin0.apply(categorize_pdv, axis=1)\n",
    "\n",
    "# alta_propension = order_detail_sorted_grouped_sin0[order_detail_sorted_grouped_sin0['SegmentoAdopcion'] == 'Cuartil 1 - Alta propensión']\n",
    "# baja_propension = order_detail_sorted_grouped_sin0[order_detail_sorted_grouped_sin0['SegmentoAdopcion'] == 'Cuartil 4 - Baja propensión']\n",
    "# adopcion_promedio = order_detail_sorted_grouped_sin0[order_detail_sorted_grouped_sin0['SegmentoAdopcion'] == 'Cuartil 2/3 - Adopción promedio']\n",
    "\n",
    "# print(order_detail_sorted_grouped_sin0['SegmentoAdopcion'].value_counts())\n"
   ]
  },
  {
   "cell_type": "markdown",
   "metadata": {},
   "source": [
    "## Temporalidad de observación para pdvs nuevos"
   ]
  },
  {
   "cell_type": "markdown",
   "metadata": {},
   "source": [
    " Eliminamos offline"
   ]
  },
  {
   "cell_type": "code",
   "execution_count": 258,
   "metadata": {},
   "outputs": [],
   "source": [
    "order_detail_sorted=order_detail_sorted[~order_detail_sorted['IsOnline']!=True]"
   ]
  },
  {
   "cell_type": "markdown",
   "metadata": {},
   "source": []
  },
  {
   "cell_type": "code",
   "execution_count": 259,
   "metadata": {},
   "outputs": [],
   "source": [
    "# order_detail_sorted=order_detail_sorted[order_detail_sorted['Frequency_online']>1]"
   ]
  },
  {
   "cell_type": "code",
   "execution_count": 260,
   "metadata": {},
   "outputs": [],
   "source": [
    "order_detail_sorted['OrderDate']=pd.to_datetime(order_detail_sorted['OrderDate'])"
   ]
  },
  {
   "cell_type": "code",
   "execution_count": 261,
   "metadata": {},
   "outputs": [
    {
     "data": {
      "text/plain": [
       "3802"
      ]
     },
     "execution_count": 261,
     "metadata": {},
     "output_type": "execute_result"
    }
   ],
   "source": [
    "order_detail_sorted.PointOfSaleId.nunique()"
   ]
  },
  {
   "cell_type": "code",
   "execution_count": 262,
   "metadata": {},
   "outputs": [],
   "source": [
    "order_detail_sorted=order_detail_sorted.sort_values(by=['PointOfSaleId', 'OrderDate'], ascending=True)"
   ]
  },
  {
   "cell_type": "code",
   "execution_count": 263,
   "metadata": {},
   "outputs": [],
   "source": [
    "#Creamos una columna de conteo de pedidos\n",
    "order_detail_sorted['OrderCount']=order_detail_sorted.groupby('PointOfSaleId').cumcount() +1"
   ]
  },
  {
   "cell_type": "code",
   "execution_count": 264,
   "metadata": {},
   "outputs": [],
   "source": [
    "max_orders=10\n",
    "muestra_compra=[]\n",
    "average_times_between_purchases = []\n",
    "current_pdvs=order_detail_sorted['PointOfSaleId'].unique()"
   ]
  },
  {
   "cell_type": "code",
   "execution_count": 265,
   "metadata": {},
   "outputs": [],
   "source": [
    "for i in range(1, max_orders + 1):\n",
    "    # Filtrar los pedidos correspondientes al \"i\"-ésimo pedido\n",
    "    df_target = order_detail_sorted[(order_detail_sorted['OrderCount'] == i) & (order_detail_sorted['PointOfSaleId'].isin(current_pdvs))]\n",
    "    \n",
    "    # Calcular cuántos PDVs realizaron la \"i\"-ésima compra\n",
    "    pdvs_with_order = df_target['PointOfSaleId'].unique()\n",
    "    num_pdvs_with_order = len(pdvs_with_order)\n",
    "    \n",
    "    \n",
    "    # Guardar la proporción de los que siguen comprando vs los que no\n",
    "    num_pdvs_initial = len(current_pdvs)\n",
    "    stopped_buying = num_pdvs_initial - num_pdvs_with_order\n",
    "\n",
    "    # Calcular la diferencia incremental \n",
    "    if i == 1:\n",
    "        incremental_stopped = stopped_buying  # si no hay pedido anterior\n",
    "    else:\n",
    "        incremental_stopped = stopped_buying - muestra_compra[-1]['stopped_buying']\n",
    "\n",
    "    muestra_compra.append({\n",
    "        'order': i,\n",
    "        'followed_buying': num_pdvs_with_order,\n",
    "        'stopped_buying': stopped_buying,\n",
    "        'incremental_stopped': incremental_stopped\n",
    "    })\n",
    "\n",
    "### Aquí sacamos la media y mediana de los dias entre compras\n",
    "\n",
    "    if i >= 0: #Desde el primero pedido\n",
    "        df_previous = order_detail_sorted[order_detail_sorted['OrderCount'] == (i - 1)]  # Pedidos anteriores\n",
    "        df_current = order_detail_sorted[order_detail_sorted['OrderCount'] == i]  # Pedidos actuales\n",
    "\n",
    "        # Unir para calcular la diferencia de días entre compras\n",
    "        df_merged = pd.merge(df_previous, df_current, on='PointOfSaleId', suffixes=('_prev', '_curr'))\n",
    "        df_merged['DaysBetweenOrders'] = (df_merged['OrderDate_curr'] - df_merged['OrderDate_prev']).dt.days\n",
    "        \n",
    "\n",
    "        # Calcular media y mediana de días entre compras\n",
    "        avg_days = df_merged['DaysBetweenOrders'].mean()\n",
    "        median_days = df_merged['DaysBetweenOrders'].median()\n",
    "        average_times_between_purchases.append({\n",
    "            'order': i,\n",
    "            'average_days': avg_days,\n",
    "            'median_days': median_days\n",
    "        })\n",
    "    \n",
    "    "
   ]
  },
  {
   "cell_type": "code",
   "execution_count": 266,
   "metadata": {},
   "outputs": [],
   "source": [
    "muestra_compra=pd.DataFrame(muestra_compra)\n",
    "df_times = pd.DataFrame(average_times_between_purchases)"
   ]
  },
  {
   "cell_type": "code",
   "execution_count": 267,
   "metadata": {},
   "outputs": [],
   "source": [
    "df_final=pd.merge(muestra_compra,df_times ,on='order', how='left')"
   ]
  },
  {
   "cell_type": "code",
   "execution_count": 268,
   "metadata": {},
   "outputs": [
    {
     "data": {
      "text/html": [
       "<div>\n",
       "<style scoped>\n",
       "    .dataframe tbody tr th:only-of-type {\n",
       "        vertical-align: middle;\n",
       "    }\n",
       "\n",
       "    .dataframe tbody tr th {\n",
       "        vertical-align: top;\n",
       "    }\n",
       "\n",
       "    .dataframe thead th {\n",
       "        text-align: right;\n",
       "    }\n",
       "</style>\n",
       "<table border=\"1\" class=\"dataframe\">\n",
       "  <thead>\n",
       "    <tr style=\"text-align: right;\">\n",
       "      <th></th>\n",
       "      <th>order</th>\n",
       "      <th>followed_buying</th>\n",
       "      <th>stopped_buying</th>\n",
       "      <th>incremental_stopped</th>\n",
       "      <th>average_days</th>\n",
       "      <th>median_days</th>\n",
       "    </tr>\n",
       "  </thead>\n",
       "  <tbody>\n",
       "    <tr>\n",
       "      <th>0</th>\n",
       "      <td>1</td>\n",
       "      <td>3802</td>\n",
       "      <td>0</td>\n",
       "      <td>0</td>\n",
       "      <td>NaN</td>\n",
       "      <td>NaN</td>\n",
       "    </tr>\n",
       "    <tr>\n",
       "      <th>1</th>\n",
       "      <td>2</td>\n",
       "      <td>3023</td>\n",
       "      <td>779</td>\n",
       "      <td>779</td>\n",
       "      <td>43.613960</td>\n",
       "      <td>17.0</td>\n",
       "    </tr>\n",
       "    <tr>\n",
       "      <th>2</th>\n",
       "      <td>3</td>\n",
       "      <td>2544</td>\n",
       "      <td>1258</td>\n",
       "      <td>479</td>\n",
       "      <td>39.554638</td>\n",
       "      <td>20.0</td>\n",
       "    </tr>\n",
       "    <tr>\n",
       "      <th>3</th>\n",
       "      <td>4</td>\n",
       "      <td>2198</td>\n",
       "      <td>1604</td>\n",
       "      <td>346</td>\n",
       "      <td>33.476342</td>\n",
       "      <td>15.0</td>\n",
       "    </tr>\n",
       "    <tr>\n",
       "      <th>4</th>\n",
       "      <td>5</td>\n",
       "      <td>1898</td>\n",
       "      <td>1904</td>\n",
       "      <td>300</td>\n",
       "      <td>31.276607</td>\n",
       "      <td>15.0</td>\n",
       "    </tr>\n",
       "    <tr>\n",
       "      <th>5</th>\n",
       "      <td>6</td>\n",
       "      <td>1667</td>\n",
       "      <td>2135</td>\n",
       "      <td>231</td>\n",
       "      <td>27.320336</td>\n",
       "      <td>14.0</td>\n",
       "    </tr>\n",
       "    <tr>\n",
       "      <th>6</th>\n",
       "      <td>7</td>\n",
       "      <td>1487</td>\n",
       "      <td>2315</td>\n",
       "      <td>180</td>\n",
       "      <td>26.285138</td>\n",
       "      <td>14.0</td>\n",
       "    </tr>\n",
       "    <tr>\n",
       "      <th>7</th>\n",
       "      <td>8</td>\n",
       "      <td>1342</td>\n",
       "      <td>2460</td>\n",
       "      <td>145</td>\n",
       "      <td>25.615499</td>\n",
       "      <td>14.0</td>\n",
       "    </tr>\n",
       "    <tr>\n",
       "      <th>8</th>\n",
       "      <td>9</td>\n",
       "      <td>1223</td>\n",
       "      <td>2579</td>\n",
       "      <td>119</td>\n",
       "      <td>25.055601</td>\n",
       "      <td>14.0</td>\n",
       "    </tr>\n",
       "    <tr>\n",
       "      <th>9</th>\n",
       "      <td>10</td>\n",
       "      <td>1100</td>\n",
       "      <td>2702</td>\n",
       "      <td>123</td>\n",
       "      <td>21.731818</td>\n",
       "      <td>13.0</td>\n",
       "    </tr>\n",
       "  </tbody>\n",
       "</table>\n",
       "</div>"
      ],
      "text/plain": [
       "   order  followed_buying  stopped_buying  incremental_stopped  average_days  \\\n",
       "0      1             3802               0                    0           NaN   \n",
       "1      2             3023             779                  779     43.613960   \n",
       "2      3             2544            1258                  479     39.554638   \n",
       "3      4             2198            1604                  346     33.476342   \n",
       "4      5             1898            1904                  300     31.276607   \n",
       "5      6             1667            2135                  231     27.320336   \n",
       "6      7             1487            2315                  180     26.285138   \n",
       "7      8             1342            2460                  145     25.615499   \n",
       "8      9             1223            2579                  119     25.055601   \n",
       "9     10             1100            2702                  123     21.731818   \n",
       "\n",
       "   median_days  \n",
       "0          NaN  \n",
       "1         17.0  \n",
       "2         20.0  \n",
       "3         15.0  \n",
       "4         15.0  \n",
       "5         14.0  \n",
       "6         14.0  \n",
       "7         14.0  \n",
       "8         14.0  \n",
       "9         13.0  "
      ]
     },
     "execution_count": 268,
     "metadata": {},
     "output_type": "execute_result"
    }
   ],
   "source": [
    "df_final"
   ]
  },
  {
   "cell_type": "code",
   "execution_count": 269,
   "metadata": {},
   "outputs": [],
   "source": [
    "import matplotlib.pyplot as plt"
   ]
  },
  {
   "cell_type": "code",
   "execution_count": 278,
   "metadata": {},
   "outputs": [
    {
     "data": {
      "image/png": "[encoded data removed]",
      "text/plain": [
       "<Figure size 1400x1000 with 1 Axes>"
      ]
     },
     "metadata": {},
     "output_type": "display_data"
    }
   ],
   "source": [
    "# Graficar el resultado usando un gráfico de barras apiladas con anotaciones de media y mediana\n",
    "x_labels = [f\" de la {i-1} a la {i}\" if i > 1 else f\"{i}: primera compra\" for i in range(1, max_orders + 1)]\n",
    "\n",
    "# Graficar el resultado usando un gráfico de barras apiladas con anotaciones de media y mediana\n",
    "plt.figure(figsize=(14, 10))\n",
    "bar_width = 0.6\n",
    "\n",
    "# Plotear las barras apiladas usando df_final\n",
    "for i in range(len(df_final)):\n",
    "    plt.bar(\n",
    "        df_final['order'][i], \n",
    "        df_final['followed_buying'][i], \n",
    "        color='red', \n",
    "        width=bar_width,\n",
    "        label='Siguen comprando' if i == 0 else \"\"\n",
    "    )\n",
    "    plt.bar(\n",
    "        df_final['order'][i], \n",
    "        df_final['stopped_buying'][i], \n",
    "        bottom=df_final['followed_buying'][i], \n",
    "        color='pink', \n",
    "        width=bar_width,\n",
    "        label='No siguen comprando' if i == 0 else \"\"\n",
    "    )\n",
    "for i in range(len(df_final)):\n",
    "    order = df_final['order'][i]\n",
    "    total_height = df_final['followed_buying'][i] + df_final['stopped_buying'][i]\n",
    "    \n",
    "    # Asegúrate de que haya suficiente espacio entre las anotaciones y las barras\n",
    "    plt.text(order, total_height + 200,  # Añadir un desplazamiento adicional para asegurar la visibilidad\n",
    "             f\"Media: {df_times['average_days'][i]:.1f}\\nMediana: {df_times['median_days'][i]:.1f}\",\n",
    "             ha='center', fontsize=11, color='black', weight='bold')\n",
    "\n",
    "plt.xlabel('Compras', fontsize=14)\n",
    "plt.ylabel('Número de PDVs', fontsize=14)\n",
    "plt.title('Evolución de PDVs a través de compras sucesivas', fontsize=16, pad=20)\n",
    "\n",
    "# Aplicar las nuevas etiquetas al eje x\n",
    "plt.xticks(range(1, max_orders + 1), x_labels, fontsize=12, rotation=45, ha='right')\n",
    "\n",
    "plt.yticks(range(0, 5001, 500), fontsize=12)\n",
    "plt.ylim(0, 5000)\n",
    "plt.legend(fontsize=12)\n",
    "\n",
    "plt.tight_layout()\n",
    "plt.show()"
   ]
  }
 ],
 "metadata": {
  "kernelspec": {
   "display_name": "b2b_env",
   "language": "python",
   "name": "python3"
  },
  "language_info": {
   "codemirror_mode": {
    "name": "ipython",
    "version": 3
   },
   "file_extension": ".py",
   "mimetype": "text/x-python",
   "name": "python",
   "nbconvert_exporter": "python",
   "pygments_lexer": "ipython3",
   "version": "3.11.1"
  }
 },
 "nbformat": 4,
 "nbformat_minor": 2
}
